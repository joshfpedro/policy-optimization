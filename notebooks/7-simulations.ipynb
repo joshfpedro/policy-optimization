{
 "cells": [
  {
   "cell_type": "code",
   "execution_count": 48,
   "metadata": {},
   "outputs": [
    {
     "name": "stdout",
     "output_type": "stream",
     "text": [
      "Number of Fields:  130\n"
     ]
    }
   ],
   "source": [
    "import plotly.express as px\n",
    "import pandas as pd\n",
    "import numpy as np\n",
    "import seaborn as sns\n",
    "import matplotlib.pyplot as plt\n",
    "\n",
    "# Import Data\n",
    "\n",
    "# Set print options to suppress scientific notation\n",
    "np.set_printoptions(suppress=True)\n",
    "\n",
    "year = 2017\n",
    "period = ['may-jun', 'jun-jul']\n",
    "\n",
    "# Import data\n",
    "if year == 2014:\n",
    "    X = np.load('../data/processed/data_2014.npz')\n",
    "\n",
    "elif year == 2015:\n",
    "    X = np.load('../data/processed/data_2015.npz')\n",
    "\n",
    "elif year == 2016:\n",
    "    X = np.load('../data/processed/data_2016.npz')\n",
    "    \n",
    "elif year == 2017:\n",
    "    X = np.load('../data/processed/data_2017.npz')\n",
    "\n",
    "N = X['N']\n",
    "\n",
    "dist = X['distance']\n",
    "#tI1 = X['tI1'].reshape(N,1)\n",
    "#tI2 = X['tI2'].reshape(N,1)\n",
    "sI2 = X['sI2'].reshape(N,1)\n",
    "\n",
    "y_apr = X['y_apr'].reshape(N,1)\n",
    "y_may = X['y_may'].reshape(N,1)\n",
    "y_jun = X['y_jun'].reshape(N,1)\n",
    "y_jul = X['y_jul'].reshape(N,1)\n",
    "\n",
    "n_apr = X['n_apr'].reshape(N,1)\n",
    "n_may = X['n_may'].reshape(N,1)\n",
    "n_jun = X['n_jun'].reshape(N,1)\n",
    "n_jul = X['n_jul'].reshape(N,1)\n",
    "\n",
    "a_apr = X['a_apr'].reshape(N,1)\n",
    "a_may = X['a_may'].reshape(N,1)\n",
    "a_jun = X['a_jun'].reshape(N,1)\n",
    "a_jul = X['a_jul'].reshape(N,1)\n",
    "\n",
    "w_apr = X['wind_apr']\n",
    "w_may = X['wind_may']\n",
    "w_jun = X['wind_jun']\n",
    "w_jul = X['wind_jul']\n",
    "\n",
    "sI1_apr = X['sI1_apr'].reshape(N,1)\n",
    "sI1_may = X['sI1_may'].reshape(N,1)\n",
    "sI1_jun = X['sI1_jun'].reshape(N,1)\n",
    "sI1_jul = X['sI1_jul'].reshape(N,1)\n",
    "\n",
    "s_apr = X['s_apr'].reshape(N,1)\n",
    "s_may = X['s_may'].reshape(N,1)\n",
    "s_jun = X['s_jun'].reshape(N,1)\n",
    "s_jul = X['s_jul'].reshape(N,1)\n",
    "\n",
    "# Convert to float64\n",
    "dist = dist.astype(np.float64)\n",
    "#tI1 = tI1.astype(np.float64)\n",
    "#tI2 = tI2.astype(np.float64)\n",
    "sI2 = sI2.astype(np.float64)\n",
    "\n",
    "y_apr = y_apr.astype(np.float64)\n",
    "y_may = y_may.astype(np.float64)\n",
    "y_jun = y_jun.astype(np.float64)\n",
    "y_jul = y_jul.astype(np.float64)\n",
    "\n",
    "n_apr = n_apr.astype(np.float64)\n",
    "n_may = n_may.astype(np.float64)\n",
    "n_jun = n_jun.astype(np.float64)\n",
    "n_jul = n_jul.astype(np.float64)\n",
    "\n",
    "a_apr = a_apr.astype(np.float64)\n",
    "a_may = a_may.astype(np.float64)\n",
    "a_jun = a_jun.astype(np.float64)\n",
    "a_jul = a_jul.astype(np.float64)\n",
    "\n",
    "w_apr = w_apr.astype(np.float64)\n",
    "w_may = w_may.astype(np.float64)\n",
    "w_jun = w_jun.astype(np.float64)\n",
    "w_jul = w_jul.astype(np.float64)\n",
    "\n",
    "sI1_apr = sI1_apr.astype(np.float64)\n",
    "sI1_may = sI1_may.astype(np.float64)\n",
    "sI1_jun = sI1_jun.astype(np.float64)\n",
    "sI1_jul = sI1_jul.astype(np.float64)\n",
    "\n",
    "s_apr = s_apr.astype(np.float64)\n",
    "s_may = s_may.astype(np.float64)\n",
    "s_jun = s_jun.astype(np.float64)\n",
    "s_jul = s_jul.astype(np.float64)\n",
    "\n",
    "\n",
    "# Function to normalize the data\n",
    "def norm(x):\n",
    "    \n",
    "    return (x - np.min(x)) / (np.max(x) - np.min(x))\n",
    "\n",
    "# Normalize the data\n",
    "dist = norm(dist)\n",
    "\n",
    "a_apr = norm(a_apr)\n",
    "a_may = norm(a_may)\n",
    "a_jun = norm(a_jun)\n",
    "a_jul = norm(a_jul)\n",
    "\n",
    "\n",
    "# Import Paramaters\n",
    "\n",
    "if year == 2014:\n",
    "    \n",
    "    theta_may_jun = np.load('../reports/parameters/theta_may-jun_2014.npy', allow_pickle=True)\n",
    "    theta_jun_jul = np.load('../reports/parameters/theta_jun-jul_2014.npy', allow_pickle=True)\n",
    "    \n",
    "elif year == 2015:\n",
    "    \n",
    "    theta_may_jun = np.load('../reports/parameters/theta_may-jun_2015.npy', allow_pickle=True)\n",
    "    theta_jun_jul = np.load('../reports/parameters/theta_jun-jul_2015.npy', allow_pickle=True)\n",
    "    \n",
    "elif year == 2016:\n",
    "    \n",
    "    theta_may_jun = np.load('../reports/parameters/theta_may-jun_2016.npy', allow_pickle=True)\n",
    "    theta_jun_jul = np.load('../reports/parameters/theta_jun-jul_2016.npy', allow_pickle=True)\n",
    "    \n",
    "elif year == 2017:\n",
    "    \n",
    "    theta_may_jun = np.load('../reports/parameters/theta_may-jun_2017_1_1.npy', allow_pickle=True)\n",
    "    theta_jun_jul = np.load('../reports/parameters/theta_jun-jul_2017_1_1.npy', allow_pickle=True)\n",
    "\n",
    "# Safe exponential function\n",
    "def safe_exp(x):\n",
    "    \"\"\"Prevent overflow of exponential function.\"\"\"\n",
    "    # np.finfo('d').max is the maximum representable positive number\n",
    "    # np.log(np.finfo('d').max) is the maximum number that can be exponentiated without overflow\n",
    "    # We clamp x to this range before taking the exponent\n",
    "    x = np.clip(x, None, np.log(np.finfo('d').max))\n",
    "    return np.exp(x)\n",
    "\n",
    "# Define the function eta() which takes input parameters theta and returns the log-odds of disease for each yard i in current time period\n",
    "def eta(theta, period, y_lag):\n",
    "    \n",
    "    y_lag = y_lag\n",
    "    \n",
    "    if period == 'may-jun':\n",
    "\n",
    "        #y_lag = y_may\n",
    "        n_lag = n_may\n",
    "        a_lag = a_may\n",
    "        w_lag = w_may\n",
    "        sI1_lag = sI1_may\n",
    "        s_lag = s_may\n",
    "\n",
    "    elif period == 'jun-jul':\n",
    "        \n",
    "        #y_lag = y_jun\n",
    "        n_lag = n_jun\n",
    "        a_lag = a_jun\n",
    "        w_lag = w_jun\n",
    "        sI1_lag = sI1_jun\n",
    "        s_lag = s_jun\n",
    "    \n",
    "    eta = []\n",
    "        \n",
    "    beta1, beta2, delta1, delta2, gamma1, gamma2, alpha1, alpha2, eta11, eta12, eta21, eta22 = theta\n",
    "    \n",
    "    for i in range(0, N):\n",
    "    \n",
    "        auto_infection1 = beta1 + delta1 * (y_lag[i] / n_lag[i]) * np.exp(-eta11 * s_lag[i])\n",
    "        auto_infection2 = beta2 + delta2 * (y_lag[i] / n_lag[i]) * np.exp(-eta12 * s_lag[i])\n",
    "\n",
    "        mask = np.arange(N) != i # mask out the current yard i\n",
    "        \n",
    "        dispersal_component1 = gamma1 * np.sum(((a_lag[mask] * (y_lag[mask] / n_lag[mask])) * np.exp(-eta21 * s_lag[mask]) * (w_lag[:, i][mask].reshape(N-1, 1) * np.exp(-alpha1 * dist[:, i][mask].reshape(N-1, 1))) * sI1_lag[mask]))\n",
    "        dispersal_component2 = gamma2 * np.sum(((a_lag[mask] * (y_lag[mask] / n_lag[mask])) * np.exp(-eta22 * s_lag[mask]) * (w_lag[:, i][mask].reshape(N-1, 1) * np.exp(-alpha2 * dist[:, i][mask].reshape(N-1, 1))) * sI2[mask]))\n",
    "    \n",
    "        eta_i = tI1[i] * (auto_infection1 + dispersal_component1) + tI2[i] * (auto_infection2 + dispersal_component2)\n",
    "        eta.append(eta_i)\n",
    "    \n",
    "    eta = np.array(eta).reshape(N,1)\n",
    "    \n",
    "    return eta\n",
    "\n",
    "\n",
    "\n",
    "# Probability Function\n",
    "\n",
    "def prob(theta, period, y_lag):\n",
    "    \n",
    "    p = 1 / (1 + np.exp(-eta(theta, period, y_lag)))\n",
    "    \n",
    "    for i in range(0, N):\n",
    "    \n",
    "        if y_lag[i, 0] == 0.0:\n",
    "            \n",
    "            p[i, 0] = 0.0    \n",
    "    \n",
    "    return p\n",
    "\n",
    "def prob1(theta, period, y_lag):\n",
    "    \n",
    "    p = 1 / (1 + np.exp(-eta(theta, period, y_lag))) \n",
    "    \n",
    "    return p\n",
    "\n",
    "def prob(theta, period, y_lag):\n",
    "    \n",
    "    p = 1 / (1 + np.exp(-eta(theta, period, y_lag)))\n",
    "    \n",
    "    for i in range(0, N):\n",
    "    \n",
    "        if np.sum(y_lag) == 0.0:\n",
    "            \n",
    "            p[i, 0] = 0.0    \n",
    "    \n",
    "    return p\n",
    "\n",
    "\n",
    "# USE LOG SUM EXP TRICK FOR NUMERICAL STABILITY\n",
    "#def prob(theta, period, y_lag):\n",
    "    # Calculate the log-odds\n",
    "#    log_odds = eta(theta, period, y_lag)\n",
    "    \n",
    "    # Apply the log-sum-exp trick\n",
    "#    max_log_odds = np.max(log_odds)\n",
    "#    log_prob = log_odds - max_log_odds\n",
    "#    exp_log_prob = np.exp(log_prob)\n",
    "#    log_sum_exp = np.sum(exp_log_prob)\n",
    "#    log_prob_normalized = log_prob - np.log(log_sum_exp)\n",
    "    \n",
    "    # Convert back to probabilities\n",
    "#    prob = np.exp(log_prob_normalized)\n",
    "    \n",
    "    \n",
    "    \n",
    "#    return prob\n",
    "\n",
    "\n",
    "# Read data from CSV file into a pandas DataFrame\n",
    "df = pd.read_csv('../data/processed/cost_data.csv', encoding='utf-8')\n",
    "\n",
    "# Use the dataframe to create a scatter_geo plot\n",
    "#fig = px.scatter_geo(df, lat='Centroid Lat', lon='Centroid Long',\n",
    "#                     projection=\"natural earth\")\n",
    "\n",
    "fig = px.scatter_mapbox(df[df['Year'] == year], lat='Centroid Lat', lon='Centroid Long', hover_name=\"Field ID\", hover_data=[\"Grower\"],\n",
    "                        color_discrete_sequence=[\"blue\"], zoom=10, height=500)\n",
    "fig.update_layout(mapbox_style=\"open-street-map\")\n",
    "fig.update_layout(margin={\"r\":0,\"t\":0,\"l\":0,\"b\":0})\n",
    "\n",
    "print('Number of Fields: ', N)\n",
    "#fig.show()"
   ]
  },
  {
   "cell_type": "code",
   "execution_count": 43,
   "metadata": {},
   "outputs": [],
   "source": [
    "theta_test = np.array([[    0],\n",
    "       [    0],\n",
    "       [-2026.35615832],\n",
    "       [   34.42700692],\n",
    "       [-6426.03181707],\n",
    "       [-9151.57587311],\n",
    "       [   -4.6077295 ],\n",
    "       [   -4.940867  ],\n",
    "       [ 2184.36919864],\n",
    "       [   -1.11189887],\n",
    "       [   -0.4499415 ],\n",
    "       [    0.17128957]])"
   ]
  },
  {
   "cell_type": "code",
   "execution_count": 45,
   "metadata": {},
   "outputs": [
    {
     "data": {
      "text/plain": [
       "array([[    2.76562828],\n",
       "       [    0.38540121],\n",
       "       [-2026.35615832],\n",
       "       [   34.42700692],\n",
       "       [-6426.03181707],\n",
       "       [-9151.57587311],\n",
       "       [   -4.6077295 ],\n",
       "       [   -4.940867  ],\n",
       "       [ 2184.36919864],\n",
       "       [   -1.11189887],\n",
       "       [   -0.4499415 ],\n",
       "       [    0.17128957]])"
      ]
     },
     "execution_count": 45,
     "metadata": {},
     "output_type": "execute_result"
    }
   ],
   "source": [
    "theta_may_jun"
   ]
  },
  {
   "cell_type": "code",
   "execution_count": 47,
   "metadata": {},
   "outputs": [
    {
     "data": {
      "text/plain": [
       "array([[0.],\n",
       "       [0.],\n",
       "       [0.],\n",
       "       [0.],\n",
       "       [0.],\n",
       "       [0.],\n",
       "       [0.],\n",
       "       [0.],\n",
       "       [0.],\n",
       "       [0.],\n",
       "       [0.],\n",
       "       [0.],\n",
       "       [0.],\n",
       "       [0.],\n",
       "       [0.],\n",
       "       [0.],\n",
       "       [0.],\n",
       "       [0.],\n",
       "       [0.],\n",
       "       [0.],\n",
       "       [0.],\n",
       "       [0.],\n",
       "       [0.],\n",
       "       [0.],\n",
       "       [0.],\n",
       "       [0.],\n",
       "       [0.],\n",
       "       [0.],\n",
       "       [0.],\n",
       "       [0.],\n",
       "       [0.],\n",
       "       [0.],\n",
       "       [0.],\n",
       "       [0.],\n",
       "       [0.],\n",
       "       [0.],\n",
       "       [0.],\n",
       "       [0.],\n",
       "       [0.],\n",
       "       [0.],\n",
       "       [0.],\n",
       "       [0.],\n",
       "       [0.],\n",
       "       [0.],\n",
       "       [0.],\n",
       "       [0.],\n",
       "       [0.],\n",
       "       [0.],\n",
       "       [0.],\n",
       "       [0.],\n",
       "       [0.],\n",
       "       [0.],\n",
       "       [0.],\n",
       "       [0.],\n",
       "       [0.],\n",
       "       [0.],\n",
       "       [0.],\n",
       "       [0.],\n",
       "       [0.],\n",
       "       [0.],\n",
       "       [0.],\n",
       "       [0.],\n",
       "       [0.],\n",
       "       [0.],\n",
       "       [0.],\n",
       "       [0.],\n",
       "       [0.],\n",
       "       [0.],\n",
       "       [0.],\n",
       "       [0.],\n",
       "       [0.],\n",
       "       [0.],\n",
       "       [0.],\n",
       "       [0.],\n",
       "       [0.],\n",
       "       [0.],\n",
       "       [0.],\n",
       "       [0.],\n",
       "       [0.],\n",
       "       [0.],\n",
       "       [0.],\n",
       "       [0.],\n",
       "       [0.],\n",
       "       [0.],\n",
       "       [0.],\n",
       "       [0.],\n",
       "       [0.],\n",
       "       [0.],\n",
       "       [0.],\n",
       "       [0.],\n",
       "       [0.],\n",
       "       [0.],\n",
       "       [0.],\n",
       "       [0.],\n",
       "       [0.],\n",
       "       [0.],\n",
       "       [0.],\n",
       "       [0.],\n",
       "       [0.],\n",
       "       [0.],\n",
       "       [0.],\n",
       "       [0.],\n",
       "       [0.],\n",
       "       [0.],\n",
       "       [0.],\n",
       "       [0.],\n",
       "       [0.],\n",
       "       [0.],\n",
       "       [0.],\n",
       "       [0.],\n",
       "       [0.],\n",
       "       [0.],\n",
       "       [0.],\n",
       "       [0.],\n",
       "       [0.],\n",
       "       [0.],\n",
       "       [0.],\n",
       "       [0.],\n",
       "       [0.],\n",
       "       [0.],\n",
       "       [0.],\n",
       "       [0.],\n",
       "       [0.],\n",
       "       [0.],\n",
       "       [0.],\n",
       "       [0.],\n",
       "       [0.],\n",
       "       [0.],\n",
       "       [0.],\n",
       "       [0.]])"
      ]
     },
     "execution_count": 47,
     "metadata": {},
     "output_type": "execute_result"
    }
   ],
   "source": [
    "prob2(theta=theta_test, period='may-jun', y_lag=y_0_array[0])"
   ]
  },
  {
   "cell_type": "code",
   "execution_count": 3,
   "metadata": {},
   "outputs": [
    {
     "data": {
      "text/plain": [
       "array([[    2.76562828],\n",
       "       [    0.38540121],\n",
       "       [-2026.35615832],\n",
       "       [   34.42700692],\n",
       "       [-6426.03181707],\n",
       "       [-9151.57587311],\n",
       "       [   -4.6077295 ],\n",
       "       [   -4.940867  ],\n",
       "       [ 2184.36919864],\n",
       "       [   -1.11189887],\n",
       "       [   -0.4499415 ],\n",
       "       [    0.17128957]])"
      ]
     },
     "execution_count": 3,
     "metadata": {},
     "output_type": "execute_result"
    }
   ],
   "source": [
    "theta_may_jun"
   ]
  },
  {
   "cell_type": "code",
   "execution_count": 4,
   "metadata": {},
   "outputs": [
    {
     "data": {
      "text/plain": [
       "array([[ -3.27984287],\n",
       "       [ -1.88645822],\n",
       "       [ 13.99890895],\n",
       "       [ 14.97972467],\n",
       "       [-10.87910002],\n",
       "       [-39.35831275],\n",
       "       [ -2.06276433],\n",
       "       [  2.61942527],\n",
       "       [ -0.64336604],\n",
       "       [  0.20618654],\n",
       "       [ -0.68528102],\n",
       "       [ -1.46375126]])"
      ]
     },
     "execution_count": 4,
     "metadata": {},
     "output_type": "execute_result"
    }
   ],
   "source": [
    "theta_jun_jul"
   ]
  },
  {
   "attachments": {},
   "cell_type": "markdown",
   "metadata": {},
   "source": [
    "# Simulations"
   ]
  },
  {
   "cell_type": "code",
   "execution_count": 49,
   "metadata": {},
   "outputs": [
    {
     "data": {
      "image/png": "[encoded data removed]",
      "text/plain": [
       "<Figure size 700x600 with 1 Axes>"
      ]
     },
     "metadata": {},
     "output_type": "display_data"
    },
    {
     "data": {
      "image/png": "[encoded data removed]",
      "text/plain": [
       "<Figure size 700x600 with 1 Axes>"
      ]
     },
     "metadata": {},
     "output_type": "display_data"
    }
   ],
   "source": [
    "# Create synthetic landscape containing varieties\n",
    "\n",
    "# Create a numpy array of shape (N, 3) with randomly assigned values [0, 1, variety] and [1, 0, variety]\n",
    "arr = np.zeros((N, 3))\n",
    "\n",
    "if N % 2 == 0:\n",
    "    arr[:int(N/2), 0] = 1\n",
    "    arr[int(N/2):, 1] = 1\n",
    "    arr[:int(N/4), 2] = 0  # chinook\n",
    "    arr[int(N/4):int(N/2), 2] = 1  # simcoe\n",
    "    arr[int(N/2):int(3*N/4), 2] = 2  # mosaic\n",
    "    arr[int(3*N/4):, 2] = 3  # nugget\n",
    "else:\n",
    "    arr[:int((N+1)/2), 0] = 1\n",
    "    arr[int((N-1)/2):, 1] = 1\n",
    "    arr[:int((N+1)/4), 2] = 0  # chinook\n",
    "    arr[int((N+1)/4):int((N+1)/2), 2] = 1  # simcoe\n",
    "    arr[int((N-1)/2):int((3*N-1)/4), 2] = 2  # mosaic\n",
    "    arr[int((3*N-1)/4):, 2] = 3  # nugget\n",
    "\n",
    "# Shuffle the array\n",
    "np.random.shuffle(arr)\n",
    "\n",
    "# Split the columns into three (N, 1) arrays\n",
    "tI1 = arr[:, 0].reshape(N, 1)\n",
    "tI2 = arr[:, 1].reshape(N, 1)\n",
    "tI3 = arr[:, 2].reshape(N, 1)\n",
    "\n",
    "# Create a dictionary for plant varieties\n",
    "variety_dict = {0: 'chinook', 1: 'simcoe', 2: 'mosaic', 3: 'nugget'}\n",
    "\n",
    "# Replace plant variety numbers with their names\n",
    "variety_array = np.vectorize(variety_dict.get)(tI3)\n",
    "\n",
    "# Create a pandas DataFrame\n",
    "variety_df = pd.DataFrame(np.hstack([tI1, tI2, tI3]), columns=['Susceptibility1', 'Susceptibility2', 'Variety'])\n",
    "\n",
    "\n",
    "# Probability of initial flagshoots\n",
    "p_values = [0, 0.0001, 0.0002, 0.0003, 0.0004, 0.0005, 0.0006, 0.0007, 0.0008, 0.0009, 0.001, 0.0011, 0.0012]\n",
    "n_may = n_may.astype(int)\n",
    "simulations = 100\n",
    "\n",
    "y_0_list = []\n",
    "y_1_list = []\n",
    "y_2_list = []\n",
    "\n",
    "disease_prevalence_list = []\n",
    "disease_incidence_list = []\n",
    "\n",
    "for p_may in p_values:\n",
    "\n",
    "    for i in range(simulations):\n",
    "\n",
    "        # Create synthetic initial flagshoot array\n",
    "\n",
    "        y_0 = np.random.binomial(n_may, p_may, size=(N, 1))\n",
    "        y_0_list.append(y_0)\n",
    "        \n",
    "        y_1 = np.round(prob(theta_may_jun, period='may-jun', y_lag=y_0) * n_jun)\n",
    "        y_1_list.append(y_1)\n",
    "        \n",
    "        y_2 = np.round(prob(theta_jun_jul, period='jun-jul', y_lag=y_1) * n_jul)\n",
    "        y_2_list.append(y_2)\n",
    "        \n",
    "    y_0_array = np.array(y_0_list)\n",
    "    y_1_array = np.array(y_1_list)\n",
    "    y_2_array = np.array(y_2_list)\n",
    "    \n",
    "    \n",
    "    # Calculate disease prevalence and incidence\n",
    "    disease_prevalence = np.count_nonzero(y_0_array + y_1_array + y_2_array, axis=1) / N\n",
    "    disease_incidence = (np.mean((y_0_array / n_may), axis=1) + np.mean((y_1_array / n_jun), axis=1) + np.mean((y_2_array / n_jul), axis=1)) / 3\n",
    "    \n",
    "    \n",
    "    disease_prevalence_list.append(disease_prevalence)\n",
    "    disease_incidence_list.append(disease_incidence)\n",
    "    \n",
    "\n",
    "\n",
    "# Flatten the disease_incidence_list\n",
    "flat_disease_incidence_list = [item for sublist in disease_incidence_list for item in sublist.ravel()]\n",
    "\n",
    "# Repeat each p_value based on the number of simulations run for it\n",
    "p_values_repeated = []\n",
    "for i in range(len(p_values)):\n",
    "    p_values_repeated.extend([p_values[i]] * len(disease_incidence_list[i]))\n",
    "\n",
    "# Check if lengths are the same\n",
    "assert len(flat_disease_incidence_list) == len(p_values_repeated), \\\n",
    "    f\"Lengths do not match: {len(flat_disease_incidence_list)} vs {len(p_values_repeated)}\"\n",
    "\n",
    "# Convert list of arrays into DataFrame\n",
    "df = pd.DataFrame({\n",
    "    'p_value': p_values_repeated, \n",
    "    'disease_incidence': flat_disease_incidence_list\n",
    "})\n",
    "\n",
    "sns.set_theme(style=\"ticks\")\n",
    "\n",
    "# Initialize the figure\n",
    "f, ax = plt.subplots(figsize=(7, 6))\n",
    "\n",
    "# Plot the disease incidence with vertical boxes\n",
    "sns.boxplot(x='p_value', y='disease_incidence', data=df, whis=[2.5, 97.5], width=.6, palette=\"vlag\")\n",
    "\n",
    "# Add in points to show each observation\n",
    "sns.stripplot(x='p_value', y='disease_incidence', data=df, size=4, color=\".3\", linewidth=0, alpha=0.2)\n",
    "\n",
    "# Tweak the visual presentation\n",
    "ax.yaxis.grid(True)\n",
    "ax.set(xlabel=\"Initial probability of disease\", ylabel=\"Disease Incidence\")\n",
    "ax.set_title(\"Disease Incidence\")\n",
    "sns.despine(trim=True, bottom=True)\n",
    "plt.xticks(rotation=45)\n",
    "plt.show()\n",
    "\n",
    "\n",
    "# Flatten the disease_prevalence_list\n",
    "flat_disease_prevalence_list = [item for sublist in disease_prevalence_list for item in sublist.ravel()]\n",
    "\n",
    "# Repeat each p_value based on the number of simulations run for it\n",
    "p_values_repeated = []\n",
    "for i in range(len(p_values)):\n",
    "    p_values_repeated.extend([p_values[i]] * len(disease_prevalence_list[i]))\n",
    "\n",
    "# Check if lengths are the same\n",
    "assert len(flat_disease_prevalence_list) == len(p_values_repeated), \\\n",
    "    f\"Lengths do not match: {len(flat_disease_prevalence_list)} vs {len(p_values_repeated)}\"\n",
    "\n",
    "# Convert list of arrays into DataFrame\n",
    "df_prevalence = pd.DataFrame({\n",
    "    'p_value': p_values_repeated, \n",
    "    'disease_prevalence': flat_disease_prevalence_list\n",
    "})\n",
    "\n",
    "sns.set_theme(style=\"ticks\")\n",
    "\n",
    "# Initialize the figure\n",
    "f, ax = plt.subplots(figsize=(7, 6))\n",
    "\n",
    "# Plot the disease prevalence with vertical boxes\n",
    "sns.boxplot(x='p_value', y='disease_prevalence', data=df_prevalence, whis=[2.5, 97.5], width=.6, palette=\"vlag\")\n",
    "\n",
    "# Add in points to show each observation\n",
    "sns.stripplot(x='p_value', y='disease_prevalence', data=df_prevalence, size=4, color=\".3\", linewidth=0, alpha=0.5)\n",
    "\n",
    "# Tweak the visual presentation\n",
    "ax.yaxis.grid(True)\n",
    "ax.set(xlabel=\"Initial probability of disease\", ylabel=\"Disease Prevalence\")\n",
    "sns.despine(trim=True, bottom=True)\n",
    "ax.set_title(\"Disease Prevalence\")\n",
    "plt.xticks(rotation=45)\n",
    "plt.show()\n"
   ]
  },
  {
   "attachments": {},
   "cell_type": "markdown",
   "metadata": {},
   "source": [
    "# Disease prevalence and incidence for each period"
   ]
  },
  {
   "cell_type": "code",
   "execution_count": 50,
   "metadata": {},
   "outputs": [
    {
     "data": {
      "image/png": "[encoded data removed]",
      "text/plain": [
       "<Figure size 1000x700 with 1 Axes>"
      ]
     },
     "metadata": {},
     "output_type": "display_data"
    }
   ],
   "source": [
    "# Create synthetic landscape containing varieties\n",
    "\n",
    "# Create a numpy array of shape (N, 3) with randomly assigned values [0, 1, variety] and [1, 0, variety]\n",
    "arr = np.zeros((N, 3))\n",
    "\n",
    "if N % 2 == 0:\n",
    "    arr[:int(N/2), 0] = 1\n",
    "    arr[int(N/2):, 1] = 1\n",
    "    arr[:int(N/4), 2] = 0  # chinook\n",
    "    arr[int(N/4):int(N/2), 2] = 1  # simcoe\n",
    "    arr[int(N/2):int(3*N/4), 2] = 2  # mosaic\n",
    "    arr[int(3*N/4):, 2] = 3  # nugget\n",
    "else:\n",
    "    arr[:int((N+1)/2), 0] = 1\n",
    "    arr[int((N-1)/2):, 1] = 1\n",
    "    arr[:int((N+1)/4), 2] = 0  # chinook\n",
    "    arr[int((N+1)/4):int((N+1)/2), 2] = 1  # simcoe\n",
    "    arr[int((N-1)/2):int((3*N-1)/4), 2] = 2  # mosaic\n",
    "    arr[int((3*N-1)/4):, 2] = 3  # nugget\n",
    "\n",
    "# Shuffle the array\n",
    "np.random.shuffle(arr)\n",
    "\n",
    "# Split the columns into three (N, 1) arrays\n",
    "tI1 = arr[:, 0].reshape(N, 1)\n",
    "tI2 = arr[:, 1].reshape(N, 1)\n",
    "tI3 = arr[:, 2].reshape(N, 1)\n",
    "\n",
    "# Create a dictionary for plant varieties\n",
    "variety_dict = {0: 'chinook', 1: 'simcoe', 2: 'mosaic', 3: 'nugget'}\n",
    "\n",
    "# Replace plant variety numbers with their names\n",
    "variety_array = np.vectorize(variety_dict.get)(tI3)\n",
    "\n",
    "# Create a pandas DataFrame\n",
    "variety_df = pd.DataFrame(np.hstack([tI1, tI2, tI3]), columns=['Susceptibility1', 'Susceptibility2', 'Variety'])\n",
    "\n",
    "\n",
    "# Probability of initial flagshoots\n",
    "p_values = [0, 0.0001, 0.0002, 0.0003, 0.0004, 0.0005, 0.0006, 0.0007, 0.0008, 0.0009, 0.001, 0.0011, 0.0012]\n",
    "n_may = n_may.astype(int)\n",
    "simulations = 100\n",
    "\n",
    "y_0_list = []\n",
    "y_1_list = []\n",
    "y_2_list = []\n",
    "\n",
    "disease_prevalence_list_0 = []\n",
    "disease_prevalence_list_1 = []\n",
    "disease_prevalence_list_2 = []\n",
    "\n",
    "disease_incidence_list_0 = []\n",
    "disease_incidence_list_1 = []\n",
    "disease_incidence_list_2 = []\n",
    "\n",
    "for p_may in p_values:\n",
    "\n",
    "    for i in range(simulations):\n",
    "\n",
    "        # Create synthetic initial flagshoot array\n",
    "\n",
    "        y_0 = np.random.binomial(n_may, p_may, size=(N, 1))\n",
    "        y_0_list.append(y_0)\n",
    "        \n",
    "        y_1 = np.round(prob(theta_may_jun, period='may-jun', y_lag=y_0) * n_jun)\n",
    "        y_1_list.append(y_1)\n",
    "        \n",
    "        y_2 = np.round(prob(theta_jun_jul, period='jun-jul', y_lag=y_1) * n_jul)\n",
    "        y_2_list.append(y_2)\n",
    "        \n",
    "    y_0_array = np.array(y_0_list)\n",
    "    y_1_array = np.array(y_1_list)\n",
    "    y_2_array = np.array(y_2_list)\n",
    "    \n",
    "    \n",
    "    # Calculate disease prevalence and incidence\n",
    "    disease_prevalence_0 = np.count_nonzero(y_0_array, axis=1) / N\n",
    "    disease_prevalence_1 = np.count_nonzero(y_1_array, axis=1) / N\n",
    "    disease_prevalence_2 = np.count_nonzero(y_2_array, axis=1) / N\n",
    "    \n",
    "    disease_incidence_0 = np.mean((y_0_array / n_may), axis=1)\n",
    "    disease_incidence_1 = np.mean((y_1_array / n_jun), axis=1)\n",
    "    disease_incidence_2 = np.mean((y_2_array / n_jul), axis=1)\n",
    "    \n",
    "\n",
    "    disease_prevalence_list_0.append(disease_prevalence_0)\n",
    "    disease_prevalence_list_1.append(disease_prevalence_1)\n",
    "    disease_prevalence_list_2.append(disease_prevalence_2)\n",
    "\n",
    "    \n",
    "    disease_incidence_list_0.append(disease_incidence_0)\n",
    "    disease_incidence_list_1.append(disease_incidence_1)\n",
    "    disease_incidence_list_2.append(disease_incidence_2)\n",
    "    \n",
    "\n",
    "\n",
    "all_data = []\n",
    "for i, p_may in enumerate(p_values):\n",
    "    for prevalence_0 in disease_prevalence_list_0[i].flatten():\n",
    "        all_data.append([p_may, prevalence_0, 'May'])\n",
    "    for prevalence_1 in disease_prevalence_list_1[i].flatten():\n",
    "        all_data.append([p_may, prevalence_1, 'June'])\n",
    "    for prevalence_2 in disease_prevalence_list_2[i].flatten():\n",
    "        all_data.append([p_may, prevalence_2, 'July'])\n",
    "\n",
    "# Create a DataFrame\n",
    "df = pd.DataFrame(all_data, columns=['p_value', 'Disease Prevalence', 'Month'])\n",
    "\n",
    "\n",
    "# Plotting\n",
    "plt.figure(figsize=(10, 7))\n",
    "sns.boxplot(x='p_value', y='Disease Prevalence', hue='Month', data=df)\n",
    "plt.title('Disease Prevalence')\n",
    "plt.show()\n",
    "\n"
   ]
  },
  {
   "attachments": {},
   "cell_type": "markdown",
   "metadata": {},
   "source": [
    "## Summary statistics"
   ]
  },
  {
   "attachments": {},
   "cell_type": "markdown",
   "metadata": {},
   "source": [
    "### Disease incidence"
   ]
  },
  {
   "cell_type": "code",
   "execution_count": 193,
   "metadata": {},
   "outputs": [
    {
     "name": "stdout",
     "output_type": "stream",
     "text": [
      "Initial probability of disease:  0\n",
      "Median disease incidence:  0.005808\n",
      "Min disease incidence:  0.005808\n",
      "Max disease incidence:  0.005808\n",
      "2.5 percentile disease incidence:  0.005808\n",
      "97.5 percentile disease incidence:  0.005808\n"
     ]
    }
   ],
   "source": [
    "p_value = 0\n",
    "\n",
    "n_decimal = 6\n",
    "\n",
    "print('Initial probability of disease: ', p_values[p_value])\n",
    "\n",
    "# Print Median disease prevalence\n",
    "\n",
    "print('Median disease incidence: ', np.round(np.median(disease_incidence_list[p_value]), n_decimal))\n",
    "\n",
    "# Print min and max of disease prevalence\n",
    "\n",
    "print('Min disease incidence: ', np.round(np.min(disease_incidence_list[p_value]), n_decimal))\n",
    "print('Max disease incidence: ', np.round(np.max(disease_incidence_list[p_value]), n_decimal))\n",
    "\n",
    "# Print 2.5 and 97.5 percentile of disease prevalence\n",
    "print('2.5 percentile disease incidence: ', np.round(np.percentile(disease_incidence_list[p_value], 2.5), n_decimal))\n",
    "print('97.5 percentile disease incidence: ', np.round(np.percentile(disease_incidence_list[p_value], 97.5), n_decimal))"
   ]
  },
  {
   "attachments": {},
   "cell_type": "markdown",
   "metadata": {},
   "source": [
    "### Disease prevalence"
   ]
  },
  {
   "cell_type": "code",
   "execution_count": 196,
   "metadata": {},
   "outputs": [
    {
     "name": "stdout",
     "output_type": "stream",
     "text": [
      "Initial probability of disease:  0\n",
      "Median disease prevalence:  1.0\n",
      "Min disease prevalence:  1.0\n",
      "Max disease prevalence:  1.0\n",
      "2.5 percentile disease prevalence:  1.0\n",
      "97.5 percentile disease prevalence:  1.0\n"
     ]
    }
   ],
   "source": [
    "p_value = 0\n",
    "\n",
    "print('Initial probability of disease: ', p_values[p_value])\n",
    "\n",
    "# Print Median disease prevalence\n",
    "\n",
    "print('Median disease prevalence: ', np.round(np.median(disease_prevalence_list[p_value]), 4))\n",
    "\n",
    "# Print min and max of disease prevalence\n",
    "\n",
    "print('Min disease prevalence: ', np.round(np.min(disease_prevalence_list[p_value]), 4))\n",
    "print('Max disease prevalence: ', np.round(np.max(disease_prevalence_list[p_value]), 4))\n",
    "\n",
    "# Print 2.5 and 97.5 percentile of disease prevalence\n",
    "print('2.5 percentile disease prevalence: ', np.round(np.percentile(disease_prevalence_list[p_value], 2.5), 4))\n",
    "print('97.5 percentile disease prevalence: ', np.round(np.percentile(disease_prevalence_list[p_value], 97.5), 4))"
   ]
  },
  {
   "cell_type": "code",
   "execution_count": 146,
   "metadata": {},
   "outputs": [],
   "source": [
    "field_list = []\n",
    "lat_list = []\n",
    "long_list = []\n",
    "mildew_incidence_list = []\n",
    "grower_list = []\n",
    "period_list = []\n",
    "\n",
    "field_id = df.loc[df['Year'] == year, 'Field ID'].unique()\n",
    "\n",
    "periods = [0, 1, 2]\n",
    "\n",
    "for period in periods:\n",
    "    \n",
    "    for i in range(len(field_id)):\n",
    "        \n",
    "        field_list.append(field_id[i])\n",
    "        lat_list.append(df.loc[df['Field ID'] == field_id[i], 'Centroid Lat'].iloc[0])\n",
    "        long_list.append(df.loc[df['Field ID'] == field_id[i], 'Centroid Long'].iloc[0])\n",
    "        grower_list.append(df.loc[df['Field ID'] == field_id[i], 'Grower'].iloc[0])\n",
    "        period_list.append(period)\n",
    "        \n",
    "        if period == 0:\n",
    "            mildew_incidence_list.append(((np.mean(y_0_array, axis=1))[0] / n_may[i])[0])\n",
    "            \n",
    "        if period == 1:\n",
    "            mildew_incidence_list.append(((np.mean(y_1_array, axis=1))[0] / n_jun[i])[0])\n",
    "            \n",
    "        if period == 2:\n",
    "            mildew_incidence_list.append(((np.mean(y_2_array, axis=1))[0] / n_jul[i])[0])\n",
    "            \n",
    "synthetic_data = {\n",
    "    \"Field ID\" : field_list,\n",
    "    \"Period\" : period_list,\n",
    "    \"Centroid Lat\" : lat_list,\n",
    "    \"Centroid Long\" : long_list,\n",
    "    \"Grower\" : grower_list,\n",
    "    \"Mildew Incidence\" : mildew_incidence_list,\n",
    "}\n",
    "\n",
    "synthetic_data = pd.DataFrame(synthetic_data)"
   ]
  },
  {
   "cell_type": "code",
   "execution_count": 147,
   "metadata": {},
   "outputs": [
    {
     "name": "stdout",
     "output_type": "stream",
     "text": [
      "Number of Fields:  130\n"
     ]
    },
    {
     "data": {
      "application/vnd.plotly.v1+json": {
       "config": {
        "plotlyServerURL": "https://plot.ly"
       },
       "data": [
        {
         "coloraxis": "coloraxis",
         "customdata": [
          [
           "Annen",
           0.0001346153846153846
          ],
          [
           "Annen",
           0.0001346153846153846
          ],
          [
           "Annen",
           0.0001346153846153846
          ],
          [
           "Annen",
           0.0001346153846153846
          ],
          [
           "Annen",
           0.0001346153846153846
          ],
          [
           "Annen",
           0.0002692307692307692
          ],
          [
           "Annen",
           0.0001346153846153846
          ],
          [
           "Annen",
           0.0001346153846153846
          ],
          [
           "Annen",
           0.0001346153846153846
          ],
          [
           "Annen",
           0.0001346153846153846
          ],
          [
           "Annen",
           0.0001346153846153846
          ],
          [
           "Annen",
           0.0001346153846153846
          ],
          [
           "Annen",
           0.0001346153846153846
          ],
          [
           "Annen",
           0.0001346153846153846
          ],
          [
           "Annen",
           0.0001346153846153846
          ],
          [
           "Annen",
           0.0001346153846153846
          ],
          [
           "Annen",
           0.0001346153846153846
          ],
          [
           "Annen",
           0.0001346153846153846
          ],
          [
           "Annen",
           0.0001346153846153846
          ],
          [
           "Annen",
           0.0001346153846153846
          ],
          [
           "Annen",
           0.0001346153846153846
          ],
          [
           "Annen",
           0.0001346153846153846
          ],
          [
           "Annen",
           0.0002692307692307692
          ],
          [
           "Butsch",
           0.0001346153846153846
          ],
          [
           "Butsch",
           0.0001346153846153846
          ],
          [
           "Butsch",
           0.0001346153846153846
          ],
          [
           "Butsch",
           0.0001346153846153846
          ],
          [
           "Butsch",
           0.0001346153846153846
          ],
          [
           "Butsch",
           0.0001346153846153846
          ],
          [
           "Butsch",
           0.0001346153846153846
          ],
          [
           "Butsch",
           0.0001346153846153846
          ],
          [
           "Butsch",
           0.0001346153846153846
          ],
          [
           "Butsch",
           0.0001346153846153846
          ],
          [
           "Butsch",
           0.0001346153846153846
          ],
          [
           "Crosby",
           0.0001346153846153846
          ],
          [
           "Crosby",
           0.0001346153846153846
          ],
          [
           "Crosby",
           0.0001346153846153846
          ],
          [
           "Crosby",
           0.0001346153846153846
          ],
          [
           "Crosby",
           0.0001346153846153846
          ],
          [
           "Crosby",
           0.0001346153846153846
          ],
          [
           "Crosby",
           0.0001346153846153846
          ],
          [
           "Crosby",
           0.0001346153846153846
          ],
          [
           "Crosby",
           0.0001346153846153846
          ],
          [
           "Crosby",
           0.0001346153846153846
          ],
          [
           "Crosby",
           0.0001346153846153846
          ],
          [
           "Fobert",
           0.0001346153846153846
          ],
          [
           "Fobert",
           0.0001346153846153846
          ],
          [
           "Fobert",
           0.0001346153846153846
          ],
          [
           "Fobert",
           0.0001346153846153846
          ],
          [
           "Fobert",
           0.0001346153846153846
          ],
          [
           "Fobert",
           0.0001346153846153846
          ],
          [
           "Fobert",
           0.0001346153846153846
          ],
          [
           "Fobert",
           0.0001346153846153846
          ],
          [
           "Fobert",
           0.0001346153846153846
          ],
          [
           "Fobert",
           0.0001346153846153846
          ],
          [
           "Geschwill",
           0.0002692307692307692
          ],
          [
           "Geschwill",
           0.0001346153846153846
          ],
          [
           "Geschwill",
           0.0001346153846153846
          ],
          [
           "Geschwill",
           0.0001346153846153846
          ],
          [
           "Geschwill",
           0.0001346153846153846
          ],
          [
           "Geschwill",
           0.0001346153846153846
          ],
          [
           "Geschwill",
           0.0001346153846153846
          ],
          [
           "Geschwill",
           0.0001346153846153846
          ],
          [
           "Geschwill",
           0.0001346153846153846
          ],
          [
           "Geschwill",
           0.0001346153846153846
          ],
          [
           "Goschie",
           0.0001346153846153846
          ],
          [
           "Goschie",
           0.0001346153846153846
          ],
          [
           "Goschie",
           0.0001346153846153846
          ],
          [
           "Goschie",
           0.0001346153846153846
          ],
          [
           "Goschie",
           0.0001346153846153846
          ],
          [
           "Goschie",
           0.0001346153846153846
          ],
          [
           "Goschie",
           0.0001346153846153846
          ],
          [
           "Goschie",
           0.0001346153846153846
          ],
          [
           "Goschie",
           0.0001346153846153846
          ],
          [
           "Goschie",
           0.0001346153846153846
          ],
          [
           "Goschie",
           0.0001346153846153846
          ],
          [
           "Goschie",
           0.0001346153846153846
          ],
          [
           "Goschie",
           0.0001346153846153846
          ],
          [
           "Goschie",
           0.0001346153846153846
          ],
          [
           "Goschie",
           0.0001346153846153846
          ],
          [
           "Goschie",
           0.0001346153846153846
          ],
          [
           "Goschie",
           0.0001346153846153846
          ],
          [
           "Goschie",
           0.0002692307692307692
          ],
          [
           "Goschie",
           0.0001346153846153846
          ],
          [
           "Goschie",
           0.0001346153846153846
          ],
          [
           "Goschie",
           0.0001346153846153846
          ],
          [
           "Goschie",
           0.0001346153846153846
          ],
          [
           "Goschie",
           0.0001346153846153846
          ],
          [
           "Goschie",
           0.0001346153846153846
          ],
          [
           "Goschie",
           0.0001346153846153846
          ],
          [
           "Goschie",
           0.0001346153846153846
          ],
          [
           "Goschie",
           0.0001346153846153846
          ],
          [
           "Stauffer",
           0.0001346153846153846
          ],
          [
           "Stauffer",
           0.0001346153846153846
          ],
          [
           "Stauffer",
           0.0001346153846153846
          ],
          [
           "Stauffer",
           0.0001346153846153846
          ],
          [
           "Stauffer",
           0.0001346153846153846
          ],
          [
           "Stauffer",
           0.0001346153846153846
          ],
          [
           "Stauffer",
           0.0002692307692307692
          ],
          [
           "Stauffer",
           0.0001346153846153846
          ],
          [
           "Stauffer",
           0.0001346153846153846
          ],
          [
           "Stauffer",
           0.0002692307692307692
          ],
          [
           "Stauffer",
           0.0001346153846153846
          ],
          [
           "Stauffer",
           0.0001346153846153846
          ],
          [
           "Stauffer",
           0.0002692307692307692
          ],
          [
           "Sodbuster",
           0.0001346153846153846
          ],
          [
           "Stauffer",
           0.0001346153846153846
          ],
          [
           "Stauffer",
           0.0001346153846153846
          ],
          [
           "Stauffer",
           0.0001346153846153846
          ],
          [
           "Stauffer",
           0.0001346153846153846
          ],
          [
           "Stauffer",
           0.0001346153846153846
          ],
          [
           "Stauffer",
           0.0001346153846153846
          ],
          [
           "Stauffer",
           0.0001346153846153846
          ],
          [
           "Stauffer",
           0.0001346153846153846
          ],
          [
           "Stauffer",
           0.0001346153846153846
          ],
          [
           "Stauffer",
           0.0001346153846153846
          ],
          [
           "Stauffer",
           0.0001346153846153846
          ],
          [
           "Stauffer",
           0.0001346153846153846
          ],
          [
           "Stauffer",
           0.0001346153846153846
          ],
          [
           "Stauffer",
           0.0001346153846153846
          ],
          [
           "Stauffer",
           0.0001346153846153846
          ],
          [
           "Stauffer",
           0.0001346153846153846
          ],
          [
           "Stauffer",
           0.0001346153846153846
          ],
          [
           "Stauffer",
           0.0001346153846153846
          ],
          [
           "Stauffer",
           0.0001346153846153846
          ],
          [
           "Stauffer",
           0.0001346153846153846
          ],
          [
           "Stauffer",
           0.0001346153846153846
          ],
          [
           "Stauffer",
           0.0001346153846153846
          ],
          [
           "Stauffer",
           0.0001346153846153846
          ],
          [
           "Stauffer",
           0.0001346153846153846
          ]
         ],
         "hovertemplate": "<b>%{hovertext}</b><br><br>Period=0<br>log_mildew_incidence=%{z}<br>Centroid Lat=%{lat}<br>Centroid Long=%{lon}<br>Grower=%{customdata[0]}<br>Mildew Incidence=%{customdata[1]}<extra></extra>",
         "hovertext": [
          1,
          2,
          3,
          4,
          5,
          6,
          7,
          8,
          9,
          10,
          11,
          12,
          13,
          14,
          15,
          16,
          17,
          18,
          19,
          20,
          21,
          22,
          23,
          24,
          25,
          26,
          27,
          28,
          29,
          30,
          31,
          32,
          33,
          34,
          35,
          36,
          37,
          38,
          39,
          40,
          41,
          42,
          43,
          44,
          45,
          46,
          47,
          48,
          49,
          50,
          51,
          52,
          53,
          54,
          55,
          56,
          57,
          58,
          59,
          60,
          61,
          63,
          64,
          65,
          66,
          67,
          68,
          69,
          70,
          71,
          72,
          73,
          74,
          75,
          76,
          77,
          78,
          79,
          80,
          81,
          82,
          83,
          84,
          85,
          86,
          87,
          88,
          90,
          91,
          92,
          93,
          94,
          95,
          96,
          97,
          98,
          99,
          100,
          101,
          102,
          103,
          105,
          106,
          107,
          108,
          109,
          110,
          111,
          112,
          113,
          114,
          115,
          116,
          117,
          118,
          119,
          120,
          121,
          123,
          124,
          125,
          126,
          127,
          128,
          129,
          132,
          133,
          134,
          135,
          136
         ],
         "lat": [
          45.0405,
          45.0411,
          45.0405,
          45.0377,
          45.0412,
          45.0403,
          45.0377,
          45.0775,
          45.0775,
          45.0839,
          45.079,
          45.0842,
          45.0823,
          45.0839,
          45.0805,
          45.0405,
          45.0389,
          45.0375,
          45.0799,
          45.0826,
          45.0799,
          45.0412,
          45.0376,
          45.088,
          45.088,
          45.0833,
          45.0772,
          45.0771,
          45.08,
          45.0925,
          45.0936,
          45.0926,
          45.0891,
          45.0891,
          45.1684,
          45.2005,
          45.1654,
          45.1653,
          45.1672,
          45.1653,
          45.1685,
          45.1653,
          45.1659,
          45.1996,
          45.2025,
          45.1942,
          45.19,
          45.1928,
          45.1886,
          45.1932,
          45.1909,
          45.201,
          45.1994,
          45.189,
          45.1978,
          45.1173,
          45.1174,
          45.1173,
          45.1177,
          45.1179,
          45.1177,
          45.1176,
          45.1137,
          45.1144,
          45.1126,
          45.0342,
          45.0337,
          45.0348,
          45.0357,
          45.0318,
          45.0315,
          45.0336,
          45.0329,
          45.0334,
          45.0347,
          45.0293,
          45.0298,
          45.0295,
          45.0347,
          45.0254,
          45.0258,
          45.0258,
          45.0258,
          45.0221,
          45.0222,
          45.0213,
          45.0279,
          45.0293,
          45.0345,
          45.0394,
          45.0396,
          45.0293,
          45.1906,
          45.193,
          45.1964,
          45.1931,
          45.1898,
          45.1962,
          45.1864,
          45.1863,
          45.1905,
          45.1986,
          45.1879,
          45.1888,
          45.1865,
          45.0475226,
          45.1889,
          45.193,
          45.1964,
          45.1931,
          45.1898,
          45.1962,
          45.1864,
          45.1863,
          45.1905,
          45.1897,
          45.1986,
          45.18827534,
          45.1883,
          45.1865,
          45.193,
          45.1964,
          45.1931,
          45.1898,
          45.1962,
          45.1905,
          45.1897,
          45.1986,
          45.1883,
          45.1865
         ],
         "lon": [
          -122.7772,
          -122.7766,
          -122.7778,
          -122.7779,
          -122.7753,
          -122.7818,
          -122.7771,
          -122.7656,
          -122.7656,
          -122.7614,
          -122.7666,
          -122.7656,
          -122.7666,
          -122.763,
          -122.7666,
          -122.7794,
          -122.7739,
          -122.7815,
          -122.7262,
          -122.7274,
          -122.7239,
          -122.7729,
          -122.779,
          -122.7392,
          -122.742,
          -122.7513,
          -122.7606,
          -122.7557,
          -122.7407,
          -122.7523,
          -122.7569,
          -122.7473,
          -122.7526,
          -122.7476,
          -122.8832,
          -122.9142,
          -122.8855,
          -122.8751,
          -122.8792,
          -122.8751,
          -122.9058,
          -122.8815,
          -122.8885,
          -122.8464,
          -122.8443,
          -122.7664,
          -122.7621,
          -122.766,
          -122.7619,
          -122.7715,
          -122.7707,
          -122.7725,
          -122.774,
          -122.7707,
          -122.7726,
          -122.8455,
          -122.8464,
          -122.845,
          -122.8433,
          -122.8399,
          -122.8353,
          -122.8266,
          -122.83,
          -122.8564,
          -122.8533,
          -122.7408,
          -122.7402,
          -122.7418,
          -122.7439,
          -122.7581,
          -122.7704,
          -122.7675,
          -122.7636,
          -122.7654,
          -122.7603,
          -122.7503,
          -122.7519,
          -122.7542,
          -122.7603,
          -122.7648,
          -122.7621,
          -122.7599,
          -122.7569,
          -122.7615,
          -122.7646,
          -122.7666,
          -122.7664,
          -122.7696,
          -122.8018,
          -122.8026,
          -122.8043,
          -122.7696,
          -122.7753,
          -122.7746,
          -122.7797,
          -122.7852,
          -122.7861,
          -122.7851,
          -122.786,
          -122.7811,
          -122.7928,
          -122.78,
          -122.791,
          -122.791,
          -122.7907,
          -123.0018704,
          -122.7755,
          -122.7746,
          -122.7797,
          -122.7852,
          -122.7861,
          -122.7851,
          -122.786,
          -122.7811,
          -122.7928,
          -122.7802,
          -122.78,
          -122.7910425,
          -122.791,
          -122.7907,
          -122.7746,
          -122.7797,
          -122.7852,
          -122.7861,
          -122.7851,
          -122.7928,
          -122.7802,
          -122.78,
          -122.791,
          -122.7907
         ],
         "name": "",
         "radius": 10,
         "subplot": "mapbox",
         "type": "densitymapbox",
         "z": [
          -8.912346267147193,
          -8.912346267147193,
          -8.912346267147193,
          -8.912346267147193,
          -8.912346267147193,
          -8.219570308339394,
          -8.912346267147193,
          -8.912346267147193,
          -8.912346267147193,
          -8.912346267147193,
          -8.912346267147193,
          -8.912346267147193,
          -8.912346267147193,
          -8.912346267147193,
          -8.912346267147193,
          -8.912346267147193,
          -8.912346267147193,
          -8.912346267147193,
          -8.912346267147193,
          -8.912346267147193,
          -8.912346267147193,
          -8.912346267147193,
          -8.219570308339394,
          -8.912346267147193,
          -8.912346267147193,
          -8.912346267147193,
          -8.912346267147193,
          -8.912346267147193,
          -8.912346267147193,
          -8.912346267147193,
          -8.912346267147193,
          -8.912346267147193,
          -8.912346267147193,
          -8.912346267147193,
          -8.912346267147193,
          -8.912346267147193,
          -8.912346267147193,
          -8.912346267147193,
          -8.912346267147193,
          -8.912346267147193,
          -8.912346267147193,
          -8.912346267147193,
          -8.912346267147193,
          -8.912346267147193,
          -8.912346267147193,
          -8.912346267147193,
          -8.912346267147193,
          -8.912346267147193,
          -8.912346267147193,
          -8.912346267147193,
          -8.912346267147193,
          -8.912346267147193,
          -8.912346267147193,
          -8.912346267147193,
          -8.912346267147193,
          -8.219570308339394,
          -8.912346267147193,
          -8.912346267147193,
          -8.912346267147193,
          -8.912346267147193,
          -8.912346267147193,
          -8.912346267147193,
          -8.912346267147193,
          -8.912346267147193,
          -8.912346267147193,
          -8.912346267147193,
          -8.912346267147193,
          -8.912346267147193,
          -8.912346267147193,
          -8.912346267147193,
          -8.912346267147193,
          -8.912346267147193,
          -8.912346267147193,
          -8.912346267147193,
          -8.912346267147193,
          -8.912346267147193,
          -8.912346267147193,
          -8.912346267147193,
          -8.912346267147193,
          -8.912346267147193,
          -8.912346267147193,
          -8.912346267147193,
          -8.219570308339394,
          -8.912346267147193,
          -8.912346267147193,
          -8.912346267147193,
          -8.912346267147193,
          -8.912346267147193,
          -8.912346267147193,
          -8.912346267147193,
          -8.912346267147193,
          -8.912346267147193,
          -8.912346267147193,
          -8.912346267147193,
          -8.912346267147193,
          -8.912346267147193,
          -8.912346267147193,
          -8.912346267147193,
          -8.219570308339394,
          -8.912346267147193,
          -8.912346267147193,
          -8.219570308339394,
          -8.912346267147193,
          -8.912346267147193,
          -8.219570308339394,
          -8.912346267147193,
          -8.912346267147193,
          -8.912346267147193,
          -8.912346267147193,
          -8.912346267147193,
          -8.912346267147193,
          -8.912346267147193,
          -8.912346267147193,
          -8.912346267147193,
          -8.912346267147193,
          -8.912346267147193,
          -8.912346267147193,
          -8.912346267147193,
          -8.912346267147193,
          -8.912346267147193,
          -8.912346267147193,
          -8.912346267147193,
          -8.912346267147193,
          -8.912346267147193,
          -8.912346267147193,
          -8.912346267147193,
          -8.912346267147193,
          -8.912346267147193,
          -8.912346267147193,
          -8.912346267147193
         ]
        }
       ],
       "frames": [
        {
         "data": [
          {
           "coloraxis": "coloraxis",
           "customdata": [
            [
             "Annen",
             0.0001346153846153846
            ],
            [
             "Annen",
             0.0001346153846153846
            ],
            [
             "Annen",
             0.0001346153846153846
            ],
            [
             "Annen",
             0.0001346153846153846
            ],
            [
             "Annen",
             0.0001346153846153846
            ],
            [
             "Annen",
             0.0002692307692307692
            ],
            [
             "Annen",
             0.0001346153846153846
            ],
            [
             "Annen",
             0.0001346153846153846
            ],
            [
             "Annen",
             0.0001346153846153846
            ],
            [
             "Annen",
             0.0001346153846153846
            ],
            [
             "Annen",
             0.0001346153846153846
            ],
            [
             "Annen",
             0.0001346153846153846
            ],
            [
             "Annen",
             0.0001346153846153846
            ],
            [
             "Annen",
             0.0001346153846153846
            ],
            [
             "Annen",
             0.0001346153846153846
            ],
            [
             "Annen",
             0.0001346153846153846
            ],
            [
             "Annen",
             0.0001346153846153846
            ],
            [
             "Annen",
             0.0001346153846153846
            ],
            [
             "Annen",
             0.0001346153846153846
            ],
            [
             "Annen",
             0.0001346153846153846
            ],
            [
             "Annen",
             0.0001346153846153846
            ],
            [
             "Annen",
             0.0001346153846153846
            ],
            [
             "Annen",
             0.0002692307692307692
            ],
            [
             "Butsch",
             0.0001346153846153846
            ],
            [
             "Butsch",
             0.0001346153846153846
            ],
            [
             "Butsch",
             0.0001346153846153846
            ],
            [
             "Butsch",
             0.0001346153846153846
            ],
            [
             "Butsch",
             0.0001346153846153846
            ],
            [
             "Butsch",
             0.0001346153846153846
            ],
            [
             "Butsch",
             0.0001346153846153846
            ],
            [
             "Butsch",
             0.0001346153846153846
            ],
            [
             "Butsch",
             0.0001346153846153846
            ],
            [
             "Butsch",
             0.0001346153846153846
            ],
            [
             "Butsch",
             0.0001346153846153846
            ],
            [
             "Crosby",
             0.0001346153846153846
            ],
            [
             "Crosby",
             0.0001346153846153846
            ],
            [
             "Crosby",
             0.0001346153846153846
            ],
            [
             "Crosby",
             0.0001346153846153846
            ],
            [
             "Crosby",
             0.0001346153846153846
            ],
            [
             "Crosby",
             0.0001346153846153846
            ],
            [
             "Crosby",
             0.0001346153846153846
            ],
            [
             "Crosby",
             0.0001346153846153846
            ],
            [
             "Crosby",
             0.0001346153846153846
            ],
            [
             "Crosby",
             0.0001346153846153846
            ],
            [
             "Crosby",
             0.0001346153846153846
            ],
            [
             "Fobert",
             0.0001346153846153846
            ],
            [
             "Fobert",
             0.0001346153846153846
            ],
            [
             "Fobert",
             0.0001346153846153846
            ],
            [
             "Fobert",
             0.0001346153846153846
            ],
            [
             "Fobert",
             0.0001346153846153846
            ],
            [
             "Fobert",
             0.0001346153846153846
            ],
            [
             "Fobert",
             0.0001346153846153846
            ],
            [
             "Fobert",
             0.0001346153846153846
            ],
            [
             "Fobert",
             0.0001346153846153846
            ],
            [
             "Fobert",
             0.0001346153846153846
            ],
            [
             "Geschwill",
             0.0002692307692307692
            ],
            [
             "Geschwill",
             0.0001346153846153846
            ],
            [
             "Geschwill",
             0.0001346153846153846
            ],
            [
             "Geschwill",
             0.0001346153846153846
            ],
            [
             "Geschwill",
             0.0001346153846153846
            ],
            [
             "Geschwill",
             0.0001346153846153846
            ],
            [
             "Geschwill",
             0.0001346153846153846
            ],
            [
             "Geschwill",
             0.0001346153846153846
            ],
            [
             "Geschwill",
             0.0001346153846153846
            ],
            [
             "Geschwill",
             0.0001346153846153846
            ],
            [
             "Goschie",
             0.0001346153846153846
            ],
            [
             "Goschie",
             0.0001346153846153846
            ],
            [
             "Goschie",
             0.0001346153846153846
            ],
            [
             "Goschie",
             0.0001346153846153846
            ],
            [
             "Goschie",
             0.0001346153846153846
            ],
            [
             "Goschie",
             0.0001346153846153846
            ],
            [
             "Goschie",
             0.0001346153846153846
            ],
            [
             "Goschie",
             0.0001346153846153846
            ],
            [
             "Goschie",
             0.0001346153846153846
            ],
            [
             "Goschie",
             0.0001346153846153846
            ],
            [
             "Goschie",
             0.0001346153846153846
            ],
            [
             "Goschie",
             0.0001346153846153846
            ],
            [
             "Goschie",
             0.0001346153846153846
            ],
            [
             "Goschie",
             0.0001346153846153846
            ],
            [
             "Goschie",
             0.0001346153846153846
            ],
            [
             "Goschie",
             0.0001346153846153846
            ],
            [
             "Goschie",
             0.0001346153846153846
            ],
            [
             "Goschie",
             0.0002692307692307692
            ],
            [
             "Goschie",
             0.0001346153846153846
            ],
            [
             "Goschie",
             0.0001346153846153846
            ],
            [
             "Goschie",
             0.0001346153846153846
            ],
            [
             "Goschie",
             0.0001346153846153846
            ],
            [
             "Goschie",
             0.0001346153846153846
            ],
            [
             "Goschie",
             0.0001346153846153846
            ],
            [
             "Goschie",
             0.0001346153846153846
            ],
            [
             "Goschie",
             0.0001346153846153846
            ],
            [
             "Goschie",
             0.0001346153846153846
            ],
            [
             "Stauffer",
             0.0001346153846153846
            ],
            [
             "Stauffer",
             0.0001346153846153846
            ],
            [
             "Stauffer",
             0.0001346153846153846
            ],
            [
             "Stauffer",
             0.0001346153846153846
            ],
            [
             "Stauffer",
             0.0001346153846153846
            ],
            [
             "Stauffer",
             0.0001346153846153846
            ],
            [
             "Stauffer",
             0.0002692307692307692
            ],
            [
             "Stauffer",
             0.0001346153846153846
            ],
            [
             "Stauffer",
             0.0001346153846153846
            ],
            [
             "Stauffer",
             0.0002692307692307692
            ],
            [
             "Stauffer",
             0.0001346153846153846
            ],
            [
             "Stauffer",
             0.0001346153846153846
            ],
            [
             "Stauffer",
             0.0002692307692307692
            ],
            [
             "Sodbuster",
             0.0001346153846153846
            ],
            [
             "Stauffer",
             0.0001346153846153846
            ],
            [
             "Stauffer",
             0.0001346153846153846
            ],
            [
             "Stauffer",
             0.0001346153846153846
            ],
            [
             "Stauffer",
             0.0001346153846153846
            ],
            [
             "Stauffer",
             0.0001346153846153846
            ],
            [
             "Stauffer",
             0.0001346153846153846
            ],
            [
             "Stauffer",
             0.0001346153846153846
            ],
            [
             "Stauffer",
             0.0001346153846153846
            ],
            [
             "Stauffer",
             0.0001346153846153846
            ],
            [
             "Stauffer",
             0.0001346153846153846
            ],
            [
             "Stauffer",
             0.0001346153846153846
            ],
            [
             "Stauffer",
             0.0001346153846153846
            ],
            [
             "Stauffer",
             0.0001346153846153846
            ],
            [
             "Stauffer",
             0.0001346153846153846
            ],
            [
             "Stauffer",
             0.0001346153846153846
            ],
            [
             "Stauffer",
             0.0001346153846153846
            ],
            [
             "Stauffer",
             0.0001346153846153846
            ],
            [
             "Stauffer",
             0.0001346153846153846
            ],
            [
             "Stauffer",
             0.0001346153846153846
            ],
            [
             "Stauffer",
             0.0001346153846153846
            ],
            [
             "Stauffer",
             0.0001346153846153846
            ],
            [
             "Stauffer",
             0.0001346153846153846
            ],
            [
             "Stauffer",
             0.0001346153846153846
            ],
            [
             "Stauffer",
             0.0001346153846153846
            ]
           ],
           "hovertemplate": "<b>%{hovertext}</b><br><br>Period=0<br>log_mildew_incidence=%{z}<br>Centroid Lat=%{lat}<br>Centroid Long=%{lon}<br>Grower=%{customdata[0]}<br>Mildew Incidence=%{customdata[1]}<extra></extra>",
           "hovertext": [
            1,
            2,
            3,
            4,
            5,
            6,
            7,
            8,
            9,
            10,
            11,
            12,
            13,
            14,
            15,
            16,
            17,
            18,
            19,
            20,
            21,
            22,
            23,
            24,
            25,
            26,
            27,
            28,
            29,
            30,
            31,
            32,
            33,
            34,
            35,
            36,
            37,
            38,
            39,
            40,
            41,
            42,
            43,
            44,
            45,
            46,
            47,
            48,
            49,
            50,
            51,
            52,
            53,
            54,
            55,
            56,
            57,
            58,
            59,
            60,
            61,
            63,
            64,
            65,
            66,
            67,
            68,
            69,
            70,
            71,
            72,
            73,
            74,
            75,
            76,
            77,
            78,
            79,
            80,
            81,
            82,
            83,
            84,
            85,
            86,
            87,
            88,
            90,
            91,
            92,
            93,
            94,
            95,
            96,
            97,
            98,
            99,
            100,
            101,
            102,
            103,
            105,
            106,
            107,
            108,
            109,
            110,
            111,
            112,
            113,
            114,
            115,
            116,
            117,
            118,
            119,
            120,
            121,
            123,
            124,
            125,
            126,
            127,
            128,
            129,
            132,
            133,
            134,
            135,
            136
           ],
           "lat": [
            45.0405,
            45.0411,
            45.0405,
            45.0377,
            45.0412,
            45.0403,
            45.0377,
            45.0775,
            45.0775,
            45.0839,
            45.079,
            45.0842,
            45.0823,
            45.0839,
            45.0805,
            45.0405,
            45.0389,
            45.0375,
            45.0799,
            45.0826,
            45.0799,
            45.0412,
            45.0376,
            45.088,
            45.088,
            45.0833,
            45.0772,
            45.0771,
            45.08,
            45.0925,
            45.0936,
            45.0926,
            45.0891,
            45.0891,
            45.1684,
            45.2005,
            45.1654,
            45.1653,
            45.1672,
            45.1653,
            45.1685,
            45.1653,
            45.1659,
            45.1996,
            45.2025,
            45.1942,
            45.19,
            45.1928,
            45.1886,
            45.1932,
            45.1909,
            45.201,
            45.1994,
            45.189,
            45.1978,
            45.1173,
            45.1174,
            45.1173,
            45.1177,
            45.1179,
            45.1177,
            45.1176,
            45.1137,
            45.1144,
            45.1126,
            45.0342,
            45.0337,
            45.0348,
            45.0357,
            45.0318,
            45.0315,
            45.0336,
            45.0329,
            45.0334,
            45.0347,
            45.0293,
            45.0298,
            45.0295,
            45.0347,
            45.0254,
            45.0258,
            45.0258,
            45.0258,
            45.0221,
            45.0222,
            45.0213,
            45.0279,
            45.0293,
            45.0345,
            45.0394,
            45.0396,
            45.0293,
            45.1906,
            45.193,
            45.1964,
            45.1931,
            45.1898,
            45.1962,
            45.1864,
            45.1863,
            45.1905,
            45.1986,
            45.1879,
            45.1888,
            45.1865,
            45.0475226,
            45.1889,
            45.193,
            45.1964,
            45.1931,
            45.1898,
            45.1962,
            45.1864,
            45.1863,
            45.1905,
            45.1897,
            45.1986,
            45.18827534,
            45.1883,
            45.1865,
            45.193,
            45.1964,
            45.1931,
            45.1898,
            45.1962,
            45.1905,
            45.1897,
            45.1986,
            45.1883,
            45.1865
           ],
           "lon": [
            -122.7772,
            -122.7766,
            -122.7778,
            -122.7779,
            -122.7753,
            -122.7818,
            -122.7771,
            -122.7656,
            -122.7656,
            -122.7614,
            -122.7666,
            -122.7656,
            -122.7666,
            -122.763,
            -122.7666,
            -122.7794,
            -122.7739,
            -122.7815,
            -122.7262,
            -122.7274,
            -122.7239,
            -122.7729,
            -122.779,
            -122.7392,
            -122.742,
            -122.7513,
            -122.7606,
            -122.7557,
            -122.7407,
            -122.7523,
            -122.7569,
            -122.7473,
            -122.7526,
            -122.7476,
            -122.8832,
            -122.9142,
            -122.8855,
            -122.8751,
            -122.8792,
            -122.8751,
            -122.9058,
            -122.8815,
            -122.8885,
            -122.8464,
            -122.8443,
            -122.7664,
            -122.7621,
            -122.766,
            -122.7619,
            -122.7715,
            -122.7707,
            -122.7725,
            -122.774,
            -122.7707,
            -122.7726,
            -122.8455,
            -122.8464,
            -122.845,
            -122.8433,
            -122.8399,
            -122.8353,
            -122.8266,
            -122.83,
            -122.8564,
            -122.8533,
            -122.7408,
            -122.7402,
            -122.7418,
            -122.7439,
            -122.7581,
            -122.7704,
            -122.7675,
            -122.7636,
            -122.7654,
            -122.7603,
            -122.7503,
            -122.7519,
            -122.7542,
            -122.7603,
            -122.7648,
            -122.7621,
            -122.7599,
            -122.7569,
            -122.7615,
            -122.7646,
            -122.7666,
            -122.7664,
            -122.7696,
            -122.8018,
            -122.8026,
            -122.8043,
            -122.7696,
            -122.7753,
            -122.7746,
            -122.7797,
            -122.7852,
            -122.7861,
            -122.7851,
            -122.786,
            -122.7811,
            -122.7928,
            -122.78,
            -122.791,
            -122.791,
            -122.7907,
            -123.0018704,
            -122.7755,
            -122.7746,
            -122.7797,
            -122.7852,
            -122.7861,
            -122.7851,
            -122.786,
            -122.7811,
            -122.7928,
            -122.7802,
            -122.78,
            -122.7910425,
            -122.791,
            -122.7907,
            -122.7746,
            -122.7797,
            -122.7852,
            -122.7861,
            -122.7851,
            -122.7928,
            -122.7802,
            -122.78,
            -122.791,
            -122.7907
           ],
           "name": "",
           "radius": 10,
           "subplot": "mapbox",
           "type": "densitymapbox",
           "z": [
            -8.912346267147193,
            -8.912346267147193,
            -8.912346267147193,
            -8.912346267147193,
            -8.912346267147193,
            -8.219570308339394,
            -8.912346267147193,
            -8.912346267147193,
            -8.912346267147193,
            -8.912346267147193,
            -8.912346267147193,
            -8.912346267147193,
            -8.912346267147193,
            -8.912346267147193,
            -8.912346267147193,
            -8.912346267147193,
            -8.912346267147193,
            -8.912346267147193,
            -8.912346267147193,
            -8.912346267147193,
            -8.912346267147193,
            -8.912346267147193,
            -8.219570308339394,
            -8.912346267147193,
            -8.912346267147193,
            -8.912346267147193,
            -8.912346267147193,
            -8.912346267147193,
            -8.912346267147193,
            -8.912346267147193,
            -8.912346267147193,
            -8.912346267147193,
            -8.912346267147193,
            -8.912346267147193,
            -8.912346267147193,
            -8.912346267147193,
            -8.912346267147193,
            -8.912346267147193,
            -8.912346267147193,
            -8.912346267147193,
            -8.912346267147193,
            -8.912346267147193,
            -8.912346267147193,
            -8.912346267147193,
            -8.912346267147193,
            -8.912346267147193,
            -8.912346267147193,
            -8.912346267147193,
            -8.912346267147193,
            -8.912346267147193,
            -8.912346267147193,
            -8.912346267147193,
            -8.912346267147193,
            -8.912346267147193,
            -8.912346267147193,
            -8.219570308339394,
            -8.912346267147193,
            -8.912346267147193,
            -8.912346267147193,
            -8.912346267147193,
            -8.912346267147193,
            -8.912346267147193,
            -8.912346267147193,
            -8.912346267147193,
            -8.912346267147193,
            -8.912346267147193,
            -8.912346267147193,
            -8.912346267147193,
            -8.912346267147193,
            -8.912346267147193,
            -8.912346267147193,
            -8.912346267147193,
            -8.912346267147193,
            -8.912346267147193,
            -8.912346267147193,
            -8.912346267147193,
            -8.912346267147193,
            -8.912346267147193,
            -8.912346267147193,
            -8.912346267147193,
            -8.912346267147193,
            -8.912346267147193,
            -8.219570308339394,
            -8.912346267147193,
            -8.912346267147193,
            -8.912346267147193,
            -8.912346267147193,
            -8.912346267147193,
            -8.912346267147193,
            -8.912346267147193,
            -8.912346267147193,
            -8.912346267147193,
            -8.912346267147193,
            -8.912346267147193,
            -8.912346267147193,
            -8.912346267147193,
            -8.912346267147193,
            -8.912346267147193,
            -8.219570308339394,
            -8.912346267147193,
            -8.912346267147193,
            -8.219570308339394,
            -8.912346267147193,
            -8.912346267147193,
            -8.219570308339394,
            -8.912346267147193,
            -8.912346267147193,
            -8.912346267147193,
            -8.912346267147193,
            -8.912346267147193,
            -8.912346267147193,
            -8.912346267147193,
            -8.912346267147193,
            -8.912346267147193,
            -8.912346267147193,
            -8.912346267147193,
            -8.912346267147193,
            -8.912346267147193,
            -8.912346267147193,
            -8.912346267147193,
            -8.912346267147193,
            -8.912346267147193,
            -8.912346267147193,
            -8.912346267147193,
            -8.912346267147193,
            -8.912346267147193,
            -8.912346267147193,
            -8.912346267147193,
            -8.912346267147193,
            -8.912346267147193
           ]
          }
         ],
         "name": "0"
        },
        {
         "data": [
          {
           "coloraxis": "coloraxis",
           "customdata": [
            [
             "Annen",
             0.0025
            ],
            [
             "Annen",
             0.0025
            ],
            [
             "Annen",
             0.0025
            ],
            [
             "Annen",
             0.0025
            ],
            [
             "Annen",
             0.0025
            ],
            [
             "Annen",
             0.005
            ],
            [
             "Annen",
             0.0025
            ],
            [
             "Annen",
             0.0025
            ],
            [
             "Annen",
             0.0025
            ],
            [
             "Annen",
             0.0025
            ],
            [
             "Annen",
             0.0025
            ],
            [
             "Annen",
             0.0025
            ],
            [
             "Annen",
             0.0025
            ],
            [
             "Annen",
             0.0025
            ],
            [
             "Annen",
             0.0025
            ],
            [
             "Annen",
             0.0025
            ],
            [
             "Annen",
             0.0025
            ],
            [
             "Annen",
             0.0025
            ],
            [
             "Annen",
             0.0025
            ],
            [
             "Annen",
             0.0025
            ],
            [
             "Annen",
             0.0025
            ],
            [
             "Annen",
             0.0025
            ],
            [
             "Annen",
             0.005
            ],
            [
             "Butsch",
             0.0025
            ],
            [
             "Butsch",
             0.0025
            ],
            [
             "Butsch",
             0.0025
            ],
            [
             "Butsch",
             0.0025
            ],
            [
             "Butsch",
             0.0025
            ],
            [
             "Butsch",
             0.0025
            ],
            [
             "Butsch",
             0.0025
            ],
            [
             "Butsch",
             0.0025
            ],
            [
             "Butsch",
             0.0025
            ],
            [
             "Butsch",
             0.0025
            ],
            [
             "Butsch",
             0.0025
            ],
            [
             "Crosby",
             0.0025
            ],
            [
             "Crosby",
             0.0025
            ],
            [
             "Crosby",
             0.0025
            ],
            [
             "Crosby",
             0.0025
            ],
            [
             "Crosby",
             0.0025
            ],
            [
             "Crosby",
             0.0025
            ],
            [
             "Crosby",
             0.0025
            ],
            [
             "Crosby",
             0.0025
            ],
            [
             "Crosby",
             0.0025
            ],
            [
             "Crosby",
             0.0025
            ],
            [
             "Crosby",
             0.0025
            ],
            [
             "Fobert",
             0.0025
            ],
            [
             "Fobert",
             0.0025
            ],
            [
             "Fobert",
             0.0025
            ],
            [
             "Fobert",
             0.0025
            ],
            [
             "Fobert",
             0.0025
            ],
            [
             "Fobert",
             0.025
            ],
            [
             "Fobert",
             0.0025
            ],
            [
             "Fobert",
             0.0025
            ],
            [
             "Fobert",
             0.0025
            ],
            [
             "Fobert",
             0.0025
            ],
            [
             "Geschwill",
             0.005
            ],
            [
             "Geschwill",
             0.0025
            ],
            [
             "Geschwill",
             0.0025
            ],
            [
             "Geschwill",
             0.0025
            ],
            [
             "Geschwill",
             0.0025
            ],
            [
             "Geschwill",
             0.0025
            ],
            [
             "Geschwill",
             0.0025
            ],
            [
             "Geschwill",
             0.0025
            ],
            [
             "Geschwill",
             0.0025
            ],
            [
             "Geschwill",
             0.0025
            ],
            [
             "Goschie",
             0.0025
            ],
            [
             "Goschie",
             0.0025
            ],
            [
             "Goschie",
             0.0025
            ],
            [
             "Goschie",
             0.0025
            ],
            [
             "Goschie",
             0.0025
            ],
            [
             "Goschie",
             0.0025
            ],
            [
             "Goschie",
             0.0025
            ],
            [
             "Goschie",
             0.0025
            ],
            [
             "Goschie",
             0.0025
            ],
            [
             "Goschie",
             0.0025
            ],
            [
             "Goschie",
             0.0025
            ],
            [
             "Goschie",
             0.0025
            ],
            [
             "Goschie",
             0.0025
            ],
            [
             "Goschie",
             0.0025
            ],
            [
             "Goschie",
             0.0025
            ],
            [
             "Goschie",
             0.0025
            ],
            [
             "Goschie",
             0.0025
            ],
            [
             "Goschie",
             0.005
            ],
            [
             "Goschie",
             0.0025
            ],
            [
             "Goschie",
             0.0025
            ],
            [
             "Goschie",
             0.0025
            ],
            [
             "Goschie",
             0.0025
            ],
            [
             "Goschie",
             0.0025
            ],
            [
             "Goschie",
             0.0025
            ],
            [
             "Goschie",
             0.0025
            ],
            [
             "Goschie",
             0.0025
            ],
            [
             "Goschie",
             0.0025
            ],
            [
             "Stauffer",
             0.0025
            ],
            [
             "Stauffer",
             0.0025
            ],
            [
             "Stauffer",
             0.0025
            ],
            [
             "Stauffer",
             0.0025
            ],
            [
             "Stauffer",
             0.0025
            ],
            [
             "Stauffer",
             0.0025
            ],
            [
             "Stauffer",
             0.005
            ],
            [
             "Stauffer",
             0.0025
            ],
            [
             "Stauffer",
             0.0025
            ],
            [
             "Stauffer",
             0.005
            ],
            [
             "Stauffer",
             0.0025
            ],
            [
             "Stauffer",
             0.0025
            ],
            [
             "Stauffer",
             0.005
            ],
            [
             "Sodbuster",
             0.0025
            ],
            [
             "Stauffer",
             0.0025
            ],
            [
             "Stauffer",
             0.0025
            ],
            [
             "Stauffer",
             0.0025
            ],
            [
             "Stauffer",
             0.0025
            ],
            [
             "Stauffer",
             0.0025
            ],
            [
             "Stauffer",
             0.0025
            ],
            [
             "Stauffer",
             0.0025
            ],
            [
             "Stauffer",
             0.0025
            ],
            [
             "Stauffer",
             0.0025
            ],
            [
             "Stauffer",
             0.005
            ],
            [
             "Stauffer",
             0.0025
            ],
            [
             "Stauffer",
             0.0025
            ],
            [
             "Stauffer",
             0.0025
            ],
            [
             "Stauffer",
             0.0025
            ],
            [
             "Stauffer",
             0.0025
            ],
            [
             "Stauffer",
             0.0025
            ],
            [
             "Stauffer",
             0.0025
            ],
            [
             "Stauffer",
             0.0025
            ],
            [
             "Stauffer",
             0.0025
            ],
            [
             "Stauffer",
             0.0025
            ],
            [
             "Stauffer",
             0.0025
            ],
            [
             "Stauffer",
             0.0025
            ],
            [
             "Stauffer",
             0.0025
            ],
            [
             "Stauffer",
             0.0025
            ]
           ],
           "hovertemplate": "<b>%{hovertext}</b><br><br>Period=1<br>log_mildew_incidence=%{z}<br>Centroid Lat=%{lat}<br>Centroid Long=%{lon}<br>Grower=%{customdata[0]}<br>Mildew Incidence=%{customdata[1]}<extra></extra>",
           "hovertext": [
            1,
            2,
            3,
            4,
            5,
            6,
            7,
            8,
            9,
            10,
            11,
            12,
            13,
            14,
            15,
            16,
            17,
            18,
            19,
            20,
            21,
            22,
            23,
            24,
            25,
            26,
            27,
            28,
            29,
            30,
            31,
            32,
            33,
            34,
            35,
            36,
            37,
            38,
            39,
            40,
            41,
            42,
            43,
            44,
            45,
            46,
            47,
            48,
            49,
            50,
            51,
            52,
            53,
            54,
            55,
            56,
            57,
            58,
            59,
            60,
            61,
            63,
            64,
            65,
            66,
            67,
            68,
            69,
            70,
            71,
            72,
            73,
            74,
            75,
            76,
            77,
            78,
            79,
            80,
            81,
            82,
            83,
            84,
            85,
            86,
            87,
            88,
            90,
            91,
            92,
            93,
            94,
            95,
            96,
            97,
            98,
            99,
            100,
            101,
            102,
            103,
            105,
            106,
            107,
            108,
            109,
            110,
            111,
            112,
            113,
            114,
            115,
            116,
            117,
            118,
            119,
            120,
            121,
            123,
            124,
            125,
            126,
            127,
            128,
            129,
            132,
            133,
            134,
            135,
            136
           ],
           "lat": [
            45.0405,
            45.0411,
            45.0405,
            45.0377,
            45.0412,
            45.0403,
            45.0377,
            45.0775,
            45.0775,
            45.0839,
            45.079,
            45.0842,
            45.0823,
            45.0839,
            45.0805,
            45.0405,
            45.0389,
            45.0375,
            45.0799,
            45.0826,
            45.0799,
            45.0412,
            45.0376,
            45.088,
            45.088,
            45.0833,
            45.0772,
            45.0771,
            45.08,
            45.0925,
            45.0936,
            45.0926,
            45.0891,
            45.0891,
            45.1684,
            45.2005,
            45.1654,
            45.1653,
            45.1672,
            45.1653,
            45.1685,
            45.1653,
            45.1659,
            45.1996,
            45.2025,
            45.1942,
            45.19,
            45.1928,
            45.1886,
            45.1932,
            45.1909,
            45.201,
            45.1994,
            45.189,
            45.1978,
            45.1173,
            45.1174,
            45.1173,
            45.1177,
            45.1179,
            45.1177,
            45.1176,
            45.1137,
            45.1144,
            45.1126,
            45.0342,
            45.0337,
            45.0348,
            45.0357,
            45.0318,
            45.0315,
            45.0336,
            45.0329,
            45.0334,
            45.0347,
            45.0293,
            45.0298,
            45.0295,
            45.0347,
            45.0254,
            45.0258,
            45.0258,
            45.0258,
            45.0221,
            45.0222,
            45.0213,
            45.0279,
            45.0293,
            45.0345,
            45.0394,
            45.0396,
            45.0293,
            45.1906,
            45.193,
            45.1964,
            45.1931,
            45.1898,
            45.1962,
            45.1864,
            45.1863,
            45.1905,
            45.1986,
            45.1879,
            45.1888,
            45.1865,
            45.0475226,
            45.1889,
            45.193,
            45.1964,
            45.1931,
            45.1898,
            45.1962,
            45.1864,
            45.1863,
            45.1905,
            45.1897,
            45.1986,
            45.18827534,
            45.1883,
            45.1865,
            45.193,
            45.1964,
            45.1931,
            45.1898,
            45.1962,
            45.1905,
            45.1897,
            45.1986,
            45.1883,
            45.1865
           ],
           "lon": [
            -122.7772,
            -122.7766,
            -122.7778,
            -122.7779,
            -122.7753,
            -122.7818,
            -122.7771,
            -122.7656,
            -122.7656,
            -122.7614,
            -122.7666,
            -122.7656,
            -122.7666,
            -122.763,
            -122.7666,
            -122.7794,
            -122.7739,
            -122.7815,
            -122.7262,
            -122.7274,
            -122.7239,
            -122.7729,
            -122.779,
            -122.7392,
            -122.742,
            -122.7513,
            -122.7606,
            -122.7557,
            -122.7407,
            -122.7523,
            -122.7569,
            -122.7473,
            -122.7526,
            -122.7476,
            -122.8832,
            -122.9142,
            -122.8855,
            -122.8751,
            -122.8792,
            -122.8751,
            -122.9058,
            -122.8815,
            -122.8885,
            -122.8464,
            -122.8443,
            -122.7664,
            -122.7621,
            -122.766,
            -122.7619,
            -122.7715,
            -122.7707,
            -122.7725,
            -122.774,
            -122.7707,
            -122.7726,
            -122.8455,
            -122.8464,
            -122.845,
            -122.8433,
            -122.8399,
            -122.8353,
            -122.8266,
            -122.83,
            -122.8564,
            -122.8533,
            -122.7408,
            -122.7402,
            -122.7418,
            -122.7439,
            -122.7581,
            -122.7704,
            -122.7675,
            -122.7636,
            -122.7654,
            -122.7603,
            -122.7503,
            -122.7519,
            -122.7542,
            -122.7603,
            -122.7648,
            -122.7621,
            -122.7599,
            -122.7569,
            -122.7615,
            -122.7646,
            -122.7666,
            -122.7664,
            -122.7696,
            -122.8018,
            -122.8026,
            -122.8043,
            -122.7696,
            -122.7753,
            -122.7746,
            -122.7797,
            -122.7852,
            -122.7861,
            -122.7851,
            -122.786,
            -122.7811,
            -122.7928,
            -122.78,
            -122.791,
            -122.791,
            -122.7907,
            -123.0018704,
            -122.7755,
            -122.7746,
            -122.7797,
            -122.7852,
            -122.7861,
            -122.7851,
            -122.786,
            -122.7811,
            -122.7928,
            -122.7802,
            -122.78,
            -122.7910425,
            -122.791,
            -122.7907,
            -122.7746,
            -122.7797,
            -122.7852,
            -122.7861,
            -122.7851,
            -122.7928,
            -122.7802,
            -122.78,
            -122.791,
            -122.7907
           ],
           "name": "",
           "radius": 10,
           "subplot": "mapbox",
           "type": "densitymapbox",
           "z": [
            -5.991424547907961,
            -5.991424547907961,
            -5.991424547907961,
            -5.991424547907961,
            -5.991424547907961,
            -5.2982973667480335,
            -5.991424547907961,
            -5.991424547907961,
            -5.991424547907961,
            -5.991424547907961,
            -5.991424547907961,
            -5.991424547907961,
            -5.991424547907961,
            -5.991424547907961,
            -5.991424547907961,
            -5.991424547907961,
            -5.991424547907961,
            -5.991424547907961,
            -5.991424547907961,
            -5.991424547907961,
            -5.991424547907961,
            -5.991424547907961,
            -5.2982973667480335,
            -5.991424547907961,
            -5.991424547907961,
            -5.991424547907961,
            -5.991424547907961,
            -5.991424547907961,
            -5.991424547907961,
            -5.991424547907961,
            -5.991424547907961,
            -5.991424547907961,
            -5.991424547907961,
            -5.991424547907961,
            -5.991424547907961,
            -5.991424547907961,
            -5.991424547907961,
            -5.991424547907961,
            -5.991424547907961,
            -5.991424547907961,
            -5.991424547907961,
            -5.991424547907961,
            -5.991424547907961,
            -5.991424547907961,
            -5.991424547907961,
            -5.991424547907961,
            -5.991424547907961,
            -5.991424547907961,
            -5.991424547907961,
            -5.991424547907961,
            -3.6888754541219364,
            -5.991424547907961,
            -5.991424547907961,
            -5.991424547907961,
            -5.991424547907961,
            -5.2982973667480335,
            -5.991424547907961,
            -5.991424547907961,
            -5.991424547907961,
            -5.991424547907961,
            -5.991424547907961,
            -5.991424547907961,
            -5.991424547907961,
            -5.991424547907961,
            -5.991424547907961,
            -5.991424547907961,
            -5.991424547907961,
            -5.991424547907961,
            -5.991424547907961,
            -5.991424547907961,
            -5.991424547907961,
            -5.991424547907961,
            -5.991424547907961,
            -5.991424547907961,
            -5.991424547907961,
            -5.991424547907961,
            -5.991424547907961,
            -5.991424547907961,
            -5.991424547907961,
            -5.991424547907961,
            -5.991424547907961,
            -5.991424547907961,
            -5.2982973667480335,
            -5.991424547907961,
            -5.991424547907961,
            -5.991424547907961,
            -5.991424547907961,
            -5.991424547907961,
            -5.991424547907961,
            -5.991424547907961,
            -5.991424547907961,
            -5.991424547907961,
            -5.991424547907961,
            -5.991424547907961,
            -5.991424547907961,
            -5.991424547907961,
            -5.991424547907961,
            -5.991424547907961,
            -5.2982973667480335,
            -5.991424547907961,
            -5.991424547907961,
            -5.2982973667480335,
            -5.991424547907961,
            -5.991424547907961,
            -5.2982973667480335,
            -5.991424547907961,
            -5.991424547907961,
            -5.991424547907961,
            -5.991424547907961,
            -5.991424547907961,
            -5.991424547907961,
            -5.991424547907961,
            -5.991424547907961,
            -5.991424547907961,
            -5.991424547907961,
            -5.2982973667480335,
            -5.991424547907961,
            -5.991424547907961,
            -5.991424547907961,
            -5.991424547907961,
            -5.991424547907961,
            -5.991424547907961,
            -5.991424547907961,
            -5.991424547907961,
            -5.991424547907961,
            -5.991424547907961,
            -5.991424547907961,
            -5.991424547907961,
            -5.991424547907961,
            -5.991424547907961
           ]
          }
         ],
         "name": "1"
        },
        {
         "data": [
          {
           "coloraxis": "coloraxis",
           "customdata": [
            [
             "Annen",
             0.07284615384615384
            ],
            [
             "Annen",
             0.07284615384615384
            ],
            [
             "Annen",
             0.07284615384615384
            ],
            [
             "Annen",
             0.07284615384615384
            ],
            [
             "Annen",
             0.07284615384615384
            ],
            [
             "Annen",
             0.14569230769230768
            ],
            [
             "Annen",
             0.07284615384615384
            ],
            [
             "Annen",
             0.07284615384615384
            ],
            [
             "Annen",
             0.07284615384615384
            ],
            [
             "Annen",
             0.07284615384615384
            ],
            [
             "Annen",
             0.07284615384615384
            ],
            [
             "Annen",
             0.07284615384615384
            ],
            [
             "Annen",
             0.07284615384615384
            ],
            [
             "Annen",
             0.07284615384615384
            ],
            [
             "Annen",
             0.07284615384615384
            ],
            [
             "Annen",
             0.07284615384615384
            ],
            [
             "Annen",
             0.07284615384615384
            ],
            [
             "Annen",
             0.07284615384615384
            ],
            [
             "Annen",
             0.07284615384615384
            ],
            [
             "Annen",
             0.07284615384615384
            ],
            [
             "Annen",
             0.07284615384615384
            ],
            [
             "Annen",
             0.07284615384615384
            ],
            [
             "Annen",
             0.14569230769230768
            ],
            [
             "Butsch",
             0.07284615384615384
            ],
            [
             "Butsch",
             0.07284615384615384
            ],
            [
             "Butsch",
             0.07284615384615384
            ],
            [
             "Butsch",
             0.07284615384615384
            ],
            [
             "Butsch",
             0.07284615384615384
            ],
            [
             "Butsch",
             0.07284615384615384
            ],
            [
             "Butsch",
             0.07284615384615384
            ],
            [
             "Butsch",
             0.07284615384615384
            ],
            [
             "Butsch",
             0.07284615384615384
            ],
            [
             "Butsch",
             0.07284615384615384
            ],
            [
             "Butsch",
             0.07284615384615384
            ],
            [
             "Crosby",
             0.04856410256410256
            ],
            [
             "Crosby",
             0.07284615384615384
            ],
            [
             "Crosby",
             0.07284615384615384
            ],
            [
             "Crosby",
             0.07284615384615384
            ],
            [
             "Crosby",
             0.07284615384615384
            ],
            [
             "Crosby",
             0.07284615384615384
            ],
            [
             "Crosby",
             0.07284615384615384
            ],
            [
             "Crosby",
             0.07284615384615384
            ],
            [
             "Crosby",
             0.07284615384615384
            ],
            [
             "Crosby",
             0.07284615384615384
            ],
            [
             "Crosby",
             0.07284615384615384
            ],
            [
             "Fobert",
             0.07284615384615384
            ],
            [
             "Fobert",
             0.07284615384615384
            ],
            [
             "Fobert",
             0.07284615384615384
            ],
            [
             "Fobert",
             0.07284615384615384
            ],
            [
             "Fobert",
             0.07284615384615384
            ],
            [
             "Fobert",
             0.07284615384615384
            ],
            [
             "Fobert",
             0.07284615384615384
            ],
            [
             "Fobert",
             0.07284615384615384
            ],
            [
             "Fobert",
             0.07284615384615384
            ],
            [
             "Fobert",
             0.07284615384615384
            ],
            [
             "Geschwill",
             0.14569230769230768
            ],
            [
             "Geschwill",
             0.07284615384615384
            ],
            [
             "Geschwill",
             0.07284615384615384
            ],
            [
             "Geschwill",
             0.07284615384615384
            ],
            [
             "Geschwill",
             0.07284615384615384
            ],
            [
             "Geschwill",
             0.07284615384615384
            ],
            [
             "Geschwill",
             0.07284615384615384
            ],
            [
             "Geschwill",
             0.07284615384615384
            ],
            [
             "Geschwill",
             0.07284615384615384
            ],
            [
             "Geschwill",
             0.07284615384615384
            ],
            [
             "Goschie",
             0.07284615384615384
            ],
            [
             "Goschie",
             0.07284615384615384
            ],
            [
             "Goschie",
             0.07284615384615384
            ],
            [
             "Goschie",
             0.07284615384615384
            ],
            [
             "Goschie",
             0.07284615384615384
            ],
            [
             "Goschie",
             0.07284615384615384
            ],
            [
             "Goschie",
             0.07284615384615384
            ],
            [
             "Goschie",
             0.07284615384615384
            ],
            [
             "Goschie",
             0.07284615384615384
            ],
            [
             "Goschie",
             0.07284615384615384
            ],
            [
             "Goschie",
             0.07284615384615384
            ],
            [
             "Goschie",
             0.07284615384615384
            ],
            [
             "Goschie",
             0.07284615384615384
            ],
            [
             "Goschie",
             0.07284615384615384
            ],
            [
             "Goschie",
             0.07284615384615384
            ],
            [
             "Goschie",
             0.07284615384615384
            ],
            [
             "Goschie",
             0.07284615384615384
            ],
            [
             "Goschie",
             0.14569230769230768
            ],
            [
             "Goschie",
             0.07284615384615384
            ],
            [
             "Goschie",
             0.07284615384615384
            ],
            [
             "Goschie",
             0.07284615384615384
            ],
            [
             "Goschie",
             0.07284615384615384
            ],
            [
             "Goschie",
             0.07284615384615384
            ],
            [
             "Goschie",
             0.07284615384615384
            ],
            [
             "Goschie",
             0.07284615384615384
            ],
            [
             "Goschie",
             0.07284615384615384
            ],
            [
             "Goschie",
             0.07284615384615384
            ],
            [
             "Stauffer",
             0.07284615384615384
            ],
            [
             "Stauffer",
             0.07284615384615384
            ],
            [
             "Stauffer",
             0.07284615384615384
            ],
            [
             "Stauffer",
             0.07284615384615384
            ],
            [
             "Stauffer",
             0.07284615384615384
            ],
            [
             "Stauffer",
             0.07284615384615384
            ],
            [
             "Stauffer",
             0.14569230769230768
            ],
            [
             "Stauffer",
             0.07284615384615384
            ],
            [
             "Stauffer",
             0.07284615384615384
            ],
            [
             "Stauffer",
             0.14569230769230768
            ],
            [
             "Stauffer",
             0.07284615384615384
            ],
            [
             "Stauffer",
             0.07284615384615384
            ],
            [
             "Stauffer",
             0.14569230769230768
            ],
            [
             "Sodbuster",
             0.07284615384615384
            ],
            [
             "Stauffer",
             0.07284615384615384
            ],
            [
             "Stauffer",
             0.07284615384615384
            ],
            [
             "Stauffer",
             0.07284615384615384
            ],
            [
             "Stauffer",
             0.07284615384615384
            ],
            [
             "Stauffer",
             0.07284615384615384
            ],
            [
             "Stauffer",
             0.07284615384615384
            ],
            [
             "Stauffer",
             0.07284615384615384
            ],
            [
             "Stauffer",
             0.07284615384615384
            ],
            [
             "Stauffer",
             0.07284615384615384
            ],
            [
             "Stauffer",
             0.14569230769230768
            ],
            [
             "Stauffer",
             0.07284615384615384
            ],
            [
             "Stauffer",
             0.07284615384615384
            ],
            [
             "Stauffer",
             0.07284615384615384
            ],
            [
             "Stauffer",
             0.07284615384615384
            ],
            [
             "Stauffer",
             0.07284615384615384
            ],
            [
             "Stauffer",
             0.07284615384615384
            ],
            [
             "Stauffer",
             0.07284615384615384
            ],
            [
             "Stauffer",
             0.07284615384615384
            ],
            [
             "Stauffer",
             0.07284615384615384
            ],
            [
             "Stauffer",
             0.07284615384615384
            ],
            [
             "Stauffer",
             0.07284615384615384
            ],
            [
             "Stauffer",
             0.07284615384615384
            ],
            [
             "Stauffer",
             0.07284615384615384
            ],
            [
             "Stauffer",
             0.07284615384615384
            ]
           ],
           "hovertemplate": "<b>%{hovertext}</b><br><br>Period=2<br>log_mildew_incidence=%{z}<br>Centroid Lat=%{lat}<br>Centroid Long=%{lon}<br>Grower=%{customdata[0]}<br>Mildew Incidence=%{customdata[1]}<extra></extra>",
           "hovertext": [
            1,
            2,
            3,
            4,
            5,
            6,
            7,
            8,
            9,
            10,
            11,
            12,
            13,
            14,
            15,
            16,
            17,
            18,
            19,
            20,
            21,
            22,
            23,
            24,
            25,
            26,
            27,
            28,
            29,
            30,
            31,
            32,
            33,
            34,
            35,
            36,
            37,
            38,
            39,
            40,
            41,
            42,
            43,
            44,
            45,
            46,
            47,
            48,
            49,
            50,
            51,
            52,
            53,
            54,
            55,
            56,
            57,
            58,
            59,
            60,
            61,
            63,
            64,
            65,
            66,
            67,
            68,
            69,
            70,
            71,
            72,
            73,
            74,
            75,
            76,
            77,
            78,
            79,
            80,
            81,
            82,
            83,
            84,
            85,
            86,
            87,
            88,
            90,
            91,
            92,
            93,
            94,
            95,
            96,
            97,
            98,
            99,
            100,
            101,
            102,
            103,
            105,
            106,
            107,
            108,
            109,
            110,
            111,
            112,
            113,
            114,
            115,
            116,
            117,
            118,
            119,
            120,
            121,
            123,
            124,
            125,
            126,
            127,
            128,
            129,
            132,
            133,
            134,
            135,
            136
           ],
           "lat": [
            45.0405,
            45.0411,
            45.0405,
            45.0377,
            45.0412,
            45.0403,
            45.0377,
            45.0775,
            45.0775,
            45.0839,
            45.079,
            45.0842,
            45.0823,
            45.0839,
            45.0805,
            45.0405,
            45.0389,
            45.0375,
            45.0799,
            45.0826,
            45.0799,
            45.0412,
            45.0376,
            45.088,
            45.088,
            45.0833,
            45.0772,
            45.0771,
            45.08,
            45.0925,
            45.0936,
            45.0926,
            45.0891,
            45.0891,
            45.1684,
            45.2005,
            45.1654,
            45.1653,
            45.1672,
            45.1653,
            45.1685,
            45.1653,
            45.1659,
            45.1996,
            45.2025,
            45.1942,
            45.19,
            45.1928,
            45.1886,
            45.1932,
            45.1909,
            45.201,
            45.1994,
            45.189,
            45.1978,
            45.1173,
            45.1174,
            45.1173,
            45.1177,
            45.1179,
            45.1177,
            45.1176,
            45.1137,
            45.1144,
            45.1126,
            45.0342,
            45.0337,
            45.0348,
            45.0357,
            45.0318,
            45.0315,
            45.0336,
            45.0329,
            45.0334,
            45.0347,
            45.0293,
            45.0298,
            45.0295,
            45.0347,
            45.0254,
            45.0258,
            45.0258,
            45.0258,
            45.0221,
            45.0222,
            45.0213,
            45.0279,
            45.0293,
            45.0345,
            45.0394,
            45.0396,
            45.0293,
            45.1906,
            45.193,
            45.1964,
            45.1931,
            45.1898,
            45.1962,
            45.1864,
            45.1863,
            45.1905,
            45.1986,
            45.1879,
            45.1888,
            45.1865,
            45.0475226,
            45.1889,
            45.193,
            45.1964,
            45.1931,
            45.1898,
            45.1962,
            45.1864,
            45.1863,
            45.1905,
            45.1897,
            45.1986,
            45.18827534,
            45.1883,
            45.1865,
            45.193,
            45.1964,
            45.1931,
            45.1898,
            45.1962,
            45.1905,
            45.1897,
            45.1986,
            45.1883,
            45.1865
           ],
           "lon": [
            -122.7772,
            -122.7766,
            -122.7778,
            -122.7779,
            -122.7753,
            -122.7818,
            -122.7771,
            -122.7656,
            -122.7656,
            -122.7614,
            -122.7666,
            -122.7656,
            -122.7666,
            -122.763,
            -122.7666,
            -122.7794,
            -122.7739,
            -122.7815,
            -122.7262,
            -122.7274,
            -122.7239,
            -122.7729,
            -122.779,
            -122.7392,
            -122.742,
            -122.7513,
            -122.7606,
            -122.7557,
            -122.7407,
            -122.7523,
            -122.7569,
            -122.7473,
            -122.7526,
            -122.7476,
            -122.8832,
            -122.9142,
            -122.8855,
            -122.8751,
            -122.8792,
            -122.8751,
            -122.9058,
            -122.8815,
            -122.8885,
            -122.8464,
            -122.8443,
            -122.7664,
            -122.7621,
            -122.766,
            -122.7619,
            -122.7715,
            -122.7707,
            -122.7725,
            -122.774,
            -122.7707,
            -122.7726,
            -122.8455,
            -122.8464,
            -122.845,
            -122.8433,
            -122.8399,
            -122.8353,
            -122.8266,
            -122.83,
            -122.8564,
            -122.8533,
            -122.7408,
            -122.7402,
            -122.7418,
            -122.7439,
            -122.7581,
            -122.7704,
            -122.7675,
            -122.7636,
            -122.7654,
            -122.7603,
            -122.7503,
            -122.7519,
            -122.7542,
            -122.7603,
            -122.7648,
            -122.7621,
            -122.7599,
            -122.7569,
            -122.7615,
            -122.7646,
            -122.7666,
            -122.7664,
            -122.7696,
            -122.8018,
            -122.8026,
            -122.8043,
            -122.7696,
            -122.7753,
            -122.7746,
            -122.7797,
            -122.7852,
            -122.7861,
            -122.7851,
            -122.786,
            -122.7811,
            -122.7928,
            -122.78,
            -122.791,
            -122.791,
            -122.7907,
            -123.0018704,
            -122.7755,
            -122.7746,
            -122.7797,
            -122.7852,
            -122.7861,
            -122.7851,
            -122.786,
            -122.7811,
            -122.7928,
            -122.7802,
            -122.78,
            -122.7910425,
            -122.791,
            -122.7907,
            -122.7746,
            -122.7797,
            -122.7852,
            -122.7861,
            -122.7851,
            -122.7928,
            -122.7802,
            -122.78,
            -122.791,
            -122.7907
           ],
           "name": "",
           "radius": 10,
           "subplot": "mapbox",
           "type": "densitymapbox",
           "z": [
            -2.619404170502466,
            -2.619404170502466,
            -2.619404170502466,
            -2.619404170502466,
            -2.619404170502466,
            -1.92625767631985,
            -2.619404170502466,
            -2.619404170502466,
            -2.619404170502466,
            -2.619404170502466,
            -2.619404170502466,
            -2.619404170502466,
            -2.619404170502466,
            -2.619404170502466,
            -2.619404170502466,
            -2.619404170502466,
            -2.619404170502466,
            -2.619404170502466,
            -2.619404170502466,
            -2.619404170502466,
            -2.619404170502466,
            -2.619404170502466,
            -1.92625767631985,
            -2.619404170502466,
            -2.619404170502466,
            -2.619404170502466,
            -2.619404170502466,
            -2.619404170502466,
            -2.619404170502466,
            -2.619404170502466,
            -2.619404170502466,
            -2.619404170502466,
            -2.619404170502466,
            -2.619404170502466,
            -3.0248685922337724,
            -2.619404170502466,
            -2.619404170502466,
            -2.619404170502466,
            -2.619404170502466,
            -2.619404170502466,
            -2.619404170502466,
            -2.619404170502466,
            -2.619404170502466,
            -2.619404170502466,
            -2.619404170502466,
            -2.619404170502466,
            -2.619404170502466,
            -2.619404170502466,
            -2.619404170502466,
            -2.619404170502466,
            -2.619404170502466,
            -2.619404170502466,
            -2.619404170502466,
            -2.619404170502466,
            -2.619404170502466,
            -1.92625767631985,
            -2.619404170502466,
            -2.619404170502466,
            -2.619404170502466,
            -2.619404170502466,
            -2.619404170502466,
            -2.619404170502466,
            -2.619404170502466,
            -2.619404170502466,
            -2.619404170502466,
            -2.619404170502466,
            -2.619404170502466,
            -2.619404170502466,
            -2.619404170502466,
            -2.619404170502466,
            -2.619404170502466,
            -2.619404170502466,
            -2.619404170502466,
            -2.619404170502466,
            -2.619404170502466,
            -2.619404170502466,
            -2.619404170502466,
            -2.619404170502466,
            -2.619404170502466,
            -2.619404170502466,
            -2.619404170502466,
            -2.619404170502466,
            -1.92625767631985,
            -2.619404170502466,
            -2.619404170502466,
            -2.619404170502466,
            -2.619404170502466,
            -2.619404170502466,
            -2.619404170502466,
            -2.619404170502466,
            -2.619404170502466,
            -2.619404170502466,
            -2.619404170502466,
            -2.619404170502466,
            -2.619404170502466,
            -2.619404170502466,
            -2.619404170502466,
            -2.619404170502466,
            -1.92625767631985,
            -2.619404170502466,
            -2.619404170502466,
            -1.92625767631985,
            -2.619404170502466,
            -2.619404170502466,
            -1.92625767631985,
            -2.619404170502466,
            -2.619404170502466,
            -2.619404170502466,
            -2.619404170502466,
            -2.619404170502466,
            -2.619404170502466,
            -2.619404170502466,
            -2.619404170502466,
            -2.619404170502466,
            -2.619404170502466,
            -1.92625767631985,
            -2.619404170502466,
            -2.619404170502466,
            -2.619404170502466,
            -2.619404170502466,
            -2.619404170502466,
            -2.619404170502466,
            -2.619404170502466,
            -2.619404170502466,
            -2.619404170502466,
            -2.619404170502466,
            -2.619404170502466,
            -2.619404170502466,
            -2.619404170502466,
            -2.619404170502466
           ]
          }
         ],
         "name": "2"
        }
       ],
       "layout": {
        "coloraxis": {
         "cmax": -1.92625767631985,
         "cmin": -8.912346267147193,
         "colorbar": {
          "title": {
           "text": "log_mildew_incidence"
          }
         },
         "colorscale": [
          [
           0,
           "rgb(3, 35, 51)"
          ],
          [
           0.09090909090909091,
           "rgb(13, 48, 100)"
          ],
          [
           0.18181818181818182,
           "rgb(53, 50, 155)"
          ],
          [
           0.2727272727272727,
           "rgb(93, 62, 153)"
          ],
          [
           0.36363636363636365,
           "rgb(126, 77, 143)"
          ],
          [
           0.45454545454545453,
           "rgb(158, 89, 135)"
          ],
          [
           0.5454545454545454,
           "rgb(193, 100, 121)"
          ],
          [
           0.6363636363636364,
           "rgb(225, 113, 97)"
          ],
          [
           0.7272727272727273,
           "rgb(246, 139, 69)"
          ],
          [
           0.8181818181818182,
           "rgb(251, 173, 60)"
          ],
          [
           0.9090909090909091,
           "rgb(246, 211, 70)"
          ],
          [
           1,
           "rgb(231, 250, 90)"
          ]
         ]
        },
        "height": 600,
        "legend": {
         "tracegroupgap": 0
        },
        "mapbox": {
         "center": {
          "lat": 45.11772690723077,
          "lon": -122.7869870223077
         },
         "domain": {
          "x": [
           0,
           1
          ],
          "y": [
           0,
           1
          ]
         },
         "style": "open-street-map",
         "zoom": 10
        },
        "margin": {
         "b": 0,
         "l": 0,
         "r": 0,
         "t": 0
        },
        "sliders": [
         {
          "active": 0,
          "currentvalue": {
           "prefix": "Period="
          },
          "len": 0.9,
          "pad": {
           "b": 10,
           "t": 60
          },
          "steps": [
           {
            "args": [
             [
              "0"
             ],
             {
              "frame": {
               "duration": 0,
               "redraw": true
              },
              "fromcurrent": true,
              "mode": "immediate",
              "transition": {
               "duration": 0,
               "easing": "linear"
              }
             }
            ],
            "label": "0",
            "method": "animate"
           },
           {
            "args": [
             [
              "1"
             ],
             {
              "frame": {
               "duration": 0,
               "redraw": true
              },
              "fromcurrent": true,
              "mode": "immediate",
              "transition": {
               "duration": 0,
               "easing": "linear"
              }
             }
            ],
            "label": "1",
            "method": "animate"
           },
           {
            "args": [
             [
              "2"
             ],
             {
              "frame": {
               "duration": 0,
               "redraw": true
              },
              "fromcurrent": true,
              "mode": "immediate",
              "transition": {
               "duration": 0,
               "easing": "linear"
              }
             }
            ],
            "label": "2",
            "method": "animate"
           }
          ],
          "x": 0.1,
          "xanchor": "left",
          "y": 0,
          "yanchor": "top"
         }
        ],
        "template": {
         "data": {
          "bar": [
           {
            "error_x": {
             "color": "#2a3f5f"
            },
            "error_y": {
             "color": "#2a3f5f"
            },
            "marker": {
             "line": {
              "color": "#E5ECF6",
              "width": 0.5
             },
             "pattern": {
              "fillmode": "overlay",
              "size": 10,
              "solidity": 0.2
             }
            },
            "type": "bar"
           }
          ],
          "barpolar": [
           {
            "marker": {
             "line": {
              "color": "#E5ECF6",
              "width": 0.5
             },
             "pattern": {
              "fillmode": "overlay",
              "size": 10,
              "solidity": 0.2
             }
            },
            "type": "barpolar"
           }
          ],
          "carpet": [
           {
            "aaxis": {
             "endlinecolor": "#2a3f5f",
             "gridcolor": "white",
             "linecolor": "white",
             "minorgridcolor": "white",
             "startlinecolor": "#2a3f5f"
            },
            "baxis": {
             "endlinecolor": "#2a3f5f",
             "gridcolor": "white",
             "linecolor": "white",
             "minorgridcolor": "white",
             "startlinecolor": "#2a3f5f"
            },
            "type": "carpet"
           }
          ],
          "choropleth": [
           {
            "colorbar": {
             "outlinewidth": 0,
             "ticks": ""
            },
            "type": "choropleth"
           }
          ],
          "contour": [
           {
            "colorbar": {
             "outlinewidth": 0,
             "ticks": ""
            },
            "colorscale": [
             [
              0,
              "#0d0887"
             ],
             [
              0.1111111111111111,
              "#46039f"
             ],
             [
              0.2222222222222222,
              "#7201a8"
             ],
             [
              0.3333333333333333,
              "#9c179e"
             ],
             [
              0.4444444444444444,
              "#bd3786"
             ],
             [
              0.5555555555555556,
              "#d8576b"
             ],
             [
              0.6666666666666666,
              "#ed7953"
             ],
             [
              0.7777777777777778,
              "#fb9f3a"
             ],
             [
              0.8888888888888888,
              "#fdca26"
             ],
             [
              1,
              "#f0f921"
             ]
            ],
            "type": "contour"
           }
          ],
          "contourcarpet": [
           {
            "colorbar": {
             "outlinewidth": 0,
             "ticks": ""
            },
            "type": "contourcarpet"
           }
          ],
          "heatmap": [
           {
            "colorbar": {
             "outlinewidth": 0,
             "ticks": ""
            },
            "colorscale": [
             [
              0,
              "#0d0887"
             ],
             [
              0.1111111111111111,
              "#46039f"
             ],
             [
              0.2222222222222222,
              "#7201a8"
             ],
             [
              0.3333333333333333,
              "#9c179e"
             ],
             [
              0.4444444444444444,
              "#bd3786"
             ],
             [
              0.5555555555555556,
              "#d8576b"
             ],
             [
              0.6666666666666666,
              "#ed7953"
             ],
             [
              0.7777777777777778,
              "#fb9f3a"
             ],
             [
              0.8888888888888888,
              "#fdca26"
             ],
             [
              1,
              "#f0f921"
             ]
            ],
            "type": "heatmap"
           }
          ],
          "heatmapgl": [
           {
            "colorbar": {
             "outlinewidth": 0,
             "ticks": ""
            },
            "colorscale": [
             [
              0,
              "#0d0887"
             ],
             [
              0.1111111111111111,
              "#46039f"
             ],
             [
              0.2222222222222222,
              "#7201a8"
             ],
             [
              0.3333333333333333,
              "#9c179e"
             ],
             [
              0.4444444444444444,
              "#bd3786"
             ],
             [
              0.5555555555555556,
              "#d8576b"
             ],
             [
              0.6666666666666666,
              "#ed7953"
             ],
             [
              0.7777777777777778,
              "#fb9f3a"
             ],
             [
              0.8888888888888888,
              "#fdca26"
             ],
             [
              1,
              "#f0f921"
             ]
            ],
            "type": "heatmapgl"
           }
          ],
          "histogram": [
           {
            "marker": {
             "pattern": {
              "fillmode": "overlay",
              "size": 10,
              "solidity": 0.2
             }
            },
            "type": "histogram"
           }
          ],
          "histogram2d": [
           {
            "colorbar": {
             "outlinewidth": 0,
             "ticks": ""
            },
            "colorscale": [
             [
              0,
              "#0d0887"
             ],
             [
              0.1111111111111111,
              "#46039f"
             ],
             [
              0.2222222222222222,
              "#7201a8"
             ],
             [
              0.3333333333333333,
              "#9c179e"
             ],
             [
              0.4444444444444444,
              "#bd3786"
             ],
             [
              0.5555555555555556,
              "#d8576b"
             ],
             [
              0.6666666666666666,
              "#ed7953"
             ],
             [
              0.7777777777777778,
              "#fb9f3a"
             ],
             [
              0.8888888888888888,
              "#fdca26"
             ],
             [
              1,
              "#f0f921"
             ]
            ],
            "type": "histogram2d"
           }
          ],
          "histogram2dcontour": [
           {
            "colorbar": {
             "outlinewidth": 0,
             "ticks": ""
            },
            "colorscale": [
             [
              0,
              "#0d0887"
             ],
             [
              0.1111111111111111,
              "#46039f"
             ],
             [
              0.2222222222222222,
              "#7201a8"
             ],
             [
              0.3333333333333333,
              "#9c179e"
             ],
             [
              0.4444444444444444,
              "#bd3786"
             ],
             [
              0.5555555555555556,
              "#d8576b"
             ],
             [
              0.6666666666666666,
              "#ed7953"
             ],
             [
              0.7777777777777778,
              "#fb9f3a"
             ],
             [
              0.8888888888888888,
              "#fdca26"
             ],
             [
              1,
              "#f0f921"
             ]
            ],
            "type": "histogram2dcontour"
           }
          ],
          "mesh3d": [
           {
            "colorbar": {
             "outlinewidth": 0,
             "ticks": ""
            },
            "type": "mesh3d"
           }
          ],
          "parcoords": [
           {
            "line": {
             "colorbar": {
              "outlinewidth": 0,
              "ticks": ""
             }
            },
            "type": "parcoords"
           }
          ],
          "pie": [
           {
            "automargin": true,
            "type": "pie"
           }
          ],
          "scatter": [
           {
            "fillpattern": {
             "fillmode": "overlay",
             "size": 10,
             "solidity": 0.2
            },
            "type": "scatter"
           }
          ],
          "scatter3d": [
           {
            "line": {
             "colorbar": {
              "outlinewidth": 0,
              "ticks": ""
             }
            },
            "marker": {
             "colorbar": {
              "outlinewidth": 0,
              "ticks": ""
             }
            },
            "type": "scatter3d"
           }
          ],
          "scattercarpet": [
           {
            "marker": {
             "colorbar": {
              "outlinewidth": 0,
              "ticks": ""
             }
            },
            "type": "scattercarpet"
           }
          ],
          "scattergeo": [
           {
            "marker": {
             "colorbar": {
              "outlinewidth": 0,
              "ticks": ""
             }
            },
            "type": "scattergeo"
           }
          ],
          "scattergl": [
           {
            "marker": {
             "colorbar": {
              "outlinewidth": 0,
              "ticks": ""
             }
            },
            "type": "scattergl"
           }
          ],
          "scattermapbox": [
           {
            "marker": {
             "colorbar": {
              "outlinewidth": 0,
              "ticks": ""
             }
            },
            "type": "scattermapbox"
           }
          ],
          "scatterpolar": [
           {
            "marker": {
             "colorbar": {
              "outlinewidth": 0,
              "ticks": ""
             }
            },
            "type": "scatterpolar"
           }
          ],
          "scatterpolargl": [
           {
            "marker": {
             "colorbar": {
              "outlinewidth": 0,
              "ticks": ""
             }
            },
            "type": "scatterpolargl"
           }
          ],
          "scatterternary": [
           {
            "marker": {
             "colorbar": {
              "outlinewidth": 0,
              "ticks": ""
             }
            },
            "type": "scatterternary"
           }
          ],
          "surface": [
           {
            "colorbar": {
             "outlinewidth": 0,
             "ticks": ""
            },
            "colorscale": [
             [
              0,
              "#0d0887"
             ],
             [
              0.1111111111111111,
              "#46039f"
             ],
             [
              0.2222222222222222,
              "#7201a8"
             ],
             [
              0.3333333333333333,
              "#9c179e"
             ],
             [
              0.4444444444444444,
              "#bd3786"
             ],
             [
              0.5555555555555556,
              "#d8576b"
             ],
             [
              0.6666666666666666,
              "#ed7953"
             ],
             [
              0.7777777777777778,
              "#fb9f3a"
             ],
             [
              0.8888888888888888,
              "#fdca26"
             ],
             [
              1,
              "#f0f921"
             ]
            ],
            "type": "surface"
           }
          ],
          "table": [
           {
            "cells": {
             "fill": {
              "color": "#EBF0F8"
             },
             "line": {
              "color": "white"
             }
            },
            "header": {
             "fill": {
              "color": "#C8D4E3"
             },
             "line": {
              "color": "white"
             }
            },
            "type": "table"
           }
          ]
         },
         "layout": {
          "annotationdefaults": {
           "arrowcolor": "#2a3f5f",
           "arrowhead": 0,
           "arrowwidth": 1
          },
          "autotypenumbers": "strict",
          "coloraxis": {
           "colorbar": {
            "outlinewidth": 0,
            "ticks": ""
           }
          },
          "colorscale": {
           "diverging": [
            [
             0,
             "#8e0152"
            ],
            [
             0.1,
             "#c51b7d"
            ],
            [
             0.2,
             "#de77ae"
            ],
            [
             0.3,
             "#f1b6da"
            ],
            [
             0.4,
             "#fde0ef"
            ],
            [
             0.5,
             "#f7f7f7"
            ],
            [
             0.6,
             "#e6f5d0"
            ],
            [
             0.7,
             "#b8e186"
            ],
            [
             0.8,
             "#7fbc41"
            ],
            [
             0.9,
             "#4d9221"
            ],
            [
             1,
             "#276419"
            ]
           ],
           "sequential": [
            [
             0,
             "#0d0887"
            ],
            [
             0.1111111111111111,
             "#46039f"
            ],
            [
             0.2222222222222222,
             "#7201a8"
            ],
            [
             0.3333333333333333,
             "#9c179e"
            ],
            [
             0.4444444444444444,
             "#bd3786"
            ],
            [
             0.5555555555555556,
             "#d8576b"
            ],
            [
             0.6666666666666666,
             "#ed7953"
            ],
            [
             0.7777777777777778,
             "#fb9f3a"
            ],
            [
             0.8888888888888888,
             "#fdca26"
            ],
            [
             1,
             "#f0f921"
            ]
           ],
           "sequentialminus": [
            [
             0,
             "#0d0887"
            ],
            [
             0.1111111111111111,
             "#46039f"
            ],
            [
             0.2222222222222222,
             "#7201a8"
            ],
            [
             0.3333333333333333,
             "#9c179e"
            ],
            [
             0.4444444444444444,
             "#bd3786"
            ],
            [
             0.5555555555555556,
             "#d8576b"
            ],
            [
             0.6666666666666666,
             "#ed7953"
            ],
            [
             0.7777777777777778,
             "#fb9f3a"
            ],
            [
             0.8888888888888888,
             "#fdca26"
            ],
            [
             1,
             "#f0f921"
            ]
           ]
          },
          "colorway": [
           "#636efa",
           "#EF553B",
           "#00cc96",
           "#ab63fa",
           "#FFA15A",
           "#19d3f3",
           "#FF6692",
           "#B6E880",
           "#FF97FF",
           "#FECB52"
          ],
          "font": {
           "color": "#2a3f5f"
          },
          "geo": {
           "bgcolor": "white",
           "lakecolor": "white",
           "landcolor": "#E5ECF6",
           "showlakes": true,
           "showland": true,
           "subunitcolor": "white"
          },
          "hoverlabel": {
           "align": "left"
          },
          "hovermode": "closest",
          "mapbox": {
           "style": "light"
          },
          "paper_bgcolor": "white",
          "plot_bgcolor": "#E5ECF6",
          "polar": {
           "angularaxis": {
            "gridcolor": "white",
            "linecolor": "white",
            "ticks": ""
           },
           "bgcolor": "#E5ECF6",
           "radialaxis": {
            "gridcolor": "white",
            "linecolor": "white",
            "ticks": ""
           }
          },
          "scene": {
           "xaxis": {
            "backgroundcolor": "#E5ECF6",
            "gridcolor": "white",
            "gridwidth": 2,
            "linecolor": "white",
            "showbackground": true,
            "ticks": "",
            "zerolinecolor": "white"
           },
           "yaxis": {
            "backgroundcolor": "#E5ECF6",
            "gridcolor": "white",
            "gridwidth": 2,
            "linecolor": "white",
            "showbackground": true,
            "ticks": "",
            "zerolinecolor": "white"
           },
           "zaxis": {
            "backgroundcolor": "#E5ECF6",
            "gridcolor": "white",
            "gridwidth": 2,
            "linecolor": "white",
            "showbackground": true,
            "ticks": "",
            "zerolinecolor": "white"
           }
          },
          "shapedefaults": {
           "line": {
            "color": "#2a3f5f"
           }
          },
          "ternary": {
           "aaxis": {
            "gridcolor": "white",
            "linecolor": "white",
            "ticks": ""
           },
           "baxis": {
            "gridcolor": "white",
            "linecolor": "white",
            "ticks": ""
           },
           "bgcolor": "#E5ECF6",
           "caxis": {
            "gridcolor": "white",
            "linecolor": "white",
            "ticks": ""
           }
          },
          "title": {
           "x": 0.05
          },
          "xaxis": {
           "automargin": true,
           "gridcolor": "white",
           "linecolor": "white",
           "ticks": "",
           "title": {
            "standoff": 15
           },
           "zerolinecolor": "white",
           "zerolinewidth": 2
          },
          "yaxis": {
           "automargin": true,
           "gridcolor": "white",
           "linecolor": "white",
           "ticks": "",
           "title": {
            "standoff": 15
           },
           "zerolinecolor": "white",
           "zerolinewidth": 2
          }
         }
        },
        "updatemenus": [
         {
          "buttons": [
           {
            "args": [
             null,
             {
              "frame": {
               "duration": 500,
               "redraw": true
              },
              "fromcurrent": true,
              "mode": "immediate",
              "transition": {
               "duration": 500,
               "easing": "linear"
              }
             }
            ],
            "label": "&#9654;",
            "method": "animate"
           },
           {
            "args": [
             [
              null
             ],
             {
              "frame": {
               "duration": 0,
               "redraw": true
              },
              "fromcurrent": true,
              "mode": "immediate",
              "transition": {
               "duration": 0,
               "easing": "linear"
              }
             }
            ],
            "label": "&#9724;",
            "method": "animate"
           }
          ],
          "direction": "left",
          "pad": {
           "r": 10,
           "t": 70
          },
          "showactive": false,
          "type": "buttons",
          "x": 0.1,
          "xanchor": "right",
          "y": 0,
          "yanchor": "top"
         }
        ]
       }
      }
     },
     "metadata": {},
     "output_type": "display_data"
    }
   ],
   "source": [
    "import plotly.express as px\n",
    "synthetic_data['log_mildew_incidence'] = np.log(synthetic_data['Mildew Incidence'] + 0.0000001)\n",
    "# calculate log odds from probability\n",
    "synthetic_data['log_odds'] = np.log(synthetic_data['Mildew Incidence'] / (1 - synthetic_data['Mildew Incidence']) + 1e-10)\n",
    "\n",
    "fig = px.density_mapbox(synthetic_data, lat='Centroid Lat', lon='Centroid Long', z='log_mildew_incidence',\n",
    "                        hover_name=\"Field ID\", hover_data=[\"Grower\", \"Mildew Incidence\"],\n",
    "                        radius=10, zoom=10, height=600,\n",
    "                        mapbox_style=\"stamen-terrain\",\n",
    "                        animation_frame=\"Period\", # Add animation_frame parameter\n",
    "                        color_continuous_scale=\"thermal\", # Add color_continuous_scale parameter, \"turbo\" is also a good option\n",
    "                        range_color=[np.min(synthetic_data['log_mildew_incidence']), np.max(synthetic_data['log_mildew_incidence'])]) # Add range_color parameter\n",
    "\n",
    "#fig.update_geos(fitbounds=\"locations\")\n",
    "fig.update_layout(mapbox_style=\"open-street-map\")\n",
    "fig.update_layout(margin={\"r\":0,\"t\":0,\"l\":0,\"b\":0})\n",
    "\n",
    "print('Number of Fields: ', N)\n",
    "\n",
    "fig.show()"
   ]
  },
  {
   "attachments": {},
   "cell_type": "markdown",
   "metadata": {},
   "source": [
    "# Revenue change"
   ]
  },
  {
   "cell_type": "code",
   "execution_count": 38,
   "metadata": {},
   "outputs": [],
   "source": [
    "# Data for the estimation of cone incidence vs leaf incidence\n",
    "df_cone_incidence_leaf_incidence = pd.read_csv('../data/raw/economics/Leaf incidence_vs_Cone_incidence.csv', encoding='utf-8')\n",
    "\n",
    "# Data preprocessing\n",
    "df_cone_incidence_leaf_incidence = df_cone_incidence_leaf_incidence.dropna()\n",
    "\n",
    "# Data for the estimation of yield loss vs cone incidence (change in quantity metric)\n",
    "df_yield_loss_cone_incidence = pd.read_csv('../data/raw/economics/Cone incidence_vs_Cone color_and_Yield.csv', encoding='utf-8')\n",
    "df_yield_loss_cone_incidence = df_yield_loss_cone_incidence[['Cone incidence', 'Yield Loss']]\n",
    "\n",
    "# Data for the estimation of cone color vs cone incidence (change in quality metric)\n",
    "df_cone_color_cone_incidence = pd.read_csv('../data/raw/economics/Cone incidence_vs_Cone color_and_Yield.csv', encoding='utf-8')\n",
    "df_cone_color_cone_incidence = df_cone_color_cone_incidence[['Cone incidence', 'Cone Color']]\n",
    "\n",
    "\n",
    "# Data\n",
    "data_cone_incidence_leaf_incidence = df_cone_incidence_leaf_incidence.to_numpy()\n",
    "data_yield_loss_cone_incidence = df_yield_loss_cone_incidence.to_numpy()\n",
    "data_cone_color_cone_incidence = df_cone_color_cone_incidence.to_numpy()\n",
    "\n",
    "# Linear regressions\n",
    "a1, b1 = np.polyfit(data_cone_incidence_leaf_incidence[:, 0], data_cone_incidence_leaf_incidence[:, 1], 1)\n",
    "a2, b2 = np.polyfit(data_yield_loss_cone_incidence[:, 0], data_yield_loss_cone_incidence[:, 1], 1)\n",
    "\n",
    "# adjust y-values to make intercept 0\n",
    "adjusted_y = data_cone_color_cone_incidence[:, 1] - 10\n",
    "\n",
    "# fit a line with intercept of 0\n",
    "a3, b3 = np.polyfit(data_cone_color_cone_incidence[:, 0], adjusted_y, 1)\n",
    "\n",
    "\n",
    "\n",
    "# Load parameters\n",
    "checkpoint1 = np.load('../reports/checkpoint_high_demand.npy', allow_pickle=True)\n",
    "theta_high = checkpoint1[0]\n",
    "\n",
    "checkpoint2 = np.load('../reports/checkpoint_moderate_demand.npy', allow_pickle=True)\n",
    "theta_moderate = checkpoint2[0]\n",
    "\n",
    "checkpoint3 = np.load('../reports/checkpoint_low_demand.npy', allow_pickle=True)\n",
    "theta_low = checkpoint3[0]\n",
    "\n",
    "# Define logistic sigmoid function\n",
    "def sigmoid(z):\n",
    "\n",
    "    g = 1 / (1 + np.exp(-z))\n",
    "    \n",
    "    return g\n",
    "\n",
    "# QUALITY METRIC\n",
    "# Function to estimate cone color given plant incidence\n",
    "def cone_color(plant_incidence, n=10, D=1.19):\n",
    "    \n",
    "    # n is the number of leaves sampled and D is the index of dispersion\n",
    "    n_D = n / D \n",
    "    \n",
    "    leaf_incidence = leaf_incidence = 1 - (1 - plant_incidence) ** (1 / n_D)\n",
    "    \n",
    "    cone_incidence = a1 * leaf_incidence + b1\n",
    "    # intercept fixed at 10 since that's the highest cone color rating\n",
    "    cone_color = a3 * cone_incidence + 10\n",
    "    \n",
    "    return cone_color\n",
    "\n",
    "# QUANTITY METRIC\n",
    "# Function to estimate yield loss given plant incidence (probability of disease in plants)\n",
    "def yield_loss(plant_incidence, n=10, D=1.19):\n",
    "    \n",
    "    # n is the number of leaves sampled and D is the index of dispersion\n",
    "    n_D = n / D \n",
    "    \n",
    "    leaf_incidence = 1 - (1 - plant_incidence) ** (1 / n_D)\n",
    "    \n",
    "    cone_incidence = a1 * leaf_incidence + b1\n",
    "    \n",
    "    yield_loss = a2 * cone_incidence\n",
    "    \n",
    "    return yield_loss\n",
    "\n",
    "\n",
    "# Function to estimate revenue and revenue change given plant incidence\n",
    "def revenue(plant_incidence, n=10, D=1.19, demand=\"high\", variety=\"nugget\"):\n",
    "    \n",
    "    if variety == \"nugget\":\n",
    "        initial_yield = 2038.0\n",
    "        initial_price = [2.5, 4.25, 6.0] #[low, mod, high] demand\n",
    "        \n",
    "    elif variety == \"chinook\":\n",
    "        initial_yield = 1629.3333\n",
    "        initial_price = [4.0, 5.0, 6.5]\n",
    "        \n",
    "    elif variety == \"simcoe\":\n",
    "        initial_yield = 1752.0\n",
    "        initial_price = [5.0, 6.5, 8.0]\n",
    "        \n",
    "    elif variety == \"mosaic\":\n",
    "        initial_yield = 2134.0\n",
    "        initial_price = [5.0, 6.5, 8.0]\n",
    "        \n",
    "    \n",
    "    adjusted_yield = initial_yield * (1 - yield_loss(plant_incidence, n, D))\n",
    "    \n",
    "    if demand == \"low\":\n",
    "        \n",
    "        adjusted_price = initial_price[0] * sigmoid(theta_low[0] + theta_low[1] * cone_color(plant_incidence, n, D))\n",
    "        adjusted_yield = initial_yield * (1 - yield_loss(plant_incidence, n, D))\n",
    "        revenue = initial_price[0] * initial_yield\n",
    "        adjusted_revenue = adjusted_price * adjusted_yield\n",
    "        revenue_change = (adjusted_revenue - revenue) / revenue\n",
    "    \n",
    "    elif demand == \"moderate\":\n",
    "        \n",
    "        adjusted_price = initial_price[1] * sigmoid(theta_moderate[0] + theta_moderate[1] * cone_color(plant_incidence, n, D))\n",
    "        revenue = initial_price[1] * initial_yield\n",
    "        adjusted_revenue = adjusted_price * adjusted_yield\n",
    "        revenue_change = (adjusted_revenue - revenue) / revenue\n",
    "        \n",
    "    elif demand == \"high\":\n",
    "        \n",
    "        adjusted_price = initial_price[2] * sigmoid(theta_high[0] + theta_high[1] * cone_color(plant_incidence, n, D))\n",
    "        revenue = initial_price[2] * initial_yield\n",
    "        adjusted_revenue = adjusted_price * adjusted_yield\n",
    "        revenue_change = (adjusted_revenue - revenue) / revenue\n",
    "        \n",
    "    return adjusted_revenue, revenue_change"
   ]
  },
  {
   "cell_type": "code",
   "execution_count": 53,
   "metadata": {},
   "outputs": [],
   "source": [
    "revenue_change_simulations_list = []\n",
    "\n",
    "for simulation in range(0, simulations):\n",
    "\n",
    "    revenue_change_list = []\n",
    "\n",
    "    for field in range(0, N):\n",
    "        \n",
    "        revenue_change = revenue((y_2_array[simulation][field] / n_jul[field]), n=10, D=1.19, demand=\"high\", variety=variety_array[field][0])[1]\n",
    "        revenue_change_list.append(revenue_change)\n",
    "        \n",
    "    revenue_change_array = np.array(revenue_change_list).reshape(N, 1)\n",
    "    revenue_change_simulations_list.append(revenue_change_array)"
   ]
  },
  {
   "cell_type": "code",
   "execution_count": 61,
   "metadata": {},
   "outputs": [
    {
     "data": {
      "text/plain": [
       "(400, 130, 1)"
      ]
     },
     "execution_count": 61,
     "metadata": {},
     "output_type": "execute_result"
    }
   ],
   "source": [
    "y_2_array.shape"
   ]
  },
  {
   "cell_type": "code",
   "execution_count": 59,
   "metadata": {},
   "outputs": [
    {
     "data": {
      "text/plain": [
       "array([[-0.00551479],\n",
       "       [-0.00904547],\n",
       "       [-0.0087228 ],\n",
       "       [-0.00551479],\n",
       "       [-0.00551479],\n",
       "       [-0.00904547],\n",
       "       [-0.00551479],\n",
       "       [-0.00551479],\n",
       "       [-0.00904547],\n",
       "       [-0.00888373],\n",
       "       [-0.0087228 ],\n",
       "       [-0.00551479],\n",
       "       [-0.00888373],\n",
       "       [-0.00551479],\n",
       "       [-0.00888373],\n",
       "       [-0.00551479],\n",
       "       [-0.0084033 ],\n",
       "       [-0.0084033 ],\n",
       "       [-0.00551479],\n",
       "       [-0.00551479],\n",
       "       [-0.00904547],\n",
       "       [-0.00551479],\n",
       "       [-0.0084033 ],\n",
       "       [-0.0084033 ],\n",
       "       [-0.0084033 ],\n",
       "       [-0.0084033 ],\n",
       "       [-0.00551479],\n",
       "       [-0.00551479],\n",
       "       [-0.00551479],\n",
       "       [-0.0087228 ],\n",
       "       [-0.00551479],\n",
       "       [-0.00551479],\n",
       "       [-0.0084033 ],\n",
       "       [-0.0087228 ],\n",
       "       [-0.0087228 ],\n",
       "       [-0.0087228 ],\n",
       "       [-0.00551479],\n",
       "       [-0.0087228 ],\n",
       "       [-0.00888373],\n",
       "       [-0.00551479],\n",
       "       [-0.00551479],\n",
       "       [-0.00551479],\n",
       "       [-0.00888373],\n",
       "       [-0.0053696 ],\n",
       "       [-0.0053696 ],\n",
       "       [-0.0053696 ],\n",
       "       [-0.01070899],\n",
       "       [-0.01053872],\n",
       "       [-0.01070899],\n",
       "       [-0.01070899],\n",
       "       [-0.01122526],\n",
       "       [-0.00551479],\n",
       "       [-0.0053696 ],\n",
       "       [-0.0053696 ],\n",
       "       [-0.01088016],\n",
       "       [-0.01105225],\n",
       "       [-0.00920802],\n",
       "       [-0.00904547],\n",
       "       [-0.00904547],\n",
       "       [-0.00904547],\n",
       "       [-0.00953559],\n",
       "       [-0.00904547],\n",
       "       [-0.00551479],\n",
       "       [-0.00551479],\n",
       "       [-0.00953559],\n",
       "       [-0.00551479],\n",
       "       [-0.00904547],\n",
       "       [-0.00551479],\n",
       "       [-0.00904547],\n",
       "       [-0.00986651],\n",
       "       [-0.01003325],\n",
       "       [-0.00986651],\n",
       "       [-0.00986651],\n",
       "       [-0.00970063],\n",
       "       [-0.00551479],\n",
       "       [-0.00551479],\n",
       "       [-0.00551479],\n",
       "       [-0.00551479],\n",
       "       [-0.00551479],\n",
       "       [-0.00551479],\n",
       "       [-0.00551479],\n",
       "       [-0.00856266],\n",
       "       [-0.0084033 ],\n",
       "       [-0.0053696 ],\n",
       "       [-0.0053696 ],\n",
       "       [-0.00904547],\n",
       "       [-0.00551479],\n",
       "       [-0.00551479],\n",
       "       [-0.0087228 ],\n",
       "       [-0.0087228 ],\n",
       "       [-0.00551479],\n",
       "       [-0.0087228 ],\n",
       "       [-0.00856266],\n",
       "       [-0.00888373],\n",
       "       [-0.00551479],\n",
       "       [-0.00551479],\n",
       "       [-0.00856266],\n",
       "       [-0.00551479],\n",
       "       [-0.0087228 ],\n",
       "       [-0.00551479],\n",
       "       [-0.00904547],\n",
       "       [-0.0084033 ],\n",
       "       [-0.00824473],\n",
       "       [-0.00953559],\n",
       "       [-0.0053696 ],\n",
       "       [-0.01174998],\n",
       "       [-0.0053696 ],\n",
       "       [-0.01139922],\n",
       "       [-0.00551479],\n",
       "       [-0.00551479],\n",
       "       [-0.01122526],\n",
       "       [-0.01105225],\n",
       "       [-0.00551479],\n",
       "       [-0.00551479],\n",
       "       [-0.00551479],\n",
       "       [-0.0053696 ],\n",
       "       [-0.00551479],\n",
       "       [-0.01174998],\n",
       "       [-0.00551479],\n",
       "       [-0.00551479],\n",
       "       [-0.00937139],\n",
       "       [-0.00970063],\n",
       "       [-0.00551479],\n",
       "       [-0.00551479],\n",
       "       [-0.00551479],\n",
       "       [-0.0053696 ],\n",
       "       [-0.00551479],\n",
       "       [-0.00551479],\n",
       "       [-0.00551479],\n",
       "       [-0.00551479]])"
      ]
     },
     "execution_count": 59,
     "metadata": {},
     "output_type": "execute_result"
    }
   ],
   "source": [
    "np.sum(revenue_change_simulations_list, axis=0) / simulations"
   ]
  },
  {
   "cell_type": "code",
   "execution_count": 64,
   "metadata": {},
   "outputs": [
    {
     "name": "stdout",
     "output_type": "stream",
     "text": [
      "Length of p_values_repeated for low demand: 400\n",
      "Length of flat_revenue_change_list for low demand: 13000\n",
      "Warning: Lengths do not match for low demand!\n",
      "Length of p_values_repeated for moderate demand: 400\n",
      "Length of flat_revenue_change_list for moderate demand: 13000\n",
      "Warning: Lengths do not match for moderate demand!\n",
      "Length of p_values_repeated for high demand: 400\n",
      "Length of flat_revenue_change_list for high demand: 13000\n",
      "Warning: Lengths do not match for high demand!\n"
     ]
    }
   ],
   "source": [
    "# Initialize an empty dictionary to hold revenue change arrays for each scenario\n",
    "revenue_change_simulation_lists = {\"low\": [], \"moderate\": [], \"high\": []}\n",
    "\n",
    "# Calculate revenue change for each scenario and append the array to the corresponding list\n",
    "for scenario in [\"low\", \"moderate\", \"high\"]:\n",
    "    for simulation in range(simulations):\n",
    "        revenue_change_list = []\n",
    "        for field in range(N):\n",
    "            revenue_change = revenue((y_2_array[simulation][field] / n_jul[field]), n=10, D=1.19, demand=scenario, variety=variety_array[field][0])[1]\n",
    "            revenue_change_list.append(revenue_change)\n",
    "        revenue_change_array = np.array(revenue_change_list).reshape(N, 1)\n",
    "        # Flatten the array before appending\n",
    "        revenue_change_simulation_lists[scenario].append(revenue_change_array.ravel())\n",
    "\n",
    "# Repeat each p_value based on the number of simulations run for it and plot the box plot for each scenario\n",
    "for scenario in [\"low\", \"moderate\", \"high\"]:\n",
    "    p_values_repeated = []\n",
    "    flat_revenue_change_list = [item for sublist in revenue_change_simulation_lists[scenario] for item in sublist]\n",
    "    for i in range(len(p_values)):\n",
    "        p_values_repeated.extend([p_values[i]] * simulations)\n",
    "    \n",
    "    print(f\"Length of p_values_repeated for {scenario} demand: {len(p_values_repeated)}\")\n",
    "    print(f\"Length of flat_revenue_change_list for {scenario} demand: {len(flat_revenue_change_list)}\")\n",
    "    \n",
    "    if len(p_values_repeated) != len(flat_revenue_change_list):\n",
    "        print(f\"Warning: Lengths do not match for {scenario} demand!\")\n",
    "        continue\n",
    "\n",
    "    df_revenue_change = pd.DataFrame({\n",
    "        'p_value': p_values_repeated, \n",
    "        'revenue_change': flat_revenue_change_list\n",
    "    })\n",
    "    sns.set_theme(style=\"ticks\")\n",
    "\n",
    "    # Initialize the figure\n",
    "    f, ax = plt.subplots(figsize=(7, 6))\n",
    "\n",
    "    # Plot the revenue change with vertical boxes\n",
    "    sns.boxplot(x='p_value', y='revenue_change', data=df_revenue_change, whis=[2.5, 97.5], width=.6, palette=\"vlag\")\n",
    "\n",
    "    # Add in points to show each observation\n",
    "    sns.stripplot(x='p_value', y='revenue_change', data=df_revenue_change, size=4, color=\".3\", linewidth=0, alpha=0.2)\n",
    "\n",
    "    # Tweak the visual presentation\n",
    "    ax.yaxis.grid(True)\n",
    "    ax.set(xlabel=\"Initial probability of disease\", ylabel=\"Revenue Change\")\n",
    "    ax.set_title(f\"Revenue Change for {scenario} demand\")\n",
    "    sns.despine(trim=True, bottom=True)\n",
    "    \n",
    "    plt.show()\n"
   ]
  }
 ],
 "metadata": {
  "kernelspec": {
   "display_name": "Python 3",
   "language": "python",
   "name": "python3"
  },
  "language_info": {
   "codemirror_mode": {
    "name": "ipython",
    "version": 3
   },
   "file_extension": ".py",
   "mimetype": "text/x-python",
   "name": "python",
   "nbconvert_exporter": "python",
   "pygments_lexer": "ipython3",
   "version": "3.11.3"
  },
  "orig_nbformat": 4
 },
 "nbformat": 4,
 "nbformat_minor": 2
}
