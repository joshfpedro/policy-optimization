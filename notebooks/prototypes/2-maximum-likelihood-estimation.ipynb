{
 "cells": [
  {
   "cell_type": "code",
   "execution_count": 1,
   "metadata": {},
   "outputs": [],
   "source": [
    "import numpy as np\n",
    "from autograd import grad\n",
    "import matplotlib.pyplot as plt\n",
    "#import torch\n",
    "np.set_printoptions(suppress=True)\n",
    "\n",
    "# Import data\n",
    "X = np.load('../data/processed/data_tensor.npz')\n",
    "\n",
    "N = X['N']\n",
    "M = X['M']\n",
    "y = X['y']\n",
    "z = X['z']\n",
    "n_y = X['n_y']\n",
    "n_z = X['n_z']\n",
    "area = X['area']\n",
    "wind = X['wind']\n",
    "distance = X['distance']\n",
    "sI1 = X['sI1']\n",
    "sI2 = X['sI2'] \n",
    "tI1 = X['tI1']\n",
    "tI2 = X['tI2']\n",
    "s_i = X['s_i']\n",
    "s_j = X['s_j']"
   ]
  },
  {
   "cell_type": "code",
   "execution_count": 170,
   "metadata": {},
   "outputs": [
    {
     "data": {
      "text/plain": [
       "array([[100,  97,  97, 100],\n",
       "       [114, 114, 114, 114],\n",
       "       [116, 116, 116, 116],\n",
       "       [125, 123, 123, 124]])"
      ]
     },
     "execution_count": 170,
     "metadata": {},
     "output_type": "execute_result"
    }
   ],
   "source": [
    "N"
   ]
  },
  {
   "cell_type": "code",
   "execution_count": 171,
   "metadata": {},
   "outputs": [
    {
     "data": {
      "text/plain": [
       "array([[100,  97, 100, 100],\n",
       "       [114, 114, 114, 114],\n",
       "       [116, 116, 116, 116],\n",
       "       [125, 126, 124, 124]])"
      ]
     },
     "execution_count": 171,
     "metadata": {},
     "output_type": "execute_result"
    }
   ],
   "source": [
    "M"
   ]
  },
  {
   "cell_type": "markdown",
   "metadata": {},
   "source": [
    "## Function\n",
    "\n",
    "$$\n",
    "\\eta_{i}=\\sum_{k=1}^{K} I_{k}^{(t)}(i)\\left[\\beta_{k}+\\delta_{k}\\left(\\frac{\\tilde{y}_{i}}{n_{\\tilde{y}_{i}}} \\exp{\\left(-\\eta_{1k} s_{i}\\right)}\\right)+\\gamma_{k} \\sum_{j=1}^{M_{i}}\\left(\\frac{a_{j} z_{j}}{n_{z_{j}}} \\exp{\\left(-\\eta_{2k} s_{j}\\right)} w_{i j} \\exp{\\left(-\\alpha_{k} d_{i j}\\right)} I_{k}^{(s)}(j)\\right)\\right]\n",
    "$$"
   ]
  },
  {
   "cell_type": "markdown",
   "metadata": {},
   "source": [
    "## Derivatives\n",
    "\n",
    "$$\n",
    "\\begin{align*}\n",
    "\\frac{\\partial \\eta_{i}}{\\partial \\beta_{k}} &= I_{k}^{(t)}(i) \\\\\n",
    "\n",
    "\\frac{\\partial \\eta_{i}}{\\partial \\delta_{k}} &= I_{k}^{(t)}(i)\\left(\\frac{\\tilde{y}_{i}}{n_{\\tilde{y}_{i}}}\\right) \\exp \\left(-\\eta_{1 k} s_{i}\\right) \\\\\n",
    "\n",
    "\\frac{\\partial \\eta_{i}}{\\partial \\eta_{1 k}} &= -I_{k}^{(t)}(i) \\delta_{k} s_{i}\\left(\\frac{\\tilde{y}_{i}}{n_{\\tilde{y}_{i}}}\\right) \\exp \\left(-\\eta_{1 k} s_{i}\\right) \\\\\n",
    "\n",
    "\\frac{\\partial \\eta_{i}}{\\partial \\eta_{2 k}} &= -\\gamma_{k} I_{k}^{(t)}(i) \\sum_{j=1}^{M_{i}}\\left[\\left(\\frac{a_{j} z_{j}}{n_{z j}}\\right) \\exp \\left(-\\eta_{2 k} s_{j}\\right) w_{i j} \\exp \\left(-\\alpha_{k} d_{i j}\\right) I_{k}^{(s)}(j) s_{j}\\right] \\\\\n",
    "\n",
    "\\frac{\\partial \\eta_{i}}{\\partial \\gamma_{k}} &= I_{k}^{(t)}(i) \\sum_{j=1}^{M_{i}}\\left[\\left(\\frac{a_{j} z_{j}}{n_{z_{j}}}\\right) \\exp \\left(-\\eta_{2 k} s_{j}\\right) w_{i j} \\exp \\left(-\\alpha_{k} d_{i j}\\right) I_{k}^{(s)}(j)\\right] \\\\\n",
    "\n",
    "\\frac{\\partial \\eta_{i}}{\\partial \\alpha_{k}} &= -\\gamma_{k} I_{k}^{(t)}(i) \\sum_{j=1}^{M_{i}}\\left[\\left(\\frac{a_{j} z_{j}}{n_{z_{j}}}\\right) \\exp \\left(-\\eta_{2 k} s_{j}\\right) w_{i j} \\exp \\left(-\\alpha_{k} d_{i j}\\right) I_{k}^{(s)}(j) d_{i j}\\right]\n",
    "\\end{align*}\n",
    "$$"
   ]
  },
  {
   "cell_type": "code",
   "execution_count": 85,
   "metadata": {},
   "outputs": [],
   "source": [
    "\n",
    "t = 1\n",
    "m = 3\n",
    "\n",
    "# Number of yards i in prior month\n",
    "N_lag = N[t, m-1]\n",
    "\n",
    "# Number of yards j in prior month\n",
    "M_lag = M[t, m-1]\n",
    "\n",
    "# Number of diseased plants in yard i in prior month\n",
    "y_lag = y[t, m-1, 0:N_lag]\n",
    "y_lag = y_lag.reshape(N_lag, 1)\n",
    "\n",
    "# Number of plants sampled in yard i in prior month\n",
    "n_y_lag = n_y[t, m-1, 0:N_lag]\n",
    "n_y_lag = n_y_lag.reshape(N_lag, 1)\n",
    "\n",
    "# Number of diseased plants in yard i in current month\n",
    "y_i = y[t, m, 0:N[t, m]]\n",
    "y_i = y_i.reshape(N[t, m], 1)\n",
    "\n",
    "# Number of plants sampled in yard i in current month\n",
    "n_y_i = n_y[t, m, 0:N[t, m]]\n",
    "n_y_i = n_y_i.reshape(N[t, m], 1)\n",
    "\n",
    "# Number of diseased plants in yard j in prior month\n",
    "z_lag = y[t, m-1, 0:M_lag]\n",
    "z_lag = z_lag.reshape(M_lag, 1)\n",
    "\n",
    "# Number of plants sampled in yard j in prior month\n",
    "n_z_lag = n_y[t, m-1, 0:M_lag]\n",
    "n_z_lag = n_z_lag.reshape(M_lag, 1)\n",
    "\n",
    "# Total monthly sprays for yard i in prior month\n",
    "s_i_lag = s_i[t, m-1, 0:N_lag]\n",
    "s_i_lag = s_i_lag.reshape(N_lag, 1)\n",
    "\n",
    "# Total monthly sprays for yard j in prior month\n",
    "s_j_lag = s_j[t, m-1, 0:M_lag]\n",
    "s_j_lag = s_j_lag.reshape(M_lag, 1)\n",
    "\n",
    "# Area in hectares of yard j [in prior month]\n",
    "area_lag = area[t, m-1, 0:M_lag]\n",
    "area_lag = area_lag.reshape(M_lag, 1)\n",
    "\n",
    "# Wind run of yard j in prior month\n",
    "wind_lag = wind[t, m-1, 0:N_lag, 0:M_lag]\n",
    "\n",
    "# Distance in km between yard i and j [in prior month]\n",
    "distance_lag = distance[t, m-1, 0:N_lag, 0:M_lag]\n",
    "\n",
    "# Indicator on whether yard j is affected by an R6-virulent race in prior month\n",
    "sI1_lag = sI1[t, m-1, 0:M_lag]\n",
    "sI1_lag = sI1_lag.reshape(M_lag, 1)\n",
    "\n",
    "# Constant array of 1's for yard j [in prior month]\n",
    "sI2_lag = sI2[t, m-1, 0:M_lag]\n",
    "sI2_lag = sI2_lag.reshape(M_lag, 1)\n",
    "\n",
    "# Indicator on whether yard i is only susceptible to R6-virulent race in current month\n",
    "tI1_i = tI1[t, m, 0:N[t, m]]\n",
    "tI1_i = tI1_i.reshape(N[t, m], 1)\n",
    "\n",
    "# Indicator on whether yard i is susceptible to both races in current month\n",
    "tI2_i = tI2[t, m, 0:N[t, m]]\n",
    "tI2_i = tI2_i.reshape(N[t, m], 1)"
   ]
  },
  {
   "cell_type": "markdown",
   "metadata": {},
   "source": [
    "## Cost Function"
   ]
  },
  {
   "cell_type": "markdown",
   "metadata": {},
   "source": [
    "$$J(\\theta) = \n",
    "-\\frac{1}{N} \\sum_{i=1}^{N} y_{i} \\eta_{i}-n_{i} \\log \\left(1+e^{\\eta_{i}}\\right)\n",
    "$$\n",
    "\n",
    "$$\\frac{\\partial J}{\\partial \\theta} =\n",
    "-\\frac{1}{N}\\sum_{i=1}^{N} \\frac{\\partial \\eta_{i}}{\\partial \\theta}\\left(y_{i}-\\frac{n_{i}}{1+e^{-\\eta_{i}}}\\right)\n",
    "$$"
   ]
  },
  {
   "cell_type": "code",
   "execution_count": 348,
   "metadata": {},
   "outputs": [],
   "source": [
    "\n",
    "t = 1 # 2015\n",
    "m = 3 # June-July transition\n",
    "\n",
    "# Define the function eta() which takes input parameters theta and returns the log-odds of disease for each yard i in current time period\n",
    "def eta(theta):\n",
    "        \n",
    "    beta1, beta2, delta1, delta2, gamma1, gamma2, alpha1, alpha2, eta11, eta12, eta21, eta22 = theta\n",
    "    \n",
    "    auto_infection1 = beta1 + delta1 * (y_lag / n_y_lag) * np.exp(-eta11 * s_i_lag)\n",
    "    auto_infection2 = beta2 + delta2 * (y_lag / n_y_lag) * np.exp(-eta12 * s_i_lag)\n",
    "    \n",
    "    dispersal_component1 = gamma1 * np.sum(((area_lag * (z_lag / n_z_lag)) * np.exp(-eta21 * s_j_lag) * (wind_lag * np.exp(-alpha1 * distance_lag)).T * sI1_lag), axis=0, keepdims=True).T\n",
    "    dispersal_component2 = gamma2 * np.sum(((area_lag * (z_lag / n_z_lag)) * np.exp(-eta22 * s_j_lag) * (wind_lag * np.exp(-alpha2 * distance_lag)).T * sI2_lag), axis=0, keepdims=True).T\n",
    "    \n",
    "    eta = tI1_i * (auto_infection1 + dispersal_component1) + tI2_i * (auto_infection2 + dispersal_component2)\n",
    "    \n",
    "    return eta\n",
    "\n",
    "\n",
    "def costFunction(theta): \n",
    "    \n",
    "    neg_log_likelihood = -(1/N[t, m]) * np.sum(y_i * eta(theta) - n_y_i * np.log(1 + np.exp(eta(theta))))\n",
    "\n",
    "    return neg_log_likelihood\n",
    "\n",
    "# Numerical gradient of the cost function\n",
    "#gradient = grad(costFunction)"
   ]
  },
  {
   "cell_type": "markdown",
   "metadata": {},
   "source": [
    "## Optimization"
   ]
  },
  {
   "cell_type": "code",
   "execution_count": 349,
   "metadata": {},
   "outputs": [],
   "source": [
    "def partial(theta):\n",
    "    \n",
    "    beta1, beta2, delta1, delta2, gamma1, gamma2, alpha1, alpha2, eta11, eta12, eta21, eta22 = theta\n",
    "    \n",
    "    d_beta1 = tI1_i\n",
    "    d_beta2 = tI2_i\n",
    "    \n",
    "    d_delta1 = tI1_i * (y_lag / n_y_lag) * np.exp(-eta11 * s_i_lag)\n",
    "    d_delta2 = tI2_i * (y_lag / n_y_lag) * np.exp(-eta12 * s_i_lag)\n",
    "    \n",
    "    d_gamma1 = tI1_i * np.sum(((area_lag * (z_lag / n_z_lag)) * np.exp(-eta21 * s_j_lag) * (wind_lag * np.exp(-alpha1 * distance_lag)).T * sI1_lag), axis=0, keepdims=True).T\n",
    "    d_gamma2 = tI2_i * np.sum(((area_lag * (z_lag / n_z_lag)) * np.exp(-eta22 * s_j_lag) * (wind_lag * np.exp(-alpha2 * distance_lag)).T * sI2_lag), axis=0, keepdims=True).T\n",
    "    \n",
    "    d_alpha1 = -gamma1 * tI1_i * np.sum(((area_lag * (z_lag / n_z_lag)) * np.exp(-eta21 * s_j_lag) * (wind_lag * np.exp(-alpha1 * distance_lag)).T * sI1_lag * distance_lag.T), axis=0, keepdims=True).T\n",
    "    d_alpha2 = -gamma2 * tI2_i * np.sum(((area_lag * (z_lag / n_z_lag)) * np.exp(-eta22 * s_j_lag) * (wind_lag * np.exp(-alpha2 * distance_lag)).T * sI2_lag * distance_lag.T), axis=0, keepdims=True).T\n",
    "    \n",
    "    d_eta11 = -tI1_i * delta1 * s_i_lag * (y_lag / n_y_lag) * np.exp(-eta11 * s_i_lag)\n",
    "    d_eta12 = -tI2_i * delta2 * s_i_lag * (y_lag / n_y_lag) * np.exp(-eta12 * s_i_lag)\n",
    "\n",
    "    d_eta21 = -gamma1 * tI1_i * np.sum(((area_lag * (z_lag / n_z_lag)) * np.exp(-eta21 * s_j_lag) * (wind_lag * np.exp(-alpha1 * distance_lag)).T * sI1_lag * s_j_lag), axis=0, keepdims=True).T\n",
    "    d_eta22 = -gamma2 * tI2_i * np.sum(((area_lag * (z_lag / n_z_lag)) * np.exp(-eta22 * s_j_lag) * (wind_lag * np.exp(-alpha2 * distance_lag)).T * sI2_lag * s_j_lag), axis=0, keepdims=True).T\n",
    "\n",
    "    grad_entries = np.array([d_beta1, d_beta2, d_delta1, d_delta2, d_gamma1, d_gamma2, d_alpha1, d_alpha2, d_eta11, d_eta12, d_eta21, d_eta22])\n",
    "    \n",
    "    return grad_entries\n",
    "\n",
    "# Gradient\n",
    "def gradient(theta):\n",
    "    \n",
    "    mu = y_i - (n_y_i / (1 + np.exp(-eta(theta))))\n",
    "    \n",
    "    # Gradient entries\n",
    "    gradient = - (1 / N[t, m]) * np.sum((partial(theta) * mu), axis=1)\n",
    "    \n",
    "    return gradient\n",
    "\n",
    "\n",
    "# Gradient descent algorithm\n",
    "def gradientDescent(theta, alpha, num_iters):\n",
    "\n",
    "    # Make a copy of theta, to avoid changing the original array, since numpy arrays are passed by reference to functions\n",
    "    theta = theta.copy()\n",
    "    \n",
    "    # Use a python list to save cost in every iteration\n",
    "    J_history = []\n",
    "    \n",
    "    # Update parameter theta using the gradient\n",
    "    for i in range(num_iters):\n",
    "        \n",
    "        theta = theta - alpha * gradient(theta)\n",
    "        \n",
    "        # save the cost J in every iteration\n",
    "        J_history.append(costFunction(theta))\n",
    "    \n",
    "    return theta, J_history"
   ]
  },
  {
   "cell_type": "code",
   "execution_count": 359,
   "metadata": {},
   "outputs": [
    {
     "name": "stdout",
     "output_type": "stream",
     "text": [
      "updated final cost:\t19.226\n"
     ]
    },
    {
     "data": {
      "image/png": "[encoded data removed]",
      "text/plain": [
       "<Figure size 432x288 with 1 Axes>"
      ]
     },
     "metadata": {
      "needs_background": "light"
     },
     "output_type": "display_data"
    }
   ],
   "source": [
    "# initialize fitting parameters\n",
    "\n",
    "# Use below theta for initial training\n",
    "theta = np.random.randn(12, 1)\n",
    "\n",
    "# Use below theta to continue from checkpoint\n",
    "#checkpoint = np.load('../reports/checkpoint.npy', allow_pickle=True)\n",
    "#theta = checkpoint[0]\n",
    "\n",
    "\n",
    "# Gradient descent settings\n",
    "iterations = 50000\n",
    "alpha = 0.01 # learning rate\n",
    "\n",
    "theta, J_history = gradientDescent(theta, alpha, iterations)\n",
    "\n",
    "#print('iteration start:\\t{:.3f}'.format(np.int32(checkpoint[1])))\n",
    "#print('previous final cost:\\t{:.3f}'.format(checkpoint[2]))\n",
    "print('updated final cost:\\t{:.3f}'.format(J_history[-1]))\n",
    "#print('theta:\\t[{:.3f}, {:.3f}, {:.3f}, {:.3f}, {:.3f}, {:.3f}, {:.3f}, {:.3f}, {:.3f}, {:.3f}, {:.3f}, {:.3f}]'.format(*theta))\n",
    "\n",
    "plt.plot(list(range(1, iterations + 1)), J_history)\n",
    "plt.xlabel('iterations')\n",
    "plt.ylabel('cost')\n",
    "plt.show()"
   ]
  },
  {
   "cell_type": "code",
   "execution_count": 380,
   "metadata": {},
   "outputs": [
    {
     "data": {
      "text/plain": [
       "array([8.49732157])"
      ]
     },
     "execution_count": 380,
     "metadata": {},
     "output_type": "execute_result"
    }
   ],
   "source": [
    "theta[2]"
   ]
  },
  {
   "cell_type": "code",
   "execution_count": 360,
   "metadata": {},
   "outputs": [],
   "source": [
    "# Save trained parameters\n",
    "\n",
    "#iterations += checkpoint[1]\n",
    "checkpoint = np.array([theta, iterations, J_history[-1]], dtype=object)\n",
    "np.save('../reports/checkpoint.npy', checkpoint)"
   ]
  },
  {
   "cell_type": "code",
   "execution_count": 366,
   "metadata": {},
   "outputs": [],
   "source": [
    "def prob(theta):\n",
    "    \n",
    "    p = 1 / (1 + np.exp(-eta(theta)))\n",
    "    \n",
    "    return p"
   ]
  },
  {
   "cell_type": "code",
   "execution_count": 367,
   "metadata": {},
   "outputs": [
    {
     "name": "stdout",
     "output_type": "stream",
     "text": [
      "estimated probability of disease: \n",
      " [[0.02004516]\n",
      " [0.02004516]\n",
      " [0.02004516]\n",
      " [0.02004516]\n",
      " [0.02004516]\n",
      " [0.07501488]\n",
      " [0.02004516]\n",
      " [0.02004516]\n",
      " [0.02004516]\n",
      " [0.02004516]\n",
      " [0.02004516]\n",
      " [0.02004516]\n",
      " [0.02004516]\n",
      " [0.02004516]\n",
      " [0.02004516]\n",
      " [0.02004516]\n",
      " [0.02004516]\n",
      " [0.02004516]\n",
      " [0.02004516]\n",
      " [0.02004516]\n",
      " [0.02004516]\n",
      " [0.02004516]\n",
      " [0.02004516]\n",
      " [0.02004516]\n",
      " [0.02004516]\n",
      " [0.02004516]\n",
      " [0.02004516]\n",
      " [0.02004516]\n",
      " [0.02004516]\n",
      " [0.02004516]\n",
      " [0.02004516]\n",
      " [0.02004516]\n",
      " [0.02123466]\n",
      " [0.02004516]\n",
      " [0.02004516]\n",
      " [0.02004516]\n",
      " [0.02004516]\n",
      " [0.02004516]\n",
      " [0.07501488]\n",
      " [0.02004516]\n",
      " [0.02004516]\n",
      " [0.07501488]\n",
      " [0.02004516]\n",
      " [0.02004516]\n",
      " [0.02004516]\n",
      " [0.02004516]\n",
      " [0.02004516]\n",
      " [0.02004516]\n",
      " [0.02004516]\n",
      " [0.08769218]\n",
      " [0.42487619]\n",
      " [0.0774977 ]\n",
      " [0.03171839]\n",
      " [0.02004516]\n",
      " [0.02004516]\n",
      " [0.02004516]\n",
      " [0.13831397]\n",
      " [0.02004516]\n",
      " [0.09473266]\n",
      " [0.02382436]\n",
      " [0.41148588]\n",
      " [0.0471288 ]\n",
      " [0.07371409]\n",
      " [0.02754416]\n",
      " [0.18360474]\n",
      " [0.10608013]\n",
      " [0.42331212]\n",
      " [0.94101365]\n",
      " [0.37332849]\n",
      " [0.02004516]\n",
      " [0.02004516]\n",
      " [0.02004516]\n",
      " [0.24002915]\n",
      " [0.21659097]\n",
      " [0.07501488]\n",
      " [0.07501488]\n",
      " [0.07501488]\n",
      " [0.07501488]\n",
      " [0.02229111]\n",
      " [0.02004516]\n",
      " [0.07501488]\n",
      " [0.02004516]\n",
      " [0.02004516]\n",
      " [0.02004516]\n",
      " [0.02004516]\n",
      " [0.07501488]\n",
      " [0.07501488]\n",
      " [0.02167664]\n",
      " [0.6729656 ]\n",
      " [0.25789903]\n",
      " [0.10891369]\n",
      " [0.02004516]\n",
      " [0.04350567]\n",
      " [0.23334489]\n",
      " [0.37332849]\n",
      " [0.02004516]\n",
      " [0.02004516]\n",
      " [0.02343773]\n",
      " [0.02004516]\n",
      " [0.02004516]\n",
      " [0.07884127]\n",
      " [0.02004516]\n",
      " [0.02229111]\n",
      " [0.02004516]\n",
      " [0.02004516]\n",
      " [0.02167664]\n",
      " [0.14046275]\n",
      " [0.02004516]\n",
      " [0.27434178]\n",
      " [0.02004516]\n",
      " [0.07653324]\n",
      " [0.02004516]\n",
      " [0.07501488]\n",
      " [0.07653324]]\n"
     ]
    }
   ],
   "source": [
    "print('estimated probability of disease: \\n', prob(theta))"
   ]
  },
  {
   "cell_type": "code",
   "execution_count": null,
   "metadata": {},
   "outputs": [],
   "source": []
  }
 ],
 "metadata": {
  "interpreter": {
   "hash": "010fc5a62a75b42139e82f06a79d60de398e4751856d3457e15b8a88b63601e9"
  },
  "kernelspec": {
   "display_name": "Python 3.10.4 64-bit",
   "language": "python",
   "name": "python3"
  },
  "language_info": {
   "codemirror_mode": {
    "name": "ipython",
    "version": 3
   },
   "file_extension": ".py",
   "mimetype": "text/x-python",
   "name": "python",
   "nbconvert_exporter": "python",
   "pygments_lexer": "ipython3",
   "version": "3.10.7"
  },
  "orig_nbformat": 4
 },
 "nbformat": 4,
 "nbformat_minor": 2
}
