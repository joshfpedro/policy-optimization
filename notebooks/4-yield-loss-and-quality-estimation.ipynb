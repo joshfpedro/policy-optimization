{
 "cells": [
  {
   "cell_type": "code",
   "execution_count": 1,
   "metadata": {},
   "outputs": [],
   "source": [
    "import numpy as np\n",
    "\n",
    "import matplotlib.pyplot as plt\n",
    "from mpl_toolkits.mplot3d import axes3d\n",
    "import matplotlib.cm as cm\n",
    "from matplotlib.pyplot import figure\n",
    "import plotly.graph_objects as go\n",
    "import pandas as pd\n",
    "import plotly.express as px\n",
    "from scipy.special import expit # Numerically stable sigmoid function\n",
    "\n",
    "from ipywidgets import interactive\n",
    "\n",
    "import warnings\n",
    "#suppress warnings\n",
    "warnings.filterwarnings('ignore')\n",
    "\n",
    "# Import data\n",
    "# Main data\n",
    "X = np.load('../data/processed/data_tensor_JJ.npz')\n",
    "\n",
    "N = X['N']\n",
    "M = X['M']\n",
    "y = X['y']\n",
    "z = X['z']\n",
    "n_y = X['n_y']\n",
    "n_z = X['n_z']\n",
    "area = X['area']\n",
    "wind = X['wind']\n",
    "distance = X['distance']\n",
    "sI1 = X['sI1']\n",
    "sI2 = X['sI2'] \n",
    "tI1 = X['tI1']\n",
    "tI2 = X['tI2']\n",
    "s_i = X['s_i']\n",
    "s_j = X['s_j']\n",
    "\n",
    "# Data for the estimation of cone incidence vs leaf incidence\n",
    "df_cone_incidence_leaf_incidence = pd.read_csv('../data/raw/economics/Leaf incidence_vs_Cone_incidence.csv', encoding='utf-8')\n",
    "\n",
    "# Data preprocessing\n",
    "df_cone_incidence_leaf_incidence = df_cone_incidence_leaf_incidence.dropna()\n",
    "\n",
    "# Data for the estimation of yield loss vs cone incidence (change in quantity metric)\n",
    "df_yield_loss_cone_incidence = pd.read_csv('../data/raw/economics/Cone incidence_vs_Cone color_and_Yield.csv', encoding='utf-8')\n",
    "df_yield_loss_cone_incidence = df_yield_loss_cone_incidence[['Cone incidence', 'Yield Loss']]\n",
    "\n",
    "# Data for the estimation of cone color vs cone incidence (change in quality metric)\n",
    "df_cone_color_cone_incidence = pd.read_csv('../data/raw/economics/Cone incidence_vs_Cone color_and_Yield.csv', encoding='utf-8')\n",
    "#df_cone_color_cone_incidence = df_cone_color_cone_incidence[df_cone_color_cone_incidence['Year'] == 2009]\n",
    "df_cone_color_cone_incidence = df_cone_color_cone_incidence[['Cone incidence', 'Cone Color']]\n",
    "\n",
    "\n",
    "# Set print options to suppress scientific notation\n",
    "np.set_printoptions(suppress=True)\n",
    "\n",
    "# Load parameters\n",
    "theta = np.load('../reports/parameters/theta_jun-jul_2014_SLSQP.npy', allow_pickle=True)\n",
    "\n",
    "theta_may_jun = np.load('../reports/parameters/theta_may-jun_SLSQP_power.npy', allow_pickle=True)\n",
    "theta_jun_jul = np.load('../reports/parameters/theta_jun-jul_SLSQP_power.npy', allow_pickle=True)"
   ]
  },
  {
   "cell_type": "code",
   "execution_count": 3,
   "metadata": {},
   "outputs": [],
   "source": [
    "year = [2017]\n",
    "period = ['may-jun'] # inputs: 'may-jun', 'jun-jul'\n",
    "\n",
    "for year in year:\n",
    "    \n",
    "    # Import data\n",
    "    if year == 2014:\n",
    "        X = np.load('../data/processed/data_2014.npz')\n",
    "        N = X['N']\n",
    "        \n",
    "    elif year == 2015:\n",
    "        X = np.load('../data/processed/data_2015.npz')\n",
    "        N = X['N']\n",
    "        \n",
    "    elif year == 2016:\n",
    "        X = np.load('../data/processed/data_2016.npz')\n",
    "        N = X['N']\n",
    "        \n",
    "    elif year == 2017:\n",
    "        X = np.load('../data/processed/data_2017.npz')\n",
    "        N = X['N']\n",
    "\n",
    "    dist = X['distance']\n",
    "    tI1 = X['tI1'].reshape(N,1)\n",
    "    tI2 = X['tI2'].reshape(N,1)\n",
    "    sI2 = X['sI2'].reshape(N,1)\n",
    "    \n",
    "    y_apr = X['y_apr'].reshape(N,1)\n",
    "    y_may = X['y_may'].reshape(N,1)\n",
    "    y_jun = X['y_jun'].reshape(N,1)\n",
    "    y_jul = X['y_jul'].reshape(N,1)\n",
    "\n",
    "    n_apr = X['n_apr'].reshape(N,1)\n",
    "    n_may = X['n_may'].reshape(N,1)\n",
    "    n_jun = X['n_jun'].reshape(N,1)\n",
    "    n_jul = X['n_jul'].reshape(N,1)\n",
    "\n",
    "    a_apr = X['a_apr'].reshape(N,1)\n",
    "    a_may = X['a_may'].reshape(N,1)\n",
    "    a_jun = X['a_jun'].reshape(N,1)\n",
    "    a_jul = X['a_jul'].reshape(N,1)\n",
    "\n",
    "    w_apr = X['wind_apr']\n",
    "    w_may = X['wind_may']\n",
    "    w_jun = X['wind_jun']\n",
    "    w_jul = X['wind_jul']\n",
    "\n",
    "    sI1_apr = X['sI1_apr'].reshape(N,1)\n",
    "    sI1_may = X['sI1_may'].reshape(N,1)\n",
    "    sI1_jun = X['sI1_jun'].reshape(N,1)\n",
    "    sI1_jul = X['sI1_jul'].reshape(N,1)\n",
    "\n",
    "    s_apr = X['s_apr'].reshape(N,1)\n",
    "    s_may = X['s_may'].reshape(N,1)\n",
    "    s_jun = X['s_jun'].reshape(N,1)\n",
    "    s_jul = X['s_jul'].reshape(N,1)\n",
    "\n",
    "\n",
    "    # Function to normalize the data\n",
    "    def norm(x):\n",
    "        \n",
    "        return (x - np.min(x)) / (np.max(x) - np.min(x))\n",
    "    \n",
    "    # Normalize the data\n",
    "    # dist = norm(dist)\n",
    "    \n",
    "    # a_apr = norm(a_apr)\n",
    "    # a_may = norm(a_may)\n",
    "    # a_jun = norm(a_jun)\n",
    "    # a_jul = norm(a_jul)\n",
    "    \n",
    "    \n",
    "    def eta(period, y_lag, sprays):\n",
    "        \n",
    "        y_lag = y_lag\n",
    "        \n",
    "        if period == 'may-jun':\n",
    "            theta = theta_may_jun\n",
    "            #y_lag = y_may\n",
    "            n_lag = n_may\n",
    "            a_lag = a_may\n",
    "            w_lag = w_may\n",
    "            #sI1_lag = sI1_may\n",
    "            #s_lag = sprays # need to fix this to be a conditional function\n",
    "            s_lag = s_may\n",
    "\n",
    "        elif period == 'jun-jul':\n",
    "            theta = theta_jun_jul\n",
    "            #y_lag = y_jun\n",
    "            n_lag = n_jun\n",
    "            a_lag = a_jun\n",
    "            w_lag = w_jun\n",
    "            #sI1_lag = sI1_jun\n",
    "            #s_lag = predict_sprays(period, sprays)\n",
    "            s_lag = s_jun\n",
    "            \n",
    "        beta1, beta2, delta1, delta2, gamma1, gamma2, alpha1, alpha2, eta11, eta12, eta21, eta22 = theta\n",
    "        \n",
    "        beta1_array = np.full((N,1), beta1)\n",
    "        beta2_array = np.full((N,1), beta2)\n",
    "        \n",
    "        auto_infection1 = delta1 * (y_lag / n_lag) * np.exp(-eta11 * s_lag)\n",
    "        auto_infection2 = delta2 * (y_lag / n_lag) * np.exp(-eta12 * s_lag)\n",
    "        \n",
    "        dispersal1 = []\n",
    "        dispersal2 = []\n",
    "        \n",
    "        eta_1 = [] \n",
    "        \n",
    "        for i in range(0, N):\n",
    "            \n",
    "            dispersal_array = ((a_lag * (y_lag / n_lag)) * (w_lag[:, i].reshape(N,1)))\n",
    "            dispersal_array1 = dispersal_array * np.exp(-eta21 * s_lag) * np.power(1 + dist[:, i].reshape(N,1), -alpha1) * sI1_lag\n",
    "            dispersal_array2 = dispersal_array * np.exp(-eta22 * s_lag) * np.power(1 + dist[:, i].reshape(N,1), -alpha2) * sI2\n",
    "            dispersal_component1_i = gamma1 * (np.sum(dispersal_array1) - dispersal_array1[i][0])\n",
    "            dispersal_component2_i = gamma2 * (np.sum(dispersal_array2) - dispersal_array2[i][0])\n",
    "            \n",
    "            dispersal1.append(dispersal_component1_i)\n",
    "            dispersal2.append(dispersal_component2_i)\n",
    "        \n",
    "        dispersal1 = np.array(dispersal1).reshape(N,1)\n",
    "        dispersal2 = np.array(dispersal2).reshape(N,1)\n",
    "        \n",
    "        eta = tI1 * (beta1_array + auto_infection1 + dispersal1) + tI2 * (beta2_array + auto_infection2 + dispersal2)\n",
    "        \n",
    "        eta_1_i = tI1[i] * (auto_infection1 + dispersal1) + tI2[i] * (auto_infection2 + dispersal2)\n",
    "        eta_1.append(eta_1_i)\n",
    "        eta_1 = np.array(eta_1).reshape(N,1)\n",
    "        \n",
    "        return eta, eta_1\n",
    "\n",
    "# Probability Function\n",
    "\n",
    "def prob(period, y_lag, sprays):\n",
    "    \n",
    "    etaa = eta(period, y_lag, sprays)\n",
    "    \n",
    "    p = expit(etaa[0])\n",
    "    \n",
    "    for i in range(0, N):\n",
    "    \n",
    "        if etaa[1][i] == 0.0:\n",
    "            \n",
    "            p[i] = 0.0    \n",
    "    \n",
    "    return p"
   ]
  },
  {
   "cell_type": "markdown",
   "metadata": {},
   "source": [
    "## Plant Incidence vs Leaf Incidence"
   ]
  },
  {
   "cell_type": "markdown",
   "metadata": {},
   "source": [
    "### Plant Incidence"
   ]
  },
  {
   "cell_type": "code",
   "execution_count": 4,
   "metadata": {},
   "outputs": [],
   "source": [
    "plant_incidence = prob(theta)"
   ]
  },
  {
   "cell_type": "markdown",
   "metadata": {},
   "source": [
    "### Leaf Incidence vs Plant Incidence\n",
    "\n",
    "$$\\text{leaf incidence} = 1-(1-p)^\\frac{1}{n_D}$$\n",
    "\n",
    "Where $p$ is the probability of disease, also known as the *plant incidence*."
   ]
  },
  {
   "cell_type": "code",
   "execution_count": 13,
   "metadata": {},
   "outputs": [
    {
     "data": {
      "image/png": "[encoded data removed]",
      "text/plain": [
       "<Figure size 640x480 with 1 Axes>"
      ]
     },
     "metadata": {},
     "output_type": "display_data"
    }
   ],
   "source": [
    "import numpy as np\n",
    "import matplotlib.pyplot as plt\n",
    "\n",
    "# Define the function\n",
    "def leaf_incidence(p, n_D):\n",
    "    return 1 - (1 - (p - 0.00001))**(1 / n_D)\n",
    "\n",
    "# Set the value of n_D\n",
    "n_D = 100 / 1.19\n",
    "\n",
    "# Create an array of values for p between 0 and 1\n",
    "p_values = np.linspace(0, 1, 10000)\n",
    "\n",
    "# Calculate the leaf incidence for each value of p\n",
    "leaf_incidence_values = leaf_incidence(p_values, n_D)\n",
    "\n",
    "# Set the dark theme\n",
    "plt.style.use('dark_background')\n",
    "\n",
    "# Create a new figure and axis\n",
    "fig, ax = plt.subplots()\n",
    "\n",
    "# Plot the function\n",
    "ax.plot(p_values, leaf_incidence_values, color='lime')\n",
    "ax.set_xlabel('p')\n",
    "ax.set_ylabel('Leaf Incidence')\n",
    "ax.set_title('Leaf Incidence vs probability of disease')\n",
    "\n",
    "# Remove the top and right spines\n",
    "ax.spines['top'].set_visible(False)\n",
    "ax.spines['right'].set_visible(False)\n",
    "\n",
    "# Display the plot\n",
    "plt.tight_layout()\n",
    "plt.show()"
   ]
  },
  {
   "cell_type": "code",
   "execution_count": 6,
   "metadata": {},
   "outputs": [
    {
     "data": {
      "image/png": "[encoded data removed]",
      "text/plain": [
       "<Figure size 640x480 with 1 Axes>"
      ]
     },
     "metadata": {},
     "output_type": "display_data"
    }
   ],
   "source": [
    "import numpy as np\n",
    "import matplotlib.pyplot as plt\n",
    "\n",
    "# Define the functions\n",
    "def leaf_incidence(p, n_D):\n",
    "    return 1 - (1 - p)**(1 / n_D)\n",
    "\n",
    "def modified_leaf_incidence(p, n_D):\n",
    "    return 1 - (1 - (p - 0.00001))**(1 / n_D)\n",
    "\n",
    "# Set the value of n_D\n",
    "n_D = 100 / 1.19\n",
    "\n",
    "# Create an array of values for p between 0 and 1\n",
    "p_values = np.linspace(0, 1, 10000)\n",
    "\n",
    "# Calculate the leaf incidence for each value of p\n",
    "leaf_incidence_values = leaf_incidence(p_values, n_D)\n",
    "modified_leaf_incidence_values = modified_leaf_incidence(p_values, n_D)\n",
    "\n",
    "# Set the dark theme\n",
    "plt.style.use('dark_background')\n",
    "\n",
    "# Create a new figure and axis\n",
    "fig, ax = plt.subplots()\n",
    "\n",
    "# Plot the functions\n",
    "ax.plot(p_values, leaf_incidence_values, color='lime', label='Original')\n",
    "ax.plot(p_values, modified_leaf_incidence_values, color='cyan', label='Modified')\n",
    "\n",
    "ax.set_xlabel('p')\n",
    "ax.set_ylabel('Leaf Incidence')\n",
    "ax.set_title('Leaf Incidence vs Probability of Disease')\n",
    "\n",
    "# Remove the top and right spines\n",
    "ax.spines['top'].set_visible(False)\n",
    "ax.spines['right'].set_visible(False)\n",
    "\n",
    "# Add a legend\n",
    "ax.legend()\n",
    "\n",
    "# Display the plot\n",
    "plt.tight_layout()\n",
    "plt.show()"
   ]
  },
  {
   "cell_type": "markdown",
   "metadata": {},
   "source": [
    "### Cone Color vs Cone Incidence (Effect on Quality metric)"
   ]
  },
  {
   "cell_type": "code",
   "execution_count": 8,
   "metadata": {},
   "outputs": [],
   "source": [
    "data_cone_color_cone_incidence = df_cone_color_cone_incidence.to_numpy()\n",
    "\n",
    "# Linear regression\n",
    "\n",
    "# adjust y-values to make intercept 0\n",
    "adjusted_y = data_cone_color_cone_incidence[:, 1] - 10\n",
    "\n",
    "# fit a line with intercept of 0\n",
    "a3, b3 = np.polyfit(data_cone_color_cone_incidence[:, 0], adjusted_y, 1)\n",
    "\n",
    "# when making predictions, add 10 back to the y-values\n",
    "\n",
    "def cone_color_cone_incidence(cone_incidence):\n",
    "    \n",
    "    # intercept fixed at 10 since that's the highest cone color rating\n",
    "    cone_color = a3 * cone_incidence + 10\n",
    "    \n",
    "    return cone_color"
   ]
  },
  {
   "cell_type": "code",
   "execution_count": 12,
   "metadata": {},
   "outputs": [
    {
     "data": {
      "image/png": "[encoded data removed]",
      "text/plain": [
       "<Figure size 600x600 with 1 Axes>"
      ]
     },
     "metadata": {},
     "output_type": "display_data"
    }
   ],
   "source": [
    "import numpy as np\n",
    "import matplotlib.pyplot as plt\n",
    "\n",
    "# Set the dark theme\n",
    "plt.style.use('dark_background')\n",
    "\n",
    "# Define a1 and b1 (replace with your actual values)\n",
    "a1 = 0.8\n",
    "b1 = 0.1\n",
    "\n",
    "# Generate leaf_incidence values\n",
    "leaf_incidence = np.linspace(0, 1, 100)\n",
    "\n",
    "# Calculate cone_incidence values\n",
    "cone_incidence = a1 * leaf_incidence + b1\n",
    "\n",
    "# Create a figure and axis\n",
    "fig, ax = plt.subplots(figsize=(6, 6))\n",
    "\n",
    "# Plot the function\n",
    "ax.plot(leaf_incidence, cone_incidence, color='lime', linewidth=2)\n",
    "\n",
    "# Set labels and title\n",
    "ax.set_xlabel('Leaf Incidence')\n",
    "ax.set_ylabel('Cone Incidence')\n",
    "ax.set_title('Cone Incidence vs. Leaf Incidence')\n",
    "\n",
    "# Set the limits of the axes\n",
    "ax.set_xlim(0, 1)\n",
    "ax.set_ylim(0, 1)\n",
    "\n",
    "# Remove the top and right spines\n",
    "ax.spines['top'].set_visible(False)\n",
    "ax.spines['right'].set_visible(False)\n",
    "\n",
    "# Adjust the plot layout\n",
    "fig.tight_layout()\n",
    "\n",
    "# Display the plot\n",
    "plt.show()"
   ]
  },
  {
   "cell_type": "code",
   "execution_count": 9,
   "metadata": {},
   "outputs": [
    {
     "name": "stdout",
     "output_type": "stream",
     "text": [
      "Output when input is 0: 10.0\n"
     ]
    },
    {
     "data": {
      "image/png": "[encoded data removed]",
      "text/plain": [
       "<Figure size 640x480 with 1 Axes>"
      ]
     },
     "metadata": {},
     "output_type": "display_data"
    }
   ],
   "source": [
    "import numpy as np\n",
    "import matplotlib.pyplot as plt\n",
    "from scipy.optimize import curve_fit\n",
    "\n",
    "data_cone_color_cone_incidence = df_cone_color_cone_incidence.to_numpy()\n",
    "\n",
    "# Define the exponential decay function that passes through (0, 10)\n",
    "def exp_decreasing(x, a3, b3):\n",
    "    return 10 + a3 * (1 - np.exp(-b3 * x))\n",
    "\n",
    "# Provide an initial guess for the parameters\n",
    "initial_guess = [1, 1]\n",
    "\n",
    "# Fit the exponential decay model to the data, with an increased max number of function evaluations\n",
    "params, _ = curve_fit(exp_decreasing, data_cone_color_cone_incidence[:, 0], data_cone_color_cone_incidence[:, 1], p0=initial_guess, maxfev=5000)\n",
    "\n",
    "# Define the prediction function using the fitted parameters\n",
    "def cone_color_cone_incidence(cone_incidence):\n",
    "    return exp_decreasing(cone_incidence, *params)\n",
    "\n",
    "\n",
    "\n",
    "# Verify that the output is 10 when the input is 0\n",
    "print(\"Output when input is 0:\", cone_color_cone_incidence(0))  # Should be 10\n",
    "\n",
    "# Plotting the data and the fitted curve\n",
    "plt.scatter(data_cone_color_cone_incidence[:, 0], data_cone_color_cone_incidence[:, 1], label='Data')\n",
    "x_values = np.linspace(min(data_cone_color_cone_incidence[:, 0]), max(data_cone_color_cone_incidence[:, 0]), 100)\n",
    "y_values = [cone_color_cone_incidence(x) for x in x_values]\n",
    "plt.plot(x_values, y_values, label='Fitted curve', color='red')\n",
    "# Set the dark theme\n",
    "plt.style.use('dark_background')\n",
    "plt.xlabel('Cone Incidence')\n",
    "plt.ylabel('Cone Color')\n",
    "plt.legend()\n",
    "plt.show()\n"
   ]
  },
  {
   "cell_type": "code",
   "execution_count": 54,
   "metadata": {},
   "outputs": [
    {
     "data": {
      "text/plain": [
       "42534.750765091434"
      ]
     },
     "execution_count": 54,
     "metadata": {},
     "output_type": "execute_result"
    }
   ],
   "source": [
    "a3"
   ]
  },
  {
   "cell_type": "code",
   "execution_count": 18,
   "metadata": {},
   "outputs": [
    {
     "data": {
      "application/vnd.plotly.v1+json": {
       "config": {
        "plotlyServerURL": "https://plot.ly"
       },
       "data": [
        {
         "mode": "markers",
         "name": "Data",
         "type": "scatter",
         "x": [
          0.863,
          0.694,
          0.862,
          0.833,
          0.875,
          0.889,
          0.753,
          0.599,
          0.813,
          0.814,
          0.755,
          0.799,
          0.967,
          0.23,
          0.407,
          0.399,
          0.265,
          0.271,
          0.2,
          0.162,
          0.272,
          0.243,
          0.161,
          0.144,
          0.153,
          0.428,
          0.533,
          0.488,
          0.625,
          0.38,
          0.419,
          0.4,
          0.423,
          0.367,
          0.438,
          0.325,
          0.965
         ],
         "y": [
          4.5,
          4,
          5,
          4.5,
          4,
          4.5,
          4,
          5,
          4,
          5,
          5,
          3.5,
          4,
          6,
          5.5,
          4.5,
          5.5,
          5.5,
          5,
          6,
          6,
          6.5,
          6,
          6,
          6,
          4.5,
          6,
          7.5,
          6,
          8,
          8,
          8,
          9,
          9,
          7.5,
          7,
          4.5
         ]
        },
        {
         "mode": "lines",
         "name": "Linear regression",
         "type": "scatter",
         "x": [
          0.863,
          0.694,
          0.862,
          0.833,
          0.875,
          0.889,
          0.753,
          0.599,
          0.813,
          0.814,
          0.755,
          0.799,
          0.967,
          0.23,
          0.407,
          0.399,
          0.265,
          0.271,
          0.2,
          0.162,
          0.272,
          0.243,
          0.161,
          0.144,
          0.153,
          0.428,
          0.533,
          0.488,
          0.625,
          0.38,
          0.419,
          0.4,
          0.423,
          0.367,
          0.438,
          0.325,
          0.965
         ],
         "y": [
          7.321875352651913,
          7.846328499119847,
          7.324978625707937,
          7.414973544332613,
          7.284636075979635,
          7.241190253195309,
          7.663235388814474,
          8.141139439442059,
          7.4770390054530775,
          7.473935732397054,
          7.657028842702427,
          7.520484828237404,
          6.999134954825493,
          9.286247197114648,
          8.736967866198528,
          8.761794050646714,
          9.177632640153831,
          9.159013001817693,
          9.379345388795345,
          9.49726976492423,
          9.155909728761669,
          9.245904647386345,
          9.500373037980253,
          9.553128679932648,
          9.525199222428439,
          8.671799132022038,
          8.345955461139594,
          8.485602748660643,
          8.060454339985453,
          8.820756238711155,
          8.699728589526249,
          8.75869077759069,
          8.687315497302155,
          8.861098788439458,
          8.640766401461805,
          8.991436256792436,
          7.00534150093754
         ]
        }
       ],
       "layout": {
        "font": {
         "color": "#7f7f7f",
         "family": "Courier New, monospace",
         "size": 18
        },
        "template": {
         "data": {
          "bar": [
           {
            "error_x": {
             "color": "#2a3f5f"
            },
            "error_y": {
             "color": "#2a3f5f"
            },
            "marker": {
             "line": {
              "color": "#E5ECF6",
              "width": 0.5
             },
             "pattern": {
              "fillmode": "overlay",
              "size": 10,
              "solidity": 0.2
             }
            },
            "type": "bar"
           }
          ],
          "barpolar": [
           {
            "marker": {
             "line": {
              "color": "#E5ECF6",
              "width": 0.5
             },
             "pattern": {
              "fillmode": "overlay",
              "size": 10,
              "solidity": 0.2
             }
            },
            "type": "barpolar"
           }
          ],
          "carpet": [
           {
            "aaxis": {
             "endlinecolor": "#2a3f5f",
             "gridcolor": "white",
             "linecolor": "white",
             "minorgridcolor": "white",
             "startlinecolor": "#2a3f5f"
            },
            "baxis": {
             "endlinecolor": "#2a3f5f",
             "gridcolor": "white",
             "linecolor": "white",
             "minorgridcolor": "white",
             "startlinecolor": "#2a3f5f"
            },
            "type": "carpet"
           }
          ],
          "choropleth": [
           {
            "colorbar": {
             "outlinewidth": 0,
             "ticks": ""
            },
            "type": "choropleth"
           }
          ],
          "contour": [
           {
            "colorbar": {
             "outlinewidth": 0,
             "ticks": ""
            },
            "colorscale": [
             [
              0,
              "#0d0887"
             ],
             [
              0.1111111111111111,
              "#46039f"
             ],
             [
              0.2222222222222222,
              "#7201a8"
             ],
             [
              0.3333333333333333,
              "#9c179e"
             ],
             [
              0.4444444444444444,
              "#bd3786"
             ],
             [
              0.5555555555555556,
              "#d8576b"
             ],
             [
              0.6666666666666666,
              "#ed7953"
             ],
             [
              0.7777777777777778,
              "#fb9f3a"
             ],
             [
              0.8888888888888888,
              "#fdca26"
             ],
             [
              1,
              "#f0f921"
             ]
            ],
            "type": "contour"
           }
          ],
          "contourcarpet": [
           {
            "colorbar": {
             "outlinewidth": 0,
             "ticks": ""
            },
            "type": "contourcarpet"
           }
          ],
          "heatmap": [
           {
            "colorbar": {
             "outlinewidth": 0,
             "ticks": ""
            },
            "colorscale": [
             [
              0,
              "#0d0887"
             ],
             [
              0.1111111111111111,
              "#46039f"
             ],
             [
              0.2222222222222222,
              "#7201a8"
             ],
             [
              0.3333333333333333,
              "#9c179e"
             ],
             [
              0.4444444444444444,
              "#bd3786"
             ],
             [
              0.5555555555555556,
              "#d8576b"
             ],
             [
              0.6666666666666666,
              "#ed7953"
             ],
             [
              0.7777777777777778,
              "#fb9f3a"
             ],
             [
              0.8888888888888888,
              "#fdca26"
             ],
             [
              1,
              "#f0f921"
             ]
            ],
            "type": "heatmap"
           }
          ],
          "heatmapgl": [
           {
            "colorbar": {
             "outlinewidth": 0,
             "ticks": ""
            },
            "colorscale": [
             [
              0,
              "#0d0887"
             ],
             [
              0.1111111111111111,
              "#46039f"
             ],
             [
              0.2222222222222222,
              "#7201a8"
             ],
             [
              0.3333333333333333,
              "#9c179e"
             ],
             [
              0.4444444444444444,
              "#bd3786"
             ],
             [
              0.5555555555555556,
              "#d8576b"
             ],
             [
              0.6666666666666666,
              "#ed7953"
             ],
             [
              0.7777777777777778,
              "#fb9f3a"
             ],
             [
              0.8888888888888888,
              "#fdca26"
             ],
             [
              1,
              "#f0f921"
             ]
            ],
            "type": "heatmapgl"
           }
          ],
          "histogram": [
           {
            "marker": {
             "pattern": {
              "fillmode": "overlay",
              "size": 10,
              "solidity": 0.2
             }
            },
            "type": "histogram"
           }
          ],
          "histogram2d": [
           {
            "colorbar": {
             "outlinewidth": 0,
             "ticks": ""
            },
            "colorscale": [
             [
              0,
              "#0d0887"
             ],
             [
              0.1111111111111111,
              "#46039f"
             ],
             [
              0.2222222222222222,
              "#7201a8"
             ],
             [
              0.3333333333333333,
              "#9c179e"
             ],
             [
              0.4444444444444444,
              "#bd3786"
             ],
             [
              0.5555555555555556,
              "#d8576b"
             ],
             [
              0.6666666666666666,
              "#ed7953"
             ],
             [
              0.7777777777777778,
              "#fb9f3a"
             ],
             [
              0.8888888888888888,
              "#fdca26"
             ],
             [
              1,
              "#f0f921"
             ]
            ],
            "type": "histogram2d"
           }
          ],
          "histogram2dcontour": [
           {
            "colorbar": {
             "outlinewidth": 0,
             "ticks": ""
            },
            "colorscale": [
             [
              0,
              "#0d0887"
             ],
             [
              0.1111111111111111,
              "#46039f"
             ],
             [
              0.2222222222222222,
              "#7201a8"
             ],
             [
              0.3333333333333333,
              "#9c179e"
             ],
             [
              0.4444444444444444,
              "#bd3786"
             ],
             [
              0.5555555555555556,
              "#d8576b"
             ],
             [
              0.6666666666666666,
              "#ed7953"
             ],
             [
              0.7777777777777778,
              "#fb9f3a"
             ],
             [
              0.8888888888888888,
              "#fdca26"
             ],
             [
              1,
              "#f0f921"
             ]
            ],
            "type": "histogram2dcontour"
           }
          ],
          "mesh3d": [
           {
            "colorbar": {
             "outlinewidth": 0,
             "ticks": ""
            },
            "type": "mesh3d"
           }
          ],
          "parcoords": [
           {
            "line": {
             "colorbar": {
              "outlinewidth": 0,
              "ticks": ""
             }
            },
            "type": "parcoords"
           }
          ],
          "pie": [
           {
            "automargin": true,
            "type": "pie"
           }
          ],
          "scatter": [
           {
            "fillpattern": {
             "fillmode": "overlay",
             "size": 10,
             "solidity": 0.2
            },
            "type": "scatter"
           }
          ],
          "scatter3d": [
           {
            "line": {
             "colorbar": {
              "outlinewidth": 0,
              "ticks": ""
             }
            },
            "marker": {
             "colorbar": {
              "outlinewidth": 0,
              "ticks": ""
             }
            },
            "type": "scatter3d"
           }
          ],
          "scattercarpet": [
           {
            "marker": {
             "colorbar": {
              "outlinewidth": 0,
              "ticks": ""
             }
            },
            "type": "scattercarpet"
           }
          ],
          "scattergeo": [
           {
            "marker": {
             "colorbar": {
              "outlinewidth": 0,
              "ticks": ""
             }
            },
            "type": "scattergeo"
           }
          ],
          "scattergl": [
           {
            "marker": {
             "colorbar": {
              "outlinewidth": 0,
              "ticks": ""
             }
            },
            "type": "scattergl"
           }
          ],
          "scattermapbox": [
           {
            "marker": {
             "colorbar": {
              "outlinewidth": 0,
              "ticks": ""
             }
            },
            "type": "scattermapbox"
           }
          ],
          "scatterpolar": [
           {
            "marker": {
             "colorbar": {
              "outlinewidth": 0,
              "ticks": ""
             }
            },
            "type": "scatterpolar"
           }
          ],
          "scatterpolargl": [
           {
            "marker": {
             "colorbar": {
              "outlinewidth": 0,
              "ticks": ""
             }
            },
            "type": "scatterpolargl"
           }
          ],
          "scatterternary": [
           {
            "marker": {
             "colorbar": {
              "outlinewidth": 0,
              "ticks": ""
             }
            },
            "type": "scatterternary"
           }
          ],
          "surface": [
           {
            "colorbar": {
             "outlinewidth": 0,
             "ticks": ""
            },
            "colorscale": [
             [
              0,
              "#0d0887"
             ],
             [
              0.1111111111111111,
              "#46039f"
             ],
             [
              0.2222222222222222,
              "#7201a8"
             ],
             [
              0.3333333333333333,
              "#9c179e"
             ],
             [
              0.4444444444444444,
              "#bd3786"
             ],
             [
              0.5555555555555556,
              "#d8576b"
             ],
             [
              0.6666666666666666,
              "#ed7953"
             ],
             [
              0.7777777777777778,
              "#fb9f3a"
             ],
             [
              0.8888888888888888,
              "#fdca26"
             ],
             [
              1,
              "#f0f921"
             ]
            ],
            "type": "surface"
           }
          ],
          "table": [
           {
            "cells": {
             "fill": {
              "color": "#EBF0F8"
             },
             "line": {
              "color": "white"
             }
            },
            "header": {
             "fill": {
              "color": "#C8D4E3"
             },
             "line": {
              "color": "white"
             }
            },
            "type": "table"
           }
          ]
         },
         "layout": {
          "annotationdefaults": {
           "arrowcolor": "#2a3f5f",
           "arrowhead": 0,
           "arrowwidth": 1
          },
          "autotypenumbers": "strict",
          "coloraxis": {
           "colorbar": {
            "outlinewidth": 0,
            "ticks": ""
           }
          },
          "colorscale": {
           "diverging": [
            [
             0,
             "#8e0152"
            ],
            [
             0.1,
             "#c51b7d"
            ],
            [
             0.2,
             "#de77ae"
            ],
            [
             0.3,
             "#f1b6da"
            ],
            [
             0.4,
             "#fde0ef"
            ],
            [
             0.5,
             "#f7f7f7"
            ],
            [
             0.6,
             "#e6f5d0"
            ],
            [
             0.7,
             "#b8e186"
            ],
            [
             0.8,
             "#7fbc41"
            ],
            [
             0.9,
             "#4d9221"
            ],
            [
             1,
             "#276419"
            ]
           ],
           "sequential": [
            [
             0,
             "#0d0887"
            ],
            [
             0.1111111111111111,
             "#46039f"
            ],
            [
             0.2222222222222222,
             "#7201a8"
            ],
            [
             0.3333333333333333,
             "#9c179e"
            ],
            [
             0.4444444444444444,
             "#bd3786"
            ],
            [
             0.5555555555555556,
             "#d8576b"
            ],
            [
             0.6666666666666666,
             "#ed7953"
            ],
            [
             0.7777777777777778,
             "#fb9f3a"
            ],
            [
             0.8888888888888888,
             "#fdca26"
            ],
            [
             1,
             "#f0f921"
            ]
           ],
           "sequentialminus": [
            [
             0,
             "#0d0887"
            ],
            [
             0.1111111111111111,
             "#46039f"
            ],
            [
             0.2222222222222222,
             "#7201a8"
            ],
            [
             0.3333333333333333,
             "#9c179e"
            ],
            [
             0.4444444444444444,
             "#bd3786"
            ],
            [
             0.5555555555555556,
             "#d8576b"
            ],
            [
             0.6666666666666666,
             "#ed7953"
            ],
            [
             0.7777777777777778,
             "#fb9f3a"
            ],
            [
             0.8888888888888888,
             "#fdca26"
            ],
            [
             1,
             "#f0f921"
            ]
           ]
          },
          "colorway": [
           "#636efa",
           "#EF553B",
           "#00cc96",
           "#ab63fa",
           "#FFA15A",
           "#19d3f3",
           "#FF6692",
           "#B6E880",
           "#FF97FF",
           "#FECB52"
          ],
          "font": {
           "color": "#2a3f5f"
          },
          "geo": {
           "bgcolor": "white",
           "lakecolor": "white",
           "landcolor": "#E5ECF6",
           "showlakes": true,
           "showland": true,
           "subunitcolor": "white"
          },
          "hoverlabel": {
           "align": "left"
          },
          "hovermode": "closest",
          "mapbox": {
           "style": "light"
          },
          "paper_bgcolor": "white",
          "plot_bgcolor": "#E5ECF6",
          "polar": {
           "angularaxis": {
            "gridcolor": "white",
            "linecolor": "white",
            "ticks": ""
           },
           "bgcolor": "#E5ECF6",
           "radialaxis": {
            "gridcolor": "white",
            "linecolor": "white",
            "ticks": ""
           }
          },
          "scene": {
           "xaxis": {
            "backgroundcolor": "#E5ECF6",
            "gridcolor": "white",
            "gridwidth": 2,
            "linecolor": "white",
            "showbackground": true,
            "ticks": "",
            "zerolinecolor": "white"
           },
           "yaxis": {
            "backgroundcolor": "#E5ECF6",
            "gridcolor": "white",
            "gridwidth": 2,
            "linecolor": "white",
            "showbackground": true,
            "ticks": "",
            "zerolinecolor": "white"
           },
           "zaxis": {
            "backgroundcolor": "#E5ECF6",
            "gridcolor": "white",
            "gridwidth": 2,
            "linecolor": "white",
            "showbackground": true,
            "ticks": "",
            "zerolinecolor": "white"
           }
          },
          "shapedefaults": {
           "line": {
            "color": "#2a3f5f"
           }
          },
          "ternary": {
           "aaxis": {
            "gridcolor": "white",
            "linecolor": "white",
            "ticks": ""
           },
           "baxis": {
            "gridcolor": "white",
            "linecolor": "white",
            "ticks": ""
           },
           "bgcolor": "#E5ECF6",
           "caxis": {
            "gridcolor": "white",
            "linecolor": "white",
            "ticks": ""
           }
          },
          "title": {
           "x": 0.05
          },
          "xaxis": {
           "automargin": true,
           "gridcolor": "white",
           "linecolor": "white",
           "ticks": "",
           "title": {
            "standoff": 15
           },
           "zerolinecolor": "white",
           "zerolinewidth": 2
          },
          "yaxis": {
           "automargin": true,
           "gridcolor": "white",
           "linecolor": "white",
           "ticks": "",
           "title": {
            "standoff": 15
           },
           "zerolinecolor": "white",
           "zerolinewidth": 2
          }
         }
        },
        "title": {
         "text": "Cone color vs cone incidence"
        },
        "xaxis": {
         "title": {
          "text": "Cone incidence"
         }
        },
        "yaxis": {
         "title": {
          "text": "Cone color"
         }
        }
       }
      }
     },
     "metadata": {},
     "output_type": "display_data"
    }
   ],
   "source": [
    "# Plot cone color vs cone incidence\n",
    "fig = go.Figure()\n",
    "\n",
    "fig.add_trace(go.Scatter(x=data_cone_color_cone_incidence[:, 0], y=data_cone_color_cone_incidence[:, 1],\n",
    "                    mode='markers',\n",
    "                    name='Data'))\n",
    "\n",
    "fig.add_trace(go.Scatter(x=data_cone_color_cone_incidence[:, 0], y=cone_color_cone_incidence(data_cone_color_cone_incidence[:, 0]),\n",
    "                    mode='lines',\n",
    "                    name='Linear regression'))\n",
    "\n",
    "fig.update_layout(\n",
    "    title=\"Cone color vs cone incidence\",\n",
    "    xaxis_title=\"Cone incidence\",\n",
    "    yaxis_title=\"Cone color\",\n",
    "    font=dict(\n",
    "        family=\"Courier New, monospace\",\n",
    "        size=18,\n",
    "        color=\"#7f7f7f\"\n",
    "    )\n",
    ")\n",
    "\n",
    "fig.show()"
   ]
  },
  {
   "cell_type": "markdown",
   "metadata": {},
   "source": [
    "### Yield Loss vs Plant Incidence (Effect on Quantity metric)"
   ]
  },
  {
   "cell_type": "code",
   "execution_count": 22,
   "metadata": {},
   "outputs": [
    {
     "data": {
      "application/vnd.plotly.v1+json": {
       "config": {
        "plotlyServerURL": "https://plot.ly"
       },
       "data": [
        {
         "hovertemplate": "Plant Incidence=%{x}<br>Yield Loss=%{y}<extra></extra>",
         "legendgroup": "",
         "line": {
          "color": "#636efa",
          "dash": "solid"
         },
         "marker": {
          "symbol": "circle"
         },
         "mode": "lines",
         "name": "",
         "orientation": "v",
         "showlegend": false,
         "type": "scatter",
         "x": [
          0,
          0.001001001001001001,
          0.002002002002002002,
          0.003003003003003003,
          0.004004004004004004,
          0.005005005005005005,
          0.006006006006006006,
          0.007007007007007007,
          0.008008008008008008,
          0.009009009009009009,
          0.01001001001001001,
          0.011011011011011011,
          0.012012012012012012,
          0.013013013013013013,
          0.014014014014014014,
          0.015015015015015015,
          0.016016016016016016,
          0.017017017017017015,
          0.018018018018018018,
          0.01901901901901902,
          0.02002002002002002,
          0.02102102102102102,
          0.022022022022022022,
          0.023023023023023025,
          0.024024024024024024,
          0.025025025025025023,
          0.026026026026026026,
          0.02702702702702703,
          0.028028028028028028,
          0.029029029029029027,
          0.03003003003003003,
          0.031031031031031032,
          0.03203203203203203,
          0.03303303303303303,
          0.03403403403403403,
          0.035035035035035036,
          0.036036036036036036,
          0.037037037037037035,
          0.03803803803803804,
          0.03903903903903904,
          0.04004004004004004,
          0.04104104104104104,
          0.04204204204204204,
          0.043043043043043044,
          0.044044044044044044,
          0.04504504504504504,
          0.04604604604604605,
          0.04704704704704705,
          0.04804804804804805,
          0.04904904904904905,
          0.050050050050050046,
          0.05105105105105105,
          0.05205205205205205,
          0.05305305305305305,
          0.05405405405405406,
          0.055055055055055056,
          0.056056056056056056,
          0.057057057057057055,
          0.058058058058058054,
          0.05905905905905906,
          0.06006006006006006,
          0.06106106106106106,
          0.062062062062062065,
          0.06306306306306306,
          0.06406406406406406,
          0.06506506506506507,
          0.06606606606606606,
          0.06706706706706707,
          0.06806806806806806,
          0.06906906906906907,
          0.07007007007007007,
          0.07107107107107107,
          0.07207207207207207,
          0.07307307307307308,
          0.07407407407407407,
          0.07507507507507508,
          0.07607607607607608,
          0.07707707707707707,
          0.07807807807807808,
          0.07907907907907907,
          0.08008008008008008,
          0.08108108108108109,
          0.08208208208208208,
          0.08308308308308308,
          0.08408408408408408,
          0.08508508508508508,
          0.08608608608608609,
          0.08708708708708708,
          0.08808808808808809,
          0.0890890890890891,
          0.09009009009009009,
          0.09109109109109109,
          0.0920920920920921,
          0.09309309309309309,
          0.0940940940940941,
          0.09509509509509509,
          0.0960960960960961,
          0.0970970970970971,
          0.0980980980980981,
          0.0990990990990991,
          0.10010010010010009,
          0.1011011011011011,
          0.1021021021021021,
          0.1031031031031031,
          0.1041041041041041,
          0.10510510510510511,
          0.1061061061061061,
          0.10710710710710711,
          0.10810810810810811,
          0.1091091091091091,
          0.11011011011011011,
          0.1111111111111111,
          0.11211211211211211,
          0.11311311311311312,
          0.11411411411411411,
          0.11511511511511512,
          0.11611611611611611,
          0.11711711711711711,
          0.11811811811811812,
          0.11911911911911911,
          0.12012012012012012,
          0.12112112112112113,
          0.12212212212212212,
          0.12312312312312312,
          0.12412412412412413,
          0.12512512512512514,
          0.12612612612612611,
          0.12712712712712712,
          0.12812812812812813,
          0.12912912912912913,
          0.13013013013013014,
          0.13113113113113112,
          0.13213213213213212,
          0.13313313313313313,
          0.13413413413413414,
          0.13513513513513514,
          0.13613613613613612,
          0.13713713713713713,
          0.13813813813813813,
          0.13913913913913914,
          0.14014014014014015,
          0.14114114114114115,
          0.14214214214214213,
          0.14314314314314314,
          0.14414414414414414,
          0.14514514514514515,
          0.14614614614614616,
          0.14714714714714713,
          0.14814814814814814,
          0.14914914914914915,
          0.15015015015015015,
          0.15115115115115116,
          0.15215215215215216,
          0.15315315315315314,
          0.15415415415415415,
          0.15515515515515516,
          0.15615615615615616,
          0.15715715715715717,
          0.15815815815815815,
          0.15915915915915915,
          0.16016016016016016,
          0.16116116116116116,
          0.16216216216216217,
          0.16316316316316315,
          0.16416416416416416,
          0.16516516516516516,
          0.16616616616616617,
          0.16716716716716717,
          0.16816816816816815,
          0.16916916916916916,
          0.17017017017017017,
          0.17117117117117117,
          0.17217217217217218,
          0.17317317317317318,
          0.17417417417417416,
          0.17517517517517517,
          0.17617617617617617,
          0.17717717717717718,
          0.1781781781781782,
          0.17917917917917917,
          0.18018018018018017,
          0.18118118118118118,
          0.18218218218218218,
          0.1831831831831832,
          0.1841841841841842,
          0.18518518518518517,
          0.18618618618618618,
          0.1871871871871872,
          0.1881881881881882,
          0.1891891891891892,
          0.19019019019019018,
          0.19119119119119118,
          0.1921921921921922,
          0.1931931931931932,
          0.1941941941941942,
          0.19519519519519518,
          0.1961961961961962,
          0.1971971971971972,
          0.1981981981981982,
          0.1991991991991992,
          0.20020020020020018,
          0.2012012012012012,
          0.2022022022022022,
          0.2032032032032032,
          0.2042042042042042,
          0.20520520520520522,
          0.2062062062062062,
          0.2072072072072072,
          0.2082082082082082,
          0.2092092092092092,
          0.21021021021021022,
          0.2112112112112112,
          0.2122122122122122,
          0.2132132132132132,
          0.21421421421421422,
          0.21521521521521522,
          0.21621621621621623,
          0.2172172172172172,
          0.2182182182182182,
          0.21921921921921922,
          0.22022022022022023,
          0.22122122122122123,
          0.2222222222222222,
          0.22322322322322322,
          0.22422422422422422,
          0.22522522522522523,
          0.22622622622622623,
          0.2272272272272272,
          0.22822822822822822,
          0.22922922922922923,
          0.23023023023023023,
          0.23123123123123124,
          0.23223223223223222,
          0.23323323323323322,
          0.23423423423423423,
          0.23523523523523523,
          0.23623623623623624,
          0.23723723723723725,
          0.23823823823823823,
          0.23923923923923923,
          0.24024024024024024,
          0.24124124124124124,
          0.24224224224224225,
          0.24324324324324323,
          0.24424424424424424,
          0.24524524524524524,
          0.24624624624624625,
          0.24724724724724725,
          0.24824824824824826,
          0.24924924924924924,
          0.2502502502502503,
          0.25125125125125125,
          0.25225225225225223,
          0.25325325325325326,
          0.25425425425425424,
          0.2552552552552553,
          0.25625625625625625,
          0.25725725725725723,
          0.25825825825825827,
          0.25925925925925924,
          0.2602602602602603,
          0.26126126126126126,
          0.26226226226226224,
          0.26326326326326327,
          0.26426426426426425,
          0.2652652652652653,
          0.26626626626626626,
          0.26726726726726724,
          0.2682682682682683,
          0.26926926926926925,
          0.2702702702702703,
          0.27127127127127126,
          0.27227227227227224,
          0.2732732732732733,
          0.27427427427427425,
          0.2752752752752753,
          0.27627627627627627,
          0.2772772772772773,
          0.2782782782782783,
          0.27927927927927926,
          0.2802802802802803,
          0.28128128128128127,
          0.2822822822822823,
          0.2832832832832833,
          0.28428428428428426,
          0.2852852852852853,
          0.2862862862862863,
          0.2872872872872873,
          0.2882882882882883,
          0.28928928928928926,
          0.2902902902902903,
          0.2912912912912913,
          0.2922922922922923,
          0.2932932932932933,
          0.29429429429429427,
          0.2952952952952953,
          0.2962962962962963,
          0.2972972972972973,
          0.2982982982982983,
          0.29929929929929927,
          0.3003003003003003,
          0.3013013013013013,
          0.3023023023023023,
          0.3033033033033033,
          0.30430430430430433,
          0.3053053053053053,
          0.3063063063063063,
          0.3073073073073073,
          0.3083083083083083,
          0.30930930930930933,
          0.3103103103103103,
          0.3113113113113113,
          0.3123123123123123,
          0.3133133133133133,
          0.31431431431431434,
          0.3153153153153153,
          0.3163163163163163,
          0.3173173173173173,
          0.3183183183183183,
          0.31931931931931934,
          0.3203203203203203,
          0.3213213213213213,
          0.32232232232232233,
          0.3233233233233233,
          0.32432432432432434,
          0.3253253253253253,
          0.3263263263263263,
          0.32732732732732733,
          0.3283283283283283,
          0.32932932932932935,
          0.3303303303303303,
          0.3313313313313313,
          0.33233233233233234,
          0.3333333333333333,
          0.33433433433433435,
          0.3353353353353353,
          0.3363363363363363,
          0.33733733733733734,
          0.3383383383383383,
          0.33933933933933935,
          0.34034034034034033,
          0.34134134134134136,
          0.34234234234234234,
          0.3433433433433433,
          0.34434434434434436,
          0.34534534534534533,
          0.34634634634634637,
          0.34734734734734735,
          0.3483483483483483,
          0.34934934934934936,
          0.35035035035035034,
          0.35135135135135137,
          0.35235235235235235,
          0.3533533533533533,
          0.35435435435435436,
          0.35535535535535534,
          0.3563563563563564,
          0.35735735735735735,
          0.35835835835835833,
          0.35935935935935936,
          0.36036036036036034,
          0.3613613613613614,
          0.36236236236236236,
          0.36336336336336333,
          0.36436436436436437,
          0.36536536536536535,
          0.3663663663663664,
          0.36736736736736736,
          0.3683683683683684,
          0.36936936936936937,
          0.37037037037037035,
          0.3713713713713714,
          0.37237237237237236,
          0.3733733733733734,
          0.3743743743743744,
          0.37537537537537535,
          0.3763763763763764,
          0.37737737737737737,
          0.3783783783783784,
          0.3793793793793794,
          0.38038038038038036,
          0.3813813813813814,
          0.38238238238238237,
          0.3833833833833834,
          0.3843843843843844,
          0.38538538538538536,
          0.3863863863863864,
          0.38738738738738737,
          0.3883883883883884,
          0.3893893893893894,
          0.39039039039039036,
          0.3913913913913914,
          0.3923923923923924,
          0.3933933933933934,
          0.3943943943943944,
          0.39539539539539537,
          0.3963963963963964,
          0.3973973973973974,
          0.3983983983983984,
          0.3993993993993994,
          0.40040040040040037,
          0.4014014014014014,
          0.4024024024024024,
          0.4034034034034034,
          0.4044044044044044,
          0.40540540540540543,
          0.4064064064064064,
          0.4074074074074074,
          0.4084084084084084,
          0.4094094094094094,
          0.41041041041041043,
          0.4114114114114114,
          0.4124124124124124,
          0.4134134134134134,
          0.4144144144144144,
          0.41541541541541543,
          0.4164164164164164,
          0.4174174174174174,
          0.4184184184184184,
          0.4194194194194194,
          0.42042042042042044,
          0.4214214214214214,
          0.4224224224224224,
          0.42342342342342343,
          0.4244244244244244,
          0.42542542542542544,
          0.4264264264264264,
          0.4274274274274274,
          0.42842842842842843,
          0.4294294294294294,
          0.43043043043043044,
          0.4314314314314314,
          0.43243243243243246,
          0.43343343343343343,
          0.4344344344344344,
          0.43543543543543545,
          0.4364364364364364,
          0.43743743743743746,
          0.43843843843843844,
          0.4394394394394394,
          0.44044044044044045,
          0.44144144144144143,
          0.44244244244244246,
          0.44344344344344344,
          0.4444444444444444,
          0.44544544544544545,
          0.44644644644644643,
          0.44744744744744747,
          0.44844844844844844,
          0.4494494494494494,
          0.45045045045045046,
          0.45145145145145144,
          0.45245245245245247,
          0.45345345345345345,
          0.4544544544544544,
          0.45545545545545546,
          0.45645645645645644,
          0.4574574574574575,
          0.45845845845845845,
          0.45945945945945943,
          0.46046046046046046,
          0.46146146146146144,
          0.4624624624624625,
          0.46346346346346345,
          0.46446446446446443,
          0.46546546546546547,
          0.46646646646646645,
          0.4674674674674675,
          0.46846846846846846,
          0.4694694694694695,
          0.47047047047047047,
          0.47147147147147145,
          0.4724724724724725,
          0.47347347347347346,
          0.4744744744744745,
          0.4754754754754755,
          0.47647647647647645,
          0.4774774774774775,
          0.47847847847847846,
          0.4794794794794795,
          0.4804804804804805,
          0.48148148148148145,
          0.4824824824824825,
          0.48348348348348347,
          0.4844844844844845,
          0.4854854854854855,
          0.48648648648648646,
          0.4874874874874875,
          0.48848848848848847,
          0.4894894894894895,
          0.4904904904904905,
          0.49149149149149146,
          0.4924924924924925,
          0.4934934934934935,
          0.4944944944944945,
          0.4954954954954955,
          0.4964964964964965,
          0.4974974974974975,
          0.4984984984984985,
          0.4994994994994995,
          0.5005005005005005,
          0.5015015015015015,
          0.5025025025025025,
          0.5035035035035035,
          0.5045045045045045,
          0.5055055055055055,
          0.5065065065065065,
          0.5075075075075075,
          0.5085085085085085,
          0.5095095095095095,
          0.5105105105105106,
          0.5115115115115115,
          0.5125125125125125,
          0.5135135135135135,
          0.5145145145145145,
          0.5155155155155156,
          0.5165165165165165,
          0.5175175175175175,
          0.5185185185185185,
          0.5195195195195195,
          0.5205205205205206,
          0.5215215215215215,
          0.5225225225225225,
          0.5235235235235235,
          0.5245245245245245,
          0.5255255255255256,
          0.5265265265265265,
          0.5275275275275275,
          0.5285285285285285,
          0.5295295295295295,
          0.5305305305305306,
          0.5315315315315315,
          0.5325325325325325,
          0.5335335335335335,
          0.5345345345345345,
          0.5355355355355356,
          0.5365365365365365,
          0.5375375375375375,
          0.5385385385385385,
          0.5395395395395395,
          0.5405405405405406,
          0.5415415415415415,
          0.5425425425425425,
          0.5435435435435435,
          0.5445445445445445,
          0.5455455455455456,
          0.5465465465465466,
          0.5475475475475475,
          0.5485485485485485,
          0.5495495495495496,
          0.5505505505505506,
          0.5515515515515516,
          0.5525525525525525,
          0.5535535535535535,
          0.5545545545545546,
          0.5555555555555556,
          0.5565565565565566,
          0.5575575575575575,
          0.5585585585585585,
          0.5595595595595596,
          0.5605605605605606,
          0.5615615615615616,
          0.5625625625625625,
          0.5635635635635635,
          0.5645645645645646,
          0.5655655655655656,
          0.5665665665665666,
          0.5675675675675675,
          0.5685685685685685,
          0.5695695695695696,
          0.5705705705705706,
          0.5715715715715716,
          0.5725725725725725,
          0.5735735735735735,
          0.5745745745745746,
          0.5755755755755756,
          0.5765765765765766,
          0.5775775775775776,
          0.5785785785785785,
          0.5795795795795796,
          0.5805805805805806,
          0.5815815815815816,
          0.5825825825825826,
          0.5835835835835835,
          0.5845845845845846,
          0.5855855855855856,
          0.5865865865865866,
          0.5875875875875876,
          0.5885885885885885,
          0.5895895895895896,
          0.5905905905905906,
          0.5915915915915916,
          0.5925925925925926,
          0.5935935935935935,
          0.5945945945945946,
          0.5955955955955956,
          0.5965965965965966,
          0.5975975975975976,
          0.5985985985985985,
          0.5995995995995996,
          0.6006006006006006,
          0.6016016016016016,
          0.6026026026026026,
          0.6036036036036035,
          0.6046046046046046,
          0.6056056056056056,
          0.6066066066066066,
          0.6076076076076076,
          0.6086086086086087,
          0.6096096096096096,
          0.6106106106106106,
          0.6116116116116116,
          0.6126126126126126,
          0.6136136136136137,
          0.6146146146146146,
          0.6156156156156156,
          0.6166166166166166,
          0.6176176176176176,
          0.6186186186186187,
          0.6196196196196196,
          0.6206206206206206,
          0.6216216216216216,
          0.6226226226226226,
          0.6236236236236237,
          0.6246246246246246,
          0.6256256256256256,
          0.6266266266266266,
          0.6276276276276276,
          0.6286286286286287,
          0.6296296296296297,
          0.6306306306306306,
          0.6316316316316316,
          0.6326326326326326,
          0.6336336336336337,
          0.6346346346346347,
          0.6356356356356356,
          0.6366366366366366,
          0.6376376376376376,
          0.6386386386386387,
          0.6396396396396397,
          0.6406406406406406,
          0.6416416416416416,
          0.6426426426426426,
          0.6436436436436437,
          0.6446446446446447,
          0.6456456456456456,
          0.6466466466466466,
          0.6476476476476476,
          0.6486486486486487,
          0.6496496496496497,
          0.6506506506506506,
          0.6516516516516516,
          0.6526526526526526,
          0.6536536536536537,
          0.6546546546546547,
          0.6556556556556556,
          0.6566566566566566,
          0.6576576576576576,
          0.6586586586586587,
          0.6596596596596597,
          0.6606606606606606,
          0.6616616616616616,
          0.6626626626626626,
          0.6636636636636637,
          0.6646646646646647,
          0.6656656656656657,
          0.6666666666666666,
          0.6676676676676676,
          0.6686686686686687,
          0.6696696696696697,
          0.6706706706706707,
          0.6716716716716716,
          0.6726726726726726,
          0.6736736736736737,
          0.6746746746746747,
          0.6756756756756757,
          0.6766766766766766,
          0.6776776776776777,
          0.6786786786786787,
          0.6796796796796797,
          0.6806806806806807,
          0.6816816816816816,
          0.6826826826826827,
          0.6836836836836837,
          0.6846846846846847,
          0.6856856856856857,
          0.6866866866866866,
          0.6876876876876877,
          0.6886886886886887,
          0.6896896896896897,
          0.6906906906906907,
          0.6916916916916916,
          0.6926926926926927,
          0.6936936936936937,
          0.6946946946946947,
          0.6956956956956957,
          0.6966966966966966,
          0.6976976976976977,
          0.6986986986986987,
          0.6996996996996997,
          0.7007007007007007,
          0.7017017017017017,
          0.7027027027027027,
          0.7037037037037037,
          0.7047047047047047,
          0.7057057057057057,
          0.7067067067067067,
          0.7077077077077077,
          0.7087087087087087,
          0.7097097097097097,
          0.7107107107107107,
          0.7117117117117117,
          0.7127127127127127,
          0.7137137137137137,
          0.7147147147147147,
          0.7157157157157157,
          0.7167167167167167,
          0.7177177177177178,
          0.7187187187187187,
          0.7197197197197197,
          0.7207207207207207,
          0.7217217217217217,
          0.7227227227227228,
          0.7237237237237237,
          0.7247247247247247,
          0.7257257257257257,
          0.7267267267267267,
          0.7277277277277278,
          0.7287287287287287,
          0.7297297297297297,
          0.7307307307307307,
          0.7317317317317317,
          0.7327327327327328,
          0.7337337337337337,
          0.7347347347347347,
          0.7357357357357357,
          0.7367367367367368,
          0.7377377377377378,
          0.7387387387387387,
          0.7397397397397397,
          0.7407407407407407,
          0.7417417417417418,
          0.7427427427427428,
          0.7437437437437437,
          0.7447447447447447,
          0.7457457457457457,
          0.7467467467467468,
          0.7477477477477478,
          0.7487487487487487,
          0.7497497497497497,
          0.7507507507507507,
          0.7517517517517518,
          0.7527527527527528,
          0.7537537537537538,
          0.7547547547547547,
          0.7557557557557557,
          0.7567567567567568,
          0.7577577577577578,
          0.7587587587587588,
          0.7597597597597597,
          0.7607607607607607,
          0.7617617617617618,
          0.7627627627627628,
          0.7637637637637638,
          0.7647647647647647,
          0.7657657657657657,
          0.7667667667667668,
          0.7677677677677678,
          0.7687687687687688,
          0.7697697697697697,
          0.7707707707707707,
          0.7717717717717718,
          0.7727727727727728,
          0.7737737737737738,
          0.7747747747747747,
          0.7757757757757757,
          0.7767767767767768,
          0.7777777777777778,
          0.7787787787787788,
          0.7797797797797797,
          0.7807807807807807,
          0.7817817817817818,
          0.7827827827827828,
          0.7837837837837838,
          0.7847847847847848,
          0.7857857857857857,
          0.7867867867867868,
          0.7877877877877878,
          0.7887887887887888,
          0.7897897897897898,
          0.7907907907907907,
          0.7917917917917918,
          0.7927927927927928,
          0.7937937937937938,
          0.7947947947947948,
          0.7957957957957957,
          0.7967967967967968,
          0.7977977977977978,
          0.7987987987987988,
          0.7997997997997998,
          0.8008008008008007,
          0.8018018018018018,
          0.8028028028028028,
          0.8038038038038038,
          0.8048048048048048,
          0.8058058058058059,
          0.8068068068068068,
          0.8078078078078078,
          0.8088088088088088,
          0.8098098098098098,
          0.8108108108108109,
          0.8118118118118118,
          0.8128128128128128,
          0.8138138138138138,
          0.8148148148148148,
          0.8158158158158159,
          0.8168168168168168,
          0.8178178178178178,
          0.8188188188188188,
          0.8198198198198198,
          0.8208208208208209,
          0.8218218218218218,
          0.8228228228228228,
          0.8238238238238238,
          0.8248248248248248,
          0.8258258258258259,
          0.8268268268268268,
          0.8278278278278278,
          0.8288288288288288,
          0.8298298298298298,
          0.8308308308308309,
          0.8318318318318318,
          0.8328328328328328,
          0.8338338338338338,
          0.8348348348348348,
          0.8358358358358359,
          0.8368368368368369,
          0.8378378378378378,
          0.8388388388388388,
          0.8398398398398398,
          0.8408408408408409,
          0.8418418418418419,
          0.8428428428428428,
          0.8438438438438438,
          0.8448448448448448,
          0.8458458458458459,
          0.8468468468468469,
          0.8478478478478478,
          0.8488488488488488,
          0.8498498498498498,
          0.8508508508508509,
          0.8518518518518519,
          0.8528528528528528,
          0.8538538538538538,
          0.8548548548548548,
          0.8558558558558559,
          0.8568568568568569,
          0.8578578578578578,
          0.8588588588588588,
          0.8598598598598598,
          0.8608608608608609,
          0.8618618618618619,
          0.8628628628628628,
          0.8638638638638638,
          0.8648648648648649,
          0.8658658658658659,
          0.8668668668668669,
          0.8678678678678678,
          0.8688688688688688,
          0.8698698698698699,
          0.8708708708708709,
          0.8718718718718719,
          0.8728728728728729,
          0.8738738738738738,
          0.8748748748748749,
          0.8758758758758759,
          0.8768768768768769,
          0.8778778778778779,
          0.8788788788788788,
          0.8798798798798799,
          0.8808808808808809,
          0.8818818818818819,
          0.8828828828828829,
          0.8838838838838838,
          0.8848848848848849,
          0.8858858858858859,
          0.8868868868868869,
          0.8878878878878879,
          0.8888888888888888,
          0.8898898898898899,
          0.8908908908908909,
          0.8918918918918919,
          0.8928928928928929,
          0.8938938938938938,
          0.8948948948948949,
          0.8958958958958959,
          0.8968968968968969,
          0.8978978978978979,
          0.8988988988988988,
          0.8998998998998999,
          0.9009009009009009,
          0.9019019019019019,
          0.9029029029029029,
          0.9039039039039038,
          0.9049049049049049,
          0.9059059059059059,
          0.9069069069069069,
          0.9079079079079079,
          0.9089089089089089,
          0.9099099099099099,
          0.9109109109109109,
          0.9119119119119119,
          0.9129129129129129,
          0.9139139139139139,
          0.914914914914915,
          0.9159159159159159,
          0.9169169169169169,
          0.9179179179179179,
          0.9189189189189189,
          0.91991991991992,
          0.9209209209209209,
          0.9219219219219219,
          0.9229229229229229,
          0.9239239239239239,
          0.924924924924925,
          0.9259259259259259,
          0.9269269269269269,
          0.9279279279279279,
          0.9289289289289289,
          0.92992992992993,
          0.9309309309309309,
          0.9319319319319319,
          0.9329329329329329,
          0.933933933933934,
          0.934934934934935,
          0.9359359359359359,
          0.9369369369369369,
          0.9379379379379379,
          0.938938938938939,
          0.93993993993994,
          0.9409409409409409,
          0.9419419419419419,
          0.9429429429429429,
          0.943943943943944,
          0.944944944944945,
          0.9459459459459459,
          0.9469469469469469,
          0.9479479479479479,
          0.948948948948949,
          0.94994994994995,
          0.950950950950951,
          0.9519519519519519,
          0.9529529529529529,
          0.953953953953954,
          0.954954954954955,
          0.955955955955956,
          0.9569569569569569,
          0.9579579579579579,
          0.958958958958959,
          0.95995995995996,
          0.960960960960961,
          0.9619619619619619,
          0.9629629629629629,
          0.963963963963964,
          0.964964964964965,
          0.965965965965966,
          0.9669669669669669,
          0.9679679679679679,
          0.968968968968969,
          0.96996996996997,
          0.970970970970971,
          0.9719719719719719,
          0.9729729729729729,
          0.973973973973974,
          0.974974974974975,
          0.975975975975976,
          0.9769769769769769,
          0.9779779779779779,
          0.978978978978979,
          0.97997997997998,
          0.980980980980981,
          0.9819819819819819,
          0.9829829829829829,
          0.983983983983984,
          0.984984984984985,
          0.985985985985986,
          0.986986986986987,
          0.9879879879879879,
          0.988988988988989,
          0.98998998998999,
          0.990990990990991,
          0.991991991991992,
          0.992992992992993,
          0.993993993993994,
          0.994994994994995,
          0.995995995995996,
          0.996996996996997,
          0.997997997997998,
          0.998998998998999,
          1
         ],
         "xaxis": "x",
         "y": [
          0.005367927631365856,
          0.005370829308451551,
          0.005373733859853541,
          0.005376641291306274,
          0.005379551608561473,
          0.005382464817388077,
          0.005385380923572408,
          0.005388299932918169,
          0.005391221851246603,
          0.005394146684396502,
          0.005397074438224275,
          0.005400005118604017,
          0.0054029387314276575,
          0.005405875282604888,
          0.005408814778063429,
          0.0054117572237488976,
          0.00541470262562499,
          0.005417650989673572,
          0.005420602321894726,
          0.005423556628306782,
          0.005426513914946447,
          0.005429474187868842,
          0.005432437453147656,
          0.0054354037168751175,
          0.005438372985162086,
          0.005441345264138256,
          0.00544432055995203,
          0.005447298878770787,
          0.0054502802267808,
          0.005453264610187452,
          0.0054562520352152396,
          0.005459242508107819,
          0.005462236035128153,
          0.005465232622558608,
          0.005468232276700962,
          0.0054712350038764795,
          0.005474240810426107,
          0.005477249702710412,
          0.005480261687109722,
          0.005483276770024318,
          0.00548629495787426,
          0.005489316257099756,
          0.005492340674161007,
          0.005495368215538493,
          0.005498398887732859,
          0.0055014326972652105,
          0.005504469650676982,
          0.005507509754530204,
          0.005510553015407479,
          0.005513599439912115,
          0.005516649034668207,
          0.005519701806320691,
          0.005522757761535478,
          0.005525816906999563,
          0.005528879249420976,
          0.005531944795529066,
          0.00553501355207441,
          0.005538085525829095,
          0.005541160723586594,
          0.005544239152162004,
          0.005547320818392124,
          0.005550405729135491,
          0.005553493891272482,
          0.005556585311705501,
          0.005559679997358879,
          0.005562777955179246,
          0.005565879192135313,
          0.005568983715218231,
          0.005572091531441503,
          0.005575202647841233,
          0.00557831707147604,
          0.005581434809427381,
          0.0055845558687993985,
          0.005587680256719261,
          0.0055908079803370855,
          0.005593939046826106,
          0.005597073463382773,
          0.005600211237226835,
          0.00560335237560148,
          0.005606496885773385,
          0.005609644775032853,
          0.005612796050693918,
          0.005615950720094375,
          0.005619108790595972,
          0.005622270269584564,
          0.005625435164470011,
          0.005628603482686477,
          0.0056317752316925014,
          0.005634950418970986,
          0.005638129052029453,
          0.005641311138400105,
          0.005644496685639853,
          0.005647685701330553,
          0.005650878193079018,
          0.0056540741685171935,
          0.005657273635302164,
          0.005660476601116428,
          0.005663683073667889,
          0.005666893060689943,
          0.005670106569941772,
          0.005673323609208184,
          0.005676544186299992,
          0.005679768309053958,
          0.0056829959853329825,
          0.0056862272230262115,
          0.005689462030049098,
          0.005692700414343633,
          0.005695942383878329,
          0.005699187946648486,
          0.005702437110676161,
          0.0057056898840103926,
          0.005708946274727275,
          0.005712206290930096,
          0.005715469940749475,
          0.00571873723234346,
          0.005722008173897654,
          0.0057252827736253295,
          0.005728561039767582,
          0.005731842980593452,
          0.005735128604400042,
          0.005738417919512646,
          0.0057417109342848315,
          0.005745007657098659,
          0.005748308096364731,
          0.005751612260522414,
          0.005754920158039861,
          0.0057582317974141746,
          0.005761547187171626,
          0.005764866335867651,
          0.005768189252087097,
          0.0057715159444443,
          0.005774846421583223,
          0.005778180692177618,
          0.005781518764931133,
          0.005784860648577502,
          0.005788206351880596,
          0.005791555883634645,
          0.00579490925266434,
          0.00579826646782495,
          0.005801627538002579,
          0.005804992472114097,
          0.005808361279107511,
          0.005811733967961999,
          0.00581511054768801,
          0.00581849102732751,
          0.0058218754159540444,
          0.0058252637226729916,
          0.005828655956621581,
          0.0058320521269691495,
          0.005835452242917177,
          0.005838856313699633,
          0.005842264348582898,
          0.005845676356866032,
          0.005849092347880992,
          0.005852512330992636,
          0.005855936315599035,
          0.00585936431113146,
          0.005862796327054729,
          0.005866232372867171,
          0.005869672458100939,
          0.00587311659232216,
          0.005876564785130939,
          0.005880017046161712,
          0.005883473385083323,
          0.005886933811599193,
          0.005890398335447416,
          0.0058938669664011295,
          0.00589733971426844,
          0.005900816588892759,
          0.005904297600152884,
          0.005907782757963209,
          0.005911272072273867,
          0.005914765553070992,
          0.0059182632103766996,
          0.005921765054249514,
          0.005925271094784319,
          0.005928781342112648,
          0.005932295806402856,
          0.0059358144978603,
          0.005939337426727479,
          0.005942864603284246,
          0.005946396037847953,
          0.00594993174077368,
          0.005953471722454461,
          0.005957015993321339,
          0.005960564563843628,
          0.005964117444529163,
          0.0059676746459243,
          0.005971236178614374,
          0.005974802053223666,
          0.005978372280415632,
          0.005981946870893272,
          0.005985525835399022,
          0.005989109184715274,
          0.005992696929664313,
          0.005996289081108678,
          0.005999885649951263,
          0.006003486647135617,
          0.006007092083645998,
          0.006010701970507749,
          0.006014316318787386,
          0.006017935139592858,
          0.0060215584440736665,
          0.006025186243421206,
          0.006028818548868933,
          0.0060324553716924485,
          0.006036096723209923,
          0.006039742614782131,
          0.006043393057812771,
          0.006047048063748626,
          0.006050707644079817,
          0.006054371810340006,
          0.0060580405741065945,
          0.006061713947001042,
          0.006065391940688922,
          0.0060690745668802795,
          0.006072761837329838,
          0.006076453763837217,
          0.0060801503582470755,
          0.006083851632449507,
          0.00608755759838013,
          0.006091268268020428,
          0.0060949836533978445,
          0.006098703766586176,
          0.006102428619705742,
          0.006106158224923597,
          0.006109892594453806,
          0.006113631740557652,
          0.006117375675543942,
          0.006121124411769249,
          0.006124877961638012,
          0.006128636337603061,
          0.006132399552165553,
          0.006136167617875467,
          0.006139940547331787,
          0.0061437183531826405,
          0.006147501048125785,
          0.006151288644908659,
          0.0061550811563286815,
          0.006158878595233686,
          0.006162680974521916,
          0.006166488307142518,
          0.0061703006060957,
          0.006174117884432945,
          0.006177940155257475,
          0.006181767431724305,
          0.006185599727040697,
          0.006189437054466276,
          0.006193279427313484,
          0.0061971268589476654,
          0.0062009793627875185,
          0.006204836952305322,
          0.006208699641027117,
          0.006212567442533169,
          0.006216440370458187,
          0.006220318438491531,
          0.006224201660377602,
          0.006228090049916184,
          0.006231983620962558,
          0.006235882387428012,
          0.00623978636327995,
          0.006243695562542408,
          0.006247609999296131,
          0.006251529687679036,
          0.006255454641886508,
          0.006259384876171643,
          0.006263320404845599,
          0.006267261242277923,
          0.006271207402896897,
          0.006275158901189735,
          0.006279115751703064,
          0.006283077969043137,
          0.00628704556787625,
          0.006291018562928948,
          0.006294996968988512,
          0.006298980800903156,
          0.006302970073582397,
          0.006306964801997465,
          0.0063109650011816,
          0.006314970686230319,
          0.00631898187230191,
          0.006322998574617637,
          0.0063270208084622095,
          0.006331048589184051,
          0.0063350819321956455,
          0.0063391208529740275,
          0.006343165367060945,
          0.006347215490063396,
          0.006351271237653908,
          0.0063553326255708755,
          0.006359399669619062,
          0.006363472385669802,
          0.0063675507896614955,
          0.006371634897599989,
          0.006375724725558837,
          0.006379820289679876,
          0.006383921606173387,
          0.006388028691318686,
          0.006392141561464423,
          0.00639626023302891,
          0.006400384722500711,
          0.006404515046438859,
          0.006408651221473292,
          0.0064127932643053345,
          0.006416941191708107,
          0.006421095020526847,
          0.006425254767679346,
          0.006429420450156432,
          0.00643359208502235,
          0.006437769689415192,
          0.006441953280547334,
          0.006446142875705808,
          0.006450338492252798,
          0.006454540147626114,
          0.006458747859339476,
          0.006462961644983152,
          0.006467181522224258,
          0.00647140750880725,
          0.00647563962255443,
          0.006479877881366358,
          0.00648412230322225,
          0.006488372906180556,
          0.006492629708379325,
          0.006496892728036787,
          0.00650116198345172,
          0.006505437493003971,
          0.006509719275154912,
          0.006514007348447979,
          0.006518301731509109,
          0.006522602443047251,
          0.006526909501854828,
          0.0065312229268082965,
          0.006535542736868565,
          0.00653986895108163,
          0.006544201588578938,
          0.006548540668577997,
          0.0065528862103827945,
          0.006557238233384487,
          0.006561596757061759,
          0.006565961800981446,
          0.006570333384798987,
          0.006574711528259053,
          0.006579096251196059,
          0.006583487573534676,
          0.006587885515290371,
          0.0065922900965700556,
          0.006596701337572526,
          0.006601119258589127,
          0.006605543880004192,
          0.006609975222295745,
          0.006614413306036038,
          0.006618858151892043,
          0.006623309780626204,
          0.006627768213096815,
          0.0066322334702588375,
          0.006636705573164298,
          0.0066411845429629945,
          0.006645670400903148,
          0.006650163168331855,
          0.0066546628666959064,
          0.006659169517542214,
          0.0066636831425185405,
          0.0066682037633741835,
          0.0066727314019604765,
          0.0066772660802315266,
          0.006681807820244811,
          0.006686356644161845,
          0.006690912574248838,
          0.006695475632877417,
          0.006700045842525151,
          0.006704623225776345,
          0.006709207805322681,
          0.006713799603963876,
          0.006718398644608397,
          0.006723004950274132,
          0.006727618544089148,
          0.006732239449292313,
          0.006736867689234048,
          0.006741503287377039,
          0.006746146267296987,
          0.006750796652683285,
          0.0067554544673397755,
          0.006760119735185454,
          0.006764792480255306,
          0.006769472726700984,
          0.00677416049879156,
          0.006778855820914289,
          0.006783558717575471,
          0.0067882692134010976,
          0.006792987333137693,
          0.006797713101653151,
          0.006802446543937408,
          0.006807187685103369,
          0.006811936550387657,
          0.006816693165151401,
          0.0068214575548811536,
          0.0068262297451895946,
          0.006831009761816478,
          0.006835797630629386,
          0.006840593377624622,
          0.006845397028928106,
          0.006850208610796128,
          0.006855028149616346,
          0.006859855671908549,
          0.006864691204325654,
          0.006869534773654488,
          0.006874386406816761,
          0.006879246130869967,
          0.00688411397300829,
          0.006888989960563449,
          0.006893874121005807,
          0.006898766481945153,
          0.006903667071131699,
          0.0069085759164570605,
          0.006913493045955142,
          0.006918418487803278,
          0.006923352270322928,
          0.006928294421981008,
          0.006933244971390592,
          0.006938203947312098,
          0.006943171378654211,
          0.006948147294474961,
          0.006953131723982672,
          0.0069581246965371235,
          0.006963126241650521,
          0.0069681363889885824,
          0.0069731551683715025,
          0.00697818260977521,
          0.0069832187433323525,
          0.0069882635993333605,
          0.006993317208227637,
          0.006998379600624577,
          0.007003450807294818,
          0.007008530859171212,
          0.0070136197873501465,
          0.007018717623092522,
          0.007023824397825098,
          0.007028940143141503,
          0.00703406489080352,
          0.007039198672742284,
          0.00704434152105944,
          0.0070494934680283665,
          0.0070546545460954055,
          0.007059824787881201,
          0.007065004226181776,
          0.007070192893969903,
          0.007075390824396414,
          0.007080598050791326,
          0.007085814606665362,
          0.007091040525711053,
          0.007096275841804173,
          0.007101520589005042,
          0.007106774801559839,
          0.007112038513902047,
          0.007117311760653711,
          0.007122594576626914,
          0.007127886996825108,
          0.0071331890564445095,
          0.007138500790875635,
          0.007143822235704566,
          0.007149153426714554,
          0.007154494399887363,
          0.007159845191404762,
          0.0071652058376501125,
          0.0071705763752097605,
          0.007175956840874535,
          0.00718134727164138,
          0.007186747704714862,
          0.0071921581775086655,
          0.0071975787276472025,
          0.007203009392967245,
          0.007208450211519462,
          0.007213901221570092,
          0.007219362461602516,
          0.007224833970318959,
          0.00723031578664211,
          0.007235807949716854,
          0.00724131049891192,
          0.00724682347382161,
          0.007252346914267533,
          0.007257880860300328,
          0.007263425352201457,
          0.00726898043048498,
          0.007274546135899316,
          0.0072801225094290874,
          0.0072857095922969455,
          0.007291307425965444,
          0.00729691605213885,
          0.007302535512765033,
          0.007308165850037441,
          0.007313807106396962,
          0.0073194593245338455,
          0.007325122547389759,
          0.007330796818159625,
          0.007336482180293724,
          0.007342178677499729,
          0.007347886353744647,
          0.007353605253256933,
          0.007359335420528593,
          0.007365076900317263,
          0.0073708297376483016,
          0.00737659397781694,
          0.0073823696663905085,
          0.007388156849210535,
          0.007393955572394998,
          0.007399765882340541,
          0.007405587825724788,
          0.0074114214495084665,
          0.007417266800937882,
          0.007423123927547143,
          0.00742899287716048,
          0.007434873697894685,
          0.007440766438161506,
          0.007446671146669954,
          0.007452587872428928,
          0.0074585166647495,
          0.007464457573247547,
          0.007470410647846127,
          0.007476375938778208,
          0.007482353496589077,
          0.007488343372139012,
          0.007494345616605906,
          0.007500360281487888,
          0.007506387418606083,
          0.007512427080107177,
          0.007518479318466312,
          0.007524544186489731,
          0.0075306217373176726,
          0.007536712024427078,
          0.0075428151016345545,
          0.007548931023099225,
          0.007555059843325587,
          0.007561201617166565,
          0.007567356399826439,
          0.007573524246863753,
          0.0075797052141945665,
          0.007585899358095315,
          0.007592106735206137,
          0.0075983274025337695,
          0.007604561417454945,
          0.007610808837719485,
          0.007617069721453504,
          0.007623344127162881,
          0.007629632113736331,
          0.007635933740448956,
          0.0076422490669655055,
          0.007648578153343901,
          0.007654921060038604,
          0.007661277847904193,
          0.007667648578198929,
          0.007674033312588184,
          0.007680432113148261,
          0.007686845042369899,
          0.007693272163162091,
          0.007699713538855727,
          0.007706169233207443,
          0.007712639310403445,
          0.007719123835063385,
          0.0077256228722441984,
          0.007732136487444181,
          0.007738664746606914,
          0.007745207716125309,
          0.0077517654628458145,
          0.007758338054072397,
          0.007764925557570855,
          0.007771528041572974,
          0.007778145574780879,
          0.007784778226371387,
          0.007791426066000251,
          0.0077980891638067835,
          0.007804767590418237,
          0.007811461416954361,
          0.007818170715032045,
          0.00782489555676984,
          0.007831636014792833,
          0.007838392162237296,
          0.007845164072755498,
          0.007851951820520621,
          0.007858755480231685,
          0.00786557512711849,
          0.007872410836946753,
          0.00787926268602303,
          0.007886130751200145,
          0.007893015109882197,
          0.007899915840029931,
          0.007906833020166155,
          0.007913766729381079,
          0.007920717047337811,
          0.007927684054277928,
          0.007934667831027116,
          0.007941668459000774,
          0.007948686020209926,
          0.00795572059726685,
          0.007962772273391186,
          0.007969841132415719,
          0.007976927258792569,
          0.007984030737599217,
          0.007991151654544785,
          0.007998290095976182,
          0.008005446148884642,
          0.008012619900911944,
          0.008019811440357107,
          0.008027020856182898,
          0.00803424823802245,
          0.008041493676186187,
          0.008048757261668475,
          0.008056039086154699,
          0.008063339242028268,
          0.008070657822377616,
          0.008077994921003528,
          0.008085350632426375,
          0.008092725051893512,
          0.008100118275386772,
          0.008107530399629996,
          0.008114961522096755,
          0.008122411741018144,
          0.008129881155390581,
          0.008137369864983902,
          0.008144877970349297,
          0.008152405572827676,
          0.008159952774557819,
          0.008167519678484813,
          0.00817510638836866,
          0.008182713008792796,
          0.008190339645172927,
          0.0081979864037658,
          0.008205653391678284,
          0.008213340716876379,
          0.008221048488194464,
          0.008228776815344766,
          0.008236525808926575,
          0.008244295580436144,
          0.00825208624227619,
          0.008259897907765833,
          0.008267730691150686,
          0.008275584707612825,
          0.008283460073281224,
          0.008291356905242053,
          0.008299275321549298,
          0.008307215441235473,
          0.008315177384322381,
          0.008323161271832311,
          0.008331167225798958,
          0.008339195369278974,
          0.008347245826363222,
          0.008355318722188637,
          0.008363414182949773,
          0.008371532335911048,
          0.008379673309418604,
          0.008387837232912856,
          0.008396024236940818,
          0.008404234453168803,
          0.00841246801439538,
          0.008420725054564196,
          0.008429005708777377,
          0.008437310113308873,
          0.008445638405618018,
          0.008453990724363418,
          0.008462367209416902,
          0.008470768001877732,
          0.008479193244087056,
          0.008487643079642478,
          0.008496117653412983,
          0.008504617111553961,
          0.00851314160152246,
          0.0085216912720928,
          0.008530266273372257,
          0.008538866756817044,
          0.008547492875248594,
          0.008556144782869961,
          0.00856482263528262,
          0.008573526589503387,
          0.008582256803981676,
          0.008591013438616981,
          0.008599796654776714,
          0.008608606615314107,
          0.00861744348458667,
          0.008626307428474674,
          0.008635198614400168,
          0.00864411721134605,
          0.008653063389875593,
          0.00866203732215225,
          0.008671039181959744,
          0.00868006914472245,
          0.008689127387526174,
          0.008698214089139195,
          0.008707329430033744,
          0.008716473592407611,
          0.008725646760206329,
          0.00873484911914564,
          0.008744080856734233,
          0.008753342162296954,
          0.008762633226998414,
          0.00877195424386685,
          0.008781305407818431,
          0.008790686915682097,
          0.008800098966224645,
          0.008809541760176213,
          0.008819015500256324,
          0.00882852039120023,
          0.008838056639785838,
          0.008847624454860904,
          0.008857224047370849,
          0.008866855630386954,
          0.008876519419135004,
          0.008886215631024569,
          0.008895944485678558,
          0.008905706204963443,
          0.008915501013020022,
          0.008925329136294506,
          0.008935190803570437,
          0.008945086246000834,
          0.008955015697141194,
          0.008964979392982826,
          0.00897497757198698,
          0.008985010475119416,
          0.00899507834588559,
          0.009005181430366615,
          0.009015319977255645,
          0.009025494237895117,
          0.00903570446631441,
          0.009045950919268467,
          0.009056233856276866,
          0.009066553539663789,
          0.009076910234598516,
          0.009087304209136785,
          0.009097735734262986,
          0.009108205083932818,
          0.009118712535117184,
          0.009129258367846416,
          0.009139842865255689,
          0.009150466313631103,
          0.009161129002456615,
          0.009171831224461994,
          0.009182573275671435,
          0.00919335545545337,
          0.009204178066570977,
          0.009215041415233811,
          0.009225945811150356,
          0.009236891567581625,
          0.009247879001395625,
          0.009258908433123153,
          0.009269980187014481,
          0.00928109459109712,
          0.009292251977234845,
          0.009303452681187836,
          0.009314697042673882,
          0.009325985405430942,
          0.009337318117280903,
          0.009348695530194627,
          0.009360118000358108,
          0.009371585888240368,
          0.009383099558662261,
          0.009394659380866973,
          0.009406265728591877,
          0.009417918980141698,
          0.009429619518463588,
          0.009441367731223178,
          0.009453164010882687,
          0.009465008754780348,
          0.009476902365211738,
          0.009488845249512524,
          0.009500837820143174,
          0.009512880494775385,
          0.009524973696380213,
          0.009537117853318438,
          0.009549313399432328,
          0.009561560774139876,
          0.009573860422530781,
          0.009586212795464556,
          0.009598618349670768,
          0.009611077547851605,
          0.009623590858786496,
          0.009636158757439043,
          0.009648781725066528,
          0.009661460249331616,
          0.009674194824416752,
          0.009686985951140863,
          0.00969983413707898,
          0.009712739896684381,
          0.00972570375141355,
          0.009738726229854057,
          0.009751807867855233,
          0.009764949208661939,
          0.009778150803051538,
          0.009791413209473781,
          0.009804736994194227,
          0.009818122731440898,
          0.009831571003554479,
          0.009845082401141835,
          0.009858657523233566,
          0.009872296977445044,
          0.009886001380141406,
          0.009899771356606512,
          0.0099136075412161,
          0.009927510577614988,
          0.00994148111889883,
          0.009955519827800182,
          0.009969627376879169,
          0.009983804448719134,
          0.009998051736126817,
          0.010012369942337826,
          0.010026759781227334,
          0.01004122197752575,
          0.010055757267040432,
          0.01007036639688263,
          0.01008505012570054,
          0.010099809223918241,
          0.010114644473981088,
          0.01012955667060716,
          0.010144546621045641,
          0.010159615145342032,
          0.010174763076610128,
          0.01018999126131163,
          0.01020530055954295,
          0.01022069184533014,
          0.010236166006931426,
          0.010251723947148305,
          0.010267366583645092,
          0.010283094849277271,
          0.010298909692429083,
          0.010314812077360368,
          0.010330802984563282,
          0.010346883411129125,
          0.010363054371125485,
          0.010379316895984184,
          0.010395672034900473,
          0.010412120855243666,
          0.010428664442979782,
          0.010445303903106475,
          0.010462040360100875,
          0.010478874958380562,
          0.010495808862778386,
          0.010512843259031422,
          0.010529979354284666,
          0.010547218377610112,
          0.010564561580541526,
          0.010582010237625724,
          0.010599565646990826,
          0.010617229130932163,
          0.010635002036516596,
          0.010652885736205804,
          0.010670881628499176,
          0.010688991138597507,
          0.010707215719087625,
          0.010725556850649371,
          0.010744016042785428,
          0.010762594834575154,
          0.010781294795453042,
          0.0108001175260131,
          0.010819064658840128,
          0.010838137859368784,
          0.010857338826771734,
          0.010876669294878093,
          0.010896131033123398,
          0.010915725847532172,
          0.010935455581734806,
          0.010955322118020104,
          0.010975327378424653,
          0.01099547332586118,
          0.011015761965287111,
          0.011036195344915076,
          0.011056775557467669,
          0.011077504741477706,
          0.011098385082636579,
          0.011119418815192548,
          0.011140608223401233,
          0.01116195564303076,
          0.011183463462923956,
          0.011205134126620353,
          0.011226970134040533,
          0.01124897404323601,
          0.01127114847220736,
          0.011293496100794258,
          0.011316019672640482,
          0.011338721997237726,
          0.011361605952052024,
          0.011384674484736462,
          0.011407930615435132,
          0.011431377439182211,
          0.011455018128401204,
          0.011478855935509371,
          0.011502894195632895,
          0.011527136329438092,
          0.011551585846084875,
          0.011576246346309202,
          0.011601121525640466,
          0.011626215177762123,
          0.011651531198022173,
          0.01167707358710236,
          0.011702846454854416,
          0.011728854024312858,
          0.01175510063589365,
          0.011781590751789769,
          0.011808328960574524,
          0.011835319982024582,
          0.011862568672175468,
          0.01189008002862304,
          0.011917859196085557,
          0.011945911472241708,
          0.011974242313861422,
          0.012002857343247061,
          0.012031762355004232,
          0.012060963323162446,
          0.012090466408667759,
          0.012120277967270976,
          0.012150404557836617,
          0.01218085295109989,
          0.012211630138901081,
          0.012242743343929042,
          0.012274200030007435,
          0.012306007912961027,
          0.012338174972101296,
          0.012370709462374254,
          0.012403619927217242,
          0.012436915212174377,
          0.012470604479325695,
          0.012504697222588313,
          0.012539203283954326,
          0.012574132870734955,
          0.012609496573886306,
          0.012645305387500017,
          0.012681570729548047,
          0.01271830446398025,
          0.012755518924282009,
          0.012793226938608905,
          0.012831441856627332,
          0.012870177578201901,
          0.012909448584083981,
          0.01294926996877174,
          0.01298965747572854,
          0.013030627535166116,
          0.01307219730461953,
          0.013114384712566143,
          0.013157208505366084,
          0.013200688297833137,
          0.013244844627778028,
          0.013289699014905114,
          0.013335274024486086,
          0.013381593336283639,
          0.01342868181925338,
          0.013476565612615725,
          0.013525272213960984,
          0.01357483057513308,
          0.013625271206731494,
          0.013676626292178012,
          0.013728929812419348,
          0.013782217682478573,
          0.013836527901233341,
          0.01389190071598926,
          0.01394837880363878,
          0.014006007470453155,
          0.01406483487285686,
          0.014124912261887168,
          0.014186294254455844,
          0.014249039135020831,
          0.01431320919185385,
          0.01437887109278012,
          0.0144460963060859,
          0.014514961573273727,
          0.014585549441527025,
          0.01465794886517264,
          0.014732255887161953,
          0.014808574413701182,
          0.014887017097747465,
          0.014967706350271866,
          0.015050775502134166,
          0.015136370144329043,
          0.015224649680523419,
          0.015315789133580905,
          0.015409981257649995,
          0.01550743902004703,
          0.015608398533495672,
          0.015713122540542135,
          0.01582190457988785,
          0.015935074001414643,
          0.01605300204631058,
          0.01617610927597865,
          0.016304874725704598,
          0.01643984728736514,
          0.016581660006392225,
          0.016731048237388833,
          0.016888872980479207,
          0.017056151281361953,
          0.017234096428605426,
          0.01742417200203616,
          0.017628165929839842,
          0.01784829416459666,
          0.01808734944855525,
          0.018348920977107257,
          0.01863772984926442,
          0.018960162325728128,
          0.0193251599305084,
          0.019745798130404328,
          0.02024231253079022,
          0.020848532821268792,
          0.02162771499995445,
          0.022721391247683916,
          0.024578865029273325,
          0.24884201106856502
         ],
         "yaxis": "y"
        }
       ],
       "layout": {
        "height": 500,
        "legend": {
         "tracegroupgap": 0
        },
        "margin": {
         "t": 60
        },
        "template": {
         "data": {
          "bar": [
           {
            "error_x": {
             "color": "#2a3f5f"
            },
            "error_y": {
             "color": "#2a3f5f"
            },
            "marker": {
             "line": {
              "color": "#E5ECF6",
              "width": 0.5
             },
             "pattern": {
              "fillmode": "overlay",
              "size": 10,
              "solidity": 0.2
             }
            },
            "type": "bar"
           }
          ],
          "barpolar": [
           {
            "marker": {
             "line": {
              "color": "#E5ECF6",
              "width": 0.5
             },
             "pattern": {
              "fillmode": "overlay",
              "size": 10,
              "solidity": 0.2
             }
            },
            "type": "barpolar"
           }
          ],
          "carpet": [
           {
            "aaxis": {
             "endlinecolor": "#2a3f5f",
             "gridcolor": "white",
             "linecolor": "white",
             "minorgridcolor": "white",
             "startlinecolor": "#2a3f5f"
            },
            "baxis": {
             "endlinecolor": "#2a3f5f",
             "gridcolor": "white",
             "linecolor": "white",
             "minorgridcolor": "white",
             "startlinecolor": "#2a3f5f"
            },
            "type": "carpet"
           }
          ],
          "choropleth": [
           {
            "colorbar": {
             "outlinewidth": 0,
             "ticks": ""
            },
            "type": "choropleth"
           }
          ],
          "contour": [
           {
            "colorbar": {
             "outlinewidth": 0,
             "ticks": ""
            },
            "colorscale": [
             [
              0,
              "#0d0887"
             ],
             [
              0.1111111111111111,
              "#46039f"
             ],
             [
              0.2222222222222222,
              "#7201a8"
             ],
             [
              0.3333333333333333,
              "#9c179e"
             ],
             [
              0.4444444444444444,
              "#bd3786"
             ],
             [
              0.5555555555555556,
              "#d8576b"
             ],
             [
              0.6666666666666666,
              "#ed7953"
             ],
             [
              0.7777777777777778,
              "#fb9f3a"
             ],
             [
              0.8888888888888888,
              "#fdca26"
             ],
             [
              1,
              "#f0f921"
             ]
            ],
            "type": "contour"
           }
          ],
          "contourcarpet": [
           {
            "colorbar": {
             "outlinewidth": 0,
             "ticks": ""
            },
            "type": "contourcarpet"
           }
          ],
          "heatmap": [
           {
            "colorbar": {
             "outlinewidth": 0,
             "ticks": ""
            },
            "colorscale": [
             [
              0,
              "#0d0887"
             ],
             [
              0.1111111111111111,
              "#46039f"
             ],
             [
              0.2222222222222222,
              "#7201a8"
             ],
             [
              0.3333333333333333,
              "#9c179e"
             ],
             [
              0.4444444444444444,
              "#bd3786"
             ],
             [
              0.5555555555555556,
              "#d8576b"
             ],
             [
              0.6666666666666666,
              "#ed7953"
             ],
             [
              0.7777777777777778,
              "#fb9f3a"
             ],
             [
              0.8888888888888888,
              "#fdca26"
             ],
             [
              1,
              "#f0f921"
             ]
            ],
            "type": "heatmap"
           }
          ],
          "heatmapgl": [
           {
            "colorbar": {
             "outlinewidth": 0,
             "ticks": ""
            },
            "colorscale": [
             [
              0,
              "#0d0887"
             ],
             [
              0.1111111111111111,
              "#46039f"
             ],
             [
              0.2222222222222222,
              "#7201a8"
             ],
             [
              0.3333333333333333,
              "#9c179e"
             ],
             [
              0.4444444444444444,
              "#bd3786"
             ],
             [
              0.5555555555555556,
              "#d8576b"
             ],
             [
              0.6666666666666666,
              "#ed7953"
             ],
             [
              0.7777777777777778,
              "#fb9f3a"
             ],
             [
              0.8888888888888888,
              "#fdca26"
             ],
             [
              1,
              "#f0f921"
             ]
            ],
            "type": "heatmapgl"
           }
          ],
          "histogram": [
           {
            "marker": {
             "pattern": {
              "fillmode": "overlay",
              "size": 10,
              "solidity": 0.2
             }
            },
            "type": "histogram"
           }
          ],
          "histogram2d": [
           {
            "colorbar": {
             "outlinewidth": 0,
             "ticks": ""
            },
            "colorscale": [
             [
              0,
              "#0d0887"
             ],
             [
              0.1111111111111111,
              "#46039f"
             ],
             [
              0.2222222222222222,
              "#7201a8"
             ],
             [
              0.3333333333333333,
              "#9c179e"
             ],
             [
              0.4444444444444444,
              "#bd3786"
             ],
             [
              0.5555555555555556,
              "#d8576b"
             ],
             [
              0.6666666666666666,
              "#ed7953"
             ],
             [
              0.7777777777777778,
              "#fb9f3a"
             ],
             [
              0.8888888888888888,
              "#fdca26"
             ],
             [
              1,
              "#f0f921"
             ]
            ],
            "type": "histogram2d"
           }
          ],
          "histogram2dcontour": [
           {
            "colorbar": {
             "outlinewidth": 0,
             "ticks": ""
            },
            "colorscale": [
             [
              0,
              "#0d0887"
             ],
             [
              0.1111111111111111,
              "#46039f"
             ],
             [
              0.2222222222222222,
              "#7201a8"
             ],
             [
              0.3333333333333333,
              "#9c179e"
             ],
             [
              0.4444444444444444,
              "#bd3786"
             ],
             [
              0.5555555555555556,
              "#d8576b"
             ],
             [
              0.6666666666666666,
              "#ed7953"
             ],
             [
              0.7777777777777778,
              "#fb9f3a"
             ],
             [
              0.8888888888888888,
              "#fdca26"
             ],
             [
              1,
              "#f0f921"
             ]
            ],
            "type": "histogram2dcontour"
           }
          ],
          "mesh3d": [
           {
            "colorbar": {
             "outlinewidth": 0,
             "ticks": ""
            },
            "type": "mesh3d"
           }
          ],
          "parcoords": [
           {
            "line": {
             "colorbar": {
              "outlinewidth": 0,
              "ticks": ""
             }
            },
            "type": "parcoords"
           }
          ],
          "pie": [
           {
            "automargin": true,
            "type": "pie"
           }
          ],
          "scatter": [
           {
            "fillpattern": {
             "fillmode": "overlay",
             "size": 10,
             "solidity": 0.2
            },
            "type": "scatter"
           }
          ],
          "scatter3d": [
           {
            "line": {
             "colorbar": {
              "outlinewidth": 0,
              "ticks": ""
             }
            },
            "marker": {
             "colorbar": {
              "outlinewidth": 0,
              "ticks": ""
             }
            },
            "type": "scatter3d"
           }
          ],
          "scattercarpet": [
           {
            "marker": {
             "colorbar": {
              "outlinewidth": 0,
              "ticks": ""
             }
            },
            "type": "scattercarpet"
           }
          ],
          "scattergeo": [
           {
            "marker": {
             "colorbar": {
              "outlinewidth": 0,
              "ticks": ""
             }
            },
            "type": "scattergeo"
           }
          ],
          "scattergl": [
           {
            "marker": {
             "colorbar": {
              "outlinewidth": 0,
              "ticks": ""
             }
            },
            "type": "scattergl"
           }
          ],
          "scattermapbox": [
           {
            "marker": {
             "colorbar": {
              "outlinewidth": 0,
              "ticks": ""
             }
            },
            "type": "scattermapbox"
           }
          ],
          "scatterpolar": [
           {
            "marker": {
             "colorbar": {
              "outlinewidth": 0,
              "ticks": ""
             }
            },
            "type": "scatterpolar"
           }
          ],
          "scatterpolargl": [
           {
            "marker": {
             "colorbar": {
              "outlinewidth": 0,
              "ticks": ""
             }
            },
            "type": "scatterpolargl"
           }
          ],
          "scatterternary": [
           {
            "marker": {
             "colorbar": {
              "outlinewidth": 0,
              "ticks": ""
             }
            },
            "type": "scatterternary"
           }
          ],
          "surface": [
           {
            "colorbar": {
             "outlinewidth": 0,
             "ticks": ""
            },
            "colorscale": [
             [
              0,
              "#0d0887"
             ],
             [
              0.1111111111111111,
              "#46039f"
             ],
             [
              0.2222222222222222,
              "#7201a8"
             ],
             [
              0.3333333333333333,
              "#9c179e"
             ],
             [
              0.4444444444444444,
              "#bd3786"
             ],
             [
              0.5555555555555556,
              "#d8576b"
             ],
             [
              0.6666666666666666,
              "#ed7953"
             ],
             [
              0.7777777777777778,
              "#fb9f3a"
             ],
             [
              0.8888888888888888,
              "#fdca26"
             ],
             [
              1,
              "#f0f921"
             ]
            ],
            "type": "surface"
           }
          ],
          "table": [
           {
            "cells": {
             "fill": {
              "color": "#EBF0F8"
             },
             "line": {
              "color": "white"
             }
            },
            "header": {
             "fill": {
              "color": "#C8D4E3"
             },
             "line": {
              "color": "white"
             }
            },
            "type": "table"
           }
          ]
         },
         "layout": {
          "annotationdefaults": {
           "arrowcolor": "#2a3f5f",
           "arrowhead": 0,
           "arrowwidth": 1
          },
          "autotypenumbers": "strict",
          "coloraxis": {
           "colorbar": {
            "outlinewidth": 0,
            "ticks": ""
           }
          },
          "colorscale": {
           "diverging": [
            [
             0,
             "#8e0152"
            ],
            [
             0.1,
             "#c51b7d"
            ],
            [
             0.2,
             "#de77ae"
            ],
            [
             0.3,
             "#f1b6da"
            ],
            [
             0.4,
             "#fde0ef"
            ],
            [
             0.5,
             "#f7f7f7"
            ],
            [
             0.6,
             "#e6f5d0"
            ],
            [
             0.7,
             "#b8e186"
            ],
            [
             0.8,
             "#7fbc41"
            ],
            [
             0.9,
             "#4d9221"
            ],
            [
             1,
             "#276419"
            ]
           ],
           "sequential": [
            [
             0,
             "#0d0887"
            ],
            [
             0.1111111111111111,
             "#46039f"
            ],
            [
             0.2222222222222222,
             "#7201a8"
            ],
            [
             0.3333333333333333,
             "#9c179e"
            ],
            [
             0.4444444444444444,
             "#bd3786"
            ],
            [
             0.5555555555555556,
             "#d8576b"
            ],
            [
             0.6666666666666666,
             "#ed7953"
            ],
            [
             0.7777777777777778,
             "#fb9f3a"
            ],
            [
             0.8888888888888888,
             "#fdca26"
            ],
            [
             1,
             "#f0f921"
            ]
           ],
           "sequentialminus": [
            [
             0,
             "#0d0887"
            ],
            [
             0.1111111111111111,
             "#46039f"
            ],
            [
             0.2222222222222222,
             "#7201a8"
            ],
            [
             0.3333333333333333,
             "#9c179e"
            ],
            [
             0.4444444444444444,
             "#bd3786"
            ],
            [
             0.5555555555555556,
             "#d8576b"
            ],
            [
             0.6666666666666666,
             "#ed7953"
            ],
            [
             0.7777777777777778,
             "#fb9f3a"
            ],
            [
             0.8888888888888888,
             "#fdca26"
            ],
            [
             1,
             "#f0f921"
            ]
           ]
          },
          "colorway": [
           "#636efa",
           "#EF553B",
           "#00cc96",
           "#ab63fa",
           "#FFA15A",
           "#19d3f3",
           "#FF6692",
           "#B6E880",
           "#FF97FF",
           "#FECB52"
          ],
          "font": {
           "color": "#2a3f5f"
          },
          "geo": {
           "bgcolor": "white",
           "lakecolor": "white",
           "landcolor": "#E5ECF6",
           "showlakes": true,
           "showland": true,
           "subunitcolor": "white"
          },
          "hoverlabel": {
           "align": "left"
          },
          "hovermode": "closest",
          "mapbox": {
           "style": "light"
          },
          "paper_bgcolor": "white",
          "plot_bgcolor": "#E5ECF6",
          "polar": {
           "angularaxis": {
            "gridcolor": "white",
            "linecolor": "white",
            "ticks": ""
           },
           "bgcolor": "#E5ECF6",
           "radialaxis": {
            "gridcolor": "white",
            "linecolor": "white",
            "ticks": ""
           }
          },
          "scene": {
           "xaxis": {
            "backgroundcolor": "#E5ECF6",
            "gridcolor": "white",
            "gridwidth": 2,
            "linecolor": "white",
            "showbackground": true,
            "ticks": "",
            "zerolinecolor": "white"
           },
           "yaxis": {
            "backgroundcolor": "#E5ECF6",
            "gridcolor": "white",
            "gridwidth": 2,
            "linecolor": "white",
            "showbackground": true,
            "ticks": "",
            "zerolinecolor": "white"
           },
           "zaxis": {
            "backgroundcolor": "#E5ECF6",
            "gridcolor": "white",
            "gridwidth": 2,
            "linecolor": "white",
            "showbackground": true,
            "ticks": "",
            "zerolinecolor": "white"
           }
          },
          "shapedefaults": {
           "line": {
            "color": "#2a3f5f"
           }
          },
          "ternary": {
           "aaxis": {
            "gridcolor": "white",
            "linecolor": "white",
            "ticks": ""
           },
           "baxis": {
            "gridcolor": "white",
            "linecolor": "white",
            "ticks": ""
           },
           "bgcolor": "#E5ECF6",
           "caxis": {
            "gridcolor": "white",
            "linecolor": "white",
            "ticks": ""
           }
          },
          "title": {
           "x": 0.05
          },
          "xaxis": {
           "automargin": true,
           "gridcolor": "white",
           "linecolor": "white",
           "ticks": "",
           "title": {
            "standoff": 15
           },
           "zerolinecolor": "white",
           "zerolinewidth": 2
          },
          "yaxis": {
           "automargin": true,
           "gridcolor": "white",
           "linecolor": "white",
           "ticks": "",
           "title": {
            "standoff": 15
           },
           "zerolinecolor": "white",
           "zerolinewidth": 2
          }
         }
        },
        "width": 500,
        "xaxis": {
         "anchor": "y",
         "domain": [
          0,
          1
         ],
         "title": {
          "text": "Plant Incidence"
         }
        },
        "yaxis": {
         "anchor": "x",
         "domain": [
          0,
          1
         ],
         "title": {
          "text": "Yield Loss"
         }
        }
       }
      }
     },
     "metadata": {},
     "output_type": "display_data"
    }
   ],
   "source": [
    "# Data\n",
    "data_cone_incidence_leaf_incidence = df_cone_incidence_leaf_incidence.to_numpy()\n",
    "data_yield_loss_cone_incidence = df_yield_loss_cone_incidence.to_numpy()\n",
    "\n",
    "# Linear regressions\n",
    "a1, b1 = np.polyfit(data_cone_incidence_leaf_incidence[:, 0], data_cone_incidence_leaf_incidence[:, 1], 1)\n",
    "a2, b2 = np.polyfit(data_yield_loss_cone_incidence[:, 0], data_yield_loss_cone_incidence[:, 1], 1)\n",
    "\n",
    "\n",
    "# YIELD LOSS VS. PLANT INCIDENCE\n",
    "\n",
    "\n",
    "# Function to estimate yield loss given plant incidence (probability of disease in plants)\n",
    "def yield_loss_plant_incidence(plant_incidence, n=100, D=1.19):\n",
    "    \n",
    "    # n is the number of leaves sampled and D is the index of dispersion\n",
    "    n_D = n / D \n",
    "    \n",
    "    leaf_incidence = 1 - (1 - plant_incidence) ** (1 / n_D)\n",
    "    \n",
    "    cone_incidence = a1 * leaf_incidence + b1\n",
    "    \n",
    "    yield_loss = a2 * cone_incidence\n",
    "    \n",
    "    return yield_loss\n",
    "\n",
    "\n",
    "x = np.linspace(0, 1, 1000)\n",
    "\n",
    "px.line(x=x, y=yield_loss_plant_incidence(x), labels={\"x\": \"Plant Incidence\", \"y\": \"Yield Loss\"}, width=500, height=500)"
   ]
  },
  {
   "cell_type": "code",
   "execution_count": 4,
   "metadata": {},
   "outputs": [
    {
     "data": {
      "image/png": "[encoded data removed]",
      "text/plain": [
       "<Figure size 600x600 with 1 Axes>"
      ]
     },
     "metadata": {},
     "output_type": "display_data"
    }
   ],
   "source": [
    "import numpy as np\n",
    "import matplotlib.pyplot as plt\n",
    "\n",
    "# Data\n",
    "data_cone_incidence_leaf_incidence = df_cone_incidence_leaf_incidence.to_numpy()\n",
    "data_yield_loss_cone_incidence = df_yield_loss_cone_incidence.to_numpy()\n",
    "\n",
    "# Linear regressions\n",
    "a1, b1 = np.polyfit(data_cone_incidence_leaf_incidence[:, 0], data_cone_incidence_leaf_incidence[:, 1], 1)\n",
    "a2, b2 = np.polyfit(data_yield_loss_cone_incidence[:, 0], data_yield_loss_cone_incidence[:, 1], 1)\n",
    "\n",
    "# YIELD LOSS VS. PLANT INCIDENCE\n",
    "# Function to estimate yield loss given plant incidence (probability of disease in plants)\n",
    "def yield_loss_plant_incidence(plant_incidence, n=100, D=1.19):\n",
    "    # n is the number of leaves sampled and D is the index of dispersion\n",
    "    n_D = n / D\n",
    "    leaf_incidence = 1 - (1 - (plant_incidence - 0.00000001)) ** (1 / n_D)\n",
    "    cone_incidence = a1 * leaf_incidence + b1\n",
    "    yield_loss = a2 * cone_incidence\n",
    "    return yield_loss\n",
    "\n",
    "x = np.linspace(0, 1, 10000)\n",
    "\n",
    "# Create a figure and axis\n",
    "fig, ax = plt.subplots(figsize=(6, 6))\n",
    "\n",
    "# Plot the yield loss vs. plant incidence\n",
    "ax.plot(x, yield_loss_plant_incidence(x), color='blue')\n",
    "\n",
    "# Set labels and title\n",
    "ax.set_xlabel('Plant Incidence')\n",
    "ax.set_ylabel('Yield Loss')\n",
    "ax.set_title('Yield Loss vs. Plant Incidence')\n",
    "\n",
    "# Adjust the plot layout\n",
    "fig.tight_layout()\n",
    "\n",
    "# Display the plot\n",
    "plt.show()"
   ]
  },
  {
   "cell_type": "code",
   "execution_count": 32,
   "metadata": {},
   "outputs": [
    {
     "data": {
      "text/plain": [
       "0.24884201106856502"
      ]
     },
     "execution_count": 32,
     "metadata": {},
     "output_type": "execute_result"
    }
   ],
   "source": [
    "yield_loss_plant_incidence(1)"
   ]
  },
  {
   "cell_type": "code",
   "execution_count": 31,
   "metadata": {},
   "outputs": [
    {
     "data": {
      "text/plain": [
       "0.07359419065857914"
      ]
     },
     "execution_count": 31,
     "metadata": {},
     "output_type": "execute_result"
    }
   ],
   "source": [
    "yield_loss_plant_incidence(1-0.999999999999)"
   ]
  },
  {
   "cell_type": "code",
   "execution_count": 6,
   "metadata": {},
   "outputs": [
    {
     "data": {
      "text/plain": [
       "0.999999999999"
      ]
     },
     "execution_count": 6,
     "metadata": {},
     "output_type": "execute_result"
    }
   ],
   "source": [
    "1-1e-12"
   ]
  },
  {
   "cell_type": "code",
   "execution_count": 3,
   "metadata": {},
   "outputs": [
    {
     "name": "stdout",
     "output_type": "stream",
     "text": [
      "1e-10\n"
     ]
    }
   ],
   "source": [
    "decimal_form = 1e-10\n",
    "print(decimal_form)"
   ]
  },
  {
   "cell_type": "code",
   "execution_count": 15,
   "metadata": {},
   "outputs": [
    {
     "data": {
      "text/plain": [
       "0.9975"
      ]
     },
     "execution_count": 15,
     "metadata": {},
     "output_type": "execute_result"
    }
   ],
   "source": [
    "1-1/400"
   ]
  },
  {
   "cell_type": "code",
   "execution_count": 8,
   "metadata": {},
   "outputs": [
    {
     "data": {
      "application/vnd.jupyter.widget-view+json": {
       "model_id": "38ab900032b4457db029280debc5c0d1",
       "version_major": 2,
       "version_minor": 0
      },
      "text/plain": [
       "interactive(children=(IntSlider(value=50, description='n', min=1), FloatSlider(value=5.5, description='D', max…"
      ]
     },
     "metadata": {},
     "output_type": "display_data"
    }
   ],
   "source": [
    "def f(n, D):\n",
    "   \n",
    "    plt.figure(2)\n",
    "    x = np.linspace(0, 0.99999, 1000)\n",
    "    plt.plot(x, yield_loss_plant_incidence(x, n, D))\n",
    "    plt.ylim(0, 0.3)\n",
    "    plt.ylabel(\"Yield Loss\")\n",
    "    plt.xlabel(\"Plant Incidence\")\n",
    "    plt.show()\n",
    "    \n",
    "interactive_plot = interactive(f, n=(1, 100), D=(1.0, 10.0, 0.01))\n",
    "output = interactive_plot.children[-1]\n",
    "output.layout.height = '450px'\n",
    "interactive_plot"
   ]
  },
  {
   "cell_type": "markdown",
   "metadata": {},
   "source": [
    "## Yield Loss estimation using the model"
   ]
  },
  {
   "cell_type": "code",
   "execution_count": 6,
   "metadata": {},
   "outputs": [
    {
     "ename": "NameError",
     "evalue": "name 'plant_incidence' is not defined",
     "output_type": "error",
     "traceback": [
      "\u001b[1;31m---------------------------------------------------------------------------\u001b[0m",
      "\u001b[1;31mNameError\u001b[0m                                 Traceback (most recent call last)",
      "Cell \u001b[1;32mIn[6], line 1\u001b[0m\n\u001b[1;32m----> 1\u001b[0m plt\u001b[38;5;241m.\u001b[39mscatter(\u001b[43mplant_incidence\u001b[49m, yield_loss_plant_incidence(plant_incidence, n\u001b[38;5;241m=\u001b[39m\u001b[38;5;241m10\u001b[39m, D\u001b[38;5;241m=\u001b[39m\u001b[38;5;241m1.19\u001b[39m))\n\u001b[0;32m      2\u001b[0m plt\u001b[38;5;241m.\u001b[39mylabel(\u001b[38;5;124m\"\u001b[39m\u001b[38;5;124mYield Loss\u001b[39m\u001b[38;5;124m\"\u001b[39m)\n\u001b[0;32m      3\u001b[0m plt\u001b[38;5;241m.\u001b[39mxlabel(\u001b[38;5;124m\"\u001b[39m\u001b[38;5;124mPlant Incidence / Probability of Disease\u001b[39m\u001b[38;5;124m\"\u001b[39m)\n",
      "\u001b[1;31mNameError\u001b[0m: name 'plant_incidence' is not defined"
     ]
    }
   ],
   "source": [
    "plt.scatter(plant_incidence, yield_loss_plant_incidence(plant_incidence, n=10, D=1.19))\n",
    "plt.ylabel(\"Yield Loss\")\n",
    "plt.xlabel(\"Plant Incidence / Probability of Disease\")\n",
    "plt.show()"
   ]
  },
  {
   "cell_type": "code",
   "execution_count": 7,
   "metadata": {},
   "outputs": [
    {
     "data": {
      "application/vnd.jupyter.widget-view+json": {
       "model_id": "297cfd390bb54b9aba2751bf64b3579d",
       "version_major": 2,
       "version_minor": 0
      },
      "text/plain": [
       "interactive(children=(IntSlider(value=50, description='n', min=1), Output(layout=Layout(height='350px'))), _do…"
      ]
     },
     "execution_count": 7,
     "metadata": {},
     "output_type": "execute_result"
    }
   ],
   "source": [
    "def f(n):\n",
    "   \n",
    "    plt.scatter(plant_incidence, yield_loss_plant_incidence(plant_incidence, n))\n",
    "    plt.ylabel(\"Yield Loss\")\n",
    "    plt.xlabel(\"Plant Incidence / Probability of Disease\")\n",
    "    plt.ylim(0, 0.3)\n",
    "    plt.show()\n",
    "    \n",
    "interactive_plot = interactive(f, n=(1, 100, 1))\n",
    "output = interactive_plot.children[-1]\n",
    "output.layout.height = '350px'\n",
    "interactive_plot"
   ]
  },
  {
   "cell_type": "markdown",
   "metadata": {},
   "source": [
    "# Dash app"
   ]
  },
  {
   "cell_type": "code",
   "execution_count": null,
   "metadata": {},
   "outputs": [],
   "source": [
    "import numpy as np\n",
    "\n",
    "import plotly.graph_objects as go\n",
    "import pandas as pd\n",
    "\n",
    "\n",
    "from jupyter_dash import JupyterDash\n",
    "from dash import dcc\n",
    "from dash import html\n",
    "from dash.dependencies import Input, Output\n",
    "import plotly.express as px\n",
    "\n",
    "\n",
    "# Data for the estimation of cone incidence vs leaf incidence\n",
    "df_cone_incidence_leaf_incidence = pd.read_csv('../data/raw/economics/Leaf incidence_vs_Cone_incidence.csv', encoding='utf-8')\n",
    "\n",
    "# Data preprocessing\n",
    "df_cone_incidence_leaf_incidence = df_cone_incidence_leaf_incidence.dropna()\n",
    "\n",
    "# Data for the estimation of yield loss vs cone incidence (change in quantity metric)\n",
    "df_yield_loss_cone_incidence = pd.read_csv('../data/raw/economics/Cone incidence_vs_Cone color_and_Yield.csv', encoding='utf-8')\n",
    "df_yield_loss_cone_incidence = df_yield_loss_cone_incidence[['Cone incidence', 'Yield Loss']]\n",
    "\n",
    "# Data for the estimation of cone color vs cone incidence (change in quality metric)\n",
    "df_cone_color_cone_incidence = pd.read_csv('../data/raw/economics/Cone incidence_vs_Cone color_and_Yield.csv', encoding='utf-8')\n",
    "df_cone_color_cone_incidence = df_cone_color_cone_incidence[df_cone_color_cone_incidence['Year'] == 2009]\n",
    "df_cone_color_cone_incidence = df_cone_color_cone_incidence[['Cone incidence', 'Cone Color']]\n",
    "\n",
    "\n",
    "# Data\n",
    "data_cone_incidence_leaf_incidence = df_cone_incidence_leaf_incidence.to_numpy()\n",
    "data_yield_loss_cone_incidence = df_yield_loss_cone_incidence.to_numpy()\n",
    "\n",
    "# Linear regressions\n",
    "a1, b1 = np.polyfit(data_cone_incidence_leaf_incidence[:, 0], data_cone_incidence_leaf_incidence[:, 1], 1)\n",
    "a2, b2 = np.polyfit(data_yield_loss_cone_incidence[:, 0], data_yield_loss_cone_incidence[:, 1], 1)\n",
    "\n",
    "\n",
    "# YIELD LOSS VS. PLANT INCIDENCE\n",
    "\n",
    "def yield_loss_plant_incidence(plant_incidence, n=10, D=1.19):\n",
    "    \n",
    "    n_D = n / D\n",
    "    \n",
    "    leaf_incidence = 1 - (1 - plant_incidence) ** (1 / n_D)\n",
    "    \n",
    "    cone_incidence = a1 * leaf_incidence + b1\n",
    "    \n",
    "    yield_loss = a2 * cone_incidence\n",
    "    \n",
    "    return yield_loss\n",
    "\n",
    "\n",
    "app = JupyterDash(__name__)\n",
    "\n",
    "app.layout = html.Div([\n",
    "    dcc.Graph(id='graph-with-slider'),\n",
    "    dcc.Slider(\n",
    "        1,\n",
    "        20,\n",
    "        step=1,\n",
    "        value=10,\n",
    "        id='my-slider'\n",
    "    )\n",
    "], style={'width': '50%', 'height': '100%'})\n",
    "\n",
    "\n",
    "@app.callback(\n",
    "    Output('graph-with-slider', 'figure'),\n",
    "    Input('my-slider', 'value'))\n",
    "def update_figure(num_leaves):\n",
    "\n",
    "    x = np.linspace(0, 1, 1000)\n",
    "    \n",
    "    fig = px.line(x=x, y=yield_loss_plant_incidence(x, num_leaves), labels={\"x\": \"Plant Incidence\", \"y\": \"Yield Loss\"}, width=500, height=500)\n",
    "\n",
    "    fig.update_layout(transition_duration=500)\n",
    "\n",
    "    return fig\n",
    "\n",
    "# Run app and display result inline in the notebook\n",
    "app.run_server(mode='inline')"
   ]
  },
  {
   "cell_type": "markdown",
   "metadata": {},
   "source": [
    "## Expected Revenue Given Demand"
   ]
  },
  {
   "cell_type": "markdown",
   "metadata": {},
   "source": [
    "### Revenue"
   ]
  },
  {
   "cell_type": "code",
   "execution_count": 12,
   "metadata": {},
   "outputs": [],
   "source": [
    "# Function to estimate cone incidence given plant incidence (probability of disease in plants)\n",
    "def cone_incidence_plant_incidence(plant_incidence, n=10, D=1.19):\n",
    "    \n",
    "    # n is the number of leaves sampled and D is the index of dispersion\n",
    "    n_D = n / D \n",
    "    \n",
    "    leaf_incidence = 1 - (1 - plant_incidence) ** (1 / n_D)\n",
    "    \n",
    "    cone_incidence = a1 * leaf_incidence + b1\n",
    "    \n",
    "    return cone_incidence\n",
    "\n",
    "# Function to estimate adjusted price given plant incidence (probability of disease in plants)\n",
    "def adjusted_price_high(plant_incidence, initial_price=6):\n",
    "    \n",
    "    cone_incidence = cone_incidence_plant_incidence(plant_incidence)\n",
    "    cone_color = cone_color_cone_incidence(cone_incidence)\n",
    "    adjusted_price = initial_price * sigmoid(theta_high[0] + theta_high[1] * cone_color)\n",
    "    \n",
    "    return adjusted_price\n",
    "\n",
    "def adjusted_price_mod(plant_incidence, initial_price=4.25):\n",
    "    \n",
    "    cone_incidence = cone_incidence_plant_incidence(plant_incidence)\n",
    "    cone_color = cone_color_cone_incidence(cone_incidence)\n",
    "    adjusted_price = initial_price * sigmoid(theta_moderate[0] + theta_moderate[1] * cone_color)\n",
    "    \n",
    "    return adjusted_price\n",
    "\n",
    "def adjusted_price_low(plant_incidence, initial_price=2.5):\n",
    "    \n",
    "    cone_incidence = cone_incidence_plant_incidence(plant_incidence)\n",
    "    cone_color = cone_color_cone_incidence(cone_incidence)\n",
    "    adjusted_price = initial_price * sigmoid(theta_low[0] + theta_low[1] * cone_color)\n",
    "    \n",
    "    return adjusted_price\n",
    "\n",
    "# Function to estimate yield loss given plant incidence (probability of disease in plants)\n",
    "def adjusted_yield(plant_incidence, initial_yield=2038):\n",
    "    \n",
    "    adjusted_yield_loss = initial_yield * (1 - yield_loss_plant_incidence(plant_incidence))\n",
    "    \n",
    "    return adjusted_yield_loss\n",
    "\n",
    "# Function to estimate adjusted revenue given plant incidence (probability of disease in plants)\n",
    "def revenue_change_high(plant_incidence, initial_price=6, initial_yield=2038):\n",
    "    \n",
    "    revenue = initial_price * initial_yield\n",
    "    adjusted_revenue = adjusted_price_high(plant_incidence) * adjusted_yield(plant_incidence)\n",
    "    revenue_change = (adjusted_revenue - revenue) / revenue\n",
    "    \n",
    "    return revenue_change\n",
    "\n",
    "# Function to estimate adjusted revenue given plant incidence (probability of disease in plants)\n",
    "def revenue_change_mod(plant_incidence, initial_price=4.25, initial_yield=2038):\n",
    "    \n",
    "    revenue = initial_price * initial_yield\n",
    "    adjusted_revenue = adjusted_price_mod(plant_incidence) * adjusted_yield(plant_incidence)\n",
    "    revenue_change = (adjusted_revenue - revenue) / revenue\n",
    "    \n",
    "    return revenue_change\n",
    "\n",
    "# Function to estimate adjusted revenue given plant incidence (probability of disease in plants)\n",
    "def revenue_change_low(plant_incidence, initial_price=2.5, initial_yield=2038):\n",
    "    \n",
    "    revenue = initial_price * initial_yield\n",
    "    adjusted_revenue = adjusted_price_low(plant_incidence) * adjusted_yield(plant_incidence)\n",
    "    revenue_change = (adjusted_revenue - revenue) / revenue\n",
    "    \n",
    "    return revenue_change"
   ]
  },
  {
   "cell_type": "code",
   "execution_count": 13,
   "metadata": {},
   "outputs": [
    {
     "ename": "NameError",
     "evalue": "name 'sigmoid' is not defined",
     "output_type": "error",
     "traceback": [
      "\u001b[1;31m---------------------------------------------------------------------------\u001b[0m",
      "\u001b[1;31mNameError\u001b[0m                                 Traceback (most recent call last)",
      "Cell \u001b[1;32mIn[13], line 4\u001b[0m\n\u001b[0;32m      1\u001b[0m plt\u001b[39m.\u001b[39mfigure(\u001b[39m2\u001b[39m)\n\u001b[0;32m      2\u001b[0m x \u001b[39m=\u001b[39m np\u001b[39m.\u001b[39mlinspace(\u001b[39m0.95\u001b[39m, \u001b[39m0.99\u001b[39m, \u001b[39m1000\u001b[39m)\n\u001b[1;32m----> 4\u001b[0m plt\u001b[39m.\u001b[39mplot(x, revenue_change_high(x), color\u001b[39m=\u001b[39m\u001b[39m'\u001b[39m\u001b[39mr\u001b[39m\u001b[39m'\u001b[39m, label\u001b[39m=\u001b[39m\u001b[39m'\u001b[39m\u001b[39mhigh demand\u001b[39m\u001b[39m'\u001b[39m)\n\u001b[0;32m      5\u001b[0m plt\u001b[39m.\u001b[39mplot(x, revenue_change_mod(x), color\u001b[39m=\u001b[39m\u001b[39m'\u001b[39m\u001b[39mb\u001b[39m\u001b[39m'\u001b[39m, label\u001b[39m=\u001b[39m\u001b[39m'\u001b[39m\u001b[39mmoderate demand\u001b[39m\u001b[39m'\u001b[39m)\n\u001b[0;32m      6\u001b[0m plt\u001b[39m.\u001b[39mplot(x, revenue_change_low(x), color\u001b[39m=\u001b[39m\u001b[39m'\u001b[39m\u001b[39mg\u001b[39m\u001b[39m'\u001b[39m, label\u001b[39m=\u001b[39m\u001b[39m'\u001b[39m\u001b[39mlow demand\u001b[39m\u001b[39m'\u001b[39m)\n",
      "Cell \u001b[1;32mIn[12], line 49\u001b[0m, in \u001b[0;36mrevenue_change_high\u001b[1;34m(plant_incidence, initial_price, initial_yield)\u001b[0m\n\u001b[0;32m     46\u001b[0m \u001b[39mdef\u001b[39;00m \u001b[39mrevenue_change_high\u001b[39m(plant_incidence, initial_price\u001b[39m=\u001b[39m\u001b[39m6\u001b[39m, initial_yield\u001b[39m=\u001b[39m\u001b[39m2038\u001b[39m):\n\u001b[0;32m     48\u001b[0m     revenue \u001b[39m=\u001b[39m initial_price \u001b[39m*\u001b[39m initial_yield\n\u001b[1;32m---> 49\u001b[0m     adjusted_revenue \u001b[39m=\u001b[39m adjusted_price_high(plant_incidence) \u001b[39m*\u001b[39m adjusted_yield(plant_incidence)\n\u001b[0;32m     50\u001b[0m     revenue_change \u001b[39m=\u001b[39m (adjusted_revenue \u001b[39m-\u001b[39m revenue) \u001b[39m/\u001b[39m revenue\n\u001b[0;32m     52\u001b[0m     \u001b[39mreturn\u001b[39;00m revenue_change\n",
      "Cell \u001b[1;32mIn[12], line 18\u001b[0m, in \u001b[0;36madjusted_price_high\u001b[1;34m(plant_incidence, initial_price)\u001b[0m\n\u001b[0;32m     16\u001b[0m cone_incidence \u001b[39m=\u001b[39m cone_incidence_plant_incidence(plant_incidence)\n\u001b[0;32m     17\u001b[0m cone_color \u001b[39m=\u001b[39m cone_color_cone_incidence(cone_incidence)\n\u001b[1;32m---> 18\u001b[0m adjusted_price \u001b[39m=\u001b[39m initial_price \u001b[39m*\u001b[39m sigmoid(theta_high[\u001b[39m0\u001b[39m] \u001b[39m+\u001b[39m theta_high[\u001b[39m1\u001b[39m] \u001b[39m*\u001b[39m cone_color)\n\u001b[0;32m     20\u001b[0m \u001b[39mreturn\u001b[39;00m adjusted_price\n",
      "\u001b[1;31mNameError\u001b[0m: name 'sigmoid' is not defined"
     ]
    },
    {
     "data": {
      "text/plain": [
       "<Figure size 640x480 with 0 Axes>"
      ]
     },
     "metadata": {},
     "output_type": "display_data"
    }
   ],
   "source": [
    "plt.figure(2)\n",
    "x = np.linspace(0.95, 0.99, 1000)\n",
    "\n",
    "plt.plot(x, revenue_change_high(x), color='r', label='high demand')\n",
    "plt.plot(x, revenue_change_mod(x), color='b', label='moderate demand')\n",
    "plt.plot(x, revenue_change_low(x), color='g', label='low demand')\n",
    "\n",
    "plt.ylabel(\"proportion revenue change\")\n",
    "plt.xlabel(\"Probability of disease\")\n",
    "plt.title(\"Revenue change given probability of disease\")\n",
    "plt.legend()\n",
    "plt.show()"
   ]
  },
  {
   "cell_type": "code",
   "execution_count": 14,
   "metadata": {},
   "outputs": [
    {
     "ename": "NameError",
     "evalue": "name 'sigmoid' is not defined",
     "output_type": "error",
     "traceback": [
      "\u001b[1;31m---------------------------------------------------------------------------\u001b[0m",
      "\u001b[1;31mNameError\u001b[0m                                 Traceback (most recent call last)",
      "Cell \u001b[1;32mIn[14], line 4\u001b[0m\n\u001b[0;32m      1\u001b[0m plt\u001b[39m.\u001b[39mfigure(\u001b[39m2\u001b[39m)\n\u001b[0;32m      2\u001b[0m x \u001b[39m=\u001b[39m np\u001b[39m.\u001b[39mlinspace(\u001b[39m0.95\u001b[39m, \u001b[39m0.99\u001b[39m, \u001b[39m1000\u001b[39m)\n\u001b[1;32m----> 4\u001b[0m plt\u001b[39m.\u001b[39mplot(x, revenue_change_high(x), color\u001b[39m=\u001b[39m\u001b[39m'\u001b[39m\u001b[39mr\u001b[39m\u001b[39m'\u001b[39m, label\u001b[39m=\u001b[39m\u001b[39m'\u001b[39m\u001b[39mhigh demand\u001b[39m\u001b[39m'\u001b[39m)\n\u001b[0;32m      5\u001b[0m plt\u001b[39m.\u001b[39mplot(x, revenue_change_mod(x), color\u001b[39m=\u001b[39m\u001b[39m'\u001b[39m\u001b[39mb\u001b[39m\u001b[39m'\u001b[39m, label\u001b[39m=\u001b[39m\u001b[39m'\u001b[39m\u001b[39mmoderate demand\u001b[39m\u001b[39m'\u001b[39m)\n\u001b[0;32m      6\u001b[0m plt\u001b[39m.\u001b[39mplot(x, revenue_change_low(x), color\u001b[39m=\u001b[39m\u001b[39m'\u001b[39m\u001b[39mg\u001b[39m\u001b[39m'\u001b[39m, label\u001b[39m=\u001b[39m\u001b[39m'\u001b[39m\u001b[39mlow demand\u001b[39m\u001b[39m'\u001b[39m)\n",
      "Cell \u001b[1;32mIn[12], line 49\u001b[0m, in \u001b[0;36mrevenue_change_high\u001b[1;34m(plant_incidence, initial_price, initial_yield)\u001b[0m\n\u001b[0;32m     46\u001b[0m \u001b[39mdef\u001b[39;00m \u001b[39mrevenue_change_high\u001b[39m(plant_incidence, initial_price\u001b[39m=\u001b[39m\u001b[39m6\u001b[39m, initial_yield\u001b[39m=\u001b[39m\u001b[39m2038\u001b[39m):\n\u001b[0;32m     48\u001b[0m     revenue \u001b[39m=\u001b[39m initial_price \u001b[39m*\u001b[39m initial_yield\n\u001b[1;32m---> 49\u001b[0m     adjusted_revenue \u001b[39m=\u001b[39m adjusted_price_high(plant_incidence) \u001b[39m*\u001b[39m adjusted_yield(plant_incidence)\n\u001b[0;32m     50\u001b[0m     revenue_change \u001b[39m=\u001b[39m (adjusted_revenue \u001b[39m-\u001b[39m revenue) \u001b[39m/\u001b[39m revenue\n\u001b[0;32m     52\u001b[0m     \u001b[39mreturn\u001b[39;00m revenue_change\n",
      "Cell \u001b[1;32mIn[12], line 18\u001b[0m, in \u001b[0;36madjusted_price_high\u001b[1;34m(plant_incidence, initial_price)\u001b[0m\n\u001b[0;32m     16\u001b[0m cone_incidence \u001b[39m=\u001b[39m cone_incidence_plant_incidence(plant_incidence)\n\u001b[0;32m     17\u001b[0m cone_color \u001b[39m=\u001b[39m cone_color_cone_incidence(cone_incidence)\n\u001b[1;32m---> 18\u001b[0m adjusted_price \u001b[39m=\u001b[39m initial_price \u001b[39m*\u001b[39m sigmoid(theta_high[\u001b[39m0\u001b[39m] \u001b[39m+\u001b[39m theta_high[\u001b[39m1\u001b[39m] \u001b[39m*\u001b[39m cone_color)\n\u001b[0;32m     20\u001b[0m \u001b[39mreturn\u001b[39;00m adjusted_price\n",
      "\u001b[1;31mNameError\u001b[0m: name 'sigmoid' is not defined"
     ]
    },
    {
     "data": {
      "text/plain": [
       "<Figure size 640x480 with 0 Axes>"
      ]
     },
     "metadata": {},
     "output_type": "display_data"
    }
   ],
   "source": [
    "plt.figure(2)\n",
    "x = np.linspace(0.95, 0.99, 1000)\n",
    "\n",
    "plt.plot(x, revenue_change_high(x), color='r', label='high demand')\n",
    "plt.plot(x, revenue_change_mod(x), color='b', label='moderate demand')\n",
    "plt.plot(x, revenue_change_low(x), color='g', label='low demand')\n",
    "\n",
    "plt.ylabel(\"proportion revenue change\")\n",
    "plt.xlabel(\"Probability of disease\")\n",
    "plt.title(\"Revenue change given probability of disease\")\n",
    "plt.legend()\n",
    "plt.show()"
   ]
  },
  {
   "cell_type": "markdown",
   "metadata": {},
   "source": [
    "### Actual revenue change estimation"
   ]
  },
  {
   "cell_type": "code",
   "execution_count": 265,
   "metadata": {},
   "outputs": [
    {
     "data": {
      "image/png": "[encoded data removed]",
      "text/plain": [
       "<Figure size 432x288 with 1 Axes>"
      ]
     },
     "metadata": {
      "needs_background": "light"
     },
     "output_type": "display_data"
    }
   ],
   "source": [
    "plt.figure(2)\n",
    "plant_incidence\n",
    "\n",
    "plt.scatter(plant_incidence, revenue_change_high(plant_incidence), color='r', label='high demand')\n",
    "plt.scatter(plant_incidence, revenue_change_mod(plant_incidence), color='b', label='moderate demand')\n",
    "plt.scatter(plant_incidence, revenue_change_low(plant_incidence), color='g', label='low demand')\n",
    "\n",
    "plt.ylabel(\"proportion revenue change\")\n",
    "plt.xlabel(\"Probability of disease\")\n",
    "plt.title(\"Revenue change given probability of disease\")\n",
    "plt.legend()\n",
    "plt.show()"
   ]
  }
 ],
 "metadata": {
  "kernelspec": {
   "display_name": "base",
   "language": "python",
   "name": "python3"
  },
  "language_info": {
   "codemirror_mode": {
    "name": "ipython",
    "version": 3
   },
   "file_extension": ".py",
   "mimetype": "text/x-python",
   "name": "python",
   "nbconvert_exporter": "python",
   "pygments_lexer": "ipython3",
   "version": "3.12.3"
  },
  "orig_nbformat": 4
 },
 "nbformat": 4,
 "nbformat_minor": 2
}
