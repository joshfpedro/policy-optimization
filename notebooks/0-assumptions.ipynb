{
 "cells": [
  {
   "cell_type": "markdown",
   "metadata": {},
   "source": [
    "# Simulation Assumptions"
   ]
  },
  {
   "cell_type": "markdown",
   "metadata": {},
   "source": [
    "## Epidemic Model\n",
    "\n",
    "$$\n",
    "\\eta_{i}=\\sum_{k=1}^{K} I_{k}^{(t)}(i)\\left[\\beta_{k}+\\delta_{k}\\left(\\frac{\\tilde{y}_{i}}{n_{\\tilde{y}_{i}}} \\exp{\\left(-\\eta_{1k} s_{i}\\right)}\\right)+\\gamma_{k} \\sum_{j=1}^{M_{i}}\\left(\\frac{a_{j} z_{j}}{n_{z_{j}}} \\exp{\\left(-\\eta_{2k} s_{j}\\right)} w_{i j} \\exp{\\left(-\\alpha_{k} d_{i j}\\right)} I_{k}^{(s)}(j)\\right)\\right]\n",
    "$$"
   ]
  },
  {
   "cell_type": "markdown",
   "metadata": {},
   "source": [
    "- Year = 2014 with number of yards = 99 so $i,j \\in \\{1,2,...,99\\}$"
   ]
  },
  {
   "cell_type": "markdown",
   "metadata": {},
   "source": [
    "- $I_k^{(s)} = 1 \\Rightarrow$ all yards can be sources for the V6 strain.\n",
    "- $n_y$ and $n_z$ are equal to 400.\n",
    "- Four varieties are considered: Chinook, Simcoe, Mosaic, and Nugget.\n",
    "- Varieties are evenly distributed by a uniform random distribution across the yards.\n",
    "- Each yard has an probability of initial flagshoot (in May), drawn from a binomial distribution, of 0, 0.0001, 0.001, 0.01 for which each of these are simulated 100 times.\n",
    "- number of sprays in May is 0.43 if there are 0 infections or 0.83 if infections are present.\n",
    "- number of sprays in May for each yard containing and infection will vary between 0.83 and 7.5.\n",
    "- number of sprays in June and July will be determined by a poisson regression model from the original data set.\n",
    "- Late season sprays (Sprays after July) are determined by a poisson regression model from the original data set using the predicted sprays from July."
   ]
  }
 ],
 "metadata": {
  "language_info": {
   "name": "python"
  },
  "orig_nbformat": 4
 },
 "nbformat": 4,
 "nbformat_minor": 2
}
