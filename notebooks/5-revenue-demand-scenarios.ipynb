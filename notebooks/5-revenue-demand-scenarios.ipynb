{
 "cells": [
  {
   "cell_type": "code",
   "execution_count": 2,
   "metadata": {},
   "outputs": [],
   "source": [
    "import pandas as pd\n",
    "import numpy as np\n",
    "import matplotlib.pyplot as plt"
   ]
  },
  {
   "cell_type": "markdown",
   "metadata": {},
   "source": [
    "## Low demand"
   ]
  },
  {
   "cell_type": "code",
   "execution_count": 4,
   "metadata": {},
   "outputs": [],
   "source": [
    "# Define logistic sigmoid function\n",
    "def sigmoid(z):\n",
    "\n",
    "    g = 1 / (1 + np.exp(-z))\n",
    "    \n",
    "    return g"
   ]
  },
  {
   "cell_type": "code",
   "execution_count": null,
   "metadata": {},
   "outputs": [],
   "source": [
    "# Import data\n",
    "data_demand = pd.read_csv('../data/raw/economics/Cone color_vs_Expected Revenue.csv', encoding='utf-8')\n",
    "data_high_demand = data_demand[['Color', 'High demand']].to_numpy()\n",
    "data_moderate_demand = data_demand[['Color', 'Moderate demand']].to_numpy()\n",
    "data_low_demand = data_demand[['Color', 'Low demand']].to_numpy()\n",
    "\n",
    "\n",
    "# Logistic regressions\n",
    "\n",
    "# Select data\n",
    "X, y = data_low_demand[:, 0], data_low_demand[:, 1]\n",
    "\n",
    "m = X.shape[0]\n",
    "n = 1\n",
    "\n",
    "X = X.reshape(m, n)\n",
    "\n",
    "# Add ones to X for the intercept term\n",
    "X = np.concatenate([np.ones((m, 1)), X], axis=1)\n",
    "\n",
    "\n",
    "# Define cost function\n",
    "def costFunction(theta):\n",
    "\n",
    "    h = sigmoid(X.dot(theta.T))\n",
    "    J = -(1 / m) * np.sum(y * np.log(h) + (1 - y) * np.log(1 - h))\n",
    "    \n",
    "    return J\n",
    "\n",
    "def gradient(theta):\n",
    "    \n",
    "    h = sigmoid(X.dot(theta.T))\n",
    "    grad = -(1 / m) * (y - h).dot(X)\n",
    "    \n",
    "    return grad\n",
    "\n",
    "# Adam optimizer\n",
    "def adam(theta, alpha, num_iters, b_1=0.9, b_2=0.999, eps=1e-8, tolerance=1e-16):\n",
    "\n",
    "    # Make a copy of theta, to avoid changing the original array, since numpy arrays are passed by reference to functions\n",
    "    theta = theta.copy()\n",
    "    \n",
    "    # Use a python list to save cost in every iteration\n",
    "    J_history = []\n",
    "    \n",
    "    m = np.zeros(theta.shape)\n",
    "    v = np.zeros(theta.shape)\n",
    "    \n",
    "    for i in range(num_iters):\n",
    "        \n",
    "        # Gradient\n",
    "        g = gradient(theta)\n",
    "\n",
    "        # First moment\n",
    "        m = b_1 * m + (1 - b_1) * g\n",
    "\n",
    "        # Second moment\n",
    "        v = b_2 * v + (1 - b_2) * g**2\n",
    "\n",
    "        # Bias correction for the first and second moments\n",
    "\n",
    "        mhat = m / (1 - b_1**(i+1))\n",
    "\n",
    "        vhat = v / (1 - b_2**(i+1))\n",
    "        \n",
    "        change = alpha * mhat / (np.sqrt(vhat) + eps)\n",
    "        \n",
    "        # Update parameter theta\n",
    "        theta = theta - change\n",
    "        \n",
    "        # save the cost J in every iteration\n",
    "        J_history.append(costFunction(theta))\n",
    "        # report progress\n",
    "        print('#', i , 'cost: ', costFunction(theta), 'MaxGrad: ', np.max(np.abs(gradient(theta))))\n",
    "        \n",
    "        if np.max(np.abs(gradient(theta))) <= tolerance:\n",
    "            break\n",
    "        \n",
    "    return theta, J_history\n",
    "\n",
    "# initialize fitting parameters\n",
    "\n",
    "theta = np.random.randn(n + 1)\n",
    "# Gradient descent settings\n",
    "iterations = 1000000\n",
    "alpha = 0.0005 # learning rate\n",
    "\n",
    "theta, J_history = adam(theta, alpha, iterations)\n",
    "\n",
    "plt.plot(list(range(1, len(J_history)+1)), J_history)\n",
    "plt.xlabel('iterations')\n",
    "plt.ylabel('cost')\n",
    "plt.show()\n",
    "\n",
    "#checkpoint = np.array([theta, J_history], dtype=object)\n",
    "#np.save('../reports/checkpoint_low_demand.npy', checkpoint)"
   ]
  },
  {
   "cell_type": "markdown",
   "metadata": {},
   "source": [
    "## Moderate demand"
   ]
  },
  {
   "cell_type": "code",
   "execution_count": null,
   "metadata": {},
   "outputs": [],
   "source": [
    "# Select data\n",
    "X, y = data_moderate_demand[:, 0], data_moderate_demand[:, 1]\n",
    "\n",
    "m = X.shape[0]\n",
    "n = 1\n",
    "\n",
    "X = X.reshape(m, n)\n",
    "\n",
    "# Add ones to X for the intercept term\n",
    "X = np.concatenate([np.ones((m, 1)), X], axis=1)\n",
    "\n",
    "# Define cost function\n",
    "def costFunction(theta):\n",
    "\n",
    "    h = sigmoid(X.dot(theta.T))\n",
    "    J = -(1 / m) * np.sum(y * np.log(h) + (1 - y) * np.log(1 - h))\n",
    "    \n",
    "    return J\n",
    "\n",
    "def gradient(theta):\n",
    "    \n",
    "    h = sigmoid(X.dot(theta.T))\n",
    "    grad = -(1 / m) * (y - h).dot(X)\n",
    "    \n",
    "    return grad\n",
    "\n",
    "# initialize fitting parameters\n",
    "\n",
    "theta = np.random.randn(n + 1)\n",
    "# Gradient descent settings\n",
    "iterations = 1000000\n",
    "alpha = 0.0005 # learning rate\n",
    "\n",
    "theta, J_history = adam(theta, alpha, iterations)\n",
    "\n",
    "plt.plot(list(range(1, len(J_history)+1)), J_history)\n",
    "plt.xlabel('iterations')\n",
    "plt.ylabel('cost')\n",
    "plt.show()\n",
    "\n",
    "#checkpoint = np.array([theta, J_history], dtype=object)\n",
    "#np.save('../reports/checkpoint_moderate_demand.npy', checkpoint)"
   ]
  },
  {
   "cell_type": "markdown",
   "metadata": {},
   "source": [
    "## High demand"
   ]
  },
  {
   "cell_type": "code",
   "execution_count": null,
   "metadata": {},
   "outputs": [],
   "source": [
    "# Select data\n",
    "X, y = data_high_demand[:, 0], data_high_demand[:, 1]\n",
    "\n",
    "m = X.shape[0]\n",
    "n = 1\n",
    "\n",
    "X = X.reshape(m, n)\n",
    "\n",
    "# Add ones to X for the intercept term\n",
    "X = np.concatenate([np.ones((m, 1)), X], axis=1)\n",
    "\n",
    "# Define cost function\n",
    "def costFunction(theta):\n",
    "\n",
    "    h = sigmoid(X.dot(theta.T))\n",
    "    J = -(1 / m) * np.sum(y * np.log(h) + (1 - y) * np.log(1 - h))\n",
    "    \n",
    "    return J\n",
    "\n",
    "def gradient(theta):\n",
    "    \n",
    "    h = sigmoid(X.dot(theta.T))\n",
    "    grad = -(1 / m) * (y - h).dot(X)\n",
    "    \n",
    "    return grad\n",
    "\n",
    "# initialize fitting parameters\n",
    "\n",
    "theta = np.random.randn(n + 1)\n",
    "# Gradient descent settings\n",
    "iterations = 1000000\n",
    "alpha = 0.0005 # learning rate\n",
    "\n",
    "theta, J_history = adam(theta, alpha, iterations)\n",
    "\n",
    "plt.plot(list(range(1, len(J_history)+1)), J_history)\n",
    "plt.xlabel('iterations')\n",
    "plt.ylabel('cost')\n",
    "plt.show()\n",
    "\n",
    "#checkpoint = np.array([theta, J_history], dtype=object)\n",
    "#np.save('../reports/checkpoint_high_demand.npy', checkpoint)"
   ]
  },
  {
   "cell_type": "markdown",
   "metadata": {},
   "source": [
    "## Results"
   ]
  },
  {
   "cell_type": "code",
   "execution_count": 5,
   "metadata": {},
   "outputs": [
    {
     "data": {
      "image/png": "[encoded data removed]",
      "text/plain": [
       "<Figure size 432x288 with 1 Axes>"
      ]
     },
     "metadata": {
      "needs_background": "light"
     },
     "output_type": "display_data"
    }
   ],
   "source": [
    "# Load parameters\n",
    "checkpoint1 = np.load('../reports/checkpoint_high_demand.npy', allow_pickle=True)\n",
    "theta_high = checkpoint1[0]\n",
    "\n",
    "checkpoint2 = np.load('../reports/checkpoint_moderate_demand.npy', allow_pickle=True)\n",
    "theta_moderate = checkpoint2[0]\n",
    "\n",
    "checkpoint3 = np.load('../reports/checkpoint_low_demand.npy', allow_pickle=True)\n",
    "theta_low = checkpoint3[0]\n",
    "\n",
    "# Define logistic sigmoid function\n",
    "def sigmoid(z):\n",
    "\n",
    "    g = 1 / (1 + np.exp(-z))\n",
    "    \n",
    "    return g\n",
    "\n",
    "# Plot\n",
    "plt.figure(2)\n",
    "x = np.linspace(0, 10, 1000)\n",
    "\n",
    "plt.plot(x, sigmoid(theta_high[0] + theta_high[1] * x), color='r', label='high demand')\n",
    "plt.plot(x, sigmoid(theta_moderate[0] + theta_moderate[1] * x), color='b', label='moderate demand')\n",
    "plt.plot(x, sigmoid(theta_low[0] + theta_low[1] * x), color='g', label='low demand')\n",
    "\n",
    "plt.ylabel(\"Revenue earned as % of contract price\")\n",
    "plt.xlabel(\"Cone Color\")\n",
    "plt.title(\"Revenue vs Quality Relationship\")\n",
    "plt.legend()\n",
    "plt.show()"
   ]
  }
 ],
 "metadata": {
  "kernelspec": {
   "display_name": "Python 3.10.4 64-bit",
   "language": "python",
   "name": "python3"
  },
  "language_info": {
   "codemirror_mode": {
    "name": "ipython",
    "version": 3
   },
   "file_extension": ".py",
   "mimetype": "text/x-python",
   "name": "python",
   "nbconvert_exporter": "python",
   "pygments_lexer": "ipython3",
   "version": "3.10.7"
  },
  "orig_nbformat": 4,
  "vscode": {
   "interpreter": {
    "hash": "010fc5a62a75b42139e82f06a79d60de398e4751856d3457e15b8a88b63601e9"
   }
  }
 },
 "nbformat": 4,
 "nbformat_minor": 2
}
