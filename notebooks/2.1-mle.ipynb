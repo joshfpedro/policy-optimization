{
 "cells": [
  {
   "cell_type": "code",
   "execution_count": 2,
   "metadata": {},
   "outputs": [],
   "source": [
    "import numpy as np\n",
    "#from autograd import grad\n",
    "import matplotlib.pyplot as plt\n",
    "\n",
    "#import tensorflow as tf\n",
    "#import torch\n",
    "np.set_printoptions(suppress=True)\n",
    "\n",
    "import warnings\n",
    "#suppress warnings\n",
    "warnings.filterwarnings('ignore')\n",
    "\n",
    "theta_list = []\n",
    "checkpoint_list = []\n",
    "\n",
    "year = [2014]\n",
    "period = ['may-jun'] # inputs: 'may-jun', 'jun-jul'\n",
    "\n",
    "for year in year:\n",
    "    \n",
    "    # Import data\n",
    "    if year == 2014:\n",
    "        X = np.load('../data/processed/data_2014.npz')\n",
    "\n",
    "    elif year == 2015:\n",
    "        X = np.load('../data/processed/data_2015.npz')\n",
    "\n",
    "    elif year == 2016:\n",
    "        X = np.load('../data/processed/data_2016.npz')\n",
    "        \n",
    "    elif year == 2017:\n",
    "        X = np.load('../data/processed/data_2017.npz')\n",
    "\n",
    "    N = X['N']\n",
    "\n",
    "    dist = X['distance']\n",
    "    tI1 = X['tI1'].reshape(N,1)\n",
    "    tI2 = X['tI2'].reshape(N,1)\n",
    "    sI2 = X['sI2'].reshape(N,1)\n",
    "    \n",
    "    y_apr = X['y_apr'].reshape(N,1)\n",
    "    y_may = X['y_may'].reshape(N,1)\n",
    "    y_jun = X['y_jun'].reshape(N,1)\n",
    "    y_jul = X['y_jul'].reshape(N,1)\n",
    "\n",
    "    n_apr = X['n_apr'].reshape(N,1)\n",
    "    n_may = X['n_may'].reshape(N,1)\n",
    "    n_jun = X['n_jun'].reshape(N,1)\n",
    "    n_jul = X['n_jul'].reshape(N,1)\n",
    "\n",
    "    a_apr = X['a_apr'].reshape(N,1)\n",
    "    a_may = X['a_may'].reshape(N,1)\n",
    "    a_jun = X['a_jun'].reshape(N,1)\n",
    "    a_jul = X['a_jul'].reshape(N,1)\n",
    "\n",
    "    w_apr = X['wind_apr']\n",
    "    w_may = X['wind_may']\n",
    "    w_jun = X['wind_jun']\n",
    "    w_jul = X['wind_jul']\n",
    "\n",
    "    sI1_apr = X['sI1_apr'].reshape(N,1)\n",
    "    sI1_may = X['sI1_may'].reshape(N,1)\n",
    "    sI1_jun = X['sI1_jun'].reshape(N,1)\n",
    "    sI1_jul = X['sI1_jul'].reshape(N,1)\n",
    "\n",
    "    s_apr = X['s_apr'].reshape(N,1)\n",
    "    s_may = X['s_may'].reshape(N,1)\n",
    "    s_jun = X['s_jun'].reshape(N,1)\n",
    "    s_jul = X['s_jul'].reshape(N,1)\n",
    "\n",
    "    for period in period:\n",
    "\n",
    "        if period == 'may-jun':\n",
    "            y = y_jun\n",
    "            n = n_jun\n",
    "            y_lag = y_may\n",
    "            n_lag = n_may\n",
    "            a_lag = a_may\n",
    "            w_lag = w_may\n",
    "            sI1_lag = sI1_may\n",
    "            s_lag = s_may\n",
    "        \n",
    "        elif period == 'jun-jul':\n",
    "            \n",
    "            y = y_jul\n",
    "            n = n_jul\n",
    "            y_lag = y_jun\n",
    "            n_lag = n_jun\n",
    "            a_lag = a_jun\n",
    "            w_lag = w_jun\n",
    "            sI1_lag = sI1_jun\n",
    "            s_lag = s_jun\n",
    "        \n",
    "        # Create a matrix with N identical rows\n",
    "        a_lag_tile = np.tile(a_lag, (N, 1, 1))\n",
    "        y_lag_tile = np.tile(y_lag, (N, 1, 1))\n",
    "        n_lag_tile = np.tile(n_lag, (N, 1, 1))\n",
    "        s_lag_tile = np.tile(s_lag, (N, 1, 1))\n",
    "        w_lag_tile = np.tile(w_lag, (N, 1, 1))\n",
    "        dist_tile = np.tile(dist, (N, 1, 1))\n",
    "        sI1_lag_tile = np.tile(sI1_lag, (N, 1, 1))\n",
    "        sI1_lag_tile = sI1_lag_tile.astype(float)\n",
    "        \n",
    "        sI2_tile = np.tile(sI2, (N, 1, 1))\n",
    "        sI2_tile = sI2_tile.astype(float)\n",
    "        \n",
    "        # Subtract the diagonal elements (i.e., set them to zero)\n",
    "        a_lag_tile[np.arange(N), np.arange(N), 0] = np.nan\n",
    "        y_lag_tile[np.arange(N), np.arange(N), 0] = np.nan\n",
    "        n_lag_tile[np.arange(N), np.arange(N), 0] = np.nan\n",
    "        s_lag_tile[np.arange(N), np.arange(N), 0] = np.nan\n",
    "        w_lag_tile[np.arange(N), np.arange(N), :] = np.nan\n",
    "        dist_tile[np.arange(N), np.arange(N), :] = np.nan\n",
    "        sI1_lag_tile[np.arange(N), np.arange(N), 0] = np.nan\n",
    "        sI2_tile[np.arange(N), np.arange(N), 0] = np.nan"
   ]
  },
  {
   "cell_type": "code",
   "execution_count": 72,
   "metadata": {},
   "outputs": [
    {
     "data": {
      "text/plain": [
       "array([ 0.        ,  0.08173764,  0.04727476,  0.31602146,  0.1687085 ,\n",
       "        0.36312134,  0.31127086,  4.21220746,  4.981124  ,  4.35931709,\n",
       "        4.94170305,  4.71978656,  4.95114477,  4.52304184,  0.17334079,\n",
       "        0.31499975,  0.47533891,  5.94210092,  6.10533966,  6.06603606,\n",
       "        0.34761678,  0.35211129,  6.06819212,  5.96251658,  5.17547491,\n",
       "        4.28303658,  4.40591875,  5.24737279,  6.10258065,  6.11389283,\n",
       "        6.2505615 ,  5.73804878,  5.88270043, 16.48139883, 20.79361515,\n",
       "       16.28884574, 15.8661312 , 16.20835686, 17.45834743, 16.11677297,\n",
       "       16.46063489, 18.50078383, 18.76184115, 17.10243274, 16.65697048,\n",
       "       16.9486449 , 16.50292262, 16.97609703, 16.72238316, 17.84086199,\n",
       "       17.66100676, 16.51132605, 17.48514137, 10.08801582, 10.13533725,\n",
       "       10.06708349, 10.03471643,  9.91777973,  9.72293684,  9.55786676,\n",
       "        9.40992433,  9.13578275, 10.31213186, 10.00552511,  2.95237663,\n",
       "        3.0117985 ,  2.86037331,  2.67753426,  1.78882951,  1.13467642,\n",
       "        1.08267773,  1.36446196,  1.21946834,  1.4794367 ,  2.45811527,\n",
       "        2.32130576,  2.18611445,  1.94186022,  2.02105529,  2.12774261,\n",
       "        2.28642461,  2.38999377,  2.26316914,  2.29142425,  1.63860315,\n",
       "        1.46380412,  1.38126205,  2.04984885,  2.00504747,  2.13760137,\n",
       "       16.68188871, 16.94917876, 17.32692163, 16.97073634, 16.60708352,\n",
       "       17.31473939, 16.22923017, 16.20624233, 16.71524006, 16.58287714,\n",
       "       17.57168455, 16.41710686, 16.51691048, 16.26030275])"
      ]
     },
     "execution_count": 72,
     "metadata": {},
     "output_type": "execute_result"
    }
   ],
   "source": [
    "dist[:,0]"
   ]
  },
  {
   "cell_type": "code",
   "execution_count": 71,
   "metadata": {},
   "outputs": [
    {
     "data": {
      "text/plain": [
       "array([        nan,  0.08173764,  0.04727476,  0.31602146,  0.1687085 ,\n",
       "        0.36312134,  0.31127086,  4.21220746,  4.981124  ,  4.35931709,\n",
       "        4.94170305,  4.71978656,  4.95114477,  4.52304184,  0.17334079,\n",
       "        0.31499975,  0.47533891,  5.94210092,  6.10533966,  6.06603606,\n",
       "        0.34761678,  0.35211129,  6.06819212,  5.96251658,  5.17547491,\n",
       "        4.28303658,  4.40591875,  5.24737279,  6.10258065,  6.11389283,\n",
       "        6.2505615 ,  5.73804878,  5.88270043, 16.48139883, 20.79361515,\n",
       "       16.28884574, 15.8661312 , 16.20835686, 17.45834743, 16.11677297,\n",
       "       16.46063489, 18.50078383, 18.76184115, 17.10243274, 16.65697048,\n",
       "       16.9486449 , 16.50292262, 16.97609703, 16.72238316, 17.84086199,\n",
       "       17.66100676, 16.51132605, 17.48514137, 10.08801582, 10.13533725,\n",
       "       10.06708349, 10.03471643,  9.91777973,  9.72293684,  9.55786676,\n",
       "        9.40992433,  9.13578275, 10.31213186, 10.00552511,  2.95237663,\n",
       "        3.0117985 ,  2.86037331,  2.67753426,  1.78882951,  1.13467642,\n",
       "        1.08267773,  1.36446196,  1.21946834,  1.4794367 ,  2.45811527,\n",
       "        2.32130576,  2.18611445,  1.94186022,  2.02105529,  2.12774261,\n",
       "        2.28642461,  2.38999377,  2.26316914,  2.29142425,  1.63860315,\n",
       "        1.46380412,  1.38126205,  2.04984885,  2.00504747,  2.13760137,\n",
       "       16.68188871, 16.94917876, 17.32692163, 16.97073634, 16.60708352,\n",
       "       17.31473939, 16.22923017, 16.20624233, 16.71524006, 16.58287714,\n",
       "       17.57168455, 16.41710686, 16.51691048, 16.26030275])"
      ]
     },
     "execution_count": 71,
     "metadata": {},
     "output_type": "execute_result"
    }
   ],
   "source": [
    "dist_tile[0][:,0]"
   ]
  },
  {
   "cell_type": "code",
   "execution_count": 70,
   "metadata": {},
   "outputs": [
    {
     "data": {
      "text/plain": [
       "array([0.        , 0.02248995, 0.00662248, 0.0326708 , 0.0218138 ,\n",
       "       0.00938308, 0.03003079, 0.01667218, 0.01701338, 0.01689585,\n",
       "       0.01862485, 0.01852546, 0.01873603, 0.01681696, 0.00678086,\n",
       "       0.02194052, 0.02566796, 0.0224682 , 0.02164904, 0.01959695,\n",
       "       0.02119097, 0.03095749, 0.01718702, 0.02063743, 0.01938343,\n",
       "       0.01891767, 0.0191342 , 0.02087727, 0.01663278, 0.01026286,\n",
       "       0.01645465, 0.01015198, 0.01649842, 0.00765829, 0.00690899,\n",
       "       0.00762512, 0.00889952, 0.00725284, 0.00536449, 0.00467987,\n",
       "       0.00748682, 0.00642059, 0.00658914, 0.01009279, 0.0114314 ,\n",
       "       0.01122291, 0.01144868, 0.01033175, 0.01098708, 0.00901219,\n",
       "       0.00894552, 0.01099142, 0.00901247, 0.00498172, 0.00494121,\n",
       "       0.00945305, 0.00926055, 0.01047521, 0.01091334, 0.01056212,\n",
       "       0.00587598, 0.00558788, 0.00856882, 0.00437667, 0.01978611,\n",
       "       0.01980495, 0.01931544, 0.0137516 , 0.02248399, 0.0329257 ,\n",
       "       0.02273099, 0.02492186, 0.02560626, 0.01736334, 0.0203856 ,\n",
       "       0.02167503, 0.02301612, 0.03359969, 0.03195266, 0.02629888,\n",
       "       0.02948285, 0.03140609, 0.03056413, 0.03893951, 0.03204557,\n",
       "       0.03122459, 0.0335588 , 0.01578322, 0.00900166, 0.00862338,\n",
       "       0.01787553, 0.01755559, 0.01632447, 0.01633702, 0.01628522,\n",
       "       0.01603693, 0.01595569, 0.01802542, 0.01557779, 0.01754003,\n",
       "       0.01590125, 0.01598607, 0.015991  , 0.01672664])"
      ]
     },
     "execution_count": 70,
     "metadata": {},
     "output_type": "execute_result"
    }
   ],
   "source": [
    "w_lag[:, 0]"
   ]
  },
  {
   "cell_type": "code",
   "execution_count": 75,
   "metadata": {},
   "outputs": [
    {
     "data": {
      "text/plain": [
       "array([       nan, 0.02248995, 0.00662248, 0.0326708 , 0.0218138 ,\n",
       "       0.00938308, 0.03003079, 0.01667218, 0.01701338, 0.01689585,\n",
       "       0.01862485, 0.01852546, 0.01873603, 0.01681696, 0.00678086,\n",
       "       0.02194052, 0.02566796, 0.0224682 , 0.02164904, 0.01959695,\n",
       "       0.02119097, 0.03095749, 0.01718702, 0.02063743, 0.01938343,\n",
       "       0.01891767, 0.0191342 , 0.02087727, 0.01663278, 0.01026286,\n",
       "       0.01645465, 0.01015198, 0.01649842, 0.00765829, 0.00690899,\n",
       "       0.00762512, 0.00889952, 0.00725284, 0.00536449, 0.00467987,\n",
       "       0.00748682, 0.00642059, 0.00658914, 0.01009279, 0.0114314 ,\n",
       "       0.01122291, 0.01144868, 0.01033175, 0.01098708, 0.00901219,\n",
       "       0.00894552, 0.01099142, 0.00901247, 0.00498172, 0.00494121,\n",
       "       0.00945305, 0.00926055, 0.01047521, 0.01091334, 0.01056212,\n",
       "       0.00587598, 0.00558788, 0.00856882, 0.00437667, 0.01978611,\n",
       "       0.01980495, 0.01931544, 0.0137516 , 0.02248399, 0.0329257 ,\n",
       "       0.02273099, 0.02492186, 0.02560626, 0.01736334, 0.0203856 ,\n",
       "       0.02167503, 0.02301612, 0.03359969, 0.03195266, 0.02629888,\n",
       "       0.02948285, 0.03140609, 0.03056413, 0.03893951, 0.03204557,\n",
       "       0.03122459, 0.0335588 , 0.01578322, 0.00900166, 0.00862338,\n",
       "       0.01787553, 0.01755559, 0.01632447, 0.01633702, 0.01628522,\n",
       "       0.01603693, 0.01595569, 0.01802542, 0.01557779, 0.01754003,\n",
       "       0.01590125, 0.01598607, 0.015991  , 0.01672664])"
      ]
     },
     "execution_count": 75,
     "metadata": {},
     "output_type": "execute_result"
    }
   ],
   "source": [
    "w_lag_tile[0][:,0]"
   ]
  },
  {
   "cell_type": "code",
   "execution_count": 11,
   "metadata": {},
   "outputs": [
    {
     "data": {
      "text/plain": [
       "(104,)"
      ]
     },
     "execution_count": 11,
     "metadata": {},
     "output_type": "execute_result"
    }
   ],
   "source": [
    "dist[0].shape"
   ]
  },
  {
   "cell_type": "code",
   "execution_count": 174,
   "metadata": {},
   "outputs": [
    {
     "name": "stdout",
     "output_type": "stream",
     "text": [
      "[[20.08553692 14.7781122   8.15484549]\n",
      " [20.08553692 14.7781122   8.15484549]\n",
      " [20.08553692 14.7781122   8.15484549]]\n",
      "[[[        nan         nan         nan]\n",
      "  [20.08553692 14.7781122   8.15484549]\n",
      "  [20.08553692 14.7781122   8.15484549]]\n",
      "\n",
      " [[20.08553692 14.7781122   8.15484549]\n",
      "  [        nan         nan         nan]\n",
      "  [20.08553692 14.7781122   8.15484549]]\n",
      "\n",
      " [[20.08553692 14.7781122   8.15484549]\n",
      "  [20.08553692 14.7781122   8.15484549]\n",
      "  [        nan         nan         nan]]]\n"
     ]
    }
   ],
   "source": [
    "arr1 = np.array([[1, 2, 3], \n",
    "                 [1, 2, 3], \n",
    "                 [1, 2, 3]])\n",
    "\n",
    "arr2 = np.array([[3, 2, 1],\n",
    "                 [3, 2, 1],\n",
    "                 [3, 2, 1]])\n",
    "\n",
    "# Tile the array to make it dimensions 3x3, with tiled_arr[0] = tiled_arr[1] = tiled_arr[2] = arr\n",
    "tiled_arr1 = np.tile(arr, (3, 1, 1)).astype(float)\n",
    "tiled_arr2 = np.tile(arr2, (3, 1, 1)).astype(float)\n",
    "\n",
    "# Fill the diagonals of each 3x3 matrix with 0\n",
    "tiled_arr1[np.arange(3), np.arange(3), :] = np.nan\n",
    "tiled_arr2[np.arange(3), np.arange(3), :] = np.nan\n",
    "\n",
    "print(arr1 * np.exp(arr2))\n",
    "print(tiled_arr1 * np.exp(tiled_arr2))"
   ]
  },
  {
   "cell_type": "markdown",
   "metadata": {},
   "source": [
    "## start test"
   ]
  },
  {
   "cell_type": "code",
   "execution_count": 118,
   "metadata": {},
   "outputs": [
    {
     "name": "stdout",
     "output_type": "stream",
     "text": [
      "6.585308778550257\n",
      "6.585308778550257\n"
     ]
    }
   ],
   "source": [
    "yard = 3\n",
    "\n",
    "mask = np.arange(N) != yard # mask out the current yard i\n",
    "\n",
    "dispersal_component1 = 1 * np.sum((a_lag[mask] * (y_lag[mask] / n_lag[mask])) * np.exp(-1 * s_lag[mask]) * w_lag[:, yard][mask])\n",
    "\n",
    "dispersal_component_fast = 1 * np.sum(np.nansum((a_lag_tile * (y_lag_tile / n_lag_tile)) * np.exp(-1 * s_lag_tile) * w_lag_tile[yard][:, yard], axis=1)[yard])\n",
    "\n",
    "print(dispersal_component1)\n",
    "print(dispersal_component_fast)"
   ]
  },
  {
   "cell_type": "code",
   "execution_count": 163,
   "metadata": {},
   "outputs": [
    {
     "name": "stdout",
     "output_type": "stream",
     "text": [
      "0.46848868968011204\n",
      "[0.46848869 0.46848869 0.46848869 0.46848869 0.46848869 0.46848869\n",
      " 0.46848869 0.46848869 0.46848869 0.46848869 0.46848869 0.46848869\n",
      " 0.46848869 0.44014455 0.46848869 0.46848869 0.46848869 0.46848869\n",
      " 0.46848869 0.46848869 0.46848869 0.46848869 0.46848869 0.46848869\n",
      " 0.46639677 0.46848869 0.46848869 0.46848869 0.31301276 0.41353719\n",
      " 0.46848869 0.46848869 0.44042719 0.46848869 0.46848869 0.46848869\n",
      " 0.46848869 0.46848869 0.46848869 0.46848869 0.46848869 0.46848869\n",
      " 0.46848869 0.46848869 0.46848869 0.46848869 0.46848869 0.46848869\n",
      " 0.46848869 0.46848869 0.46848869 0.46848869 0.46848869 0.46848869\n",
      " 0.46848869 0.46848869 0.46848869 0.46848869 0.46848869 0.46848869\n",
      " 0.46848869 0.46848869 0.46848869 0.46848869 0.46848869 0.46848869\n",
      " 0.46848869 0.46848869 0.46848869 0.46848869 0.46848869 0.46848869\n",
      " 0.46848869 0.46848869 0.46848869 0.46848869 0.46848869 0.46848869\n",
      " 0.46848869 0.46848869 0.46848869 0.46848869 0.46848869 0.46848869\n",
      " 0.46848869 0.46848869 0.46848869 0.46848869 0.46848869 0.46848869\n",
      " 0.46848869 0.46848869 0.46848869 0.45931853 0.46848869 0.46848869\n",
      " 0.46848869 0.46848869 0.46848869 0.46848869 0.43572468 0.45327456\n",
      " 0.46848869 0.32607329]\n"
     ]
    }
   ],
   "source": [
    "yard = 3\n",
    "\n",
    "mask = np.arange(N) != yard # mask out the current yard i\n",
    "                \n",
    "dispersal_component1 = 1 * np.sum(((a_lag[mask] * (y_lag[mask] / n_lag[mask])) * np.exp(-1 * s_lag[mask]) * (w_lag[:, yard][mask] * np.exp(-1 * dist[:, yard][mask])) * sI1_lag[mask]))\n",
    "dispersal_component_sum = np.nansum((a_lag_tile * (y_lag_tile / n_lag_tile)) * np.exp(-1 * s_lag_tile) * (w_lag_tile[yard][:, yard] * np.exp(-1 * dist_tile[yard][:, yard])) * sI1_lag_tile, axis=1)\n",
    "dispersal_component_fast = 1 * np.sum(dispersal_component_sum, axis=1)\n",
    "\n",
    "print(dispersal_component1)\n",
    "print(dispersal_component_fast)"
   ]
  },
  {
   "cell_type": "code",
   "execution_count": 168,
   "metadata": {},
   "outputs": [
    {
     "name": "stdout",
     "output_type": "stream",
     "text": [
      "0.22538133133581184\n",
      "[0.46848869 0.46848869 0.46848869 0.46848869 0.46848869 0.46848869\n",
      " 0.46848869 0.46848869 0.46848869 0.46848869 0.46848869 0.46848869\n",
      " 0.46848869 0.44014455 0.46848869 0.46848869 0.46848869 0.46848869\n",
      " 0.46848869 0.46848869 0.46848869 0.46848869 0.46848869 0.46848869\n",
      " 0.46639677 0.46848869 0.46848869 0.46848869 0.31301276 0.41353719\n",
      " 0.46848869 0.46848869 0.44042719 0.46848869 0.46848869 0.46848869\n",
      " 0.46848869 0.46848869 0.46848869 0.46848869 0.46848869 0.46848869\n",
      " 0.46848869 0.46848869 0.46848869 0.46848869 0.46848869 0.46848869\n",
      " 0.46848869 0.46848869 0.46848869 0.46848869 0.46848869 0.46848869\n",
      " 0.46848869 0.46848869 0.46848869 0.46848869 0.46848869 0.46848869\n",
      " 0.46848869 0.46848869 0.46848869 0.46848869 0.46848869 0.46848869\n",
      " 0.46848869 0.46848869 0.46848869 0.46848869 0.46848869 0.46848869\n",
      " 0.46848869 0.46848869 0.46848869 0.46848869 0.46848869 0.46848869\n",
      " 0.46848869 0.46848869 0.46848869 0.46848869 0.46848869 0.46848869\n",
      " 0.46848869 0.46848869 0.46848869 0.46848869 0.46848869 0.46848869\n",
      " 0.46848869 0.46848869 0.46848869 0.45931853 0.46848869 0.46848869\n",
      " 0.46848869 0.46848869 0.46848869 0.46848869 0.43572468 0.45327456\n",
      " 0.46848869 0.32607329]\n"
     ]
    }
   ],
   "source": [
    "yard = 3\n",
    "\n",
    "mask = np.arange(N) != yard # mask out the current yard i\n",
    "                \n",
    "dispersal_component1 = 1 * np.sum(((a_lag[mask] * (y_lag[mask] / n_lag[mask])) * np.exp(-1 * s_lag[mask]) * (w_lag[mask] * np.exp(-1 * dist[mask])) * sI1_lag[mask]), axis=1)\n",
    "dispersal_component_sum = np.nansum((a_lag_tile * (y_lag_tile / n_lag_tile)) * np.exp(-1 * s_lag_tile) * (w_lag_tile[yard][:, yard] * np.exp(-1 * dist_tile[yard][:, yard])) * sI1_lag_tile, axis=1)\n",
    "dispersal_component_fast = 1 * np.sum(dispersal_component_sum, axis=1)\n",
    "\n",
    "print(dispersal_component1)\n",
    "print(dispersal_component_fast)"
   ]
  },
  {
   "cell_type": "code",
   "execution_count": 80,
   "metadata": {},
   "outputs": [
    {
     "data": {
      "text/plain": [
       "(103,)"
      ]
     },
     "execution_count": 80,
     "metadata": {},
     "output_type": "execute_result"
    }
   ],
   "source": [
    "w_lag[:, yard][mask].shape"
   ]
  },
  {
   "cell_type": "code",
   "execution_count": 81,
   "metadata": {},
   "outputs": [
    {
     "data": {
      "text/plain": [
       "(104,)"
      ]
     },
     "execution_count": 81,
     "metadata": {},
     "output_type": "execute_result"
    }
   ],
   "source": [
    "w_lag_tile[yard][:, yard].shape"
   ]
  },
  {
   "cell_type": "code",
   "execution_count": 44,
   "metadata": {},
   "outputs": [
    {
     "data": {
      "text/plain": [
       "array([0.03003079, 0.03035362, 0.02942905, 0.01865541, 0.02973284,\n",
       "       0.02163469, 0.03032501, 0.03024608, 0.03035869, 0.03036341,\n",
       "       0.03036988, 0.03030359, 0.03036462, 0.02624629, 0.01925518,\n",
       "       0.01939869, 0.02616986, 0.02676586, 0.02584159, 0.02620029,\n",
       "       0.01950871, 0.02872241, 0.02898103, 0.02952158, 0.03006084,\n",
       "       0.02961793, 0.02817557, 0.02995509, 0.03020259, 0.02962002,\n",
       "       0.02987373, 0.029486  , 0.02631021, 0.02614781, 0.02610729,\n",
       "       0.02654172, 0.02643493, 0.02533306, 0.02627535, 0.02599544,\n",
       "       0.02848623, 0.02861132, 0.03024026, 0.03029461, 0.03024669,\n",
       "       0.0302981 , 0.03016655, 0.03018085, 0.03014628, 0.0301219 ,\n",
       "       0.03018213, 0.03014612, 0.02604456, 0.02598738, 0.02607955,\n",
       "       0.02622026, 0.02645918, 0.02674474, 0.02702253, 0.02724888,\n",
       "       0.02689886, 0.02502917, 0.02512771, 0.00659713, 0.00640316,\n",
       "       0.0068268 , 0.00717625, 0.00356306, 0.00810428, 0.00454989,\n",
       "       0.00396818, 0.0040708 , 0.00525576, 0.00358965, 0.00359029,\n",
       "       0.00398943, 0.00861931, 0.00701715, 0.00611176, 0.00560428,\n",
       "       0.00861884, 0.0099169 , 0.01107291, 0.00803347, 0.00869382,\n",
       "       0.00932929, 0.02054672, 0.0187792 , 0.01878096, 0.03010093,\n",
       "       0.03011329, 0.03005221, 0.03000845, 0.02999757, 0.0300109 ,\n",
       "       0.02999647, 0.03004129, 0.029914  , 0.03004825, 0.03005062,\n",
       "       0.02993607, 0.02993722, 0.02993844])"
      ]
     },
     "execution_count": 44,
     "metadata": {},
     "output_type": "execute_result"
    }
   ],
   "source": [
    "w_lag[yard][mask]"
   ]
  },
  {
   "cell_type": "code",
   "execution_count": 57,
   "metadata": {},
   "outputs": [
    {
     "data": {
      "text/plain": [
       "array([0.03003079, 0.03035362, 0.02942905, 0.01865541, 0.02973284,\n",
       "       0.02163469, 0.        , 0.03032501, 0.03024608, 0.03035869,\n",
       "       0.03036341, 0.03036988, 0.03030359, 0.03036462, 0.02624629,\n",
       "       0.01925518, 0.01939869, 0.02616986, 0.02676586, 0.02584159,\n",
       "       0.02620029, 0.01950871, 0.02872241, 0.02898103, 0.02952158,\n",
       "       0.03006084, 0.02961793, 0.02817557, 0.02995509, 0.03020259,\n",
       "       0.02962002, 0.02987373, 0.029486  , 0.02631021, 0.02614781,\n",
       "       0.02610729, 0.02654172, 0.02643493, 0.02533306, 0.02627535,\n",
       "       0.02599544, 0.02848623, 0.02861132, 0.03024026, 0.03029461,\n",
       "       0.03024669, 0.0302981 , 0.03016655, 0.03018085, 0.03014628,\n",
       "       0.0301219 , 0.03018213, 0.03014612, 0.02604456, 0.02598738,\n",
       "       0.02607955, 0.02622026, 0.02645918, 0.02674474, 0.02702253,\n",
       "       0.02724888, 0.02689886, 0.02502917, 0.02512771, 0.00659713,\n",
       "       0.00640316, 0.0068268 , 0.00717625, 0.00356306, 0.00810428,\n",
       "       0.00454989, 0.00396818, 0.0040708 , 0.00525576, 0.00358965,\n",
       "       0.00359029, 0.00398943, 0.00861931, 0.00701715, 0.00611176,\n",
       "       0.00560428, 0.00861884, 0.0099169 , 0.01107291, 0.00803347,\n",
       "       0.00869382, 0.00932929, 0.02054672, 0.0187792 , 0.01878096,\n",
       "       0.03010093, 0.03011329, 0.03005221, 0.03000845, 0.02999757,\n",
       "       0.0300109 , 0.02999647, 0.03004129, 0.029914  , 0.03004825,\n",
       "       0.03005062, 0.02993607, 0.02993722, 0.02993844])"
      ]
     },
     "execution_count": 57,
     "metadata": {},
     "output_type": "execute_result"
    }
   ],
   "source": [
    "w_lag[yard]"
   ]
  },
  {
   "cell_type": "code",
   "execution_count": 58,
   "metadata": {},
   "outputs": [
    {
     "data": {
      "text/plain": [
       "array([0.01496664, 0.01803828, 0.01319707, 0.00736473, 0.02037705,\n",
       "       0.00436191,        nan, 0.01649746, 0.01685304, 0.0167337 ,\n",
       "       0.01847333, 0.01837138, 0.01857027, 0.01666383, 0.00851785,\n",
       "       0.02252844, 0.0090069 , 0.02241838, 0.02157486, 0.01951371,\n",
       "       0.02307274, 0.00927143, 0.01697919, 0.02045788, 0.01919303,\n",
       "       0.01871102, 0.01894209, 0.02071475, 0.0164964 , 0.01017503,\n",
       "       0.01631591, 0.01003268, 0.01631152, 0.00777179, 0.00700223,\n",
       "       0.00774873, 0.00896119, 0.00736114, 0.00546825, 0.00475364,\n",
       "       0.00761212, 0.00647648, 0.00664124, 0.01007852, 0.01141255,\n",
       "       0.01120778, 0.01142937, 0.01032199, 0.01097575, 0.00900409,\n",
       "       0.00893844, 0.01097988, 0.0090042 , 0.00509437, 0.00505479,\n",
       "       0.00954922, 0.00936469, 0.01068033, 0.01110557, 0.01074242,\n",
       "       0.00595171, 0.00567804, 0.00883304, 0.00451183, 0.01931211,\n",
       "       0.01940251, 0.01740924, 0.0114285 , 0.01842117, 0.0300241 ,\n",
       "       0.01903939, 0.02013313, 0.02067396, 0.01450535, 0.01768119,\n",
       "       0.01851664, 0.01988773, 0.03191573, 0.02964831, 0.02418672,\n",
       "       0.02746689, 0.03023533, 0.02979346, 0.03813128, 0.0299213 ,\n",
       "       0.029355  , 0.03172822, 0.01211859, 0.00623249, 0.00617757,\n",
       "       0.01786499, 0.0175435 , 0.01632163, 0.01633952, 0.0162889 ,\n",
       "       0.01603915, 0.01595961, 0.01802381, 0.01558877, 0.01753736,\n",
       "       0.01589878, 0.0159954 , 0.01600018, 0.01673647])"
      ]
     },
     "execution_count": 58,
     "metadata": {},
     "output_type": "execute_result"
    }
   ],
   "source": [
    "w_lag_tile[yard][:,yard]"
   ]
  },
  {
   "cell_type": "code",
   "execution_count": 202,
   "metadata": {},
   "outputs": [
    {
     "data": {
      "text/plain": [
       "(103,)"
      ]
     },
     "execution_count": 202,
     "metadata": {},
     "output_type": "execute_result"
    }
   ],
   "source": [
    "(np.exp(-1 * s_lag[mask]) * w_lag[yard][mask])[0].shape"
   ]
  },
  {
   "cell_type": "code",
   "execution_count": 212,
   "metadata": {},
   "outputs": [
    {
     "data": {
      "text/plain": [
       "(104, 104, 104)"
      ]
     },
     "execution_count": 212,
     "metadata": {},
     "output_type": "execute_result"
    }
   ],
   "source": [
    "(np.exp(-1 * s_lag_tile) * w_lag_tile[0][yard]).shape"
   ]
  },
  {
   "cell_type": "code",
   "execution_count": 210,
   "metadata": {},
   "outputs": [
    {
     "data": {
      "text/plain": [
       "(104, 104, 1)"
      ]
     },
     "execution_count": 210,
     "metadata": {},
     "output_type": "execute_result"
    }
   ],
   "source": [
    "s_lag_tile.shape"
   ]
  },
  {
   "cell_type": "code",
   "execution_count": 208,
   "metadata": {},
   "outputs": [
    {
     "data": {
      "text/plain": [
       "(103,)"
      ]
     },
     "execution_count": 208,
     "metadata": {},
     "output_type": "execute_result"
    }
   ],
   "source": [
    "w_lag[yard][mask].shape"
   ]
  },
  {
   "cell_type": "code",
   "execution_count": 209,
   "metadata": {},
   "outputs": [
    {
     "data": {
      "text/plain": [
       "(104,)"
      ]
     },
     "execution_count": 209,
     "metadata": {},
     "output_type": "execute_result"
    }
   ],
   "source": [
    "w_lag_tile[0][yard].shape"
   ]
  },
  {
   "cell_type": "code",
   "execution_count": 142,
   "metadata": {},
   "outputs": [
    {
     "data": {
      "text/plain": [
       "(104, 104)"
      ]
     },
     "execution_count": 142,
     "metadata": {},
     "output_type": "execute_result"
    }
   ],
   "source": [
    "w_lag_tile[yard].shape"
   ]
  },
  {
   "attachments": {},
   "cell_type": "markdown",
   "metadata": {},
   "source": [
    "## end test"
   ]
  },
  {
   "cell_type": "code",
   "execution_count": 100,
   "metadata": {},
   "outputs": [],
   "source": [
    "dispersal_component_fast = 1 * np.nansum(((a_lag_tile * (y_lag_tile / n_lag_tile)) * np.exp(-1 * s_lag_tile) * (w_lag_tile[0] * np.exp(-1 * dist_tile[0])) * sI1_lag_tile), axis=1)"
   ]
  },
  {
   "cell_type": "code",
   "execution_count": 34,
   "metadata": {},
   "outputs": [
    {
     "data": {
      "text/plain": [
       "array([0.9215137 , 1.        , 0.89074552, 0.67604991, 0.90210116,\n",
       "       0.65754088, 0.68393053, 0.01597094, 0.00741065, 0.01377428,\n",
       "       0.00769215, 0.00960061, 0.00763043, 0.01169124, 0.79415948,\n",
       "       0.72318582, 0.57350488, 0.00284836, 0.00242028, 0.00251572,\n",
       "       0.7469656 , 0.64888744, 0.00251149, 0.00279056, 0.00612368,\n",
       "       0.01491806, 0.01321727, 0.00570911, 0.00241926, 0.00238814,\n",
       "       0.00208911, 0.00348472, 0.00301917, 0.00000007, 0.        ,\n",
       "       0.00000009, 0.00000013, 0.00000009, 0.00000003, 0.0000001 ,\n",
       "       0.00000007, 0.00000001, 0.00000001, 0.00000004, 0.00000006,\n",
       "       0.00000005, 0.00000007, 0.00000005, 0.00000006, 0.00000002,\n",
       "       0.00000002, 0.00000007, 0.00000003, 0.00004288, 0.00004088,\n",
       "       0.0000438 , 0.00004529, 0.000051  , 0.00006211, 0.00007344,\n",
       "       0.00008533, 0.00011187, 0.00003404, 0.00004628, 0.05375955,\n",
       "       0.05060382, 0.05901108, 0.07096751, 0.1674698 , 0.30931073,\n",
       "       0.33304394, 0.25384438, 0.29250838, 0.23035286, 0.08608224,\n",
       "       0.09863948, 0.11239617, 0.13847166, 0.12891799, 0.11647329,\n",
       "       0.10001976, 0.0885911 , 0.09991258, 0.09659035, 0.18773757,\n",
       "       0.22270338, 0.24107505, 0.12041969, 0.12780175, 0.11204208,\n",
       "       0.00000006, 0.00000005, 0.00000003, 0.00000005, 0.00000007,\n",
       "       0.00000003, 0.0000001 , 0.0000001 , 0.00000006, 0.00000007,\n",
       "       0.00000002, 0.00000008, 0.00000007, 0.00000009])"
      ]
     },
     "execution_count": 34,
     "metadata": {},
     "output_type": "execute_result"
    }
   ],
   "source": [
    "np.exp(-1 * dist[1])"
   ]
  },
  {
   "cell_type": "code",
   "execution_count": 35,
   "metadata": {},
   "outputs": [
    {
     "data": {
      "text/plain": [
       "array([0.9215137 ,        nan, 0.89074552, 0.67604991, 0.90210116,\n",
       "       0.65754088, 0.68393053, 0.01597094, 0.00741065, 0.01377428,\n",
       "       0.00769215, 0.00960061, 0.00763043, 0.01169124, 0.79415948,\n",
       "       0.72318582, 0.57350488, 0.00284836, 0.00242028, 0.00251572,\n",
       "       0.7469656 , 0.64888744, 0.00251149, 0.00279056, 0.00612368,\n",
       "       0.01491806, 0.01321727, 0.00570911, 0.00241926, 0.00238814,\n",
       "       0.00208911, 0.00348472, 0.00301917, 0.00000007, 0.        ,\n",
       "       0.00000009, 0.00000013, 0.00000009, 0.00000003, 0.0000001 ,\n",
       "       0.00000007, 0.00000001, 0.00000001, 0.00000004, 0.00000006,\n",
       "       0.00000005, 0.00000007, 0.00000005, 0.00000006, 0.00000002,\n",
       "       0.00000002, 0.00000007, 0.00000003, 0.00004288, 0.00004088,\n",
       "       0.0000438 , 0.00004529, 0.000051  , 0.00006211, 0.00007344,\n",
       "       0.00008533, 0.00011187, 0.00003404, 0.00004628, 0.05375955,\n",
       "       0.05060382, 0.05901108, 0.07096751, 0.1674698 , 0.30931073,\n",
       "       0.33304394, 0.25384438, 0.29250838, 0.23035286, 0.08608224,\n",
       "       0.09863948, 0.11239617, 0.13847166, 0.12891799, 0.11647329,\n",
       "       0.10001976, 0.0885911 , 0.09991258, 0.09659035, 0.18773757,\n",
       "       0.22270338, 0.24107505, 0.12041969, 0.12780175, 0.11204208,\n",
       "       0.00000006, 0.00000005, 0.00000003, 0.00000005, 0.00000007,\n",
       "       0.00000003, 0.0000001 , 0.0000001 , 0.00000006, 0.00000007,\n",
       "       0.00000002, 0.00000008, 0.00000007, 0.00000009])"
      ]
     },
     "execution_count": 35,
     "metadata": {},
     "output_type": "execute_result"
    }
   ],
   "source": [
    "np.exp(-1 * dist_tile[1])[:,1]"
   ]
  },
  {
   "cell_type": "code",
   "execution_count": 98,
   "metadata": {},
   "outputs": [],
   "source": [
    "mask = np.arange(N) != 0 # mask out the current yard i\n",
    "                \n",
    "dispersal_component1 = 1 * np.sum(((a_lag[mask] * (y_lag[mask] / n_lag[mask])) * np.exp(-1 * s_lag[mask]) * (w_lag[0][mask] * np.exp(-1 * dist[0][mask])) * sI1_lag[mask]))"
   ]
  },
  {
   "cell_type": "code",
   "execution_count": 99,
   "metadata": {},
   "outputs": [
    {
     "data": {
      "text/plain": [
       "0.3737640150555859"
      ]
     },
     "execution_count": 99,
     "metadata": {},
     "output_type": "execute_result"
    }
   ],
   "source": [
    "dispersal_component1"
   ]
  },
  {
   "attachments": {},
   "cell_type": "markdown",
   "metadata": {},
   "source": [
    "# code begins here"
   ]
  },
  {
   "cell_type": "code",
   "execution_count": null,
   "metadata": {},
   "outputs": [
    {
     "name": "stdout",
     "output_type": "stream",
     "text": [
      "Optimized parameter values:  [-2.53731989 -2.01494715  0.66066998  1.72186307  0.05244    -0.45389627\n",
      " -0.12492921  1.49349407 -0.01841706 -0.68115482  0.17942371  0.28993627]\n"
     ]
    }
   ],
   "source": [
    "import numpy as np\n",
    "#from autograd import grad\n",
    "import matplotlib.pyplot as plt\n",
    "\n",
    "#import tensorflow as tf\n",
    "#import torch\n",
    "np.set_printoptions(suppress=True)\n",
    "\n",
    "import warnings\n",
    "#suppress warnings\n",
    "warnings.filterwarnings('ignore')\n",
    "\n",
    "theta_list = []\n",
    "checkpoint_list = []\n",
    "\n",
    "year = [2014]\n",
    "period = ['may-jun'] # inputs: 'may-jun', 'jun-jul'\n",
    "\n",
    "for year in year:\n",
    "    \n",
    "    # Import data\n",
    "    if year == 2014:\n",
    "        X = np.load('../data/processed/data_2014.npz')\n",
    "\n",
    "    elif year == 2015:\n",
    "        X = np.load('../data/processed/data_2015.npz')\n",
    "\n",
    "    elif year == 2016:\n",
    "        X = np.load('../data/processed/data_2016.npz')\n",
    "        \n",
    "    elif year == 2017:\n",
    "        X = np.load('../data/processed/data_2017.npz')\n",
    "\n",
    "    N = X['N']\n",
    "\n",
    "    dist = X['distance']\n",
    "    tI1 = X['tI1'].reshape(N,1)\n",
    "    tI2 = X['tI2'].reshape(N,1)\n",
    "    sI2 = X['sI2'].reshape(N,1)\n",
    "    \n",
    "    y_apr = X['y_apr'].reshape(N,1)\n",
    "    y_may = X['y_may'].reshape(N,1)\n",
    "    y_jun = X['y_jun'].reshape(N,1)\n",
    "    y_jul = X['y_jul'].reshape(N,1)\n",
    "\n",
    "    n_apr = X['n_apr'].reshape(N,1)\n",
    "    n_may = X['n_may'].reshape(N,1)\n",
    "    n_jun = X['n_jun'].reshape(N,1)\n",
    "    n_jul = X['n_jul'].reshape(N,1)\n",
    "\n",
    "    a_apr = X['a_apr'].reshape(N,1)\n",
    "    a_may = X['a_may'].reshape(N,1)\n",
    "    a_jun = X['a_jun'].reshape(N,1)\n",
    "    a_jul = X['a_jul'].reshape(N,1)\n",
    "\n",
    "    w_apr = X['wind_apr']\n",
    "    w_may = X['wind_may']\n",
    "    w_jun = X['wind_jun']\n",
    "    w_jul = X['wind_jul']\n",
    "\n",
    "    sI1_apr = X['sI1_apr'].reshape(N,1)\n",
    "    sI1_may = X['sI1_may'].reshape(N,1)\n",
    "    sI1_jun = X['sI1_jun'].reshape(N,1)\n",
    "    sI1_jul = X['sI1_jul'].reshape(N,1)\n",
    "\n",
    "    s_apr = X['s_apr'].reshape(N,1)\n",
    "    s_may = X['s_may'].reshape(N,1)\n",
    "    s_jun = X['s_jun'].reshape(N,1)\n",
    "    s_jul = X['s_jul'].reshape(N,1)\n",
    "\n",
    "    for period in period:\n",
    "\n",
    "        if period == 'may-jun':\n",
    "            y = y_jun\n",
    "            n = n_jun\n",
    "            y_lag = y_may\n",
    "            n_lag = n_may\n",
    "            a_lag = a_may\n",
    "            w_lag = w_may\n",
    "            sI1_lag = sI1_may\n",
    "            s_lag = s_may\n",
    "        \n",
    "        elif period == 'jun-jul':\n",
    "            \n",
    "            y = y_jul\n",
    "            n = n_jul\n",
    "            y_lag = y_jun\n",
    "            n_lag = n_jun\n",
    "            a_lag = a_jun\n",
    "            w_lag = w_jun\n",
    "            sI1_lag = sI1_jun\n",
    "            s_lag = s_jun\n",
    "        \n",
    "        a_lag_tile = np.tile(a_lag, (N, 1))\n",
    "        y_lag_tile = np.tile(y_lag, (N, 1))\n",
    "        n_lag_tile = np.tile(n_lag, (N, 1))\n",
    "        s_lag_tile = np.tile(s_lag, (N, 1))\n",
    "        w_lag_tile = np.tile(w_lag, (N, 1))\n",
    "        dist_tile = np.tile(dist, (N, 1))\n",
    "        sI1_lag_tile = np.tile(sI1_lag, (N, 1))\n",
    "        sI2_tile = np.tile(sI2, (N, 1))\n",
    "        \n",
    "        # Define the function eta() which takes input parameters theta and returns the log-odds of disease for each yard i in current time period\n",
    "        def eta(theta):\n",
    "            \n",
    "            eta = []\n",
    "                \n",
    "            beta1, beta2, delta1, delta2, gamma1, gamma2, alpha1, alpha2, eta11, eta12, eta21, eta22 = theta\n",
    "            \n",
    "            for i in range(0, N):\n",
    "                \n",
    "                mild_inc_lag = y_lag[i] / n_lag[i]\n",
    "                s_lag_i = s_lag[i]\n",
    "                \n",
    "                auto_infection1 = beta1 + delta1 * (mild_inc_lag) * np.exp(-eta11 * s_lag_i)\n",
    "                auto_infection2 = beta2 + delta2 * (mild_inc_lag) * np.exp(-eta12 * s_lag_i)\n",
    "\n",
    "                mask = np.arange(N) != i # mask out the current yard i\n",
    "                \n",
    "                mild_inc_lag_mask = y_lag[mask] / n_lag[mask]\n",
    "                a_lag_mask = a_lag[mask]\n",
    "                a_times_mild_inc_lag_mask = a_lag_mask * mild_inc_lag_mask\n",
    "                s_lag_mask = s_lag[mask]\n",
    "                w_lag_i_mask = w_lag[i][mask]\n",
    "                dist_i_mask = dist[i][mask]\n",
    "                \n",
    "                dispersal_component1 = gamma1 * np.sum((a_times_mild_inc_lag_mask * np.exp(-eta21 * s_lag_mask) * (w_lag_i_mask * np.exp(-alpha1 * dist_i_mask)) * sI1_lag[mask]))\n",
    "                dispersal_component2 = gamma2 * np.sum((a_times_mild_inc_lag_mask * np.exp(-eta22 * s_lag_mask) * (w_lag_i_mask * np.exp(-alpha2 * dist_i_mask)) * sI2[mask]))\n",
    "            \n",
    "                eta_i = tI1[i] * (auto_infection1 + dispersal_component1) + tI2[i] * (auto_infection2 + dispersal_component2)\n",
    "                eta.append(eta_i)\n",
    "            \n",
    "            eta = np.array(eta).reshape(N,1)\n",
    "            \n",
    "            return eta\n",
    "\n",
    "\n",
    "        def costFunction(theta): \n",
    "            \n",
    "            neg_log_likelihood = -(1/N) * np.sum(y * eta(theta) - n * np.log(1 + np.exp(eta(theta))))\n",
    "\n",
    "            return neg_log_likelihood\n",
    "\n",
    "from scipy.optimize import minimize\n",
    "\n",
    "# Define initial parameter values\n",
    "init_params = np.array([0.1, 0.1, 0.1, 0.1, 0.1, 0.1, 0.1, 0.1, 0.1, 0.1, 0.1, 0.1])\n",
    "\n",
    "# Minimize the cost function using the L-BFGS-B method\n",
    "result = minimize(costFunction, init_params, method='L-BFGS-B')\n",
    "\n",
    "# Get the optimized parameter values\n",
    "theta_opt = result.x\n",
    "\n",
    "# Print the optimized parameter values\n",
    "print(\"Optimized parameter values: \", theta_opt)\n",
    "\n",
    "def partial(theta):\n",
    "    \n",
    "    beta1, beta2, delta1, delta2, gamma1, gamma2, alpha1, alpha2, eta11, eta12, eta21, eta22 = theta\n",
    "    \n",
    "    d_beta1 = tI1\n",
    "    d_beta2 = tI2\n",
    "    \n",
    "    d_delta1 = tI1 * (y_lag / n_lag) * np.exp(-eta11 * s_lag)\n",
    "    d_delta2 = tI2 * (y_lag / n_lag) * np.exp(-eta12 * s_lag)\n",
    "    \n",
    "    d_gamma1 = []\n",
    "    d_gamma2 = []\n",
    "    d_alpha1 = []\n",
    "    d_alpha2 = []\n",
    "    d_eta21 = []\n",
    "    d_eta22 = []\n",
    "    \n",
    "    for i in range(0, N):\n",
    "        \n",
    "        mask = np.arange(N) != i # mask out the current yard i\n",
    "    \n",
    "        d_gamma1_i = tI1[i] * np.sum((a_lag[mask] * (y_lag[mask] / n_lag[mask])) * np.exp(-eta21 * s_lag[mask]) * (w_lag[i][mask] * np.exp(-alpha1 * dist[i][mask])) * sI1_lag[mask])\n",
    "        d_gamma2_i = tI2[i] * np.sum((a_lag[mask] * (y_lag[mask] / n_lag[mask])) * np.exp(-eta22 * s_lag[mask]) * (w_lag[i][mask] * np.exp(-alpha2 * dist[i][mask])) * sI2[mask])\n",
    "        \n",
    "        d_alpha1_i = -gamma1 * tI1[i] * np.sum((a_lag[mask] * (y_lag[mask] / n_lag[mask])) * np.exp(-eta21 * s_lag[mask]) * (w_lag[i][mask] * np.exp(-alpha1 * dist[i][mask])) * sI1_lag[mask] * dist[i][mask])\n",
    "        d_alpha2_i = -gamma2 * tI2[i] * np.sum((a_lag[mask] * (y_lag[mask] / n_lag[mask])) * np.exp(-eta22 * s_lag[mask]) * (w_lag[i][mask] * np.exp(-alpha2 * dist[i][mask])) * sI2[mask] * dist[i][mask])\n",
    "        \n",
    "        d_eta21_i = -gamma1 * tI1[i] * np.sum((a_lag[mask] * (y_lag[mask] / n_lag[mask])) * np.exp(-eta21 * s_lag[mask]) * (w_lag[i][mask] * np.exp(-alpha1 * dist[i][mask])) * sI1_lag[mask] * s_lag[mask])\n",
    "        d_eta22_i = -gamma2 * tI2[i] * np.sum((a_lag[mask] * (y_lag[mask] / n_lag[mask])) * np.exp(-eta22 * s_lag[mask]) * (w_lag[i][mask] * np.exp(-alpha2 * dist[i][mask])) * sI2[mask] * s_lag[mask])\n",
    "    \n",
    "        d_gamma1.append(d_gamma1_i)\n",
    "        d_gamma2.append(d_gamma2_i)\n",
    "        d_alpha1.append(d_alpha1_i)\n",
    "        d_alpha2.append(d_alpha2_i)\n",
    "        d_eta21.append(d_eta21_i)\n",
    "        d_eta22.append(d_eta22_i)\n",
    "    \n",
    "    d_gamma1 = np.array(d_gamma1).reshape(N,1)\n",
    "    d_gamma2 = np.array(d_gamma2).reshape(N,1)\n",
    "    d_alpha1 = np.array(d_alpha1).reshape(N,1)\n",
    "    d_alpha2 = np.array(d_alpha2).reshape(N,1)\n",
    "    d_eta21 = np.array(d_eta21).reshape(N,1)\n",
    "    d_eta22 = np.array(d_eta22).reshape(N,1)\n",
    "    \n",
    "    \n",
    "    d_eta11 = -tI1 * delta1 * s_lag * (y_lag / n_lag) * np.exp(-eta11 * s_lag)\n",
    "    d_eta12 = -tI2 * delta2 * s_lag * (y_lag / n_lag) * np.exp(-eta12 * s_lag)\n",
    "\n",
    "\n",
    "\n",
    "    grad_entries = np.array([d_beta1, d_beta2, d_delta1, d_delta2, d_gamma1, d_gamma2, d_alpha1, d_alpha2, d_eta11, d_eta12, d_eta21, d_eta22])\n",
    "    \n",
    "    return grad_entries\n",
    "\n",
    "def partial_by_partial(theta):\n",
    "    \n",
    "    beta1, beta2, delta1, delta2, gamma1, gamma2, alpha1, alpha2, eta11, eta12, eta21, eta22 = theta\n",
    "    \n",
    "    d_beta1 = tI1\n",
    "    d_beta2 = tI2\n",
    "    \n",
    "    d_delta1 = tI1 * (y_lag / n_lag) * np.exp(-eta11 * s_lag)\n",
    "    d_delta2 = tI2 * (y_lag / n_lag) * np.exp(-eta12 * s_lag)\n",
    "    \n",
    "    d_eta11 = -tI1 * delta1 * s_lag * (y_lag / n_lag) * np.exp(-eta11 * s_lag)\n",
    "    d_eta12 = -tI2 * delta2 * s_lag * (y_lag / n_lag) * np.exp(-eta12 * s_lag)\n",
    "    \n",
    "    d_gamma1 = []\n",
    "    d_gamma2 = []\n",
    "    d_alpha1 = []\n",
    "    d_alpha2 = []\n",
    "    d_eta21 = []\n",
    "    d_eta22 = []\n",
    "    \n",
    "    for i in range(0, N):\n",
    "        \n",
    "        mask = np.arange(N) != i # mask out the current yard i\n",
    "    \n",
    "        d_gamma1_i = tI1[i] * np.sum((a_lag[mask] * (y_lag[mask] / n_lag[mask])) * np.exp(-eta21 * s_lag[mask]) * (w_lag[i][mask] * np.exp(-alpha1 * dist[i][mask])) * sI1_lag[mask])\n",
    "        d_gamma2_i = tI2[i] * np.sum((a_lag[mask] * (y_lag[mask] / n_lag[mask])) * np.exp(-eta22 * s_lag[mask]) * (w_lag[i][mask] * np.exp(-alpha2 * dist[i][mask])) * sI2[mask])\n",
    "        \n",
    "        d_alpha1_i = -gamma1 * tI1[i] * np.sum((a_lag[mask] * (y_lag[mask] / n_lag[mask])) * np.exp(-eta21 * s_lag[mask]) * (w_lag[i][mask] * np.exp(-alpha1 * dist[i][mask])) * sI1_lag[mask] * dist[i][mask])\n",
    "        d_alpha2_i = -gamma2 * tI2[i] * np.sum((a_lag[mask] * (y_lag[mask] / n_lag[mask])) * np.exp(-eta22 * s_lag[mask]) * (w_lag[i][mask] * np.exp(-alpha2 * dist[i][mask])) * sI2[mask] * dist[i][mask])\n",
    "\n",
    "        d_eta21_i = -gamma1 * tI1[i] * np.sum((a_lag[mask] * (y_lag[mask] / n_lag[mask])) * np.exp(-eta21 * s_lag[mask]) * (w_lag[i][mask] * np.exp(-alpha1 * dist[i][mask])) * sI1_lag[mask] * s_lag[mask])\n",
    "        d_eta22_i = -gamma2 * tI2[i] * np.sum((a_lag[mask] * (y_lag[mask] / n_lag[mask])) * np.exp(-eta22 * s_lag[mask]) * (w_lag[i][mask] * np.exp(-alpha2 * dist[i][mask])) * sI2[mask] * s_lag[mask])\n",
    "        \n",
    "        d_gamma1.append(d_gamma1_i)\n",
    "        d_gamma2.append(d_gamma2_i)\n",
    "        d_alpha1.append(d_alpha1_i)\n",
    "        d_alpha2.append(d_alpha2_i)\n",
    "        d_eta21.append(d_eta21_i)\n",
    "        d_eta22.append(d_eta22_i)\n",
    "    \n",
    "    d_gamma1 = np.array(d_gamma1).reshape(N,1)\n",
    "    d_gamma2 = np.array(d_gamma2).reshape(N,1)\n",
    "    d_alpha1 = np.array(d_alpha1).reshape(N,1)\n",
    "    d_alpha2 = np.array(d_alpha2).reshape(N,1)\n",
    "    d_eta21 = np.array(d_eta21).reshape(N,1)\n",
    "    d_eta22 = np.array(d_eta22).reshape(N,1)\n",
    "        \n",
    "\n",
    "    grad_entries = np.array([[d_beta1*d_beta1, d_beta2*d_beta1, d_delta1*d_beta1, d_delta2*d_beta1, d_gamma1*d_beta1, d_gamma2*d_beta1, d_alpha1*d_beta1, d_alpha2*d_beta1, d_eta11*d_beta1, d_eta12*d_beta1, d_eta21*d_beta1, d_eta22*d_beta1],\n",
    "                            [d_beta1*d_beta2, d_beta2*d_beta2, d_delta1*d_beta2, d_delta2*d_beta2, d_gamma1*d_beta2, d_gamma2*d_beta2, d_alpha1*d_beta2, d_alpha2*d_beta2, d_eta11*d_beta2, d_eta12*d_beta2, d_eta21*d_beta2, d_eta22*d_beta2],\n",
    "                            [d_beta1*d_delta1, d_beta2*d_delta1, d_delta1*d_delta1, d_delta2*d_delta1, d_gamma1*d_delta1, d_gamma2*d_delta1, d_alpha1*d_delta1, d_alpha2*d_delta1, d_eta11*d_delta1, d_eta12*d_delta1, d_eta21*d_delta1, d_eta22*d_delta1],\n",
    "                            [d_beta1*d_delta2, d_beta2*d_delta2, d_delta1*d_delta2, d_delta2*d_delta2, d_gamma1*d_delta2, d_gamma2*d_delta2, d_alpha1*d_delta2, d_alpha2*d_delta2, d_eta11*d_delta2, d_eta12*d_delta2, d_eta21*d_delta2, d_eta22*d_delta2],\n",
    "                            [d_beta1*d_gamma1, d_beta2*d_gamma1, d_delta1*d_gamma1, d_delta2*d_gamma1, d_gamma1*d_gamma1, d_gamma2*d_gamma1, d_alpha1*d_gamma1, d_alpha2*d_gamma1, d_eta11*d_gamma1, d_eta12*d_gamma1, d_eta21*d_gamma1, d_eta22*d_gamma1],\n",
    "                            [d_beta1*d_gamma2, d_beta2*d_gamma2, d_delta1*d_gamma2, d_delta2*d_gamma2, d_gamma1*d_gamma2, d_gamma2*d_gamma2, d_alpha1*d_gamma2, d_alpha2*d_gamma2, d_eta11*d_gamma2, d_eta12*d_gamma2, d_eta21*d_gamma2, d_eta22*d_gamma2],\n",
    "                            [d_beta1*d_alpha1, d_beta2*d_alpha1, d_delta1*d_alpha1, d_delta2*d_alpha1, d_gamma1*d_alpha1, d_gamma2*d_alpha1, d_alpha1*d_alpha1, d_alpha2*d_alpha1, d_eta11*d_alpha1, d_eta12*d_alpha1, d_eta21*d_alpha1, d_eta22*d_alpha1],\n",
    "                            [d_beta1*d_alpha2, d_beta2*d_alpha2, d_delta1*d_alpha2, d_delta2*d_alpha2, d_gamma1*d_alpha2, d_gamma2*d_alpha2, d_alpha1*d_alpha2, d_alpha2*d_alpha2, d_eta11*d_alpha2, d_eta12*d_alpha2, d_eta21*d_alpha2, d_eta22*d_alpha2],\n",
    "                            [d_beta1*d_eta11, d_beta2*d_eta11, d_delta1*d_eta11, d_delta2*d_eta11, d_gamma1*d_eta11, d_gamma2*d_eta11, d_alpha1*d_eta11, d_alpha2*d_eta11, d_eta11*d_eta11, d_eta12*d_eta11, d_eta21*d_eta11, d_eta22*d_eta11],\n",
    "                            [d_beta1*d_eta12, d_beta2*d_eta12, d_delta1*d_eta12, d_delta2*d_eta12, d_gamma1*d_eta12, d_gamma2*d_eta12, d_alpha1*d_eta12, d_alpha2*d_eta12, d_eta11*d_eta12, d_eta12*d_eta12, d_eta21*d_eta12, d_eta22*d_eta12],\n",
    "                            [d_beta1*d_eta21, d_beta2*d_eta21, d_delta1*d_eta21, d_delta2*d_eta21, d_gamma1*d_eta21, d_gamma2*d_eta21, d_alpha1*d_eta21, d_alpha2*d_eta21, d_eta11*d_eta21, d_eta12*d_eta21, d_eta21*d_eta21, d_eta22*d_eta21],\n",
    "                            [d_beta1*d_eta22, d_beta2*d_eta22, d_delta1*d_eta22, d_delta2*d_eta22, d_gamma1*d_eta22, d_gamma2*d_eta22, d_alpha1*d_eta22, d_alpha2*d_eta22, d_eta11*d_eta22, d_eta12*d_eta22, d_eta21*d_eta22, d_eta22*d_eta22]])\n",
    "    \n",
    "    \n",
    "    \n",
    "    return grad_entries\n",
    "\n",
    "def partial_sq(theta):\n",
    "    \n",
    "    beta1, beta2, delta1, delta2, gamma1, gamma2, alpha1, alpha2, eta11, eta12, eta21, eta22 = theta\n",
    "    \n",
    "    # delta1 second derivatives\n",
    "    \n",
    "    d_delta1_d_eta11 = -tI1 * (y_lag / n_lag) * np.exp(-eta11 * s_lag) * s_lag\n",
    "    d_delta1_d_eta12 = 0\n",
    "    d_delta2_d_eta11 = 0\n",
    "    d_delta2_d_eta12 = -tI2 * (y_lag / n_lag) * np.exp(-eta12 * s_lag) * s_lag\n",
    "    d_gamma1_d_eta22 = 0\n",
    "    d_gamma1_d_alpha2 = 0\n",
    "    d_gamma2_d_eta21 = 0\n",
    "    d_gamma2_d_alpha1 = 0\n",
    "    d_alpha1_d_gamma2 = 0\n",
    "    d_alpha1_d_eta22 = 0\n",
    "    d_alpha1_d_alpha2 = 0\n",
    "    d_alpha2_d_gamma1 = 0\n",
    "    d_alpha2_d_eta21 = 0\n",
    "    d_alpha2_d_alpha1 = 0\n",
    "    d_eta11_d_delta1 = -tI1 * s_lag * (y_lag / n_lag) * np.exp(-eta11 * s_lag)\n",
    "    d_eta11_d_delta2 = 0\n",
    "    d_eta11_d_eta11 = tI1 * delta1 * (s_lag**2) * (y_lag / n_lag) * np.exp(-eta11 * s_lag)\n",
    "    d_eta11_d_eta12 = 0\n",
    "    d_eta12_d_delta1 = 0\n",
    "    d_eta12_d_delta2 = -tI2 * s_lag * (y_lag / n_lag) * np.exp(-eta12 * s_lag)\n",
    "    d_eta12_d_eta11 = 0\n",
    "    d_eta12_d_eta12 = tI2 * delta2 * (s_lag**2) * (y_lag / n_lag) * np.exp(-eta12 * s_lag)\n",
    "    d_eta21_d_gamma2 = 0\n",
    "    d_eta21_d_eta22 = 0\n",
    "    d_eta21_d_alpha2 = 0\n",
    "    d_eta22_d_gamma1 = 0\n",
    "    d_eta22_d_eta21 = 0\n",
    "    d_eta22_d_alpha1 = 0\n",
    "    \n",
    "    # summations\n",
    "    \n",
    "    d_gamma1_d_eta21 = []\n",
    "    d_gamma1_d_alpha1 = []\n",
    "    d_gamma2_d_eta22 = []\n",
    "    d_gamma2_d_alpha2 = []\n",
    "    d_alpha1_d_gamma1 = []\n",
    "    d_alpha1_d_eta21 = []\n",
    "    d_alpha1_d_alpha1 = []\n",
    "    d_alpha2_d_gamma2 = []\n",
    "    d_alpha2_d_eta22 = []\n",
    "    d_alpha2_d_alpha2 = []\n",
    "    d_eta21_d_gamma1 = []\n",
    "    d_eta21_d_eta21 = []\n",
    "    d_eta21_d_alpha1 = []\n",
    "    d_eta22_d_gamma2 = []\n",
    "    d_eta22_d_eta22 = []\n",
    "    d_eta22_d_alpha2 = []\n",
    "    \n",
    "    \n",
    "    for i in range(0, N):\n",
    "        \n",
    "        mask = np.arange(N) != i # mask out the current yard i\n",
    "        \n",
    "        d_gamma1_d_eta21_i = -tI1[i] * np.sum((a_lag[mask] * (y_lag[mask] / n_lag[mask])) * np.exp(-eta21 * s_lag[mask]) * (w_lag[i][mask] * np.exp(-alpha1 * dist[i][mask])) * sI1_lag[mask] * s_lag[mask])\n",
    "        d_gamma1_d_alpha1_i = -tI1[i] * np.sum((a_lag[mask] * (y_lag[mask] / n_lag[mask])) * np.exp(-eta21 * s_lag[mask]) * (w_lag[i][mask] * np.exp(-alpha1 * dist[i][mask])) * sI1_lag[mask] * dist[i][mask])\n",
    "        d_gamma2_d_eta22_i = -tI2[i] * np.sum((a_lag[mask] * (y_lag[mask] / n_lag[mask])) * np.exp(-eta22 * s_lag[mask]) * (w_lag[i][mask] * np.exp(-alpha2 * dist[i][mask])) * sI2[mask] * s_lag[mask])\n",
    "        d_gamma2_d_alpha2_i = -tI2[i] * np.sum((a_lag[mask] * (y_lag[mask] / n_lag[mask])) * np.exp(-eta22 * s_lag[mask]) * (w_lag[i][mask] * np.exp(-alpha2 * dist[i][mask])) * sI2[mask] * dist[i][mask])\n",
    "        d_alpha1_d_gamma1_i = -tI1[i] * np.sum((a_lag[mask] * (y_lag[mask] / n_lag[mask])) * np.exp(-eta21 * s_lag[mask]) * (w_lag[i][mask] * np.exp(-alpha1 * dist[i][mask])) * sI1_lag[mask] * dist[i][mask])\n",
    "        d_alpha1_d_eta21_i = gamma1 * tI1[i] * np.sum((a_lag[mask] * (y_lag[mask] / n_lag[mask])) * np.exp(-eta21 * s_lag[mask]) * (w_lag[i][mask] * np.exp(-alpha1 * dist[i][mask])) * sI1_lag[mask] * dist[i][mask] * s_lag[mask])\n",
    "        d_alpha1_d_alpha1_i = gamma1 * tI1[i] * np.sum((a_lag[mask] * (y_lag[mask] / n_lag[mask])) * np.exp(-eta21 * s_lag[mask]) * (w_lag[i][mask] * np.exp(-alpha1 * dist[i][mask])) * sI1_lag[mask] * (dist[i][mask])**2)\n",
    "        d_alpha2_d_gamma2_i = -tI2[i] * np.sum((a_lag[mask] * (y_lag[mask] / n_lag[mask])) * np.exp(-eta22 * s_lag[mask]) * (w_lag[i][mask] * np.exp(-alpha2 * dist[i][mask])) * sI2[mask] * dist[i][mask])\n",
    "        d_alpha2_d_eta22_i = gamma2 * tI2[i] * np.sum((a_lag[mask] * (y_lag[mask] / n_lag[mask])) * np.exp(-eta22 * s_lag[mask]) * (w_lag[i][mask] * np.exp(-alpha2 * dist[i][mask])) * sI2[mask] * dist[i][mask] * s_lag[mask])\n",
    "        d_alpha2_d_alpha2_i = gamma2 * tI2[i] * np.sum((a_lag[mask] * (y_lag[mask] / n_lag[mask])) * np.exp(-eta22 * s_lag[mask]) * (w_lag[i][mask] * np.exp(-alpha2 * dist[i][mask])) * sI2[mask] * (dist[i][mask])**2)\n",
    "        d_eta21_d_gamma1_i = -tI1[i] * np.sum((a_lag[mask] * (y_lag[mask] / n_lag[mask])) * np.exp(-eta21 * s_lag[mask]) * (w_lag[i][mask] * np.exp(-alpha1 * dist[i][mask])) * sI1_lag[mask] * s_lag[mask])\n",
    "        d_eta21_d_eta21_i = gamma1 * tI1[i] * np.sum((a_lag[mask] * (y_lag[mask] / n_lag[mask])) * np.exp(-eta21 * s_lag[mask]) * (w_lag[i][mask] * np.exp(-alpha1 * dist[i][mask])) * sI1_lag[mask] * (s_lag[mask]**2))\n",
    "        d_eta21_d_alpha1_i = gamma1 * tI1[i] * np.sum((a_lag[mask] * (y_lag[mask] / n_lag[mask])) * np.exp(-eta21 * s_lag[mask]) * (w_lag[i][mask] * np.exp(-alpha1 * dist[i][mask])) * sI1_lag[mask] * s_lag[mask] * (dist[i][mask]))\n",
    "        d_eta22_d_gamma2_i = -tI2[i] * np.sum((a_lag[mask] * (y_lag[mask] / n_lag[mask])) * np.exp(-eta22 * s_lag[mask]) * (w_lag[i][mask] * np.exp(-alpha2 * dist[i][mask])) * sI2[mask] * s_lag[mask])\n",
    "        d_eta22_d_eta22_i = gamma2 * tI2[i] * np.sum((a_lag[mask] * (y_lag[mask] / n_lag[mask])) * np.exp(-eta22 * s_lag[mask]) * (w_lag[i][mask] * np.exp(-alpha2 * dist[i][mask])) * sI2[mask] * (s_lag[mask]**2))\n",
    "        d_eta22_d_alpha2_i = gamma2 * tI2[i] * np.sum((a_lag[mask] * (y_lag[mask] / n_lag[mask])) * np.exp(-eta22 * s_lag[mask]) * (w_lag[i][mask] * np.exp(-alpha2 * dist[i][mask])) * sI2[mask] * s_lag[mask] * (dist[i][mask]))\n",
    "\n",
    "        d_gamma1_d_eta21.append(d_gamma1_d_eta21_i)\n",
    "        d_gamma1_d_alpha1.append(d_gamma1_d_alpha1_i)\n",
    "        d_gamma2_d_eta22.append(d_gamma2_d_eta22_i)\n",
    "        d_gamma2_d_alpha2.append(d_gamma2_d_alpha2_i)\n",
    "        d_alpha1_d_gamma1.append(d_alpha1_d_gamma1_i)\n",
    "        d_alpha1_d_eta21.append(d_alpha1_d_eta21_i)\n",
    "        d_alpha1_d_alpha1.append(d_alpha1_d_alpha1_i)\n",
    "        d_alpha2_d_gamma2.append(d_alpha2_d_gamma2_i)\n",
    "        d_alpha2_d_eta22.append(d_alpha2_d_eta22_i)\n",
    "        d_alpha2_d_alpha2.append(d_alpha2_d_alpha2_i)\n",
    "        d_eta21_d_gamma1.append(d_eta21_d_gamma1_i)\n",
    "        d_eta21_d_eta21.append(d_eta21_d_eta21_i)\n",
    "        d_eta21_d_alpha1.append(d_eta21_d_alpha1_i)\n",
    "        d_eta22_d_gamma2.append(d_eta22_d_gamma2_i)\n",
    "        d_eta22_d_eta22.append(d_eta22_d_eta22_i)\n",
    "        d_eta22_d_alpha2.append(d_eta22_d_alpha2_i)\n",
    "        \n",
    "    d_gamma1_d_eta21 = np.array(d_gamma1_d_eta21).reshape((N, 1))\n",
    "    d_gamma1_d_alpha1 = np.array(d_gamma1_d_alpha1).reshape((N, 1))\n",
    "    d_gamma2_d_eta22 = np.array(d_gamma2_d_eta22).reshape((N, 1))\n",
    "    d_gamma2_d_alpha2 = np.array(d_gamma2_d_alpha2).reshape((N, 1))\n",
    "    d_alpha1_d_gamma1 = np.array(d_alpha1_d_gamma1).reshape((N, 1))\n",
    "    d_alpha1_d_eta21 = np.array(d_alpha1_d_eta21).reshape((N, 1))\n",
    "    d_alpha1_d_alpha1 = np.array(d_alpha1_d_alpha1).reshape((N, 1))\n",
    "    d_alpha2_d_gamma2 = np.array(d_alpha2_d_gamma2).reshape((N, 1))\n",
    "    d_alpha2_d_eta22 = np.array(d_alpha2_d_eta22).reshape((N, 1))\n",
    "    d_alpha2_d_alpha2 = np.array(d_alpha2_d_alpha2).reshape((N, 1))\n",
    "    d_eta21_d_gamma1 = np.array(d_eta21_d_gamma1).reshape((N, 1))\n",
    "    d_eta21_d_eta21 = np.array(d_eta21_d_eta21).reshape((N, 1))\n",
    "    d_eta21_d_alpha1 = np.array(d_eta21_d_alpha1).reshape((N, 1))\n",
    "    d_eta22_d_gamma2 = np.array(d_eta22_d_gamma2).reshape((N, 1))\n",
    "    d_eta22_d_eta22 = np.array(d_eta22_d_eta22).reshape((N, 1))\n",
    "    d_eta22_d_alpha2 = np.array(d_eta22_d_alpha2).reshape((N, 1))\n",
    "        \n",
    "        \n",
    "    \n",
    "    zero = np.zeros((N, 1))\n",
    "    \n",
    "    hess_entries = np.array([[zero, zero, zero, zero, zero, zero, zero, zero, zero, zero, zero, zero],    #d_beta1\n",
    "                            [zero, zero, zero, zero, zero, zero, zero, zero, zero, zero, zero, zero],    #d_beta2\n",
    "                            [zero, zero, zero, zero, zero, zero, zero, zero, d_eta11_d_delta1, zero, zero, zero],    #d_delta1\n",
    "                            [zero, zero, zero, zero, zero, zero, zero, zero, zero, d_eta12_d_delta2, zero, zero],    #d_delta2\n",
    "                            [zero, zero, zero, zero, zero, zero, d_alpha1_d_gamma1, zero, zero, zero, d_eta21_d_gamma1, zero],    #d_gamma1\n",
    "                            [zero, zero, zero, zero, zero, zero, zero, d_alpha2_d_gamma2, zero, zero, zero, d_eta22_d_gamma2],    #d_gamma2\n",
    "                            [zero, zero, zero, zero, d_gamma1_d_alpha1, zero, d_alpha1_d_alpha1, zero, zero, zero, d_eta21_d_alpha1, zero],    #d_alpha1\n",
    "                            [zero, zero, zero, zero, zero, d_gamma2_d_alpha2, zero, d_alpha2_d_alpha2, zero, zero, zero, d_eta22_d_alpha2],    #d_alpha2\n",
    "                            [zero, zero, d_delta1_d_eta11, zero, zero, zero, zero, zero, d_eta11_d_eta11, zero, zero, zero],    #d_eta11\n",
    "                            [zero, zero, zero, d_delta2_d_eta12, zero, zero, zero, zero, zero, d_eta12_d_eta12, zero, zero],    #d_eta12\n",
    "                            [zero, zero, zero, zero, d_gamma1_d_eta21, zero, d_alpha1_d_eta21, zero, zero, zero, d_eta21_d_eta21, zero],    #d_eta21\n",
    "                            [zero, zero, zero, zero, zero, d_gamma2_d_eta22, zero, d_alpha2_d_eta22, zero, zero, zero, d_eta22_d_eta22]])   #d_eta22\n",
    "    \n",
    "    \n",
    "    return hess_entries\n",
    "\n",
    "\n",
    "\n",
    "# Gradient entries\n",
    "def gradient(theta):\n",
    "    \n",
    "    mu = y - (n / (1 + np.exp(-eta(theta))))\n",
    "    \n",
    "    # Gradient \n",
    "    gradient = - (1 / N) * np.sum((partial(theta) * mu), axis=1)\n",
    "    \n",
    "    return gradient\n",
    "\n",
    "\n",
    "# Hessian\n",
    "def hessian(theta):\n",
    "    \n",
    "    mu = y - (n / (1 + np.exp(-eta(theta))))\n",
    "    \n",
    "    # Hessian entries\n",
    "    hessian = - (1 / N) * np.sum((partial_sq(theta) * mu - n * (partial_by_partial(theta)) * (np.exp(-eta(theta)) / (1 + np.exp(-eta(theta)))**2)), axis=2)\n",
    "    hessian = hessian.reshape((12, 12))\n",
    "    \n",
    "    return hessian\n"
   ]
  },
  {
   "cell_type": "code",
   "execution_count": null,
   "metadata": {},
   "outputs": [],
   "source": []
  },
  {
   "cell_type": "code",
   "execution_count": null,
   "metadata": {},
   "outputs": [],
   "source": []
  },
  {
   "cell_type": "code",
   "execution_count": 8,
   "metadata": {},
   "outputs": [
    {
     "data": {
      "text/plain": [
       "array([[  0.25682763],\n",
       "       [  1.53018413],\n",
       "       [ -0.18260122],\n",
       "       [ -0.82936252],\n",
       "       [ 32.66278026],\n",
       "       [  1.59818026],\n",
       "       [-32.76397433],\n",
       "       [  0.4876694 ],\n",
       "       [  0.11696976],\n",
       "       [  1.71029156],\n",
       "       [ -1.86248221],\n",
       "       [  0.73577798]])"
      ]
     },
     "execution_count": 8,
     "metadata": {},
     "output_type": "execute_result"
    }
   ],
   "source": [
    "gradient(theta_opt)"
   ]
  },
  {
   "cell_type": "code",
   "execution_count": 23,
   "metadata": {},
   "outputs": [
    {
     "name": "stdout",
     "output_type": "stream",
     "text": [
      "Optimization terminated successfully.\n",
      "         Current function value: 27.351807\n",
      "         Iterations: 154\n",
      "         Function evaluations: 2305\n",
      "         Gradient evaluations: 177\n",
      "Optimized theta:  [  -2.79611934   -2.60698314 1350.02147862    7.91181441    4.02480648\n",
      "   -6.11303      -0.05246659    0.58942851    3.49828795   -1.19666649\n",
      "  127.25299647   63.40396065]\n",
      "Gradient at the optimized theta:  [ 0.         -0.00000119 -0.00000048 -0.00000048  0.         -0.00000048\n",
      " -0.00000334 -0.00000119  0.00000048  0.          0.          0.        ]\n"
     ]
    }
   ],
   "source": [
    "\n",
    "\n",
    "\n",
    "# Define the function eta() and cost function as before\n",
    "\n",
    "# Set initial values for theta\n",
    "theta = [0.1] * 12\n",
    "\n",
    "# Minimize the cost function and get the optimized parameter values\n",
    "res = minimize(costFunction, theta0, method='BFGS', options={'xtol': 1e-10, 'disp': True})\n",
    "theta = res.x\n"
   ]
  },
  {
   "cell_type": "code",
   "execution_count": 22,
   "metadata": {},
   "outputs": [
    {
     "ename": "AttributeError",
     "evalue": "hes",
     "output_type": "error",
     "traceback": [
      "\u001b[1;31m---------------------------------------------------------------------------\u001b[0m",
      "\u001b[1;31mKeyError\u001b[0m                                  Traceback (most recent call last)",
      "File \u001b[1;32mc:\\Users\\joshf\\AppData\\Local\\Programs\\Python\\Python310\\lib\\site-packages\\scipy\\optimize\\_optimize.py:174\u001b[0m, in \u001b[0;36mOptimizeResult.__getattr__\u001b[1;34m(self, name)\u001b[0m\n\u001b[0;32m    173\u001b[0m \u001b[39mtry\u001b[39;00m:\n\u001b[1;32m--> 174\u001b[0m     \u001b[39mreturn\u001b[39;00m \u001b[39mself\u001b[39;49m[name]\n\u001b[0;32m    175\u001b[0m \u001b[39mexcept\u001b[39;00m \u001b[39mKeyError\u001b[39;00m \u001b[39mas\u001b[39;00m e:\n",
      "\u001b[1;31mKeyError\u001b[0m: 'hes'",
      "\nThe above exception was the direct cause of the following exception:\n",
      "\u001b[1;31mAttributeError\u001b[0m                            Traceback (most recent call last)",
      "\u001b[1;32me:\\Google Drive\\Github\\hops-policy-optimization\\notebooks\\2-mle.ipynb Cell 6\u001b[0m in \u001b[0;36m1\n\u001b[1;32m----> <a href='vscode-notebook-cell:/e%3A/Google%20Drive/Github/hops-policy-optimization/notebooks/2-mle.ipynb#X41sZmlsZQ%3D%3D?line=0'>1</a>\u001b[0m res\u001b[39m.\u001b[39mhes\n",
      "File \u001b[1;32mc:\\Users\\joshf\\AppData\\Local\\Programs\\Python\\Python310\\lib\\site-packages\\scipy\\optimize\\_optimize.py:176\u001b[0m, in \u001b[0;36mOptimizeResult.__getattr__\u001b[1;34m(self, name)\u001b[0m\n\u001b[0;32m    174\u001b[0m     \u001b[39mreturn\u001b[39;00m \u001b[39mself\u001b[39m[name]\n\u001b[0;32m    175\u001b[0m \u001b[39mexcept\u001b[39;00m \u001b[39mKeyError\u001b[39;00m \u001b[39mas\u001b[39;00m e:\n\u001b[1;32m--> 176\u001b[0m     \u001b[39mraise\u001b[39;00m \u001b[39mAttributeError\u001b[39;00m(name) \u001b[39mfrom\u001b[39;00m \u001b[39me\u001b[39;00m\n",
      "\u001b[1;31mAttributeError\u001b[0m: hes"
     ]
    }
   ],
   "source": [
    "res.hes"
   ]
  },
  {
   "cell_type": "code",
   "execution_count": 20,
   "metadata": {},
   "outputs": [
    {
     "data": {
      "text/plain": [
       "array([  -0.        ,    0.        ,    0.        ,    0.00524136,\n",
       "          0.01313857,    0.02160097,    0.54276867,    0.63385137,\n",
       "          1.42988843,    5.21575017,   19.06613339, 1933.72214879])"
      ]
     },
     "execution_count": 20,
     "metadata": {},
     "output_type": "execute_result"
    }
   ],
   "source": [
    "np.linalg.eigh(hessian(theta_opt), UPLO='L')[0]"
   ]
  },
  {
   "cell_type": "code",
   "execution_count": 19,
   "metadata": {},
   "outputs": [
    {
     "data": {
      "text/plain": [
       "27.35180693150504"
      ]
     },
     "execution_count": 19,
     "metadata": {},
     "output_type": "execute_result"
    }
   ],
   "source": [
    "costFunction(theta_opt)"
   ]
  },
  {
   "cell_type": "code",
   "execution_count": 18,
   "metadata": {},
   "outputs": [
    {
     "data": {
      "text/plain": [
       "array([[ 0.00000027],\n",
       "       [-0.00000105],\n",
       "       [-0.00000014],\n",
       "       [-0.0000001 ],\n",
       "       [-0.00000006],\n",
       "       [-0.00000003],\n",
       "       [-0.00001749],\n",
       "       [-0.0000012 ],\n",
       "       [ 0.0000009 ],\n",
       "       [ 0.00000039],\n",
       "       [-0.        ],\n",
       "       [-0.        ]])"
      ]
     },
     "execution_count": 18,
     "metadata": {},
     "output_type": "execute_result"
    }
   ],
   "source": [
    "gradient(theta_opt)"
   ]
  },
  {
   "cell_type": "code",
   "execution_count": 1,
   "metadata": {},
   "outputs": [
    {
     "name": "stdout",
     "output_type": "stream",
     "text": [
      "Year:  2014 Period:  may-jun # 60997 cost:  27.007346552892496 MaxGrad:  0.067401077974191624\r"
     ]
    },
    {
     "ename": "KeyboardInterrupt",
     "evalue": "",
     "output_type": "error",
     "traceback": [
      "\u001b[1;31m---------------------------------------------------------------------------\u001b[0m",
      "\u001b[1;31mKeyboardInterrupt\u001b[0m                         Traceback (most recent call last)",
      "\u001b[1;32me:\\Google Drive\\Github\\hops-policy-optimization\\notebooks\\2-mle.ipynb Cell 1\u001b[0m in \u001b[0;36m4\n\u001b[0;32m    <a href='vscode-notebook-cell:/e%3A/Google%20Drive/Github/hops-policy-optimization/notebooks/2-mle.ipynb#W0sZmlsZQ%3D%3D?line=482'>483</a>\u001b[0m \u001b[39m#theta = np.load('../reports/theta2.npy')\u001b[39;00m\n\u001b[0;32m    <a href='vscode-notebook-cell:/e%3A/Google%20Drive/Github/hops-policy-optimization/notebooks/2-mle.ipynb#W0sZmlsZQ%3D%3D?line=483'>484</a>\u001b[0m \n\u001b[0;32m    <a href='vscode-notebook-cell:/e%3A/Google%20Drive/Github/hops-policy-optimization/notebooks/2-mle.ipynb#W0sZmlsZQ%3D%3D?line=484'>485</a>\u001b[0m \u001b[39m# Gradient descent settings\u001b[39;00m\n\u001b[0;32m    <a href='vscode-notebook-cell:/e%3A/Google%20Drive/Github/hops-policy-optimization/notebooks/2-mle.ipynb#W0sZmlsZQ%3D%3D?line=485'>486</a>\u001b[0m iterations \u001b[39m=\u001b[39m \u001b[39m500000\u001b[39m\n\u001b[1;32m--> <a href='vscode-notebook-cell:/e%3A/Google%20Drive/Github/hops-policy-optimization/notebooks/2-mle.ipynb#W0sZmlsZQ%3D%3D?line=487'>488</a>\u001b[0m theta, J_history \u001b[39m=\u001b[39m adam(theta, alpha, iterations, tolerance)\n\u001b[0;32m    <a href='vscode-notebook-cell:/e%3A/Google%20Drive/Github/hops-policy-optimization/notebooks/2-mle.ipynb#W0sZmlsZQ%3D%3D?line=489'>490</a>\u001b[0m \u001b[39m#print('iteration start:\\t{:.3f}'.format(np.int32(checkpoint[1])))\u001b[39;00m\n\u001b[0;32m    <a href='vscode-notebook-cell:/e%3A/Google%20Drive/Github/hops-policy-optimization/notebooks/2-mle.ipynb#W0sZmlsZQ%3D%3D?line=490'>491</a>\u001b[0m \u001b[39m#print('previous final cost:\\t{:.3f}'.format(checkpoint[2]))\u001b[39;00m\n\u001b[0;32m    <a href='vscode-notebook-cell:/e%3A/Google%20Drive/Github/hops-policy-optimization/notebooks/2-mle.ipynb#W0sZmlsZQ%3D%3D?line=491'>492</a>\u001b[0m \u001b[39m#print('updated final cost:\\t{:.3f}'.format(J_history[-1]))\u001b[39;00m\n\u001b[1;32m   (...)\u001b[0m\n\u001b[0;32m    <a href='vscode-notebook-cell:/e%3A/Google%20Drive/Github/hops-policy-optimization/notebooks/2-mle.ipynb#W0sZmlsZQ%3D%3D?line=502'>503</a>\u001b[0m \n\u001b[0;32m    <a href='vscode-notebook-cell:/e%3A/Google%20Drive/Github/hops-policy-optimization/notebooks/2-mle.ipynb#W0sZmlsZQ%3D%3D?line=503'>504</a>\u001b[0m \u001b[39m#iterations += checkpoint[1]\u001b[39;00m\n\u001b[0;32m    <a href='vscode-notebook-cell:/e%3A/Google%20Drive/Github/hops-policy-optimization/notebooks/2-mle.ipynb#W0sZmlsZQ%3D%3D?line=504'>505</a>\u001b[0m checkpoint \u001b[39m=\u001b[39m np\u001b[39m.\u001b[39marray([theta, iterations, J_history], dtype\u001b[39m=\u001b[39m\u001b[39mobject\u001b[39m)\n",
      "\u001b[1;32me:\\Google Drive\\Github\\hops-policy-optimization\\notebooks\\2-mle.ipynb Cell 1\u001b[0m in \u001b[0;36m4\n\u001b[0;32m    <a href='vscode-notebook-cell:/e%3A/Google%20Drive/Github/hops-policy-optimization/notebooks/2-mle.ipynb#W0sZmlsZQ%3D%3D?line=435'>436</a>\u001b[0m J_history\u001b[39m.\u001b[39mappend(costFunction(theta))\n\u001b[0;32m    <a href='vscode-notebook-cell:/e%3A/Google%20Drive/Github/hops-policy-optimization/notebooks/2-mle.ipynb#W0sZmlsZQ%3D%3D?line=436'>437</a>\u001b[0m \u001b[39m# report progress\u001b[39;00m\n\u001b[1;32m--> <a href='vscode-notebook-cell:/e%3A/Google%20Drive/Github/hops-policy-optimization/notebooks/2-mle.ipynb#W0sZmlsZQ%3D%3D?line=438'>439</a>\u001b[0m \u001b[39mprint\u001b[39m(\u001b[39m'\u001b[39m\u001b[39mYear: \u001b[39m\u001b[39m'\u001b[39m, year, \u001b[39m'\u001b[39m\u001b[39mPeriod: \u001b[39m\u001b[39m'\u001b[39m, period, \u001b[39m'\u001b[39m\u001b[39m#\u001b[39m\u001b[39m'\u001b[39m, i , \u001b[39m'\u001b[39m\u001b[39mcost: \u001b[39m\u001b[39m'\u001b[39m, costFunction(theta), \u001b[39m'\u001b[39m\u001b[39mMaxGrad: \u001b[39m\u001b[39m'\u001b[39m, np\u001b[39m.\u001b[39mmax(np\u001b[39m.\u001b[39mabs(gradient(theta))), end\u001b[39m=\u001b[39m\u001b[39m'\u001b[39m\u001b[39m\\r\u001b[39;00m\u001b[39m'\u001b[39m)\n\u001b[0;32m    <a href='vscode-notebook-cell:/e%3A/Google%20Drive/Github/hops-policy-optimization/notebooks/2-mle.ipynb#W0sZmlsZQ%3D%3D?line=439'>440</a>\u001b[0m \u001b[39m#print('#', i , 'cost: ', costFunction(theta), 'MaxGrad: ', np.max(np.abs(gradient(theta))), 'MinEig: ', np.min(np.linalg.eigh(hessian(theta), UPLO='L')[0]), end='\\r')\u001b[39;00m\n\u001b[0;32m    <a href='vscode-notebook-cell:/e%3A/Google%20Drive/Github/hops-policy-optimization/notebooks/2-mle.ipynb#W0sZmlsZQ%3D%3D?line=441'>442</a>\u001b[0m \u001b[39mif\u001b[39;00m (np\u001b[39m.\u001b[39mmax(np\u001b[39m.\u001b[39mabs(gradient(theta))) \u001b[39m<\u001b[39m\u001b[39m=\u001b[39m tolerance) \u001b[39m&\u001b[39m (np\u001b[39m.\u001b[39mmin(np\u001b[39m.\u001b[39mlinalg\u001b[39m.\u001b[39meigh(hessian(theta), UPLO\u001b[39m=\u001b[39m\u001b[39m'\u001b[39m\u001b[39mL\u001b[39m\u001b[39m'\u001b[39m)[\u001b[39m0\u001b[39m]) \u001b[39m>\u001b[39m \u001b[39m0\u001b[39m):\n",
      "\u001b[1;32me:\\Google Drive\\Github\\hops-policy-optimization\\notebooks\\2-mle.ipynb Cell 1\u001b[0m in \u001b[0;36m3\n\u001b[0;32m    <a href='vscode-notebook-cell:/e%3A/Google%20Drive/Github/hops-policy-optimization/notebooks/2-mle.ipynb#W0sZmlsZQ%3D%3D?line=378'>379</a>\u001b[0m \u001b[39mdef\u001b[39;00m \u001b[39mgradient\u001b[39m(theta):\n\u001b[1;32m--> <a href='vscode-notebook-cell:/e%3A/Google%20Drive/Github/hops-policy-optimization/notebooks/2-mle.ipynb#W0sZmlsZQ%3D%3D?line=380'>381</a>\u001b[0m     mu \u001b[39m=\u001b[39m y \u001b[39m-\u001b[39m (n \u001b[39m/\u001b[39m (\u001b[39m1\u001b[39m \u001b[39m+\u001b[39m np\u001b[39m.\u001b[39mexp(\u001b[39m-\u001b[39meta(theta))))\n\u001b[0;32m    <a href='vscode-notebook-cell:/e%3A/Google%20Drive/Github/hops-policy-optimization/notebooks/2-mle.ipynb#W0sZmlsZQ%3D%3D?line=382'>383</a>\u001b[0m     \u001b[39m# Gradient \u001b[39;00m\n\u001b[0;32m    <a href='vscode-notebook-cell:/e%3A/Google%20Drive/Github/hops-policy-optimization/notebooks/2-mle.ipynb#W0sZmlsZQ%3D%3D?line=383'>384</a>\u001b[0m     gradient \u001b[39m=\u001b[39m \u001b[39m-\u001b[39m (\u001b[39m1\u001b[39m \u001b[39m/\u001b[39m N) \u001b[39m*\u001b[39m np\u001b[39m.\u001b[39msum((partial(theta) \u001b[39m*\u001b[39m mu), axis\u001b[39m=\u001b[39m\u001b[39m1\u001b[39m)\n",
      "\u001b[1;32me:\\Google Drive\\Github\\hops-policy-optimization\\notebooks\\2-mle.ipynb Cell 1\u001b[0m in \u001b[0;36m1\n\u001b[0;32m    <a href='vscode-notebook-cell:/e%3A/Google%20Drive/Github/hops-policy-optimization/notebooks/2-mle.ipynb#W0sZmlsZQ%3D%3D?line=104'>105</a>\u001b[0m auto_infection2 \u001b[39m=\u001b[39m beta2 \u001b[39m+\u001b[39m delta2 \u001b[39m*\u001b[39m (y_lag[i] \u001b[39m/\u001b[39m n_lag[i]) \u001b[39m*\u001b[39m np\u001b[39m.\u001b[39mexp(\u001b[39m-\u001b[39meta12 \u001b[39m*\u001b[39m s_lag[i])\n\u001b[0;32m    <a href='vscode-notebook-cell:/e%3A/Google%20Drive/Github/hops-policy-optimization/notebooks/2-mle.ipynb#W0sZmlsZQ%3D%3D?line=106'>107</a>\u001b[0m mask \u001b[39m=\u001b[39m np\u001b[39m.\u001b[39marange(N) \u001b[39m!=\u001b[39m i \u001b[39m# mask out the current yard i\u001b[39;00m\n\u001b[1;32m--> <a href='vscode-notebook-cell:/e%3A/Google%20Drive/Github/hops-policy-optimization/notebooks/2-mle.ipynb#W0sZmlsZQ%3D%3D?line=108'>109</a>\u001b[0m dispersal_component1 \u001b[39m=\u001b[39m gamma1 \u001b[39m*\u001b[39m np\u001b[39m.\u001b[39;49msum(((a_lag[mask] \u001b[39m*\u001b[39;49m (y_lag[mask] \u001b[39m/\u001b[39;49m n_lag[mask])) \u001b[39m*\u001b[39;49m np\u001b[39m.\u001b[39;49mexp(\u001b[39m-\u001b[39;49meta21 \u001b[39m*\u001b[39;49m s_lag[mask]) \u001b[39m*\u001b[39;49m (w_lag[i][mask] \u001b[39m*\u001b[39;49m np\u001b[39m.\u001b[39;49mexp(\u001b[39m-\u001b[39;49malpha1 \u001b[39m*\u001b[39;49m dist[i][mask])) \u001b[39m*\u001b[39;49m sI1_lag[mask]))\n\u001b[0;32m    <a href='vscode-notebook-cell:/e%3A/Google%20Drive/Github/hops-policy-optimization/notebooks/2-mle.ipynb#W0sZmlsZQ%3D%3D?line=109'>110</a>\u001b[0m dispersal_component2 \u001b[39m=\u001b[39m gamma2 \u001b[39m*\u001b[39m np\u001b[39m.\u001b[39msum(((a_lag[mask] \u001b[39m*\u001b[39m (y_lag[mask] \u001b[39m/\u001b[39m n_lag[mask])) \u001b[39m*\u001b[39m np\u001b[39m.\u001b[39mexp(\u001b[39m-\u001b[39meta22 \u001b[39m*\u001b[39m s_lag[mask]) \u001b[39m*\u001b[39m (w_lag[i][mask] \u001b[39m*\u001b[39m np\u001b[39m.\u001b[39mexp(\u001b[39m-\u001b[39malpha2 \u001b[39m*\u001b[39m dist[i][mask])) \u001b[39m*\u001b[39m sI2[mask]))\n\u001b[0;32m    <a href='vscode-notebook-cell:/e%3A/Google%20Drive/Github/hops-policy-optimization/notebooks/2-mle.ipynb#W0sZmlsZQ%3D%3D?line=111'>112</a>\u001b[0m eta_i \u001b[39m=\u001b[39m tI1[i] \u001b[39m*\u001b[39m (auto_infection1 \u001b[39m+\u001b[39m dispersal_component1) \u001b[39m+\u001b[39m tI2[i] \u001b[39m*\u001b[39m (auto_infection2 \u001b[39m+\u001b[39m dispersal_component2)\n",
      "File \u001b[1;32m<__array_function__ internals>:180\u001b[0m, in \u001b[0;36msum\u001b[1;34m(*args, **kwargs)\u001b[0m\n",
      "File \u001b[1;32mc:\\Users\\joshf\\AppData\\Local\\Programs\\Python\\Python310\\lib\\site-packages\\numpy\\core\\fromnumeric.py:2183\u001b[0m, in \u001b[0;36m_sum_dispatcher\u001b[1;34m(a, axis, dtype, out, keepdims, initial, where)\u001b[0m\n\u001b[0;32m   2113\u001b[0m     \u001b[39m\"\"\"\u001b[39;00m\n\u001b[0;32m   2114\u001b[0m \u001b[39m    Clip (limit) the values in an array.\u001b[39;00m\n\u001b[0;32m   2115\u001b[0m \n\u001b[1;32m   (...)\u001b[0m\n\u001b[0;32m   2178\u001b[0m \n\u001b[0;32m   2179\u001b[0m \u001b[39m    \"\"\"\u001b[39;00m\n\u001b[0;32m   2180\u001b[0m     \u001b[39mreturn\u001b[39;00m _wrapfunc(a, \u001b[39m'\u001b[39m\u001b[39mclip\u001b[39m\u001b[39m'\u001b[39m, a_min, a_max, out\u001b[39m=\u001b[39mout, \u001b[39m*\u001b[39m\u001b[39m*\u001b[39mkwargs)\n\u001b[1;32m-> 2183\u001b[0m \u001b[39mdef\u001b[39;00m \u001b[39m_sum_dispatcher\u001b[39m(a, axis\u001b[39m=\u001b[39m\u001b[39mNone\u001b[39;00m, dtype\u001b[39m=\u001b[39m\u001b[39mNone\u001b[39;00m, out\u001b[39m=\u001b[39m\u001b[39mNone\u001b[39;00m, keepdims\u001b[39m=\u001b[39m\u001b[39mNone\u001b[39;00m,\n\u001b[0;32m   2184\u001b[0m                     initial\u001b[39m=\u001b[39m\u001b[39mNone\u001b[39;00m, where\u001b[39m=\u001b[39m\u001b[39mNone\u001b[39;00m):\n\u001b[0;32m   2185\u001b[0m     \u001b[39mreturn\u001b[39;00m (a, out)\n\u001b[0;32m   2188\u001b[0m \u001b[39m@array_function_dispatch\u001b[39m(_sum_dispatcher)\n\u001b[0;32m   2189\u001b[0m \u001b[39mdef\u001b[39;00m \u001b[39msum\u001b[39m(a, axis\u001b[39m=\u001b[39m\u001b[39mNone\u001b[39;00m, dtype\u001b[39m=\u001b[39m\u001b[39mNone\u001b[39;00m, out\u001b[39m=\u001b[39m\u001b[39mNone\u001b[39;00m, keepdims\u001b[39m=\u001b[39mnp\u001b[39m.\u001b[39m_NoValue,\n\u001b[0;32m   2190\u001b[0m         initial\u001b[39m=\u001b[39mnp\u001b[39m.\u001b[39m_NoValue, where\u001b[39m=\u001b[39mnp\u001b[39m.\u001b[39m_NoValue):\n",
      "\u001b[1;31mKeyboardInterrupt\u001b[0m: "
     ]
    }
   ],
   "source": [
    "import numpy as np\n",
    "#from autograd import grad\n",
    "import matplotlib.pyplot as plt\n",
    "\n",
    "#import tensorflow as tf\n",
    "#import torch\n",
    "np.set_printoptions(suppress=True)\n",
    "\n",
    "import warnings\n",
    "#suppress warnings\n",
    "warnings.filterwarnings('ignore')\n",
    "\n",
    "theta_list = []\n",
    "checkpoint_list = []\n",
    "\n",
    "year = [2014, 2015, 2016, 2017]\n",
    "period = ['may-jun', 'jun-jul'] # inputs: 'may-jun', 'jun-jul'\n",
    "\n",
    "for year in year:\n",
    "    \n",
    "    # Import data\n",
    "    if year == 2014:\n",
    "        X = np.load('../data/processed/data_2014.npz')\n",
    "\n",
    "    elif year == 2015:\n",
    "        X = np.load('../data/processed/data_2015.npz')\n",
    "\n",
    "    elif year == 2016:\n",
    "        X = np.load('../data/processed/data_2016.npz')\n",
    "        \n",
    "    elif year == 2017:\n",
    "        X = np.load('../data/processed/data_2017.npz')\n",
    "\n",
    "    N = X['N']\n",
    "\n",
    "    dist = X['distance']\n",
    "    tI1 = X['tI1'].reshape(N,1)\n",
    "    tI2 = X['tI2'].reshape(N,1)\n",
    "    sI2 = X['sI2'].reshape(N,1)\n",
    "    \n",
    "    y_apr = X['y_apr'].reshape(N,1)\n",
    "    y_may = X['y_may'].reshape(N,1)\n",
    "    y_jun = X['y_jun'].reshape(N,1)\n",
    "    y_jul = X['y_jul'].reshape(N,1)\n",
    "\n",
    "    n_apr = X['n_apr'].reshape(N,1)\n",
    "    n_may = X['n_may'].reshape(N,1)\n",
    "    n_jun = X['n_jun'].reshape(N,1)\n",
    "    n_jul = X['n_jul'].reshape(N,1)\n",
    "\n",
    "    a_apr = X['a_apr'].reshape(N,1)\n",
    "    a_may = X['a_may'].reshape(N,1)\n",
    "    a_jun = X['a_jun'].reshape(N,1)\n",
    "    a_jul = X['a_jul'].reshape(N,1)\n",
    "\n",
    "    w_apr = X['wind_apr']\n",
    "    w_may = X['wind_may']\n",
    "    w_jun = X['wind_jun']\n",
    "    w_jul = X['wind_jul']\n",
    "\n",
    "    sI1_apr = X['sI1_apr'].reshape(N,1)\n",
    "    sI1_may = X['sI1_may'].reshape(N,1)\n",
    "    sI1_jun = X['sI1_jun'].reshape(N,1)\n",
    "    sI1_jul = X['sI1_jul'].reshape(N,1)\n",
    "\n",
    "    s_apr = X['s_apr'].reshape(N,1)\n",
    "    s_may = X['s_may'].reshape(N,1)\n",
    "    s_jun = X['s_jun'].reshape(N,1)\n",
    "    s_jul = X['s_jul'].reshape(N,1)\n",
    "\n",
    "    for period in period:\n",
    "\n",
    "        if period == 'may-jun':\n",
    "            y = y_jun\n",
    "            n = n_jun\n",
    "            y_lag = y_may\n",
    "            n_lag = n_may\n",
    "            a_lag = a_may\n",
    "            w_lag = w_may\n",
    "            sI1_lag = sI1_may\n",
    "            s_lag = s_may\n",
    "        \n",
    "        elif period == 'jun-jul':\n",
    "            \n",
    "            y = y_jul\n",
    "            n = n_jul\n",
    "            y_lag = y_jun\n",
    "            n_lag = n_jun\n",
    "            a_lag = a_jun\n",
    "            w_lag = w_jun\n",
    "            sI1_lag = sI1_jun\n",
    "            s_lag = s_jun\n",
    "        \n",
    "\n",
    "        # Define the function eta() which takes input parameters theta and returns the log-odds of disease for each yard i in current time period\n",
    "        def eta(theta):\n",
    "            \n",
    "            eta = []\n",
    "                \n",
    "            beta1, beta2, delta1, delta2, gamma1, gamma2, alpha1, alpha2, eta11, eta12, eta21, eta22 = theta\n",
    "            \n",
    "            for i in range(0, N):\n",
    "            \n",
    "                auto_infection1 = beta1 + delta1 * (y_lag[i] / n_lag[i]) * np.exp(-eta11 * s_lag[i])\n",
    "                auto_infection2 = beta2 + delta2 * (y_lag[i] / n_lag[i]) * np.exp(-eta12 * s_lag[i])\n",
    "\n",
    "                mask = np.arange(N) != i # mask out the current yard i\n",
    "                \n",
    "                dispersal_component1 = gamma1 * np.sum(((a_lag[mask] * (y_lag[mask] / n_lag[mask])) * np.exp(-eta21 * s_lag[mask]) * (w_lag[i][mask] * np.exp(-alpha1 * dist[i][mask])) * sI1_lag[mask]))\n",
    "                dispersal_component2 = gamma2 * np.sum(((a_lag[mask] * (y_lag[mask] / n_lag[mask])) * np.exp(-eta22 * s_lag[mask]) * (w_lag[i][mask] * np.exp(-alpha2 * dist[i][mask])) * sI2[mask]))\n",
    "            \n",
    "                eta_i = tI1[i] * (auto_infection1 + dispersal_component1) + tI2[i] * (auto_infection2 + dispersal_component2)\n",
    "                eta.append(eta_i)\n",
    "            \n",
    "            eta = np.array(eta).reshape(N,1)\n",
    "            \n",
    "            return eta\n",
    "\n",
    "\n",
    "        def costFunction(theta): \n",
    "            \n",
    "            neg_log_likelihood = -(1/N) * np.sum(y * eta(theta) - n * np.log(1 + np.exp(eta(theta))))\n",
    "\n",
    "            return neg_log_likelihood\n",
    "\n",
    "\n",
    "        def partial(theta):\n",
    "            \n",
    "            beta1, beta2, delta1, delta2, gamma1, gamma2, alpha1, alpha2, eta11, eta12, eta21, eta22 = theta\n",
    "            \n",
    "            d_beta1 = tI1\n",
    "            d_beta2 = tI2\n",
    "            \n",
    "            d_delta1 = tI1 * (y_lag / n_lag) * np.exp(-eta11 * s_lag)\n",
    "            d_delta2 = tI2 * (y_lag / n_lag) * np.exp(-eta12 * s_lag)\n",
    "            \n",
    "            d_gamma1 = []\n",
    "            d_gamma2 = []\n",
    "            d_alpha1 = []\n",
    "            d_alpha2 = []\n",
    "            d_eta21 = []\n",
    "            d_eta22 = []\n",
    "            \n",
    "            for i in range(0, N):\n",
    "                \n",
    "                mask = np.arange(N) != i # mask out the current yard i\n",
    "            \n",
    "                d_gamma1_i = tI1[i] * np.sum((a_lag[mask] * (y_lag[mask] / n_lag[mask])) * np.exp(-eta21 * s_lag[mask]) * (w_lag[i][mask] * np.exp(-alpha1 * dist[i][mask])) * sI1_lag[mask])\n",
    "                d_gamma2_i = tI2[i] * np.sum((a_lag[mask] * (y_lag[mask] / n_lag[mask])) * np.exp(-eta22 * s_lag[mask]) * (w_lag[i][mask] * np.exp(-alpha2 * dist[i][mask])) * sI2[mask])\n",
    "                \n",
    "                d_alpha1_i = -gamma1 * tI1[i] * np.sum((a_lag[mask] * (y_lag[mask] / n_lag[mask])) * np.exp(-eta21 * s_lag[mask]) * (w_lag[i][mask] * np.exp(-alpha1 * dist[i][mask])) * sI1_lag[mask] * dist[i][mask])\n",
    "                d_alpha2_i = -gamma2 * tI2[i] * np.sum((a_lag[mask] * (y_lag[mask] / n_lag[mask])) * np.exp(-eta22 * s_lag[mask]) * (w_lag[i][mask] * np.exp(-alpha2 * dist[i][mask])) * sI2[mask] * dist[i][mask])\n",
    "                \n",
    "                d_eta21_i = -gamma1 * tI1[i] * np.sum((a_lag[mask] * (y_lag[mask] / n_lag[mask])) * np.exp(-eta21 * s_lag[mask]) * (w_lag[i][mask] * np.exp(-alpha1 * dist[i][mask])) * sI1_lag[mask] * s_lag[mask])\n",
    "                d_eta22_i = -gamma2 * tI2[i] * np.sum((a_lag[mask] * (y_lag[mask] / n_lag[mask])) * np.exp(-eta22 * s_lag[mask]) * (w_lag[i][mask] * np.exp(-alpha2 * dist[i][mask])) * sI2[mask] * s_lag[mask])\n",
    "            \n",
    "                d_gamma1.append(d_gamma1_i)\n",
    "                d_gamma2.append(d_gamma2_i)\n",
    "                d_alpha1.append(d_alpha1_i)\n",
    "                d_alpha2.append(d_alpha2_i)\n",
    "                d_eta21.append(d_eta21_i)\n",
    "                d_eta22.append(d_eta22_i)\n",
    "            \n",
    "            d_gamma1 = np.array(d_gamma1).reshape(N,1)\n",
    "            d_gamma2 = np.array(d_gamma2).reshape(N,1)\n",
    "            d_alpha1 = np.array(d_alpha1).reshape(N,1)\n",
    "            d_alpha2 = np.array(d_alpha2).reshape(N,1)\n",
    "            d_eta21 = np.array(d_eta21).reshape(N,1)\n",
    "            d_eta22 = np.array(d_eta22).reshape(N,1)\n",
    "            \n",
    "            \n",
    "            d_eta11 = -tI1 * delta1 * s_lag * (y_lag / n_lag) * np.exp(-eta11 * s_lag)\n",
    "            d_eta12 = -tI2 * delta2 * s_lag * (y_lag / n_lag) * np.exp(-eta12 * s_lag)\n",
    "\n",
    "\n",
    "\n",
    "            grad_entries = np.array([d_beta1, d_beta2, d_delta1, d_delta2, d_gamma1, d_gamma2, d_alpha1, d_alpha2, d_eta11, d_eta12, d_eta21, d_eta22])\n",
    "            \n",
    "            return grad_entries\n",
    "\n",
    "        def partial_by_partial(theta):\n",
    "            \n",
    "            beta1, beta2, delta1, delta2, gamma1, gamma2, alpha1, alpha2, eta11, eta12, eta21, eta22 = theta\n",
    "            \n",
    "            d_beta1 = tI1\n",
    "            d_beta2 = tI2\n",
    "            \n",
    "            d_delta1 = tI1 * (y_lag / n_lag) * np.exp(-eta11 * s_lag)\n",
    "            d_delta2 = tI2 * (y_lag / n_lag) * np.exp(-eta12 * s_lag)\n",
    "            \n",
    "            d_eta11 = -tI1 * delta1 * s_lag * (y_lag / n_lag) * np.exp(-eta11 * s_lag)\n",
    "            d_eta12 = -tI2 * delta2 * s_lag * (y_lag / n_lag) * np.exp(-eta12 * s_lag)\n",
    "            \n",
    "            d_gamma1 = []\n",
    "            d_gamma2 = []\n",
    "            d_alpha1 = []\n",
    "            d_alpha2 = []\n",
    "            d_eta21 = []\n",
    "            d_eta22 = []\n",
    "            \n",
    "            for i in range(0, N):\n",
    "                \n",
    "                mask = np.arange(N) != i # mask out the current yard i\n",
    "            \n",
    "                d_gamma1_i = tI1[i] * np.sum((a_lag[mask] * (y_lag[mask] / n_lag[mask])) * np.exp(-eta21 * s_lag[mask]) * (w_lag[i][mask] * np.exp(-alpha1 * dist[i][mask])) * sI1_lag[mask])\n",
    "                d_gamma2_i = tI2[i] * np.sum((a_lag[mask] * (y_lag[mask] / n_lag[mask])) * np.exp(-eta22 * s_lag[mask]) * (w_lag[i][mask] * np.exp(-alpha2 * dist[i][mask])) * sI2[mask])\n",
    "                \n",
    "                d_alpha1_i = -gamma1 * tI1[i] * np.sum((a_lag[mask] * (y_lag[mask] / n_lag[mask])) * np.exp(-eta21 * s_lag[mask]) * (w_lag[i][mask] * np.exp(-alpha1 * dist[i][mask])) * sI1_lag[mask] * dist[i][mask])\n",
    "                d_alpha2_i = -gamma2 * tI2[i] * np.sum((a_lag[mask] * (y_lag[mask] / n_lag[mask])) * np.exp(-eta22 * s_lag[mask]) * (w_lag[i][mask] * np.exp(-alpha2 * dist[i][mask])) * sI2[mask] * dist[i][mask])\n",
    "\n",
    "                d_eta21_i = -gamma1 * tI1[i] * np.sum((a_lag[mask] * (y_lag[mask] / n_lag[mask])) * np.exp(-eta21 * s_lag[mask]) * (w_lag[i][mask] * np.exp(-alpha1 * dist[i][mask])) * sI1_lag[mask] * s_lag[mask])\n",
    "                d_eta22_i = -gamma2 * tI2[i] * np.sum((a_lag[mask] * (y_lag[mask] / n_lag[mask])) * np.exp(-eta22 * s_lag[mask]) * (w_lag[i][mask] * np.exp(-alpha2 * dist[i][mask])) * sI2[mask] * s_lag[mask])\n",
    "                \n",
    "                d_gamma1.append(d_gamma1_i)\n",
    "                d_gamma2.append(d_gamma2_i)\n",
    "                d_alpha1.append(d_alpha1_i)\n",
    "                d_alpha2.append(d_alpha2_i)\n",
    "                d_eta21.append(d_eta21_i)\n",
    "                d_eta22.append(d_eta22_i)\n",
    "            \n",
    "            d_gamma1 = np.array(d_gamma1).reshape(N,1)\n",
    "            d_gamma2 = np.array(d_gamma2).reshape(N,1)\n",
    "            d_alpha1 = np.array(d_alpha1).reshape(N,1)\n",
    "            d_alpha2 = np.array(d_alpha2).reshape(N,1)\n",
    "            d_eta21 = np.array(d_eta21).reshape(N,1)\n",
    "            d_eta22 = np.array(d_eta22).reshape(N,1)\n",
    "                \n",
    "\n",
    "            grad_entries = np.array([[d_beta1*d_beta1, d_beta2*d_beta1, d_delta1*d_beta1, d_delta2*d_beta1, d_gamma1*d_beta1, d_gamma2*d_beta1, d_alpha1*d_beta1, d_alpha2*d_beta1, d_eta11*d_beta1, d_eta12*d_beta1, d_eta21*d_beta1, d_eta22*d_beta1],\n",
    "                                    [d_beta1*d_beta2, d_beta2*d_beta2, d_delta1*d_beta2, d_delta2*d_beta2, d_gamma1*d_beta2, d_gamma2*d_beta2, d_alpha1*d_beta2, d_alpha2*d_beta2, d_eta11*d_beta2, d_eta12*d_beta2, d_eta21*d_beta2, d_eta22*d_beta2],\n",
    "                                    [d_beta1*d_delta1, d_beta2*d_delta1, d_delta1*d_delta1, d_delta2*d_delta1, d_gamma1*d_delta1, d_gamma2*d_delta1, d_alpha1*d_delta1, d_alpha2*d_delta1, d_eta11*d_delta1, d_eta12*d_delta1, d_eta21*d_delta1, d_eta22*d_delta1],\n",
    "                                    [d_beta1*d_delta2, d_beta2*d_delta2, d_delta1*d_delta2, d_delta2*d_delta2, d_gamma1*d_delta2, d_gamma2*d_delta2, d_alpha1*d_delta2, d_alpha2*d_delta2, d_eta11*d_delta2, d_eta12*d_delta2, d_eta21*d_delta2, d_eta22*d_delta2],\n",
    "                                    [d_beta1*d_gamma1, d_beta2*d_gamma1, d_delta1*d_gamma1, d_delta2*d_gamma1, d_gamma1*d_gamma1, d_gamma2*d_gamma1, d_alpha1*d_gamma1, d_alpha2*d_gamma1, d_eta11*d_gamma1, d_eta12*d_gamma1, d_eta21*d_gamma1, d_eta22*d_gamma1],\n",
    "                                    [d_beta1*d_gamma2, d_beta2*d_gamma2, d_delta1*d_gamma2, d_delta2*d_gamma2, d_gamma1*d_gamma2, d_gamma2*d_gamma2, d_alpha1*d_gamma2, d_alpha2*d_gamma2, d_eta11*d_gamma2, d_eta12*d_gamma2, d_eta21*d_gamma2, d_eta22*d_gamma2],\n",
    "                                    [d_beta1*d_alpha1, d_beta2*d_alpha1, d_delta1*d_alpha1, d_delta2*d_alpha1, d_gamma1*d_alpha1, d_gamma2*d_alpha1, d_alpha1*d_alpha1, d_alpha2*d_alpha1, d_eta11*d_alpha1, d_eta12*d_alpha1, d_eta21*d_alpha1, d_eta22*d_alpha1],\n",
    "                                    [d_beta1*d_alpha2, d_beta2*d_alpha2, d_delta1*d_alpha2, d_delta2*d_alpha2, d_gamma1*d_alpha2, d_gamma2*d_alpha2, d_alpha1*d_alpha2, d_alpha2*d_alpha2, d_eta11*d_alpha2, d_eta12*d_alpha2, d_eta21*d_alpha2, d_eta22*d_alpha2],\n",
    "                                    [d_beta1*d_eta11, d_beta2*d_eta11, d_delta1*d_eta11, d_delta2*d_eta11, d_gamma1*d_eta11, d_gamma2*d_eta11, d_alpha1*d_eta11, d_alpha2*d_eta11, d_eta11*d_eta11, d_eta12*d_eta11, d_eta21*d_eta11, d_eta22*d_eta11],\n",
    "                                    [d_beta1*d_eta12, d_beta2*d_eta12, d_delta1*d_eta12, d_delta2*d_eta12, d_gamma1*d_eta12, d_gamma2*d_eta12, d_alpha1*d_eta12, d_alpha2*d_eta12, d_eta11*d_eta12, d_eta12*d_eta12, d_eta21*d_eta12, d_eta22*d_eta12],\n",
    "                                    [d_beta1*d_eta21, d_beta2*d_eta21, d_delta1*d_eta21, d_delta2*d_eta21, d_gamma1*d_eta21, d_gamma2*d_eta21, d_alpha1*d_eta21, d_alpha2*d_eta21, d_eta11*d_eta21, d_eta12*d_eta21, d_eta21*d_eta21, d_eta22*d_eta21],\n",
    "                                    [d_beta1*d_eta22, d_beta2*d_eta22, d_delta1*d_eta22, d_delta2*d_eta22, d_gamma1*d_eta22, d_gamma2*d_eta22, d_alpha1*d_eta22, d_alpha2*d_eta22, d_eta11*d_eta22, d_eta12*d_eta22, d_eta21*d_eta22, d_eta22*d_eta22]])\n",
    "            \n",
    "            \n",
    "            \n",
    "            return grad_entries\n",
    "\n",
    "        def partial_sq(theta):\n",
    "            \n",
    "            beta1, beta2, delta1, delta2, gamma1, gamma2, alpha1, alpha2, eta11, eta12, eta21, eta22 = theta\n",
    "            \n",
    "            # delta1 second derivatives\n",
    "            \n",
    "            d_delta1_d_eta11 = -tI1 * (y_lag / n_lag) * np.exp(-eta11 * s_lag) * s_lag\n",
    "            d_delta1_d_eta12 = 0\n",
    "            d_delta2_d_eta11 = 0\n",
    "            d_delta2_d_eta12 = -tI2 * (y_lag / n_lag) * np.exp(-eta12 * s_lag) * s_lag\n",
    "            d_gamma1_d_eta22 = 0\n",
    "            d_gamma1_d_alpha2 = 0\n",
    "            d_gamma2_d_eta21 = 0\n",
    "            d_gamma2_d_alpha1 = 0\n",
    "            d_alpha1_d_gamma2 = 0\n",
    "            d_alpha1_d_eta22 = 0\n",
    "            d_alpha1_d_alpha2 = 0\n",
    "            d_alpha2_d_gamma1 = 0\n",
    "            d_alpha2_d_eta21 = 0\n",
    "            d_alpha2_d_alpha1 = 0\n",
    "            d_eta11_d_delta1 = -tI1 * s_lag * (y_lag / n_lag) * np.exp(-eta11 * s_lag)\n",
    "            d_eta11_d_delta2 = 0\n",
    "            d_eta11_d_eta11 = tI1 * delta1 * (s_lag**2) * (y_lag / n_lag) * np.exp(-eta11 * s_lag)\n",
    "            d_eta11_d_eta12 = 0\n",
    "            d_eta12_d_delta1 = 0\n",
    "            d_eta12_d_delta2 = -tI2 * s_lag * (y_lag / n_lag) * np.exp(-eta12 * s_lag)\n",
    "            d_eta12_d_eta11 = 0\n",
    "            d_eta12_d_eta12 = tI2 * delta2 * (s_lag**2) * (y_lag / n_lag) * np.exp(-eta12 * s_lag)\n",
    "            d_eta21_d_gamma2 = 0\n",
    "            d_eta21_d_eta22 = 0\n",
    "            d_eta21_d_alpha2 = 0\n",
    "            d_eta22_d_gamma1 = 0\n",
    "            d_eta22_d_eta21 = 0\n",
    "            d_eta22_d_alpha1 = 0\n",
    "            \n",
    "            # summations\n",
    "            \n",
    "            d_gamma1_d_eta21 = []\n",
    "            d_gamma1_d_alpha1 = []\n",
    "            d_gamma2_d_eta22 = []\n",
    "            d_gamma2_d_alpha2 = []\n",
    "            d_alpha1_d_gamma1 = []\n",
    "            d_alpha1_d_eta21 = []\n",
    "            d_alpha1_d_alpha1 = []\n",
    "            d_alpha2_d_gamma2 = []\n",
    "            d_alpha2_d_eta22 = []\n",
    "            d_alpha2_d_alpha2 = []\n",
    "            d_eta21_d_gamma1 = []\n",
    "            d_eta21_d_eta21 = []\n",
    "            d_eta21_d_alpha1 = []\n",
    "            d_eta22_d_gamma2 = []\n",
    "            d_eta22_d_eta22 = []\n",
    "            d_eta22_d_alpha2 = []\n",
    "            \n",
    "            \n",
    "            for i in range(0, N):\n",
    "                \n",
    "                mask = np.arange(N) != i # mask out the current yard i\n",
    "                \n",
    "                d_gamma1_d_eta21_i = -tI1[i] * np.sum((a_lag[mask] * (y_lag[mask] / n_lag[mask])) * np.exp(-eta21 * s_lag[mask]) * (w_lag[i][mask] * np.exp(-alpha1 * dist[i][mask])) * sI1_lag[mask] * s_lag[mask])\n",
    "                d_gamma1_d_alpha1_i = -tI1[i] * np.sum((a_lag[mask] * (y_lag[mask] / n_lag[mask])) * np.exp(-eta21 * s_lag[mask]) * (w_lag[i][mask] * np.exp(-alpha1 * dist[i][mask])) * sI1_lag[mask] * dist[i][mask])\n",
    "                d_gamma2_d_eta22_i = -tI2[i] * np.sum((a_lag[mask] * (y_lag[mask] / n_lag[mask])) * np.exp(-eta22 * s_lag[mask]) * (w_lag[i][mask] * np.exp(-alpha2 * dist[i][mask])) * sI2[mask] * s_lag[mask])\n",
    "                d_gamma2_d_alpha2_i = -tI2[i] * np.sum((a_lag[mask] * (y_lag[mask] / n_lag[mask])) * np.exp(-eta22 * s_lag[mask]) * (w_lag[i][mask] * np.exp(-alpha2 * dist[i][mask])) * sI2[mask] * dist[i][mask])\n",
    "                d_alpha1_d_gamma1_i = -tI1[i] * np.sum((a_lag[mask] * (y_lag[mask] / n_lag[mask])) * np.exp(-eta21 * s_lag[mask]) * (w_lag[i][mask] * np.exp(-alpha1 * dist[i][mask])) * sI1_lag[mask] * dist[i][mask])\n",
    "                d_alpha1_d_eta21_i = gamma1 * tI1[i] * np.sum((a_lag[mask] * (y_lag[mask] / n_lag[mask])) * np.exp(-eta21 * s_lag[mask]) * (w_lag[i][mask] * np.exp(-alpha1 * dist[i][mask])) * sI1_lag[mask] * dist[i][mask] * s_lag[mask])\n",
    "                d_alpha1_d_alpha1_i = gamma1 * tI1[i] * np.sum((a_lag[mask] * (y_lag[mask] / n_lag[mask])) * np.exp(-eta21 * s_lag[mask]) * (w_lag[i][mask] * np.exp(-alpha1 * dist[i][mask])) * sI1_lag[mask] * (dist[i][mask])**2)\n",
    "                d_alpha2_d_gamma2_i = -tI2[i] * np.sum((a_lag[mask] * (y_lag[mask] / n_lag[mask])) * np.exp(-eta22 * s_lag[mask]) * (w_lag[i][mask] * np.exp(-alpha2 * dist[i][mask])) * sI2[mask] * dist[i][mask])\n",
    "                d_alpha2_d_eta22_i = gamma2 * tI2[i] * np.sum((a_lag[mask] * (y_lag[mask] / n_lag[mask])) * np.exp(-eta22 * s_lag[mask]) * (w_lag[i][mask] * np.exp(-alpha2 * dist[i][mask])) * sI2[mask] * dist[i][mask] * s_lag[mask])\n",
    "                d_alpha2_d_alpha2_i = gamma2 * tI2[i] * np.sum((a_lag[mask] * (y_lag[mask] / n_lag[mask])) * np.exp(-eta22 * s_lag[mask]) * (w_lag[i][mask] * np.exp(-alpha2 * dist[i][mask])) * sI2[mask] * (dist[i][mask])**2)\n",
    "                d_eta21_d_gamma1_i = -tI1[i] * np.sum((a_lag[mask] * (y_lag[mask] / n_lag[mask])) * np.exp(-eta21 * s_lag[mask]) * (w_lag[i][mask] * np.exp(-alpha1 * dist[i][mask])) * sI1_lag[mask] * s_lag[mask])\n",
    "                d_eta21_d_eta21_i = gamma1 * tI1[i] * np.sum((a_lag[mask] * (y_lag[mask] / n_lag[mask])) * np.exp(-eta21 * s_lag[mask]) * (w_lag[i][mask] * np.exp(-alpha1 * dist[i][mask])) * sI1_lag[mask] * (s_lag[mask]**2))\n",
    "                d_eta21_d_alpha1_i = gamma1 * tI1[i] * np.sum((a_lag[mask] * (y_lag[mask] / n_lag[mask])) * np.exp(-eta21 * s_lag[mask]) * (w_lag[i][mask] * np.exp(-alpha1 * dist[i][mask])) * sI1_lag[mask] * s_lag[mask] * (dist[i][mask]))\n",
    "                d_eta22_d_gamma2_i = -tI2[i] * np.sum((a_lag[mask] * (y_lag[mask] / n_lag[mask])) * np.exp(-eta22 * s_lag[mask]) * (w_lag[i][mask] * np.exp(-alpha2 * dist[i][mask])) * sI2[mask] * s_lag[mask])\n",
    "                d_eta22_d_eta22_i = gamma2 * tI2[i] * np.sum((a_lag[mask] * (y_lag[mask] / n_lag[mask])) * np.exp(-eta22 * s_lag[mask]) * (w_lag[i][mask] * np.exp(-alpha2 * dist[i][mask])) * sI2[mask] * (s_lag[mask]**2))\n",
    "                d_eta22_d_alpha2_i = gamma2 * tI2[i] * np.sum((a_lag[mask] * (y_lag[mask] / n_lag[mask])) * np.exp(-eta22 * s_lag[mask]) * (w_lag[i][mask] * np.exp(-alpha2 * dist[i][mask])) * sI2[mask] * s_lag[mask] * (dist[i][mask]))\n",
    "\n",
    "                d_gamma1_d_eta21.append(d_gamma1_d_eta21_i)\n",
    "                d_gamma1_d_alpha1.append(d_gamma1_d_alpha1_i)\n",
    "                d_gamma2_d_eta22.append(d_gamma2_d_eta22_i)\n",
    "                d_gamma2_d_alpha2.append(d_gamma2_d_alpha2_i)\n",
    "                d_alpha1_d_gamma1.append(d_alpha1_d_gamma1_i)\n",
    "                d_alpha1_d_eta21.append(d_alpha1_d_eta21_i)\n",
    "                d_alpha1_d_alpha1.append(d_alpha1_d_alpha1_i)\n",
    "                d_alpha2_d_gamma2.append(d_alpha2_d_gamma2_i)\n",
    "                d_alpha2_d_eta22.append(d_alpha2_d_eta22_i)\n",
    "                d_alpha2_d_alpha2.append(d_alpha2_d_alpha2_i)\n",
    "                d_eta21_d_gamma1.append(d_eta21_d_gamma1_i)\n",
    "                d_eta21_d_eta21.append(d_eta21_d_eta21_i)\n",
    "                d_eta21_d_alpha1.append(d_eta21_d_alpha1_i)\n",
    "                d_eta22_d_gamma2.append(d_eta22_d_gamma2_i)\n",
    "                d_eta22_d_eta22.append(d_eta22_d_eta22_i)\n",
    "                d_eta22_d_alpha2.append(d_eta22_d_alpha2_i)\n",
    "                \n",
    "            d_gamma1_d_eta21 = np.array(d_gamma1_d_eta21).reshape((N, 1))\n",
    "            d_gamma1_d_alpha1 = np.array(d_gamma1_d_alpha1).reshape((N, 1))\n",
    "            d_gamma2_d_eta22 = np.array(d_gamma2_d_eta22).reshape((N, 1))\n",
    "            d_gamma2_d_alpha2 = np.array(d_gamma2_d_alpha2).reshape((N, 1))\n",
    "            d_alpha1_d_gamma1 = np.array(d_alpha1_d_gamma1).reshape((N, 1))\n",
    "            d_alpha1_d_eta21 = np.array(d_alpha1_d_eta21).reshape((N, 1))\n",
    "            d_alpha1_d_alpha1 = np.array(d_alpha1_d_alpha1).reshape((N, 1))\n",
    "            d_alpha2_d_gamma2 = np.array(d_alpha2_d_gamma2).reshape((N, 1))\n",
    "            d_alpha2_d_eta22 = np.array(d_alpha2_d_eta22).reshape((N, 1))\n",
    "            d_alpha2_d_alpha2 = np.array(d_alpha2_d_alpha2).reshape((N, 1))\n",
    "            d_eta21_d_gamma1 = np.array(d_eta21_d_gamma1).reshape((N, 1))\n",
    "            d_eta21_d_eta21 = np.array(d_eta21_d_eta21).reshape((N, 1))\n",
    "            d_eta21_d_alpha1 = np.array(d_eta21_d_alpha1).reshape((N, 1))\n",
    "            d_eta22_d_gamma2 = np.array(d_eta22_d_gamma2).reshape((N, 1))\n",
    "            d_eta22_d_eta22 = np.array(d_eta22_d_eta22).reshape((N, 1))\n",
    "            d_eta22_d_alpha2 = np.array(d_eta22_d_alpha2).reshape((N, 1))\n",
    "                \n",
    "                \n",
    "            \n",
    "            zero = np.zeros((N, 1))\n",
    "            \n",
    "            hess_entries = np.array([[zero, zero, zero, zero, zero, zero, zero, zero, zero, zero, zero, zero],    #d_beta1\n",
    "                                    [zero, zero, zero, zero, zero, zero, zero, zero, zero, zero, zero, zero],    #d_beta2\n",
    "                                    [zero, zero, zero, zero, zero, zero, zero, zero, d_eta11_d_delta1, zero, zero, zero],    #d_delta1\n",
    "                                    [zero, zero, zero, zero, zero, zero, zero, zero, zero, d_eta12_d_delta2, zero, zero],    #d_delta2\n",
    "                                    [zero, zero, zero, zero, zero, zero, d_alpha1_d_gamma1, zero, zero, zero, d_eta21_d_gamma1, zero],    #d_gamma1\n",
    "                                    [zero, zero, zero, zero, zero, zero, zero, d_alpha2_d_gamma2, zero, zero, zero, d_eta22_d_gamma2],    #d_gamma2\n",
    "                                    [zero, zero, zero, zero, d_gamma1_d_alpha1, zero, d_alpha1_d_alpha1, zero, zero, zero, d_eta21_d_alpha1, zero],    #d_alpha1\n",
    "                                    [zero, zero, zero, zero, zero, d_gamma2_d_alpha2, zero, d_alpha2_d_alpha2, zero, zero, zero, d_eta22_d_alpha2],    #d_alpha2\n",
    "                                    [zero, zero, d_delta1_d_eta11, zero, zero, zero, zero, zero, d_eta11_d_eta11, zero, zero, zero],    #d_eta11\n",
    "                                    [zero, zero, zero, d_delta2_d_eta12, zero, zero, zero, zero, zero, d_eta12_d_eta12, zero, zero],    #d_eta12\n",
    "                                    [zero, zero, zero, zero, d_gamma1_d_eta21, zero, d_alpha1_d_eta21, zero, zero, zero, d_eta21_d_eta21, zero],    #d_eta21\n",
    "                                    [zero, zero, zero, zero, zero, d_gamma2_d_eta22, zero, d_alpha2_d_eta22, zero, zero, zero, d_eta22_d_eta22]])   #d_eta22\n",
    "            \n",
    "            \n",
    "            return hess_entries\n",
    "\n",
    "\n",
    "\n",
    "        # Gradient entries\n",
    "        def gradient(theta):\n",
    "            \n",
    "            mu = y - (n / (1 + np.exp(-eta(theta))))\n",
    "            \n",
    "            # Gradient \n",
    "            gradient = - (1 / N) * np.sum((partial(theta) * mu), axis=1)\n",
    "            \n",
    "            return gradient\n",
    "\n",
    "\n",
    "        # Hessian\n",
    "        def hessian(theta):\n",
    "            \n",
    "            mu = y - (n / (1 + np.exp(-eta(theta))))\n",
    "            \n",
    "            # Hessian entries\n",
    "            hessian = - (1 / N) * np.sum((partial_sq(theta) * mu - n * (partial_by_partial(theta)) * (np.exp(-eta(theta)) / (1 + np.exp(-eta(theta)))**2)), axis=2)\n",
    "            hessian = hessian.reshape((12, 12))\n",
    "            \n",
    "            return hessian\n",
    "        \n",
    "        \n",
    "        # Adam optimizer\n",
    "        def adam(theta, alpha, num_iters, tolerance, b_1=0.9, b_2=0.999, eps=1e-8):\n",
    "\n",
    "            # Make a copy of theta, to avoid changing the original array, since numpy arrays are passed by reference to functions\n",
    "            theta = theta.copy()\n",
    "            \n",
    "            # Use a python list to save cost in every iteration\n",
    "            J_history = []\n",
    "            \n",
    "            m = np.zeros(theta.shape)\n",
    "            v = np.zeros(theta.shape)\n",
    "            \n",
    "            for i in range(num_iters):\n",
    "                \n",
    "                # Gradient\n",
    "                g = gradient(theta)\n",
    "\n",
    "                # First moment\n",
    "                m = b_1 * m + (1 - b_1) * g\n",
    "\n",
    "                # Second moment\n",
    "                v = b_2 * v + (1 - b_2) * g**2\n",
    "\n",
    "                # Bias correction for the first and second moments\n",
    "\n",
    "                mhat = m / (1 - b_1**(i+1))\n",
    "\n",
    "                vhat = v / (1 - b_2**(i+1))\n",
    "                \n",
    "                change = alpha * mhat / (np.sqrt(vhat) + eps)\n",
    "                \n",
    "                # Update parameter theta\n",
    "                theta = theta - change\n",
    "                \n",
    "                # save the cost J in every iteration\n",
    "                J_history.append(costFunction(theta))\n",
    "                # report progress\n",
    "                \n",
    "                print('Year: ', year, 'Period: ', period, '#', i , 'cost: ', costFunction(theta), 'MaxGrad: ', np.max(np.abs(gradient(theta))), end='\\r')\n",
    "                #print('#', i , 'cost: ', costFunction(theta), 'MaxGrad: ', np.max(np.abs(gradient(theta))), 'MinEig: ', np.min(np.linalg.eigh(hessian(theta), UPLO='L')[0]), end='\\r')\n",
    "                \n",
    "                if (np.max(np.abs(gradient(theta))) <= tolerance) & (np.min(np.linalg.eigh(hessian(theta), UPLO='L')[0]) > 0):\n",
    "                   break\n",
    "                \n",
    "                #if (np.max(np.abs(gradient(theta))) <= tolerance):\n",
    "                #    break\n",
    "                \n",
    "            return theta, J_history\n",
    "\n",
    "            \n",
    "        # Initialize fitting parameters\n",
    "\n",
    "        # Xavier initialization for theta\n",
    "        #theta = np.random.normal(0, 1 / np.sqrt(N), size=(12, 1))\n",
    "\n",
    "        # Use below theta to continue from checkpoint\n",
    "        #checkpoint = np.load('../reports/apr_may_2014.npy', allow_pickle=True)\n",
    "        \n",
    "        if year == 2014:\n",
    "        \n",
    "            alpha = 0.05\n",
    "            tolerance = 1e-5\n",
    "            theta = np.random.normal(0, 1 / np.sqrt(N), size=(12, 1))\n",
    "        \n",
    "        if year == 2015:\n",
    "            \n",
    "            alpha = 0.05\n",
    "            tolerance = 1e-5\n",
    "            theta = np.random.normal(0, 1 / np.sqrt(N), size=(12, 1))\n",
    "        \n",
    "        elif year == 2016:\n",
    "        \n",
    "            alpha = 0.05\n",
    "            tolerance = 1e-5\n",
    "            theta = np.random.normal(0, 1 / np.sqrt(N), size=(12, 1))\n",
    "        \n",
    "        elif year == 2017:\n",
    "            \n",
    "            alpha = 0.05\n",
    "            tolerance = 1e-5\n",
    "            theta = np.random.normal(0, 1 / np.sqrt(N), size=(12, 1))\n",
    "            \n",
    "        #theta = np.load('../reports/theta2.npy')\n",
    "\n",
    "        # Gradient descent settings\n",
    "        iterations = 500000\n",
    "\n",
    "        theta, J_history = adam(theta, alpha, iterations, tolerance)\n",
    "\n",
    "        #print('iteration start:\\t{:.3f}'.format(np.int32(checkpoint[1])))\n",
    "        #print('previous final cost:\\t{:.3f}'.format(checkpoint[2]))\n",
    "        #print('updated final cost:\\t{:.3f}'.format(J_history[-1]))\n",
    "        #print('theta: \\n', theta)\n",
    "\n",
    "        #plt.plot(list(range(1, len(J_history) + 1)), J_history)\n",
    "        #plt.xlabel('iterations')\n",
    "        #plt.ylabel('cost')\n",
    "        \n",
    "        \n",
    "        #plt.show()\n",
    "\n",
    "        # Save trained parameters\n",
    "\n",
    "        #iterations += checkpoint[1]\n",
    "        checkpoint = np.array([theta, iterations, J_history], dtype=object)\n",
    "        \n",
    "        theta_list.append(theta)\n",
    "        checkpoint_list.append(checkpoint)\n",
    "\n",
    "        if (year == 2014) & (period == 'may-jun'):\n",
    "            \n",
    "            np.save('../reports/parameters/theta_may-jun_2014.npy', theta)\n",
    "            np.save('../reports/parameters/checkpoints/mle_checkpoint_may-jun_2014.npy', checkpoint)\n",
    "        \n",
    "        elif (year == 2014) & (period == 'jun-jul'):\n",
    "            \n",
    "            np.save('../reports/parameters/theta_jun-jul_2014.npy', theta)\n",
    "            np.save('../reports/parameters/checkpoints/mle_checkpoint_jun-jul_2014.npy', checkpoint)\n",
    "            \n",
    "        elif (year == 2015) & (period == 'may-jun'):\n",
    "            \n",
    "            np.save('../reports/parameters/theta_may-jun_2015.npy', theta)\n",
    "            np.save('../reports/parameters/checkpoints/mle_checkpoint_may-jun_2015.npy', checkpoint)\n",
    "            \n",
    "        elif (year == 2015) & (period == 'jun-jul'):\n",
    "            \n",
    "            np.save('../reports/parameters/theta_jun-jul_2015.npy', theta)\n",
    "            np.save('../reports/parameters/checkpoints/mle_checkpoint_jun-jul_2015.npy', checkpoint)\n",
    "            \n",
    "        elif (year == 2016) & (period == 'may-jun'):\n",
    "            \n",
    "            np.save('../reports/parameters/theta_may-jun_2016.npy', theta)\n",
    "            np.save('../reports/parameters/checkpoints/mle_checkpoint_may-jun_2016.npy', checkpoint)\n",
    "            \n",
    "        elif (year == 2016) & (period == 'jun-jul'):\n",
    "            \n",
    "            np.save('../reports/parameters/theta_jun-jul_2016.npy', theta)\n",
    "            np.save('../reports/parameters/checkpoints/mle_checkpoint_jun-jul_2016.npy', checkpoint)\n",
    "            \n",
    "        elif (year == 2017) & (period == 'may-jun'):\n",
    "            \n",
    "            np.save('../reports/parameters/theta_may-jun_2017.npy', theta)\n",
    "            np.save('../reports/parameters/checkpoints/mle_checkpoint_may-jun_2017.npy', checkpoint)\n",
    "            \n",
    "        elif (year == 2017) & (period == 'jun-jul'):\n",
    "            \n",
    "            np.save('../reports/parameters/theta_jun-jul_2017.npy', theta)\n",
    "            np.save('../reports/parameters/checkpoints/mle_checkpoint_jun-jul_2017.npy', checkpoint)"
   ]
  },
  {
   "cell_type": "code",
   "execution_count": 2,
   "metadata": {},
   "outputs": [
    {
     "data": {
      "text/plain": [
       "array([[1.7646738 ],\n",
       "       [1.73930528],\n",
       "       [1.65473584],\n",
       "       [1.93139259],\n",
       "       [1.76540799],\n",
       "       [1.3986976 ],\n",
       "       [1.95839705],\n",
       "       [1.70651168],\n",
       "       [1.56203277],\n",
       "       [1.66852604],\n",
       "       [1.3919614 ],\n",
       "       [1.50186376],\n",
       "       [1.50950726],\n",
       "       [1.59721265],\n",
       "       [1.51706027],\n",
       "       [1.90305011],\n",
       "       [1.70262588],\n",
       "       [1.29258475],\n",
       "       [1.2444953 ],\n",
       "       [1.29722595],\n",
       "       [1.80194574],\n",
       "       [1.86557007],\n",
       "       [0.        ],\n",
       "       [1.41130468],\n",
       "       [1.29627529],\n",
       "       [1.30713256],\n",
       "       [1.29474232],\n",
       "       [1.44411438],\n",
       "       [1.30292913],\n",
       "       [1.09135457],\n",
       "       [1.16295066],\n",
       "       [1.41997235],\n",
       "       [1.47081181],\n",
       "       [1.08635915],\n",
       "       [1.00160987],\n",
       "       [1.23699059],\n",
       "       [1.21950372],\n",
       "       [1.25817482],\n",
       "       [1.02375102],\n",
       "       [1.14058573],\n",
       "       [1.12598965],\n",
       "       [1.09155294],\n",
       "       [1.04883961],\n",
       "       [1.52459476],\n",
       "       [1.52865701],\n",
       "       [1.6136544 ],\n",
       "       [0.        ],\n",
       "       [1.65269308],\n",
       "       [1.7499783 ],\n",
       "       [1.15753514],\n",
       "       [1.19072757],\n",
       "       [1.39022172],\n",
       "       [1.24369669],\n",
       "       [1.12654912],\n",
       "       [1.09304242],\n",
       "       [1.32098313],\n",
       "       [1.14824374],\n",
       "       [1.33415769],\n",
       "       [1.14590623],\n",
       "       [1.28115098],\n",
       "       [1.10914504],\n",
       "       [1.33963024],\n",
       "       [1.15730309],\n",
       "       [1.28518183],\n",
       "       [1.52669589],\n",
       "       [1.59025017],\n",
       "       [1.39181161],\n",
       "       [0.        ],\n",
       "       [1.75156864],\n",
       "       [1.92855252],\n",
       "       [1.60402379],\n",
       "       [1.81070008],\n",
       "       [1.76380182],\n",
       "       [1.43010689],\n",
       "       [1.73388671],\n",
       "       [1.71623595],\n",
       "       [1.81130786],\n",
       "       [2.19346779],\n",
       "       [2.13388866],\n",
       "       [1.92920763],\n",
       "       [1.52834813],\n",
       "       [0.        ],\n",
       "       [2.02244689],\n",
       "       [2.25591195],\n",
       "       [1.99268662],\n",
       "       [1.99369412],\n",
       "       [1.9883152 ],\n",
       "       [1.26729154],\n",
       "       [1.17532376],\n",
       "       [0.        ],\n",
       "       [1.43085494],\n",
       "       [1.38244844],\n",
       "       [1.63002455],\n",
       "       [1.63913073],\n",
       "       [1.71955087],\n",
       "       [1.22005327],\n",
       "       [1.3811988 ],\n",
       "       [1.4042122 ],\n",
       "       [1.34553783],\n",
       "       [1.41207884],\n",
       "       [1.46245194],\n",
       "       [1.31002331],\n",
       "       [1.55566023],\n",
       "       [1.3053417 ]])"
      ]
     },
     "execution_count": 2,
     "metadata": {},
     "output_type": "execute_result"
    }
   ],
   "source": [
    "eta([1,1,1,1,1,1,1,1,1,1,1,1])"
   ]
  },
  {
   "cell_type": "markdown",
   "metadata": {},
   "source": [
    "## Function\n",
    "\n",
    "$$\n",
    "\\eta_{i}=\\sum_{k=1}^{K} I_{k}^{(t)}(i)\\left[\\beta_{k}+\\delta_{k}\\left(\\frac{\\tilde{y}_{i}}{n_{\\tilde{y}_{i}}} \\exp{\\left(-\\eta_{1k} s_{i}\\right)}\\right)+\\gamma_{k} \\sum_{j=1}^{M_{i}}\\left(\\frac{a_{j} z_{j}}{n_{z_{j}}} \\exp{\\left(-\\eta_{2k} s_{j}\\right)} w_{i j} \\exp{\\left(-\\alpha_{k} d_{i j}\\right)} I_{k}^{(s)}(j)\\right)\\right]\n",
    "$$"
   ]
  },
  {
   "cell_type": "markdown",
   "metadata": {},
   "source": [
    "## Derivatives\n",
    "\n",
    "$$\n",
    "\\begin{align*}\n",
    "\\frac{\\partial \\eta_{i}}{\\partial \\beta_{k}} &= I_{k}^{(t)}(i) \\\\\n",
    "\n",
    "\\frac{\\partial \\eta_{i}}{\\partial \\delta_{k}} &= I_{k}^{(t)}(i)\\left(\\frac{\\tilde{y}_{i}}{n_{\\tilde{y}_{i}}}\\right) \\exp \\left(-\\eta_{1 k} s_{i}\\right) \\\\\n",
    "\n",
    "\\frac{\\partial \\eta_{i}}{\\partial \\eta_{1 k}} &= -I_{k}^{(t)}(i) \\delta_{k} s_{i}\\left(\\frac{\\tilde{y}_{i}}{n_{\\tilde{y}_{i}}}\\right) \\exp \\left(-\\eta_{1 k} s_{i}\\right) \\\\\n",
    "\n",
    "\\frac{\\partial \\eta_{i}}{\\partial \\eta_{2 k}} &= -\\gamma_{k} I_{k}^{(t)}(i) \\sum_{j=1}^{M_{i}}\\left[\\left(\\frac{a_{j} z_{j}}{n_{z j}}\\right) \\exp \\left(-\\eta_{2 k} s_{j}\\right) w_{i j} \\exp \\left(-\\alpha_{k} d_{i j}\\right) I_{k}^{(s)}(j) s_{j}\\right] \\\\\n",
    "\n",
    "\\frac{\\partial \\eta_{i}}{\\partial \\gamma_{k}} &= I_{k}^{(t)}(i) \\sum_{j=1}^{M_{i}}\\left[\\left(\\frac{a_{j} z_{j}}{n_{z_{j}}}\\right) \\exp \\left(-\\eta_{2 k} s_{j}\\right) w_{i j} \\exp \\left(-\\alpha_{k} d_{i j}\\right) I_{k}^{(s)}(j)\\right] \\\\\n",
    "\n",
    "\\frac{\\partial \\eta_{i}}{\\partial \\alpha_{k}} &= -\\gamma_{k} I_{k}^{(t)}(i) \\sum_{j=1}^{M_{i}}\\left[\\left(\\frac{a_{j} z_{j}}{n_{z_{j}}}\\right) \\exp \\left(-\\eta_{2 k} s_{j}\\right) w_{i j} \\exp \\left(-\\alpha_{k} d_{i j}\\right) I_{k}^{(s)}(j) d_{i j}\\right]\n",
    "\\end{align*}\n",
    "$$"
   ]
  },
  {
   "cell_type": "markdown",
   "metadata": {},
   "source": [
    "### Cost Function\n",
    "\n",
    "$$J(\\theta) = \n",
    "-\\frac{1}{N} \\sum_{i=1}^{N} y_{i} \\eta_{i}-n_{i} \\log \\left(1+e^{\\eta_{i}}\\right)\n",
    "$$"
   ]
  },
  {
   "cell_type": "markdown",
   "metadata": {},
   "source": [
    "### Gradient\n",
    "\n",
    "$$\\frac{\\partial J}{\\partial \\theta} =\n",
    "-\\frac{1}{N}\\sum_{i=1}^{N} \\frac{\\partial \\eta_{i}}{\\partial \\theta}\\left(y_{i}-\\frac{n_{i}}{1+e^{-\\eta_{i}}}\\right)\n",
    "$$\n",
    "\n",
    "\n",
    "### Hessian\n",
    "\n",
    "$$\\frac{\\partial^2 J}{\\partial \\theta^2} = -\\frac{1}{N}\n",
    "\\sum_{i=1}^{N}\\left[\\frac{\\partial^{2} \\eta_{i}}{\\partial \\theta^{2}}\\left(y_{i}-\\frac{n_{i}}{1+e^{-\\eta_{i}}}\\right)- n_{i} \\left(\\frac{\\partial \\eta_{i}}{\\partial \\theta}\\right)^{2}\\frac{e^{-\\eta_{i}}}{\\left(1+e^{-\\eta_{i}}\\right)^2}\\right]\n",
    "$$"
   ]
  },
  {
   "cell_type": "markdown",
   "metadata": {},
   "source": [
    "## Optimization"
   ]
  },
  {
   "cell_type": "code",
   "execution_count": 50,
   "metadata": {},
   "outputs": [],
   "source": [
    "#checkpoint = np.array([theta, iterations, J_history], dtype=object)\n",
    "#np.save('../reports/checkpoint_June_July2_backup.npy', checkpoint)"
   ]
  },
  {
   "cell_type": "code",
   "execution_count": 45,
   "metadata": {},
   "outputs": [],
   "source": [
    "checkpoint = np.load('../reports/checkpoint_June_July2.npy', allow_pickle=True)\n",
    "theta = checkpoint[0]"
   ]
  },
  {
   "cell_type": "code",
   "execution_count": 7,
   "metadata": {},
   "outputs": [
    {
     "data": {
      "text/plain": [
       "array([[-1.52503676],\n",
       "       [-3.72457905],\n",
       "       [ 0.65958768],\n",
       "       [ 9.21605194],\n",
       "       [-0.25269531],\n",
       "       [ 0.03692741],\n",
       "       [ 1.02650034],\n",
       "       [ 0.84416864],\n",
       "       [-0.35952126],\n",
       "       [ 0.26510524],\n",
       "       [ 1.39258634],\n",
       "       [ 1.36603416]])"
      ]
     },
     "execution_count": 7,
     "metadata": {},
     "output_type": "execute_result"
    }
   ],
   "source": [
    "theta"
   ]
  },
  {
   "cell_type": "markdown",
   "metadata": {},
   "source": [
    "## Parameter Estimation"
   ]
  },
  {
   "cell_type": "markdown",
   "metadata": {},
   "source": [
    "## Function\n",
    "\n",
    "$$\n",
    "\\eta_{i}=\\sum_{k=1}^{K} I_{k}^{(t)}(i)\\left[\\beta_{k}+\\delta_{k}\\left(\\frac{\\tilde{y}_{i}}{n_{\\tilde{y}_{i}}} \\exp{\\left(-\\eta_{1k} s_{i}\\right)}\\right)+\\gamma_{k} \\sum_{j=1}^{M_{i}}\\left(\\frac{a_{j} z_{j}}{n_{z_{j}}} \\exp{\\left(-\\eta_{2k} s_{j}\\right)} w_{i j} \\exp{\\left(-\\alpha_{k} d_{i j}\\right)} I_{k}^{(s)}(j)\\right)\\right]\n",
    "$$"
   ]
  },
  {
   "cell_type": "markdown",
   "metadata": {},
   "source": [
    "$$\\beta_1 = -2.89902093$$\n",
    "$$\\beta_2 = -4.33376942$$\n",
    "$$\\delta_1 = 3.86406603$$\n",
    "$$\\delta_2 = 7.1830044$$\n",
    "$$\\gamma_1 = 0.06209235$$\n",
    "$$\\gamma_2 = 6.21221296$$\n",
    "$$\\alpha_1 = 0.17578305$$\n",
    "$$\\alpha_2 = 1.31264131$$\n",
    "$$\\eta_{11} = 0.13978209$$\n",
    "$$\\eta_{12} = 0.40521989$$\n",
    "$$\\eta_{21} = -0.79182359$$\n",
    "$$\\eta_{22} = 0.55742334$$"
   ]
  },
  {
   "cell_type": "markdown",
   "metadata": {},
   "source": [
    "## Eigenvalues of Hessian"
   ]
  },
  {
   "cell_type": "code",
   "execution_count": 10,
   "metadata": {},
   "outputs": [
    {
     "data": {
      "text/plain": [
       "array([-0.01465556, -0.00072991,  0.00561519,  0.02470412,  0.09781676,\n",
       "        0.24491857,  0.25933526,  0.32607831,  4.13126881,  5.13835828,\n",
       "       58.13333007, 84.10888156])"
      ]
     },
     "execution_count": 10,
     "metadata": {},
     "output_type": "execute_result"
    }
   ],
   "source": [
    "np.linalg.eigvalsh(hessian(theta))"
   ]
  },
  {
   "cell_type": "markdown",
   "metadata": {},
   "source": [
    "## Gradient"
   ]
  },
  {
   "cell_type": "code",
   "execution_count": 11,
   "metadata": {},
   "outputs": [
    {
     "data": {
      "text/plain": [
       "array([[ 0.00035165],\n",
       "       [ 0.00000092],\n",
       "       [ 0.00093506],\n",
       "       [-0.00000046],\n",
       "       [ 0.00370447],\n",
       "       [-0.00027325],\n",
       "       [-0.00982039],\n",
       "       [-0.00226836],\n",
       "       [-0.00229518],\n",
       "       [ 0.00000655],\n",
       "       [-0.00047533],\n",
       "       [ 0.00037915]])"
      ]
     },
     "execution_count": 11,
     "metadata": {},
     "output_type": "execute_result"
    }
   ],
   "source": [
    "gradient(theta)"
   ]
  },
  {
   "cell_type": "code",
   "execution_count": 31,
   "metadata": {},
   "outputs": [],
   "source": [
    "nGrad = nd.Gradient(costFunction)\n",
    "nHess = nd.Hessian(costFunction)\n",
    "hess_theta = nHess(theta.reshape(12,))\n",
    "grad_theta = nGrad(theta.reshape(12,))"
   ]
  },
  {
   "cell_type": "code",
   "execution_count": 10,
   "metadata": {},
   "outputs": [],
   "source": [
    "def prob(theta):\n",
    "    \n",
    "    p = 1 / (1 + np.exp(-eta(theta)))\n",
    "    \n",
    "    return p"
   ]
  },
  {
   "cell_type": "code",
   "execution_count": 12,
   "metadata": {},
   "outputs": [
    {
     "name": "stdout",
     "output_type": "stream",
     "text": [
      "estimated probability of disease: \n",
      " [[0.02611759]\n",
      " [0.02631787]\n",
      " [0.02620498]\n",
      " [0.03368977]\n",
      " [0.02623533]\n",
      " [0.02624147]\n",
      " [0.02745905]\n",
      " [0.02710209]\n",
      " [0.04514933]\n",
      " [0.04289552]\n",
      " [0.16258389]\n",
      " [0.03171659]\n",
      " [0.15754236]\n",
      " [0.03329544]\n",
      " [0.02628519]\n",
      " [0.02748307]\n",
      " [0.02906667]\n",
      " [0.02786479]\n",
      " [0.02657169]\n",
      " [0.02892042]\n",
      " [0.02622809]\n",
      " [0.04582204]\n",
      " [0.5       ]\n",
      " [0.84480418]\n",
      " [0.24196183]\n",
      " [0.2553849 ]\n",
      " [0.33620011]\n",
      " [0.02684969]\n",
      " [0.49306239]\n",
      " [0.80226981]\n",
      " [0.53574716]\n",
      " [0.41690551]\n",
      " [0.91858263]\n",
      " [0.14165495]\n",
      " [0.        ]\n",
      " [0.02439342]\n",
      " [0.02535986]\n",
      " [0.02457473]\n",
      " [0.02567178]\n",
      " [0.17610494]\n",
      " [0.02407955]\n",
      " [0.01639678]\n",
      " [0.01495841]\n",
      " [0.02234735]\n",
      " [0.02345555]\n",
      " [0.02276539]\n",
      " [0.5       ]\n",
      " [0.02272612]\n",
      " [0.02457618]\n",
      " [0.11173597]\n",
      " [0.10794024]\n",
      " [0.22234288]\n",
      " [0.14008519]\n",
      " [0.2470191 ]\n",
      " [0.24700966]\n",
      " [0.02734554]\n",
      " [0.25025533]\n",
      " [0.02731197]\n",
      " [0.2534015 ]\n",
      " [0.02732704]\n",
      " [0.24922973]\n",
      " [0.02735182]\n",
      " [0.02728799]\n",
      " [0.02733912]\n",
      " [0.02321656]\n",
      " [0.02306974]\n",
      " [0.02242573]\n",
      " [0.5       ]\n",
      " [0.02569351]\n",
      " [0.03225039]\n",
      " [0.02612945]\n",
      " [0.02468067]\n",
      " [0.03255333]\n",
      " [0.02444586]\n",
      " [0.02351304]\n",
      " [0.0272861 ]\n",
      " [0.02401747]\n",
      " [0.02689776]\n",
      " [0.02370852]\n",
      " [0.02900357]\n",
      " [0.00353733]\n",
      " [0.5       ]\n",
      " [0.02440745]\n",
      " [0.02376449]\n",
      " [0.04679354]\n",
      " [0.02470723]\n",
      " [0.0245882 ]\n",
      " [0.02643633]\n",
      " [0.02668546]\n",
      " [0.5       ]\n",
      " [0.21687985]\n",
      " [0.28488398]\n",
      " [0.02051474]\n",
      " [0.02348036]\n",
      " [0.023665  ]\n",
      " [0.15249304]\n",
      " [0.40881938]\n",
      " [0.32363467]\n",
      " [0.02337007]\n",
      " [0.43608561]\n",
      " [0.02784324]\n",
      " [0.23166782]\n",
      " [0.03145925]\n",
      " [0.7606593 ]]\n"
     ]
    }
   ],
   "source": [
    "print('estimated probability of disease: \\n', prob(theta))"
   ]
  },
  {
   "cell_type": "code",
   "execution_count": 13,
   "metadata": {},
   "outputs": [
    {
     "data": {
      "text/plain": [
       "(104, 1)"
      ]
     },
     "execution_count": 13,
     "metadata": {},
     "output_type": "execute_result"
    }
   ],
   "source": [
    "prob(theta).shape"
   ]
  }
 ],
 "metadata": {
  "interpreter": {
   "hash": "010fc5a62a75b42139e82f06a79d60de398e4751856d3457e15b8a88b63601e9"
  },
  "kernelspec": {
   "display_name": "Python 3.10.4 64-bit",
   "language": "python",
   "name": "python3"
  },
  "language_info": {
   "codemirror_mode": {
    "name": "ipython",
    "version": 3
   },
   "file_extension": ".py",
   "mimetype": "text/x-python",
   "name": "python",
   "nbconvert_exporter": "python",
   "pygments_lexer": "ipython3",
   "version": "3.11.3"
  },
  "orig_nbformat": 4
 },
 "nbformat": 4,
 "nbformat_minor": 2
}
